{
 "cells": [
  {
   "cell_type": "code",
   "execution_count": 2,
   "id": "1079e084",
   "metadata": {
    "execution": {
     "iopub.execute_input": "2022-03-15T12:07:29.382630Z",
     "iopub.status.busy": "2022-03-15T12:07:29.381509Z",
     "iopub.status.idle": "2022-03-15T12:07:30.295745Z",
     "shell.execute_reply": "2022-03-15T12:07:30.296248Z",
     "shell.execute_reply.started": "2022-03-15T12:00:10.152676Z"
    },
    "id": "qmpwmQf8oc-T",
    "papermill": {
     "duration": 1.14145,
     "end_time": "2022-03-15T12:07:30.296526",
     "exception": false,
     "start_time": "2022-03-15T12:07:29.155076",
     "status": "completed"
    },
    "tags": []
   },
   "outputs": [],
   "source": [
    "import numpy as np\n",
    "import pandas as pd\n",
    "import matplotlib.pyplot as plt\n",
    "import seaborn as sns\n",
    "from datetime import datetime\n",
    "import warnings\n",
    "warnings.filterwarnings(\"ignore\")"
   ]
  },
  {
   "cell_type": "markdown",
   "id": "73975f29",
   "metadata": {
    "id": "G1eLSSzXJoru",
    "papermill": {
     "duration": 0.197696,
     "end_time": "2022-03-15T12:07:30.700630",
     "exception": false,
     "start_time": "2022-03-15T12:07:30.502934",
     "status": "completed"
    },
    "tags": []
   },
   "source": [
    "Since we were provided with 2 datasets, with train and test datasets, so we are importing both the datasets together in 1 cell"
   ]
  },
  {
   "cell_type": "code",
   "execution_count": 3,
   "id": "0b16c036",
   "metadata": {
    "execution": {
     "iopub.execute_input": "2022-03-15T12:07:31.109013Z",
     "iopub.status.busy": "2022-03-15T12:07:31.108385Z",
     "iopub.status.idle": "2022-03-15T12:07:47.588132Z",
     "shell.execute_reply": "2022-03-15T12:07:47.587450Z",
     "shell.execute_reply.started": "2022-03-15T12:00:10.161226Z"
    },
    "id": "s6HwmDVKpwwh",
    "papermill": {
     "duration": 16.687388,
     "end_time": "2022-03-15T12:07:47.588296",
     "exception": false,
     "start_time": "2022-03-15T12:07:30.900908",
     "status": "completed"
    },
    "tags": []
   },
   "outputs": [],
   "source": [
    "#Train Dataset\n",
    "data = pd.read_csv(\"fraudTrain.csv\") \n",
    "#Test Dataset\n",
    "data_t = pd.read_csv(\"fraudTest.csv\") "
   ]
  },
  {
   "cell_type": "code",
   "execution_count": 4,
   "id": "3a7961f6",
   "metadata": {
    "execution": {
     "iopub.execute_input": "2022-03-15T12:07:48.014747Z",
     "iopub.status.busy": "2022-03-15T12:07:48.013932Z",
     "iopub.status.idle": "2022-03-15T12:07:48.017373Z",
     "shell.execute_reply": "2022-03-15T12:07:48.017825Z",
     "shell.execute_reply.started": "2022-03-15T12:00:24.787668Z"
    },
    "id": "YXcOkoC4htLi",
    "outputId": "e05901fe-b387-4545-9022-1ad86c4f463e",
    "papermill": {
     "duration": 0.220319,
     "end_time": "2022-03-15T12:07:48.017995",
     "exception": false,
     "start_time": "2022-03-15T12:07:47.797676",
     "status": "completed"
    },
    "tags": []
   },
   "outputs": [
    {
     "data": {
      "text/plain": [
       "Index(['Unnamed: 0', 'trans_date_trans_time', 'cc_num', 'merchant', 'category',\n",
       "       'amt', 'first', 'last', 'gender', 'street', 'city', 'state', 'zip',\n",
       "       'lat', 'long', 'city_pop', 'job', 'dob', 'trans_num', 'unix_time',\n",
       "       'merch_lat', 'merch_long', 'is_fraud'],\n",
       "      dtype='object')"
      ]
     },
     "execution_count": 4,
     "metadata": {},
     "output_type": "execute_result"
    }
   ],
   "source": [
    "data_t.columns"
   ]
  },
  {
   "cell_type": "code",
   "execution_count": 5,
   "id": "c281c832",
   "metadata": {
    "execution": {
     "iopub.execute_input": "2022-03-15T12:07:48.439593Z",
     "iopub.status.busy": "2022-03-15T12:07:48.438766Z",
     "iopub.status.idle": "2022-03-15T12:07:48.473943Z",
     "shell.execute_reply": "2022-03-15T12:07:48.473262Z",
     "shell.execute_reply.started": "2022-03-15T12:00:24.808925Z"
    },
    "id": "CovD0CxHqG8E",
    "outputId": "377b3601-b9af-400f-a855-fa494f3b883e",
    "papermill": {
     "duration": 0.247629,
     "end_time": "2022-03-15T12:07:48.474101",
     "exception": false,
     "start_time": "2022-03-15T12:07:48.226472",
     "status": "completed"
    },
    "tags": []
   },
   "outputs": [
    {
     "data": {
      "text/html": [
       "<div>\n",
       "<style scoped>\n",
       "    .dataframe tbody tr th:only-of-type {\n",
       "        vertical-align: middle;\n",
       "    }\n",
       "\n",
       "    .dataframe tbody tr th {\n",
       "        vertical-align: top;\n",
       "    }\n",
       "\n",
       "    .dataframe thead th {\n",
       "        text-align: right;\n",
       "    }\n",
       "</style>\n",
       "<table border=\"1\" class=\"dataframe\">\n",
       "  <thead>\n",
       "    <tr style=\"text-align: right;\">\n",
       "      <th></th>\n",
       "      <th>Unnamed: 0</th>\n",
       "      <th>trans_date_trans_time</th>\n",
       "      <th>cc_num</th>\n",
       "      <th>merchant</th>\n",
       "      <th>category</th>\n",
       "      <th>amt</th>\n",
       "      <th>first</th>\n",
       "      <th>last</th>\n",
       "      <th>gender</th>\n",
       "      <th>street</th>\n",
       "      <th>...</th>\n",
       "      <th>lat</th>\n",
       "      <th>long</th>\n",
       "      <th>city_pop</th>\n",
       "      <th>job</th>\n",
       "      <th>dob</th>\n",
       "      <th>trans_num</th>\n",
       "      <th>unix_time</th>\n",
       "      <th>merch_lat</th>\n",
       "      <th>merch_long</th>\n",
       "      <th>is_fraud</th>\n",
       "    </tr>\n",
       "  </thead>\n",
       "  <tbody>\n",
       "    <tr>\n",
       "      <th>0</th>\n",
       "      <td>0</td>\n",
       "      <td>2019-01-01 00:00:18</td>\n",
       "      <td>2703186189652095</td>\n",
       "      <td>fraud_Rippin, Kub and Mann</td>\n",
       "      <td>misc_net</td>\n",
       "      <td>4.97</td>\n",
       "      <td>Jennifer</td>\n",
       "      <td>Banks</td>\n",
       "      <td>F</td>\n",
       "      <td>561 Perry Cove</td>\n",
       "      <td>...</td>\n",
       "      <td>36.0788</td>\n",
       "      <td>-81.1781</td>\n",
       "      <td>3495</td>\n",
       "      <td>Psychologist, counselling</td>\n",
       "      <td>1988-03-09</td>\n",
       "      <td>0b242abb623afc578575680df30655b9</td>\n",
       "      <td>1325376018</td>\n",
       "      <td>36.011293</td>\n",
       "      <td>-82.048315</td>\n",
       "      <td>0</td>\n",
       "    </tr>\n",
       "    <tr>\n",
       "      <th>1</th>\n",
       "      <td>1</td>\n",
       "      <td>2019-01-01 00:00:44</td>\n",
       "      <td>630423337322</td>\n",
       "      <td>fraud_Heller, Gutmann and Zieme</td>\n",
       "      <td>grocery_pos</td>\n",
       "      <td>107.23</td>\n",
       "      <td>Stephanie</td>\n",
       "      <td>Gill</td>\n",
       "      <td>F</td>\n",
       "      <td>43039 Riley Greens Suite 393</td>\n",
       "      <td>...</td>\n",
       "      <td>48.8878</td>\n",
       "      <td>-118.2105</td>\n",
       "      <td>149</td>\n",
       "      <td>Special educational needs teacher</td>\n",
       "      <td>1978-06-21</td>\n",
       "      <td>1f76529f8574734946361c461b024d99</td>\n",
       "      <td>1325376044</td>\n",
       "      <td>49.159047</td>\n",
       "      <td>-118.186462</td>\n",
       "      <td>0</td>\n",
       "    </tr>\n",
       "    <tr>\n",
       "      <th>2</th>\n",
       "      <td>2</td>\n",
       "      <td>2019-01-01 00:00:51</td>\n",
       "      <td>38859492057661</td>\n",
       "      <td>fraud_Lind-Buckridge</td>\n",
       "      <td>entertainment</td>\n",
       "      <td>220.11</td>\n",
       "      <td>Edward</td>\n",
       "      <td>Sanchez</td>\n",
       "      <td>M</td>\n",
       "      <td>594 White Dale Suite 530</td>\n",
       "      <td>...</td>\n",
       "      <td>42.1808</td>\n",
       "      <td>-112.2620</td>\n",
       "      <td>4154</td>\n",
       "      <td>Nature conservation officer</td>\n",
       "      <td>1962-01-19</td>\n",
       "      <td>a1a22d70485983eac12b5b88dad1cf95</td>\n",
       "      <td>1325376051</td>\n",
       "      <td>43.150704</td>\n",
       "      <td>-112.154481</td>\n",
       "      <td>0</td>\n",
       "    </tr>\n",
       "    <tr>\n",
       "      <th>3</th>\n",
       "      <td>3</td>\n",
       "      <td>2019-01-01 00:01:16</td>\n",
       "      <td>3534093764340240</td>\n",
       "      <td>fraud_Kutch, Hermiston and Farrell</td>\n",
       "      <td>gas_transport</td>\n",
       "      <td>45.00</td>\n",
       "      <td>Jeremy</td>\n",
       "      <td>White</td>\n",
       "      <td>M</td>\n",
       "      <td>9443 Cynthia Court Apt. 038</td>\n",
       "      <td>...</td>\n",
       "      <td>46.2306</td>\n",
       "      <td>-112.1138</td>\n",
       "      <td>1939</td>\n",
       "      <td>Patent attorney</td>\n",
       "      <td>1967-01-12</td>\n",
       "      <td>6b849c168bdad6f867558c3793159a81</td>\n",
       "      <td>1325376076</td>\n",
       "      <td>47.034331</td>\n",
       "      <td>-112.561071</td>\n",
       "      <td>0</td>\n",
       "    </tr>\n",
       "    <tr>\n",
       "      <th>4</th>\n",
       "      <td>4</td>\n",
       "      <td>2019-01-01 00:03:06</td>\n",
       "      <td>375534208663984</td>\n",
       "      <td>fraud_Keeling-Crist</td>\n",
       "      <td>misc_pos</td>\n",
       "      <td>41.96</td>\n",
       "      <td>Tyler</td>\n",
       "      <td>Garcia</td>\n",
       "      <td>M</td>\n",
       "      <td>408 Bradley Rest</td>\n",
       "      <td>...</td>\n",
       "      <td>38.4207</td>\n",
       "      <td>-79.4629</td>\n",
       "      <td>99</td>\n",
       "      <td>Dance movement psychotherapist</td>\n",
       "      <td>1986-03-28</td>\n",
       "      <td>a41d7549acf90789359a9aa5346dcb46</td>\n",
       "      <td>1325376186</td>\n",
       "      <td>38.674999</td>\n",
       "      <td>-78.632459</td>\n",
       "      <td>0</td>\n",
       "    </tr>\n",
       "  </tbody>\n",
       "</table>\n",
       "<p>5 rows × 23 columns</p>\n",
       "</div>"
      ],
      "text/plain": [
       "   Unnamed: 0 trans_date_trans_time            cc_num  \\\n",
       "0           0   2019-01-01 00:00:18  2703186189652095   \n",
       "1           1   2019-01-01 00:00:44      630423337322   \n",
       "2           2   2019-01-01 00:00:51    38859492057661   \n",
       "3           3   2019-01-01 00:01:16  3534093764340240   \n",
       "4           4   2019-01-01 00:03:06   375534208663984   \n",
       "\n",
       "                             merchant       category     amt      first  \\\n",
       "0          fraud_Rippin, Kub and Mann       misc_net    4.97   Jennifer   \n",
       "1     fraud_Heller, Gutmann and Zieme    grocery_pos  107.23  Stephanie   \n",
       "2                fraud_Lind-Buckridge  entertainment  220.11     Edward   \n",
       "3  fraud_Kutch, Hermiston and Farrell  gas_transport   45.00     Jeremy   \n",
       "4                 fraud_Keeling-Crist       misc_pos   41.96      Tyler   \n",
       "\n",
       "      last gender                        street  ...      lat      long  \\\n",
       "0    Banks      F                561 Perry Cove  ...  36.0788  -81.1781   \n",
       "1     Gill      F  43039 Riley Greens Suite 393  ...  48.8878 -118.2105   \n",
       "2  Sanchez      M      594 White Dale Suite 530  ...  42.1808 -112.2620   \n",
       "3    White      M   9443 Cynthia Court Apt. 038  ...  46.2306 -112.1138   \n",
       "4   Garcia      M              408 Bradley Rest  ...  38.4207  -79.4629   \n",
       "\n",
       "   city_pop                                job         dob  \\\n",
       "0      3495          Psychologist, counselling  1988-03-09   \n",
       "1       149  Special educational needs teacher  1978-06-21   \n",
       "2      4154        Nature conservation officer  1962-01-19   \n",
       "3      1939                    Patent attorney  1967-01-12   \n",
       "4        99     Dance movement psychotherapist  1986-03-28   \n",
       "\n",
       "                          trans_num   unix_time  merch_lat  merch_long  \\\n",
       "0  0b242abb623afc578575680df30655b9  1325376018  36.011293  -82.048315   \n",
       "1  1f76529f8574734946361c461b024d99  1325376044  49.159047 -118.186462   \n",
       "2  a1a22d70485983eac12b5b88dad1cf95  1325376051  43.150704 -112.154481   \n",
       "3  6b849c168bdad6f867558c3793159a81  1325376076  47.034331 -112.561071   \n",
       "4  a41d7549acf90789359a9aa5346dcb46  1325376186  38.674999  -78.632459   \n",
       "\n",
       "   is_fraud  \n",
       "0         0  \n",
       "1         0  \n",
       "2         0  \n",
       "3         0  \n",
       "4         0  \n",
       "\n",
       "[5 rows x 23 columns]"
      ]
     },
     "execution_count": 5,
     "metadata": {},
     "output_type": "execute_result"
    }
   ],
   "source": [
    "data.head()"
   ]
  },
  {
   "cell_type": "code",
   "execution_count": 6,
   "id": "afb3bc63",
   "metadata": {
    "execution": {
     "iopub.execute_input": "2022-03-15T12:07:48.902524Z",
     "iopub.status.busy": "2022-03-15T12:07:48.901283Z",
     "iopub.status.idle": "2022-03-15T12:07:48.905453Z",
     "shell.execute_reply": "2022-03-15T12:07:48.906122Z",
     "shell.execute_reply.started": "2022-03-15T12:00:24.854724Z"
    },
    "id": "-HVv75hnP1Uj",
    "outputId": "050e8a06-732b-4434-8956-a6b10322a0ff",
    "papermill": {
     "duration": 0.222252,
     "end_time": "2022-03-15T12:07:48.906317",
     "exception": false,
     "start_time": "2022-03-15T12:07:48.684065",
     "status": "completed"
    },
    "tags": []
   },
   "outputs": [
    {
     "data": {
      "text/plain": [
       "(1296675, 23)"
      ]
     },
     "execution_count": 6,
     "metadata": {},
     "output_type": "execute_result"
    }
   ],
   "source": [
    "# checking dimensions of our data\n",
    "\n",
    "data.shape"
   ]
  },
  {
   "cell_type": "code",
   "execution_count": 7,
   "id": "de72449e",
   "metadata": {
    "execution": {
     "iopub.execute_input": "2022-03-15T12:07:49.333783Z",
     "iopub.status.busy": "2022-03-15T12:07:49.333174Z",
     "iopub.status.idle": "2022-03-15T12:07:49.335573Z",
     "shell.execute_reply": "2022-03-15T12:07:49.336153Z",
     "shell.execute_reply.started": "2022-03-15T12:00:24.862188Z"
    },
    "id": "cmEyKYNaeZud",
    "outputId": "14dea338-010e-4360-ae50-d169d7e82be1",
    "papermill": {
     "duration": 0.219276,
     "end_time": "2022-03-15T12:07:49.336311",
     "exception": false,
     "start_time": "2022-03-15T12:07:49.117035",
     "status": "completed"
    },
    "tags": []
   },
   "outputs": [
    {
     "data": {
      "text/plain": [
       "Index(['Unnamed: 0', 'trans_date_trans_time', 'cc_num', 'merchant', 'category',\n",
       "       'amt', 'first', 'last', 'gender', 'street', 'city', 'state', 'zip',\n",
       "       'lat', 'long', 'city_pop', 'job', 'dob', 'trans_num', 'unix_time',\n",
       "       'merch_lat', 'merch_long', 'is_fraud'],\n",
       "      dtype='object')"
      ]
     },
     "execution_count": 7,
     "metadata": {},
     "output_type": "execute_result"
    }
   ],
   "source": [
    "# checking columns\n",
    "\n",
    "data.columns"
   ]
  },
  {
   "cell_type": "code",
   "execution_count": 8,
   "id": "abc472ee",
   "metadata": {
    "execution": {
     "iopub.execute_input": "2022-03-15T12:07:49.758218Z",
     "iopub.status.busy": "2022-03-15T12:07:49.757631Z",
     "iopub.status.idle": "2022-03-15T12:07:50.239873Z",
     "shell.execute_reply": "2022-03-15T12:07:50.239384Z",
     "shell.execute_reply.started": "2022-03-15T12:00:24.877701Z"
    },
    "id": "276DI5aCenWH",
    "outputId": "3f9f9839-004f-489d-c625-5191d4f67cf3",
    "papermill": {
     "duration": 0.691442,
     "end_time": "2022-03-15T12:07:50.240019",
     "exception": false,
     "start_time": "2022-03-15T12:07:49.548577",
     "status": "completed"
    },
    "tags": []
   },
   "outputs": [
    {
     "data": {
      "text/html": [
       "<div>\n",
       "<style scoped>\n",
       "    .dataframe tbody tr th:only-of-type {\n",
       "        vertical-align: middle;\n",
       "    }\n",
       "\n",
       "    .dataframe tbody tr th {\n",
       "        vertical-align: top;\n",
       "    }\n",
       "\n",
       "    .dataframe thead th {\n",
       "        text-align: right;\n",
       "    }\n",
       "</style>\n",
       "<table border=\"1\" class=\"dataframe\">\n",
       "  <thead>\n",
       "    <tr style=\"text-align: right;\">\n",
       "      <th></th>\n",
       "      <th>Unnamed: 0</th>\n",
       "      <th>cc_num</th>\n",
       "      <th>amt</th>\n",
       "      <th>zip</th>\n",
       "      <th>lat</th>\n",
       "      <th>long</th>\n",
       "      <th>city_pop</th>\n",
       "      <th>unix_time</th>\n",
       "      <th>merch_lat</th>\n",
       "      <th>merch_long</th>\n",
       "      <th>is_fraud</th>\n",
       "    </tr>\n",
       "  </thead>\n",
       "  <tbody>\n",
       "    <tr>\n",
       "      <th>count</th>\n",
       "      <td>1.296675e+06</td>\n",
       "      <td>1.296675e+06</td>\n",
       "      <td>1.296675e+06</td>\n",
       "      <td>1.296675e+06</td>\n",
       "      <td>1.296675e+06</td>\n",
       "      <td>1.296675e+06</td>\n",
       "      <td>1.296675e+06</td>\n",
       "      <td>1.296675e+06</td>\n",
       "      <td>1.296675e+06</td>\n",
       "      <td>1.296675e+06</td>\n",
       "      <td>1.296675e+06</td>\n",
       "    </tr>\n",
       "    <tr>\n",
       "      <th>mean</th>\n",
       "      <td>6.483370e+05</td>\n",
       "      <td>4.171920e+17</td>\n",
       "      <td>7.035104e+01</td>\n",
       "      <td>4.880067e+04</td>\n",
       "      <td>3.853762e+01</td>\n",
       "      <td>-9.022634e+01</td>\n",
       "      <td>8.882444e+04</td>\n",
       "      <td>1.349244e+09</td>\n",
       "      <td>3.853734e+01</td>\n",
       "      <td>-9.022646e+01</td>\n",
       "      <td>5.788652e-03</td>\n",
       "    </tr>\n",
       "    <tr>\n",
       "      <th>std</th>\n",
       "      <td>3.743180e+05</td>\n",
       "      <td>1.308806e+18</td>\n",
       "      <td>1.603160e+02</td>\n",
       "      <td>2.689322e+04</td>\n",
       "      <td>5.075808e+00</td>\n",
       "      <td>1.375908e+01</td>\n",
       "      <td>3.019564e+05</td>\n",
       "      <td>1.284128e+07</td>\n",
       "      <td>5.109788e+00</td>\n",
       "      <td>1.377109e+01</td>\n",
       "      <td>7.586269e-02</td>\n",
       "    </tr>\n",
       "    <tr>\n",
       "      <th>min</th>\n",
       "      <td>0.000000e+00</td>\n",
       "      <td>6.041621e+10</td>\n",
       "      <td>1.000000e+00</td>\n",
       "      <td>1.257000e+03</td>\n",
       "      <td>2.002710e+01</td>\n",
       "      <td>-1.656723e+02</td>\n",
       "      <td>2.300000e+01</td>\n",
       "      <td>1.325376e+09</td>\n",
       "      <td>1.902779e+01</td>\n",
       "      <td>-1.666712e+02</td>\n",
       "      <td>0.000000e+00</td>\n",
       "    </tr>\n",
       "    <tr>\n",
       "      <th>25%</th>\n",
       "      <td>3.241685e+05</td>\n",
       "      <td>1.800429e+14</td>\n",
       "      <td>9.650000e+00</td>\n",
       "      <td>2.623700e+04</td>\n",
       "      <td>3.462050e+01</td>\n",
       "      <td>-9.679800e+01</td>\n",
       "      <td>7.430000e+02</td>\n",
       "      <td>1.338751e+09</td>\n",
       "      <td>3.473357e+01</td>\n",
       "      <td>-9.689728e+01</td>\n",
       "      <td>0.000000e+00</td>\n",
       "    </tr>\n",
       "    <tr>\n",
       "      <th>50%</th>\n",
       "      <td>6.483370e+05</td>\n",
       "      <td>3.521417e+15</td>\n",
       "      <td>4.752000e+01</td>\n",
       "      <td>4.817400e+04</td>\n",
       "      <td>3.935430e+01</td>\n",
       "      <td>-8.747690e+01</td>\n",
       "      <td>2.456000e+03</td>\n",
       "      <td>1.349250e+09</td>\n",
       "      <td>3.936568e+01</td>\n",
       "      <td>-8.743839e+01</td>\n",
       "      <td>0.000000e+00</td>\n",
       "    </tr>\n",
       "    <tr>\n",
       "      <th>75%</th>\n",
       "      <td>9.725055e+05</td>\n",
       "      <td>4.642255e+15</td>\n",
       "      <td>8.314000e+01</td>\n",
       "      <td>7.204200e+04</td>\n",
       "      <td>4.194040e+01</td>\n",
       "      <td>-8.015800e+01</td>\n",
       "      <td>2.032800e+04</td>\n",
       "      <td>1.359385e+09</td>\n",
       "      <td>4.195716e+01</td>\n",
       "      <td>-8.023680e+01</td>\n",
       "      <td>0.000000e+00</td>\n",
       "    </tr>\n",
       "    <tr>\n",
       "      <th>max</th>\n",
       "      <td>1.296674e+06</td>\n",
       "      <td>4.992346e+18</td>\n",
       "      <td>2.894890e+04</td>\n",
       "      <td>9.978300e+04</td>\n",
       "      <td>6.669330e+01</td>\n",
       "      <td>-6.795030e+01</td>\n",
       "      <td>2.906700e+06</td>\n",
       "      <td>1.371817e+09</td>\n",
       "      <td>6.751027e+01</td>\n",
       "      <td>-6.695090e+01</td>\n",
       "      <td>1.000000e+00</td>\n",
       "    </tr>\n",
       "  </tbody>\n",
       "</table>\n",
       "</div>"
      ],
      "text/plain": [
       "         Unnamed: 0        cc_num           amt           zip           lat  \\\n",
       "count  1.296675e+06  1.296675e+06  1.296675e+06  1.296675e+06  1.296675e+06   \n",
       "mean   6.483370e+05  4.171920e+17  7.035104e+01  4.880067e+04  3.853762e+01   \n",
       "std    3.743180e+05  1.308806e+18  1.603160e+02  2.689322e+04  5.075808e+00   \n",
       "min    0.000000e+00  6.041621e+10  1.000000e+00  1.257000e+03  2.002710e+01   \n",
       "25%    3.241685e+05  1.800429e+14  9.650000e+00  2.623700e+04  3.462050e+01   \n",
       "50%    6.483370e+05  3.521417e+15  4.752000e+01  4.817400e+04  3.935430e+01   \n",
       "75%    9.725055e+05  4.642255e+15  8.314000e+01  7.204200e+04  4.194040e+01   \n",
       "max    1.296674e+06  4.992346e+18  2.894890e+04  9.978300e+04  6.669330e+01   \n",
       "\n",
       "               long      city_pop     unix_time     merch_lat    merch_long  \\\n",
       "count  1.296675e+06  1.296675e+06  1.296675e+06  1.296675e+06  1.296675e+06   \n",
       "mean  -9.022634e+01  8.882444e+04  1.349244e+09  3.853734e+01 -9.022646e+01   \n",
       "std    1.375908e+01  3.019564e+05  1.284128e+07  5.109788e+00  1.377109e+01   \n",
       "min   -1.656723e+02  2.300000e+01  1.325376e+09  1.902779e+01 -1.666712e+02   \n",
       "25%   -9.679800e+01  7.430000e+02  1.338751e+09  3.473357e+01 -9.689728e+01   \n",
       "50%   -8.747690e+01  2.456000e+03  1.349250e+09  3.936568e+01 -8.743839e+01   \n",
       "75%   -8.015800e+01  2.032800e+04  1.359385e+09  4.195716e+01 -8.023680e+01   \n",
       "max   -6.795030e+01  2.906700e+06  1.371817e+09  6.751027e+01 -6.695090e+01   \n",
       "\n",
       "           is_fraud  \n",
       "count  1.296675e+06  \n",
       "mean   5.788652e-03  \n",
       "std    7.586269e-02  \n",
       "min    0.000000e+00  \n",
       "25%    0.000000e+00  \n",
       "50%    0.000000e+00  \n",
       "75%    0.000000e+00  \n",
       "max    1.000000e+00  "
      ]
     },
     "execution_count": 8,
     "metadata": {},
     "output_type": "execute_result"
    }
   ],
   "source": [
    "# checking details of columns\n",
    "\n",
    "data.describe()"
   ]
  },
  {
   "cell_type": "code",
   "execution_count": 9,
   "id": "3c297599",
   "metadata": {
    "execution": {
     "iopub.execute_input": "2022-03-15T12:07:50.649321Z",
     "iopub.status.busy": "2022-03-15T12:07:50.648771Z",
     "iopub.status.idle": "2022-03-15T12:07:52.245872Z",
     "shell.execute_reply": "2022-03-15T12:07:52.246450Z",
     "shell.execute_reply.started": "2022-03-15T12:00:25.437984Z"
    },
    "id": "Of5q_Ke2fQSe",
    "outputId": "c3818803-1a96-4ab7-a5ec-828ef7ed7ccd",
    "papermill": {
     "duration": 1.806277,
     "end_time": "2022-03-15T12:07:52.246637",
     "exception": false,
     "start_time": "2022-03-15T12:07:50.440360",
     "status": "completed"
    },
    "tags": []
   },
   "outputs": [
    {
     "name": "stdout",
     "output_type": "stream",
     "text": [
      "<class 'pandas.core.frame.DataFrame'>\n",
      "RangeIndex: 1296675 entries, 0 to 1296674\n",
      "Data columns (total 23 columns):\n",
      " #   Column                 Non-Null Count    Dtype  \n",
      "---  ------                 --------------    -----  \n",
      " 0   Unnamed: 0             1296675 non-null  int64  \n",
      " 1   trans_date_trans_time  1296675 non-null  object \n",
      " 2   cc_num                 1296675 non-null  int64  \n",
      " 3   merchant               1296675 non-null  object \n",
      " 4   category               1296675 non-null  object \n",
      " 5   amt                    1296675 non-null  float64\n",
      " 6   first                  1296675 non-null  object \n",
      " 7   last                   1296675 non-null  object \n",
      " 8   gender                 1296675 non-null  object \n",
      " 9   street                 1296675 non-null  object \n",
      " 10  city                   1296675 non-null  object \n",
      " 11  state                  1296675 non-null  object \n",
      " 12  zip                    1296675 non-null  int64  \n",
      " 13  lat                    1296675 non-null  float64\n",
      " 14  long                   1296675 non-null  float64\n",
      " 15  city_pop               1296675 non-null  int64  \n",
      " 16  job                    1296675 non-null  object \n",
      " 17  dob                    1296675 non-null  object \n",
      " 18  trans_num              1296675 non-null  object \n",
      " 19  unix_time              1296675 non-null  int64  \n",
      " 20  merch_lat              1296675 non-null  float64\n",
      " 21  merch_long             1296675 non-null  float64\n",
      " 22  is_fraud               1296675 non-null  int64  \n",
      "dtypes: float64(5), int64(6), object(12)\n",
      "memory usage: 227.5+ MB\n"
     ]
    }
   ],
   "source": [
    "data.info()"
   ]
  },
  {
   "cell_type": "markdown",
   "id": "66d24be6",
   "metadata": {
    "id": "SR43CMd2fhmo",
    "papermill": {
     "duration": 0.206957,
     "end_time": "2022-03-15T12:07:52.662417",
     "exception": false,
     "start_time": "2022-03-15T12:07:52.455460",
     "status": "completed"
    },
    "tags": []
   },
   "source": [
    "##EDA"
   ]
  },
  {
   "cell_type": "markdown",
   "id": "b372f005",
   "metadata": {
    "id": "PJYdIaEofoiR",
    "papermill": {
     "duration": 0.19581,
     "end_time": "2022-03-15T12:07:53.058839",
     "exception": false,
     "start_time": "2022-03-15T12:07:52.863029",
     "status": "completed"
    },
    "tags": []
   },
   "source": [
    "### Checking NULL values"
   ]
  },
  {
   "cell_type": "code",
   "execution_count": 10,
   "id": "11cbd187",
   "metadata": {
    "execution": {
     "iopub.execute_input": "2022-03-15T12:07:53.463914Z",
     "iopub.status.busy": "2022-03-15T12:07:53.463300Z",
     "iopub.status.idle": "2022-03-15T12:07:55.026345Z",
     "shell.execute_reply": "2022-03-15T12:07:55.025783Z",
     "shell.execute_reply.started": "2022-03-15T12:00:27.630761Z"
    },
    "id": "7CJNyo4Ifnkz",
    "outputId": "a7114d6c-e60e-4d83-cccf-4d663355a2d1",
    "papermill": {
     "duration": 1.766005,
     "end_time": "2022-03-15T12:07:55.026493",
     "exception": false,
     "start_time": "2022-03-15T12:07:53.260488",
     "status": "completed"
    },
    "tags": []
   },
   "outputs": [
    {
     "data": {
      "text/plain": [
       "Unnamed: 0               0\n",
       "trans_date_trans_time    0\n",
       "cc_num                   0\n",
       "merchant                 0\n",
       "category                 0\n",
       "amt                      0\n",
       "first                    0\n",
       "last                     0\n",
       "gender                   0\n",
       "street                   0\n",
       "city                     0\n",
       "state                    0\n",
       "zip                      0\n",
       "lat                      0\n",
       "long                     0\n",
       "city_pop                 0\n",
       "job                      0\n",
       "dob                      0\n",
       "trans_num                0\n",
       "unix_time                0\n",
       "merch_lat                0\n",
       "merch_long               0\n",
       "is_fraud                 0\n",
       "dtype: int64"
      ]
     },
     "execution_count": 10,
     "metadata": {},
     "output_type": "execute_result"
    }
   ],
   "source": [
    "data.isnull().sum()"
   ]
  },
  {
   "cell_type": "code",
   "execution_count": 11,
   "id": "bb06b14c",
   "metadata": {
    "execution": {
     "iopub.execute_input": "2022-03-15T12:07:55.436173Z",
     "iopub.status.busy": "2022-03-15T12:07:55.435524Z",
     "iopub.status.idle": "2022-03-15T12:07:55.437674Z",
     "shell.execute_reply": "2022-03-15T12:07:55.438183Z",
     "shell.execute_reply.started": "2022-03-15T12:00:29.506298Z"
    },
    "id": "Z8UwLQwYfWt3",
    "papermill": {
     "duration": 0.207815,
     "end_time": "2022-03-15T12:07:55.438317",
     "exception": false,
     "start_time": "2022-03-15T12:07:55.230502",
     "status": "completed"
    },
    "tags": []
   },
   "outputs": [],
   "source": [
    "# No null values found so don't need to operate on it."
   ]
  },
  {
   "cell_type": "markdown",
   "id": "bd47babe",
   "metadata": {
    "id": "9LiRCPEZf3TJ",
    "papermill": {
     "duration": 0.201178,
     "end_time": "2022-03-15T12:07:55.841473",
     "exception": false,
     "start_time": "2022-03-15T12:07:55.640295",
     "status": "completed"
    },
    "tags": []
   },
   "source": [
    "### Working on columns now"
   ]
  },
  {
   "cell_type": "code",
   "execution_count": 12,
   "id": "ebe75698",
   "metadata": {
    "execution": {
     "iopub.execute_input": "2022-03-15T12:07:56.266851Z",
     "iopub.status.busy": "2022-03-15T12:07:56.266301Z",
     "iopub.status.idle": "2022-03-15T12:07:56.275269Z",
     "shell.execute_reply": "2022-03-15T12:07:56.275804Z",
     "shell.execute_reply.started": "2022-03-15T12:00:29.517425Z"
    },
    "id": "VLr4sVc6gRYF",
    "outputId": "cc261fc3-d8a9-4816-d042-c9fae121d35d",
    "papermill": {
     "duration": 0.22942,
     "end_time": "2022-03-15T12:07:56.275945",
     "exception": false,
     "start_time": "2022-03-15T12:07:56.046525",
     "status": "completed"
    },
    "tags": []
   },
   "outputs": [
    {
     "data": {
      "text/html": [
       "<div>\n",
       "<style scoped>\n",
       "    .dataframe tbody tr th:only-of-type {\n",
       "        vertical-align: middle;\n",
       "    }\n",
       "\n",
       "    .dataframe tbody tr th {\n",
       "        vertical-align: top;\n",
       "    }\n",
       "\n",
       "    .dataframe thead th {\n",
       "        text-align: right;\n",
       "    }\n",
       "</style>\n",
       "<table border=\"1\" class=\"dataframe\">\n",
       "  <thead>\n",
       "    <tr style=\"text-align: right;\">\n",
       "      <th></th>\n",
       "      <th>Unnamed: 0</th>\n",
       "      <th>trans_date_trans_time</th>\n",
       "      <th>cc_num</th>\n",
       "      <th>merchant</th>\n",
       "      <th>category</th>\n",
       "      <th>amt</th>\n",
       "      <th>first</th>\n",
       "      <th>last</th>\n",
       "      <th>gender</th>\n",
       "      <th>street</th>\n",
       "      <th>...</th>\n",
       "      <th>lat</th>\n",
       "      <th>long</th>\n",
       "      <th>city_pop</th>\n",
       "      <th>job</th>\n",
       "      <th>dob</th>\n",
       "      <th>trans_num</th>\n",
       "      <th>unix_time</th>\n",
       "      <th>merch_lat</th>\n",
       "      <th>merch_long</th>\n",
       "      <th>is_fraud</th>\n",
       "    </tr>\n",
       "  </thead>\n",
       "  <tbody>\n",
       "    <tr>\n",
       "      <th>0</th>\n",
       "      <td>0</td>\n",
       "      <td>2019-01-01 00:00:18</td>\n",
       "      <td>2703186189652095</td>\n",
       "      <td>fraud_Rippin, Kub and Mann</td>\n",
       "      <td>misc_net</td>\n",
       "      <td>4.97</td>\n",
       "      <td>Jennifer</td>\n",
       "      <td>Banks</td>\n",
       "      <td>F</td>\n",
       "      <td>561 Perry Cove</td>\n",
       "      <td>...</td>\n",
       "      <td>36.0788</td>\n",
       "      <td>-81.1781</td>\n",
       "      <td>3495</td>\n",
       "      <td>Psychologist, counselling</td>\n",
       "      <td>1988-03-09</td>\n",
       "      <td>0b242abb623afc578575680df30655b9</td>\n",
       "      <td>1325376018</td>\n",
       "      <td>36.011293</td>\n",
       "      <td>-82.048315</td>\n",
       "      <td>0</td>\n",
       "    </tr>\n",
       "    <tr>\n",
       "      <th>1</th>\n",
       "      <td>1</td>\n",
       "      <td>2019-01-01 00:00:44</td>\n",
       "      <td>630423337322</td>\n",
       "      <td>fraud_Heller, Gutmann and Zieme</td>\n",
       "      <td>grocery_pos</td>\n",
       "      <td>107.23</td>\n",
       "      <td>Stephanie</td>\n",
       "      <td>Gill</td>\n",
       "      <td>F</td>\n",
       "      <td>43039 Riley Greens Suite 393</td>\n",
       "      <td>...</td>\n",
       "      <td>48.8878</td>\n",
       "      <td>-118.2105</td>\n",
       "      <td>149</td>\n",
       "      <td>Special educational needs teacher</td>\n",
       "      <td>1978-06-21</td>\n",
       "      <td>1f76529f8574734946361c461b024d99</td>\n",
       "      <td>1325376044</td>\n",
       "      <td>49.159047</td>\n",
       "      <td>-118.186462</td>\n",
       "      <td>0</td>\n",
       "    </tr>\n",
       "    <tr>\n",
       "      <th>2</th>\n",
       "      <td>2</td>\n",
       "      <td>2019-01-01 00:00:51</td>\n",
       "      <td>38859492057661</td>\n",
       "      <td>fraud_Lind-Buckridge</td>\n",
       "      <td>entertainment</td>\n",
       "      <td>220.11</td>\n",
       "      <td>Edward</td>\n",
       "      <td>Sanchez</td>\n",
       "      <td>M</td>\n",
       "      <td>594 White Dale Suite 530</td>\n",
       "      <td>...</td>\n",
       "      <td>42.1808</td>\n",
       "      <td>-112.2620</td>\n",
       "      <td>4154</td>\n",
       "      <td>Nature conservation officer</td>\n",
       "      <td>1962-01-19</td>\n",
       "      <td>a1a22d70485983eac12b5b88dad1cf95</td>\n",
       "      <td>1325376051</td>\n",
       "      <td>43.150704</td>\n",
       "      <td>-112.154481</td>\n",
       "      <td>0</td>\n",
       "    </tr>\n",
       "    <tr>\n",
       "      <th>3</th>\n",
       "      <td>3</td>\n",
       "      <td>2019-01-01 00:01:16</td>\n",
       "      <td>3534093764340240</td>\n",
       "      <td>fraud_Kutch, Hermiston and Farrell</td>\n",
       "      <td>gas_transport</td>\n",
       "      <td>45.00</td>\n",
       "      <td>Jeremy</td>\n",
       "      <td>White</td>\n",
       "      <td>M</td>\n",
       "      <td>9443 Cynthia Court Apt. 038</td>\n",
       "      <td>...</td>\n",
       "      <td>46.2306</td>\n",
       "      <td>-112.1138</td>\n",
       "      <td>1939</td>\n",
       "      <td>Patent attorney</td>\n",
       "      <td>1967-01-12</td>\n",
       "      <td>6b849c168bdad6f867558c3793159a81</td>\n",
       "      <td>1325376076</td>\n",
       "      <td>47.034331</td>\n",
       "      <td>-112.561071</td>\n",
       "      <td>0</td>\n",
       "    </tr>\n",
       "    <tr>\n",
       "      <th>4</th>\n",
       "      <td>4</td>\n",
       "      <td>2019-01-01 00:03:06</td>\n",
       "      <td>375534208663984</td>\n",
       "      <td>fraud_Keeling-Crist</td>\n",
       "      <td>misc_pos</td>\n",
       "      <td>41.96</td>\n",
       "      <td>Tyler</td>\n",
       "      <td>Garcia</td>\n",
       "      <td>M</td>\n",
       "      <td>408 Bradley Rest</td>\n",
       "      <td>...</td>\n",
       "      <td>38.4207</td>\n",
       "      <td>-79.4629</td>\n",
       "      <td>99</td>\n",
       "      <td>Dance movement psychotherapist</td>\n",
       "      <td>1986-03-28</td>\n",
       "      <td>a41d7549acf90789359a9aa5346dcb46</td>\n",
       "      <td>1325376186</td>\n",
       "      <td>38.674999</td>\n",
       "      <td>-78.632459</td>\n",
       "      <td>0</td>\n",
       "    </tr>\n",
       "  </tbody>\n",
       "</table>\n",
       "<p>5 rows × 23 columns</p>\n",
       "</div>"
      ],
      "text/plain": [
       "   Unnamed: 0 trans_date_trans_time            cc_num  \\\n",
       "0           0   2019-01-01 00:00:18  2703186189652095   \n",
       "1           1   2019-01-01 00:00:44      630423337322   \n",
       "2           2   2019-01-01 00:00:51    38859492057661   \n",
       "3           3   2019-01-01 00:01:16  3534093764340240   \n",
       "4           4   2019-01-01 00:03:06   375534208663984   \n",
       "\n",
       "                             merchant       category     amt      first  \\\n",
       "0          fraud_Rippin, Kub and Mann       misc_net    4.97   Jennifer   \n",
       "1     fraud_Heller, Gutmann and Zieme    grocery_pos  107.23  Stephanie   \n",
       "2                fraud_Lind-Buckridge  entertainment  220.11     Edward   \n",
       "3  fraud_Kutch, Hermiston and Farrell  gas_transport   45.00     Jeremy   \n",
       "4                 fraud_Keeling-Crist       misc_pos   41.96      Tyler   \n",
       "\n",
       "      last gender                        street  ...      lat      long  \\\n",
       "0    Banks      F                561 Perry Cove  ...  36.0788  -81.1781   \n",
       "1     Gill      F  43039 Riley Greens Suite 393  ...  48.8878 -118.2105   \n",
       "2  Sanchez      M      594 White Dale Suite 530  ...  42.1808 -112.2620   \n",
       "3    White      M   9443 Cynthia Court Apt. 038  ...  46.2306 -112.1138   \n",
       "4   Garcia      M              408 Bradley Rest  ...  38.4207  -79.4629   \n",
       "\n",
       "   city_pop                                job         dob  \\\n",
       "0      3495          Psychologist, counselling  1988-03-09   \n",
       "1       149  Special educational needs teacher  1978-06-21   \n",
       "2      4154        Nature conservation officer  1962-01-19   \n",
       "3      1939                    Patent attorney  1967-01-12   \n",
       "4        99     Dance movement psychotherapist  1986-03-28   \n",
       "\n",
       "                          trans_num   unix_time  merch_lat  merch_long  \\\n",
       "0  0b242abb623afc578575680df30655b9  1325376018  36.011293  -82.048315   \n",
       "1  1f76529f8574734946361c461b024d99  1325376044  49.159047 -118.186462   \n",
       "2  a1a22d70485983eac12b5b88dad1cf95  1325376051  43.150704 -112.154481   \n",
       "3  6b849c168bdad6f867558c3793159a81  1325376076  47.034331 -112.561071   \n",
       "4  a41d7549acf90789359a9aa5346dcb46  1325376186  38.674999  -78.632459   \n",
       "\n",
       "   is_fraud  \n",
       "0         0  \n",
       "1         0  \n",
       "2         0  \n",
       "3         0  \n",
       "4         0  \n",
       "\n",
       "[5 rows x 23 columns]"
      ]
     },
     "execution_count": 12,
     "metadata": {},
     "output_type": "execute_result"
    }
   ],
   "source": [
    "data.head()"
   ]
  },
  {
   "cell_type": "code",
   "execution_count": 13,
   "id": "b0794442",
   "metadata": {
    "execution": {
     "iopub.execute_input": "2022-03-15T12:07:56.679853Z",
     "iopub.status.busy": "2022-03-15T12:07:56.679306Z",
     "iopub.status.idle": "2022-03-15T12:07:56.841893Z",
     "shell.execute_reply": "2022-03-15T12:07:56.842377Z",
     "shell.execute_reply.started": "2022-03-15T12:00:29.558353Z"
    },
    "id": "9ER0o6C_gr9n",
    "papermill": {
     "duration": 0.36805,
     "end_time": "2022-03-15T12:07:56.842525",
     "exception": false,
     "start_time": "2022-03-15T12:07:56.474475",
     "status": "completed"
    },
    "tags": []
   },
   "outputs": [],
   "source": [
    "# we cannot work on trans_num as there is no unique pattern, so dropping it\n",
    "data = data.drop(\"trans_num\",1)"
   ]
  },
  {
   "cell_type": "code",
   "execution_count": 14,
   "id": "f5fadbf7",
   "metadata": {
    "execution": {
     "iopub.execute_input": "2022-03-15T12:07:57.255408Z",
     "iopub.status.busy": "2022-03-15T12:07:57.254746Z",
     "iopub.status.idle": "2022-03-15T12:07:58.686519Z",
     "shell.execute_reply": "2022-03-15T12:07:58.687074Z",
     "shell.execute_reply.started": "2022-03-15T12:00:30.134273Z"
    },
    "id": "C-B2ecpxgTre",
    "outputId": "4556f88c-5e98-4d60-e143-c87f4b038d45",
    "papermill": {
     "duration": 1.643408,
     "end_time": "2022-03-15T12:07:58.687224",
     "exception": false,
     "start_time": "2022-03-15T12:07:57.043816",
     "status": "completed"
    },
    "tags": []
   },
   "outputs": [
    {
     "name": "stdout",
     "output_type": "stream",
     "text": [
      "<class 'pandas.core.frame.DataFrame'>\n",
      "RangeIndex: 1296675 entries, 0 to 1296674\n",
      "Data columns (total 22 columns):\n",
      " #   Column                 Non-Null Count    Dtype  \n",
      "---  ------                 --------------    -----  \n",
      " 0   Unnamed: 0             1296675 non-null  int64  \n",
      " 1   trans_date_trans_time  1296675 non-null  object \n",
      " 2   cc_num                 1296675 non-null  int64  \n",
      " 3   merchant               1296675 non-null  object \n",
      " 4   category               1296675 non-null  object \n",
      " 5   amt                    1296675 non-null  float64\n",
      " 6   first                  1296675 non-null  object \n",
      " 7   last                   1296675 non-null  object \n",
      " 8   gender                 1296675 non-null  object \n",
      " 9   street                 1296675 non-null  object \n",
      " 10  city                   1296675 non-null  object \n",
      " 11  state                  1296675 non-null  object \n",
      " 12  zip                    1296675 non-null  int64  \n",
      " 13  lat                    1296675 non-null  float64\n",
      " 14  long                   1296675 non-null  float64\n",
      " 15  city_pop               1296675 non-null  int64  \n",
      " 16  job                    1296675 non-null  object \n",
      " 17  dob                    1296675 non-null  object \n",
      " 18  unix_time              1296675 non-null  int64  \n",
      " 19  merch_lat              1296675 non-null  float64\n",
      " 20  merch_long             1296675 non-null  float64\n",
      " 21  is_fraud               1296675 non-null  int64  \n",
      "dtypes: float64(5), int64(6), object(11)\n",
      "memory usage: 217.6+ MB\n"
     ]
    }
   ],
   "source": [
    "data.info()"
   ]
  },
  {
   "cell_type": "code",
   "execution_count": 15,
   "id": "91be7fb5",
   "metadata": {
    "execution": {
     "iopub.execute_input": "2022-03-15T12:07:59.112805Z",
     "iopub.status.busy": "2022-03-15T12:07:59.112194Z",
     "iopub.status.idle": "2022-03-15T12:07:59.117407Z",
     "shell.execute_reply": "2022-03-15T12:07:59.117946Z",
     "shell.execute_reply.started": "2022-03-15T12:00:31.752099Z"
    },
    "id": "pgwYoYlMiHXw",
    "outputId": "d809a921-c3a7-4326-b157-e025ac660273",
    "papermill": {
     "duration": 0.228385,
     "end_time": "2022-03-15T12:07:59.118114",
     "exception": false,
     "start_time": "2022-03-15T12:07:58.889729",
     "status": "completed"
    },
    "tags": []
   },
   "outputs": [
    {
     "data": {
      "text/plain": [
       "571365235126           3123\n",
       "4512828414983801773    3123\n",
       "36722699017270         3119\n",
       "213112402583773        3117\n",
       "3545109339866548       3113\n",
       "                       ... \n",
       "340187018810220           7\n",
       "4975457191020             7\n",
       "3545578418030657          7\n",
       "4734310647841293          7\n",
       "4714017207228610634       7\n",
       "Name: cc_num, Length: 983, dtype: int64"
      ]
     },
     "execution_count": 15,
     "metadata": {},
     "output_type": "execute_result"
    }
   ],
   "source": [
    "# checking cc_num columns\n",
    "\n",
    "data.cc_num.value_counts()"
   ]
  },
  {
   "cell_type": "code",
   "execution_count": 16,
   "id": "203b3aea",
   "metadata": {
    "execution": {
     "iopub.execute_input": "2022-03-15T12:07:59.527420Z",
     "iopub.status.busy": "2022-03-15T12:07:59.526831Z",
     "iopub.status.idle": "2022-03-15T12:07:59.724174Z",
     "shell.execute_reply": "2022-03-15T12:07:59.724682Z",
     "shell.execute_reply.started": "2022-03-15T12:00:31.773091Z"
    },
    "id": "yY75bOByiRws",
    "outputId": "c6eb1080-69d4-46fd-bd52-d8a3fd5a0321",
    "papermill": {
     "duration": 0.401967,
     "end_time": "2022-03-15T12:07:59.724857",
     "exception": false,
     "start_time": "2022-03-15T12:07:59.322890",
     "status": "completed"
    },
    "tags": []
   },
   "outputs": [
    {
     "data": {
      "text/plain": [
       "Christopher    26669\n",
       "Robert         21667\n",
       "Jessica        20581\n",
       "James          20039\n",
       "Michael        20009\n",
       "               ...  \n",
       "Cameron            9\n",
       "Phyllis            8\n",
       "Molly              8\n",
       "Angelica           7\n",
       "Samantha           7\n",
       "Name: first, Length: 352, dtype: int64"
      ]
     },
     "execution_count": 16,
     "metadata": {},
     "output_type": "execute_result"
    }
   ],
   "source": [
    "# checking first and last name columns\n",
    "data['first'].value_counts()"
   ]
  },
  {
   "cell_type": "code",
   "execution_count": 17,
   "id": "9f779bef",
   "metadata": {
    "execution": {
     "iopub.execute_input": "2022-03-15T12:08:00.335289Z",
     "iopub.status.busy": "2022-03-15T12:08:00.332096Z",
     "iopub.status.idle": "2022-03-15T12:08:00.339889Z",
     "shell.execute_reply": "2022-03-15T12:08:00.339432Z",
     "shell.execute_reply.started": "2022-03-15T12:00:32.002154Z"
    },
    "id": "KCbrHOe7i8BD",
    "outputId": "3238df84-41be-498c-fd6c-7492da010b36",
    "papermill": {
     "duration": 0.409269,
     "end_time": "2022-03-15T12:08:00.340032",
     "exception": false,
     "start_time": "2022-03-15T12:07:59.930763",
     "status": "completed"
    },
    "tags": []
   },
   "outputs": [
    {
     "data": {
      "text/plain": [
       "Smith        28794\n",
       "Williams     23605\n",
       "Davis        21910\n",
       "Johnson      20034\n",
       "Rodriguez    17394\n",
       "             ...  \n",
       "Peterson         9\n",
       "Contreras        9\n",
       "Strong           8\n",
       "Schaefer         7\n",
       "Blake            7\n",
       "Name: last, Length: 481, dtype: int64"
      ]
     },
     "execution_count": 17,
     "metadata": {},
     "output_type": "execute_result"
    }
   ],
   "source": [
    "data[\"last\"].value_counts()"
   ]
  },
  {
   "cell_type": "code",
   "execution_count": 18,
   "id": "831f6883",
   "metadata": {
    "execution": {
     "iopub.execute_input": "2022-03-15T12:08:00.745538Z",
     "iopub.status.busy": "2022-03-15T12:08:00.744885Z",
     "iopub.status.idle": "2022-03-15T12:08:00.938239Z",
     "shell.execute_reply": "2022-03-15T12:08:00.937658Z",
     "shell.execute_reply.started": "2022-03-15T12:00:32.230921Z"
    },
    "id": "r-2Hah7tjKTh",
    "papermill": {
     "duration": 0.395433,
     "end_time": "2022-03-15T12:08:00.938376",
     "exception": false,
     "start_time": "2022-03-15T12:08:00.542943",
     "status": "completed"
    },
    "tags": []
   },
   "outputs": [],
   "source": [
    "# we can see the first and last names of customers are not unique while the cc_num is, so we will use cc_num to distinct between customers\n",
    "# and since first and last are now of no use of ours so we will drop them\n",
    "\n",
    "data = data.drop(columns=[\"first\",\"last\"])"
   ]
  },
  {
   "cell_type": "code",
   "execution_count": 19,
   "id": "110ae942",
   "metadata": {
    "execution": {
     "iopub.execute_input": "2022-03-15T12:08:01.357853Z",
     "iopub.status.busy": "2022-03-15T12:08:01.357286Z",
     "iopub.status.idle": "2022-03-15T12:08:02.571494Z",
     "shell.execute_reply": "2022-03-15T12:08:02.572310Z",
     "shell.execute_reply.started": "2022-03-15T12:00:32.705481Z"
    },
    "id": "gECPmOaDjjkf",
    "outputId": "f4d479a4-70ff-4876-8c9b-530543b4bb9d",
    "papermill": {
     "duration": 1.423471,
     "end_time": "2022-03-15T12:08:02.572513",
     "exception": false,
     "start_time": "2022-03-15T12:08:01.149042",
     "status": "completed"
    },
    "tags": []
   },
   "outputs": [
    {
     "name": "stdout",
     "output_type": "stream",
     "text": [
      "<class 'pandas.core.frame.DataFrame'>\n",
      "RangeIndex: 1296675 entries, 0 to 1296674\n",
      "Data columns (total 20 columns):\n",
      " #   Column                 Non-Null Count    Dtype  \n",
      "---  ------                 --------------    -----  \n",
      " 0   Unnamed: 0             1296675 non-null  int64  \n",
      " 1   trans_date_trans_time  1296675 non-null  object \n",
      " 2   cc_num                 1296675 non-null  int64  \n",
      " 3   merchant               1296675 non-null  object \n",
      " 4   category               1296675 non-null  object \n",
      " 5   amt                    1296675 non-null  float64\n",
      " 6   gender                 1296675 non-null  object \n",
      " 7   street                 1296675 non-null  object \n",
      " 8   city                   1296675 non-null  object \n",
      " 9   state                  1296675 non-null  object \n",
      " 10  zip                    1296675 non-null  int64  \n",
      " 11  lat                    1296675 non-null  float64\n",
      " 12  long                   1296675 non-null  float64\n",
      " 13  city_pop               1296675 non-null  int64  \n",
      " 14  job                    1296675 non-null  object \n",
      " 15  dob                    1296675 non-null  object \n",
      " 16  unix_time              1296675 non-null  int64  \n",
      " 17  merch_lat              1296675 non-null  float64\n",
      " 18  merch_long             1296675 non-null  float64\n",
      " 19  is_fraud               1296675 non-null  int64  \n",
      "dtypes: float64(5), int64(6), object(9)\n",
      "memory usage: 197.9+ MB\n"
     ]
    }
   ],
   "source": [
    "# checking data now\n",
    "data.info()"
   ]
  },
  {
   "cell_type": "code",
   "execution_count": 20,
   "id": "dff9bce6",
   "metadata": {
    "execution": {
     "iopub.execute_input": "2022-03-15T12:08:02.986729Z",
     "iopub.status.busy": "2022-03-15T12:08:02.985942Z",
     "iopub.status.idle": "2022-03-15T12:08:02.988606Z",
     "shell.execute_reply": "2022-03-15T12:08:02.989455Z",
     "shell.execute_reply.started": "2022-03-15T12:00:34.186804Z"
    },
    "id": "bqUbLVsRjnwL",
    "papermill": {
     "duration": 0.210661,
     "end_time": "2022-03-15T12:08:02.989648",
     "exception": false,
     "start_time": "2022-03-15T12:08:02.778987",
     "status": "completed"
    },
    "tags": []
   },
   "outputs": [],
   "source": [
    "# we can have look on unix time, unix time is generally the number of seconds passed from the UNIX EPOCH i.e. 00:00:00 UTC on 1 January 1970\n",
    "# we can use this to know the recency of transactions of same cc_num"
   ]
  },
  {
   "cell_type": "code",
   "execution_count": 21,
   "id": "377ff5c2",
   "metadata": {
    "execution": {
     "iopub.execute_input": "2022-03-15T12:08:03.407055Z",
     "iopub.status.busy": "2022-03-15T12:08:03.406421Z",
     "iopub.status.idle": "2022-03-15T12:08:04.071055Z",
     "shell.execute_reply": "2022-03-15T12:08:04.071956Z",
     "shell.execute_reply.started": "2022-03-15T12:00:34.193464Z"
    },
    "id": "oAq7zfkdtCgF",
    "papermill": {
     "duration": 0.875599,
     "end_time": "2022-03-15T12:08:04.072210",
     "exception": false,
     "start_time": "2022-03-15T12:08:03.196611",
     "status": "completed"
    },
    "tags": []
   },
   "outputs": [],
   "source": [
    "data[\"recency\"] = data.groupby(by=\"cc_num\")[\"unix_time\"].diff()"
   ]
  },
  {
   "cell_type": "code",
   "execution_count": 22,
   "id": "d78c9904",
   "metadata": {
    "execution": {
     "iopub.execute_input": "2022-03-15T12:08:04.516425Z",
     "iopub.status.busy": "2022-03-15T12:08:04.515478Z",
     "iopub.status.idle": "2022-03-15T12:08:04.521703Z",
     "shell.execute_reply": "2022-03-15T12:08:04.522243Z",
     "shell.execute_reply.started": "2022-03-15T12:00:35.034902Z"
    },
    "id": "pG4IYgU7_1ES",
    "outputId": "a9621951-b6b0-4c46-dec5-ba5b099f5bda",
    "papermill": {
     "duration": 0.230195,
     "end_time": "2022-03-15T12:08:04.522409",
     "exception": false,
     "start_time": "2022-03-15T12:08:04.292214",
     "status": "completed"
    },
    "tags": []
   },
   "outputs": [
    {
     "data": {
      "text/plain": [
       "983"
      ]
     },
     "execution_count": 22,
     "metadata": {},
     "output_type": "execute_result"
    }
   ],
   "source": [
    "# checking null values of recency\n",
    "data[\"recency\"].isnull().sum()"
   ]
  },
  {
   "cell_type": "code",
   "execution_count": 23,
   "id": "e9fd57a4",
   "metadata": {
    "execution": {
     "iopub.execute_input": "2022-03-15T12:08:05.004561Z",
     "iopub.status.busy": "2022-03-15T12:08:05.003856Z",
     "iopub.status.idle": "2022-03-15T12:08:05.018797Z",
     "shell.execute_reply": "2022-03-15T12:08:05.019314Z",
     "shell.execute_reply.started": "2022-03-15T12:00:35.047996Z"
    },
    "id": "81-J-5SE_3Ud",
    "papermill": {
     "duration": 0.227941,
     "end_time": "2022-03-15T12:08:05.019487",
     "exception": false,
     "start_time": "2022-03-15T12:08:04.791546",
     "status": "completed"
    },
    "tags": []
   },
   "outputs": [],
   "source": [
    "# we are getting null values because as 983 because there are 983 unique values of cards, this means whenever the cc_num group changes\n",
    "# python makes the first value of every group null, so making them as starting payment, we will initialize null values to -1\n",
    "\n",
    "data.loc[data.recency.isnull(),[\"recency\"]] = -1"
   ]
  },
  {
   "cell_type": "code",
   "execution_count": 24,
   "id": "b5c2a666",
   "metadata": {
    "execution": {
     "iopub.execute_input": "2022-03-15T12:08:05.439447Z",
     "iopub.status.busy": "2022-03-15T12:08:05.438551Z",
     "iopub.status.idle": "2022-03-15T12:08:06.619173Z",
     "shell.execute_reply": "2022-03-15T12:08:06.619640Z",
     "shell.execute_reply.started": "2022-03-15T12:00:35.088314Z"
    },
    "id": "s7KUxnuSAd7O",
    "outputId": "4ecc2812-b2cd-46aa-9a70-adef41deef3e",
    "papermill": {
     "duration": 1.390687,
     "end_time": "2022-03-15T12:08:06.619809",
     "exception": false,
     "start_time": "2022-03-15T12:08:05.229122",
     "status": "completed"
    },
    "tags": []
   },
   "outputs": [
    {
     "data": {
      "text/plain": [
       "Unnamed: 0               0\n",
       "trans_date_trans_time    0\n",
       "cc_num                   0\n",
       "merchant                 0\n",
       "category                 0\n",
       "amt                      0\n",
       "gender                   0\n",
       "street                   0\n",
       "city                     0\n",
       "state                    0\n",
       "zip                      0\n",
       "lat                      0\n",
       "long                     0\n",
       "city_pop                 0\n",
       "job                      0\n",
       "dob                      0\n",
       "unix_time                0\n",
       "merch_lat                0\n",
       "merch_long               0\n",
       "is_fraud                 0\n",
       "recency                  0\n",
       "dtype: int64"
      ]
     },
     "execution_count": 24,
     "metadata": {},
     "output_type": "execute_result"
    }
   ],
   "source": [
    "#checking null values again\n",
    "data.isnull().sum()"
   ]
  },
  {
   "cell_type": "code",
   "execution_count": 25,
   "id": "e1356f2a",
   "metadata": {
    "execution": {
     "iopub.execute_input": "2022-03-15T12:08:07.032688Z",
     "iopub.status.busy": "2022-03-15T12:08:07.032147Z",
     "iopub.status.idle": "2022-03-15T12:08:08.225312Z",
     "shell.execute_reply": "2022-03-15T12:08:08.224650Z",
     "shell.execute_reply.started": "2022-03-15T12:00:36.372794Z"
    },
    "id": "CeHWN2stAkm5",
    "outputId": "a6ca1a6e-937d-4154-deff-b4d56875d4be",
    "papermill": {
     "duration": 1.402714,
     "end_time": "2022-03-15T12:08:08.225451",
     "exception": false,
     "start_time": "2022-03-15T12:08:06.822737",
     "status": "completed"
    },
    "tags": []
   },
   "outputs": [
    {
     "name": "stdout",
     "output_type": "stream",
     "text": [
      "<class 'pandas.core.frame.DataFrame'>\n",
      "RangeIndex: 1296675 entries, 0 to 1296674\n",
      "Data columns (total 21 columns):\n",
      " #   Column                 Non-Null Count    Dtype  \n",
      "---  ------                 --------------    -----  \n",
      " 0   Unnamed: 0             1296675 non-null  int64  \n",
      " 1   trans_date_trans_time  1296675 non-null  object \n",
      " 2   cc_num                 1296675 non-null  int64  \n",
      " 3   merchant               1296675 non-null  object \n",
      " 4   category               1296675 non-null  object \n",
      " 5   amt                    1296675 non-null  float64\n",
      " 6   gender                 1296675 non-null  object \n",
      " 7   street                 1296675 non-null  object \n",
      " 8   city                   1296675 non-null  object \n",
      " 9   state                  1296675 non-null  object \n",
      " 10  zip                    1296675 non-null  int64  \n",
      " 11  lat                    1296675 non-null  float64\n",
      " 12  long                   1296675 non-null  float64\n",
      " 13  city_pop               1296675 non-null  int64  \n",
      " 14  job                    1296675 non-null  object \n",
      " 15  dob                    1296675 non-null  object \n",
      " 16  unix_time              1296675 non-null  int64  \n",
      " 17  merch_lat              1296675 non-null  float64\n",
      " 18  merch_long             1296675 non-null  float64\n",
      " 19  is_fraud               1296675 non-null  int64  \n",
      " 20  recency                1296675 non-null  float64\n",
      "dtypes: float64(6), int64(6), object(9)\n",
      "memory usage: 207.7+ MB\n"
     ]
    }
   ],
   "source": [
    "# checking columns structure\n",
    "data.info()"
   ]
  },
  {
   "cell_type": "code",
   "execution_count": 26,
   "id": "fe36dc1f",
   "metadata": {
    "execution": {
     "iopub.execute_input": "2022-03-15T12:08:08.644793Z",
     "iopub.status.busy": "2022-03-15T12:08:08.643855Z",
     "iopub.status.idle": "2022-03-15T12:08:09.206741Z",
     "shell.execute_reply": "2022-03-15T12:08:09.206166Z",
     "shell.execute_reply.started": "2022-03-15T12:00:37.656555Z"
    },
    "id": "sgjnvJCdCxdw",
    "papermill": {
     "duration": 0.774061,
     "end_time": "2022-03-15T12:08:09.206888",
     "exception": false,
     "start_time": "2022-03-15T12:08:08.432827",
     "status": "completed"
    },
    "tags": []
   },
   "outputs": [],
   "source": [
    "# converting trans_date_trans_time to datetime\n",
    "\n",
    "data[\"trans_date_trans_time\"] = pd.to_datetime(data[\"trans_date_trans_time\"])"
   ]
  },
  {
   "cell_type": "code",
   "execution_count": 27,
   "id": "70453471",
   "metadata": {
    "execution": {
     "iopub.execute_input": "2022-03-15T12:08:09.622014Z",
     "iopub.status.busy": "2022-03-15T12:08:09.621171Z",
     "iopub.status.idle": "2022-03-15T12:08:10.672014Z",
     "shell.execute_reply": "2022-03-15T12:08:10.672620Z",
     "shell.execute_reply.started": "2022-03-15T12:00:38.173246Z"
    },
    "id": "JR9lQ38qDfrC",
    "outputId": "59b61924-9432-444d-e263-3e78672b894d",
    "papermill": {
     "duration": 1.26035,
     "end_time": "2022-03-15T12:08:10.672827",
     "exception": false,
     "start_time": "2022-03-15T12:08:09.412477",
     "status": "completed"
    },
    "tags": []
   },
   "outputs": [
    {
     "name": "stdout",
     "output_type": "stream",
     "text": [
      "<class 'pandas.core.frame.DataFrame'>\n",
      "RangeIndex: 1296675 entries, 0 to 1296674\n",
      "Data columns (total 21 columns):\n",
      " #   Column                 Non-Null Count    Dtype         \n",
      "---  ------                 --------------    -----         \n",
      " 0   Unnamed: 0             1296675 non-null  int64         \n",
      " 1   trans_date_trans_time  1296675 non-null  datetime64[ns]\n",
      " 2   cc_num                 1296675 non-null  int64         \n",
      " 3   merchant               1296675 non-null  object        \n",
      " 4   category               1296675 non-null  object        \n",
      " 5   amt                    1296675 non-null  float64       \n",
      " 6   gender                 1296675 non-null  object        \n",
      " 7   street                 1296675 non-null  object        \n",
      " 8   city                   1296675 non-null  object        \n",
      " 9   state                  1296675 non-null  object        \n",
      " 10  zip                    1296675 non-null  int64         \n",
      " 11  lat                    1296675 non-null  float64       \n",
      " 12  long                   1296675 non-null  float64       \n",
      " 13  city_pop               1296675 non-null  int64         \n",
      " 14  job                    1296675 non-null  object        \n",
      " 15  dob                    1296675 non-null  object        \n",
      " 16  unix_time              1296675 non-null  int64         \n",
      " 17  merch_lat              1296675 non-null  float64       \n",
      " 18  merch_long             1296675 non-null  float64       \n",
      " 19  is_fraud               1296675 non-null  int64         \n",
      " 20  recency                1296675 non-null  float64       \n",
      "dtypes: datetime64[ns](1), float64(6), int64(6), object(8)\n",
      "memory usage: 207.7+ MB\n"
     ]
    }
   ],
   "source": [
    "data.info()"
   ]
  },
  {
   "cell_type": "code",
   "execution_count": 28,
   "id": "8b24c81d",
   "metadata": {
    "execution": {
     "iopub.execute_input": "2022-03-15T12:08:11.105689Z",
     "iopub.status.busy": "2022-03-15T12:08:11.104637Z",
     "iopub.status.idle": "2022-03-15T12:08:11.122730Z",
     "shell.execute_reply": "2022-03-15T12:08:11.123233Z",
     "shell.execute_reply.started": "2022-03-15T12:00:39.325731Z"
    },
    "id": "yPAjSozTDjfh",
    "outputId": "f979ced1-5813-4460-d7b5-51cd96416ca6",
    "papermill": {
     "duration": 0.239698,
     "end_time": "2022-03-15T12:08:11.123404",
     "exception": false,
     "start_time": "2022-03-15T12:08:10.883706",
     "status": "completed"
    },
    "tags": []
   },
   "outputs": [
    {
     "data": {
      "text/html": [
       "<div>\n",
       "<style scoped>\n",
       "    .dataframe tbody tr th:only-of-type {\n",
       "        vertical-align: middle;\n",
       "    }\n",
       "\n",
       "    .dataframe tbody tr th {\n",
       "        vertical-align: top;\n",
       "    }\n",
       "\n",
       "    .dataframe thead th {\n",
       "        text-align: right;\n",
       "    }\n",
       "</style>\n",
       "<table border=\"1\" class=\"dataframe\">\n",
       "  <thead>\n",
       "    <tr style=\"text-align: right;\">\n",
       "      <th></th>\n",
       "      <th>Unnamed: 0</th>\n",
       "      <th>trans_date_trans_time</th>\n",
       "      <th>cc_num</th>\n",
       "      <th>merchant</th>\n",
       "      <th>category</th>\n",
       "      <th>amt</th>\n",
       "      <th>gender</th>\n",
       "      <th>street</th>\n",
       "      <th>city</th>\n",
       "      <th>state</th>\n",
       "      <th>...</th>\n",
       "      <th>lat</th>\n",
       "      <th>long</th>\n",
       "      <th>city_pop</th>\n",
       "      <th>job</th>\n",
       "      <th>dob</th>\n",
       "      <th>unix_time</th>\n",
       "      <th>merch_lat</th>\n",
       "      <th>merch_long</th>\n",
       "      <th>is_fraud</th>\n",
       "      <th>recency</th>\n",
       "    </tr>\n",
       "  </thead>\n",
       "  <tbody>\n",
       "    <tr>\n",
       "      <th>0</th>\n",
       "      <td>0</td>\n",
       "      <td>2019-01-01 00:00:18</td>\n",
       "      <td>2703186189652095</td>\n",
       "      <td>fraud_Rippin, Kub and Mann</td>\n",
       "      <td>misc_net</td>\n",
       "      <td>4.97</td>\n",
       "      <td>F</td>\n",
       "      <td>561 Perry Cove</td>\n",
       "      <td>Moravian Falls</td>\n",
       "      <td>NC</td>\n",
       "      <td>...</td>\n",
       "      <td>36.0788</td>\n",
       "      <td>-81.1781</td>\n",
       "      <td>3495</td>\n",
       "      <td>Psychologist, counselling</td>\n",
       "      <td>1988-03-09</td>\n",
       "      <td>1325376018</td>\n",
       "      <td>36.011293</td>\n",
       "      <td>-82.048315</td>\n",
       "      <td>0</td>\n",
       "      <td>-1.0</td>\n",
       "    </tr>\n",
       "    <tr>\n",
       "      <th>1</th>\n",
       "      <td>1</td>\n",
       "      <td>2019-01-01 00:00:44</td>\n",
       "      <td>630423337322</td>\n",
       "      <td>fraud_Heller, Gutmann and Zieme</td>\n",
       "      <td>grocery_pos</td>\n",
       "      <td>107.23</td>\n",
       "      <td>F</td>\n",
       "      <td>43039 Riley Greens Suite 393</td>\n",
       "      <td>Orient</td>\n",
       "      <td>WA</td>\n",
       "      <td>...</td>\n",
       "      <td>48.8878</td>\n",
       "      <td>-118.2105</td>\n",
       "      <td>149</td>\n",
       "      <td>Special educational needs teacher</td>\n",
       "      <td>1978-06-21</td>\n",
       "      <td>1325376044</td>\n",
       "      <td>49.159047</td>\n",
       "      <td>-118.186462</td>\n",
       "      <td>0</td>\n",
       "      <td>-1.0</td>\n",
       "    </tr>\n",
       "    <tr>\n",
       "      <th>2</th>\n",
       "      <td>2</td>\n",
       "      <td>2019-01-01 00:00:51</td>\n",
       "      <td>38859492057661</td>\n",
       "      <td>fraud_Lind-Buckridge</td>\n",
       "      <td>entertainment</td>\n",
       "      <td>220.11</td>\n",
       "      <td>M</td>\n",
       "      <td>594 White Dale Suite 530</td>\n",
       "      <td>Malad City</td>\n",
       "      <td>ID</td>\n",
       "      <td>...</td>\n",
       "      <td>42.1808</td>\n",
       "      <td>-112.2620</td>\n",
       "      <td>4154</td>\n",
       "      <td>Nature conservation officer</td>\n",
       "      <td>1962-01-19</td>\n",
       "      <td>1325376051</td>\n",
       "      <td>43.150704</td>\n",
       "      <td>-112.154481</td>\n",
       "      <td>0</td>\n",
       "      <td>-1.0</td>\n",
       "    </tr>\n",
       "    <tr>\n",
       "      <th>3</th>\n",
       "      <td>3</td>\n",
       "      <td>2019-01-01 00:01:16</td>\n",
       "      <td>3534093764340240</td>\n",
       "      <td>fraud_Kutch, Hermiston and Farrell</td>\n",
       "      <td>gas_transport</td>\n",
       "      <td>45.00</td>\n",
       "      <td>M</td>\n",
       "      <td>9443 Cynthia Court Apt. 038</td>\n",
       "      <td>Boulder</td>\n",
       "      <td>MT</td>\n",
       "      <td>...</td>\n",
       "      <td>46.2306</td>\n",
       "      <td>-112.1138</td>\n",
       "      <td>1939</td>\n",
       "      <td>Patent attorney</td>\n",
       "      <td>1967-01-12</td>\n",
       "      <td>1325376076</td>\n",
       "      <td>47.034331</td>\n",
       "      <td>-112.561071</td>\n",
       "      <td>0</td>\n",
       "      <td>-1.0</td>\n",
       "    </tr>\n",
       "    <tr>\n",
       "      <th>4</th>\n",
       "      <td>4</td>\n",
       "      <td>2019-01-01 00:03:06</td>\n",
       "      <td>375534208663984</td>\n",
       "      <td>fraud_Keeling-Crist</td>\n",
       "      <td>misc_pos</td>\n",
       "      <td>41.96</td>\n",
       "      <td>M</td>\n",
       "      <td>408 Bradley Rest</td>\n",
       "      <td>Doe Hill</td>\n",
       "      <td>VA</td>\n",
       "      <td>...</td>\n",
       "      <td>38.4207</td>\n",
       "      <td>-79.4629</td>\n",
       "      <td>99</td>\n",
       "      <td>Dance movement psychotherapist</td>\n",
       "      <td>1986-03-28</td>\n",
       "      <td>1325376186</td>\n",
       "      <td>38.674999</td>\n",
       "      <td>-78.632459</td>\n",
       "      <td>0</td>\n",
       "      <td>-1.0</td>\n",
       "    </tr>\n",
       "  </tbody>\n",
       "</table>\n",
       "<p>5 rows × 21 columns</p>\n",
       "</div>"
      ],
      "text/plain": [
       "   Unnamed: 0 trans_date_trans_time            cc_num  \\\n",
       "0           0   2019-01-01 00:00:18  2703186189652095   \n",
       "1           1   2019-01-01 00:00:44      630423337322   \n",
       "2           2   2019-01-01 00:00:51    38859492057661   \n",
       "3           3   2019-01-01 00:01:16  3534093764340240   \n",
       "4           4   2019-01-01 00:03:06   375534208663984   \n",
       "\n",
       "                             merchant       category     amt gender  \\\n",
       "0          fraud_Rippin, Kub and Mann       misc_net    4.97      F   \n",
       "1     fraud_Heller, Gutmann and Zieme    grocery_pos  107.23      F   \n",
       "2                fraud_Lind-Buckridge  entertainment  220.11      M   \n",
       "3  fraud_Kutch, Hermiston and Farrell  gas_transport   45.00      M   \n",
       "4                 fraud_Keeling-Crist       misc_pos   41.96      M   \n",
       "\n",
       "                         street            city state  ...      lat      long  \\\n",
       "0                561 Perry Cove  Moravian Falls    NC  ...  36.0788  -81.1781   \n",
       "1  43039 Riley Greens Suite 393          Orient    WA  ...  48.8878 -118.2105   \n",
       "2      594 White Dale Suite 530      Malad City    ID  ...  42.1808 -112.2620   \n",
       "3   9443 Cynthia Court Apt. 038         Boulder    MT  ...  46.2306 -112.1138   \n",
       "4              408 Bradley Rest        Doe Hill    VA  ...  38.4207  -79.4629   \n",
       "\n",
       "   city_pop                                job         dob   unix_time  \\\n",
       "0      3495          Psychologist, counselling  1988-03-09  1325376018   \n",
       "1       149  Special educational needs teacher  1978-06-21  1325376044   \n",
       "2      4154        Nature conservation officer  1962-01-19  1325376051   \n",
       "3      1939                    Patent attorney  1967-01-12  1325376076   \n",
       "4        99     Dance movement psychotherapist  1986-03-28  1325376186   \n",
       "\n",
       "   merch_lat  merch_long  is_fraud  recency  \n",
       "0  36.011293  -82.048315         0     -1.0  \n",
       "1  49.159047 -118.186462         0     -1.0  \n",
       "2  43.150704 -112.154481         0     -1.0  \n",
       "3  47.034331 -112.561071         0     -1.0  \n",
       "4  38.674999  -78.632459         0     -1.0  \n",
       "\n",
       "[5 rows x 21 columns]"
      ]
     },
     "execution_count": 28,
     "metadata": {},
     "output_type": "execute_result"
    }
   ],
   "source": [
    "#checking data\n",
    "data.head()"
   ]
  },
  {
   "cell_type": "code",
   "execution_count": 29,
   "id": "83b5b615",
   "metadata": {
    "execution": {
     "iopub.execute_input": "2022-03-15T12:08:11.546682Z",
     "iopub.status.busy": "2022-03-15T12:08:11.545706Z",
     "iopub.status.idle": "2022-03-15T12:08:11.729312Z",
     "shell.execute_reply": "2022-03-15T12:08:11.728715Z",
     "shell.execute_reply.started": "2022-03-15T12:00:39.355750Z"
    },
    "id": "1-dU4K7TDmuP",
    "papermill": {
     "duration": 0.393428,
     "end_time": "2022-03-15T12:08:11.729448",
     "exception": false,
     "start_time": "2022-03-15T12:08:11.336020",
     "status": "completed"
    },
    "tags": []
   },
   "outputs": [],
   "source": [
    "# we now don't need unix_time so we can drop it\n",
    "data= data.drop(\"unix_time\",1)"
   ]
  },
  {
   "cell_type": "code",
   "execution_count": 30,
   "id": "cbfacb36",
   "metadata": {
    "execution": {
     "iopub.execute_input": "2022-03-15T12:08:12.158839Z",
     "iopub.status.busy": "2022-03-15T12:08:12.157979Z",
     "iopub.status.idle": "2022-03-15T12:08:13.239451Z",
     "shell.execute_reply": "2022-03-15T12:08:13.238525Z",
     "shell.execute_reply.started": "2022-03-15T12:00:39.630631Z"
    },
    "id": "l15jD8TtDzMp",
    "outputId": "6f0949df-b062-4e48-e939-271e15eb7803",
    "papermill": {
     "duration": 1.295723,
     "end_time": "2022-03-15T12:08:13.239642",
     "exception": false,
     "start_time": "2022-03-15T12:08:11.943919",
     "status": "completed"
    },
    "tags": []
   },
   "outputs": [
    {
     "name": "stdout",
     "output_type": "stream",
     "text": [
      "<class 'pandas.core.frame.DataFrame'>\n",
      "RangeIndex: 1296675 entries, 0 to 1296674\n",
      "Data columns (total 20 columns):\n",
      " #   Column                 Non-Null Count    Dtype         \n",
      "---  ------                 --------------    -----         \n",
      " 0   Unnamed: 0             1296675 non-null  int64         \n",
      " 1   trans_date_trans_time  1296675 non-null  datetime64[ns]\n",
      " 2   cc_num                 1296675 non-null  int64         \n",
      " 3   merchant               1296675 non-null  object        \n",
      " 4   category               1296675 non-null  object        \n",
      " 5   amt                    1296675 non-null  float64       \n",
      " 6   gender                 1296675 non-null  object        \n",
      " 7   street                 1296675 non-null  object        \n",
      " 8   city                   1296675 non-null  object        \n",
      " 9   state                  1296675 non-null  object        \n",
      " 10  zip                    1296675 non-null  int64         \n",
      " 11  lat                    1296675 non-null  float64       \n",
      " 12  long                   1296675 non-null  float64       \n",
      " 13  city_pop               1296675 non-null  int64         \n",
      " 14  job                    1296675 non-null  object        \n",
      " 15  dob                    1296675 non-null  object        \n",
      " 16  merch_lat              1296675 non-null  float64       \n",
      " 17  merch_long             1296675 non-null  float64       \n",
      " 18  is_fraud               1296675 non-null  int64         \n",
      " 19  recency                1296675 non-null  float64       \n",
      "dtypes: datetime64[ns](1), float64(6), int64(5), object(8)\n",
      "memory usage: 197.9+ MB\n"
     ]
    }
   ],
   "source": [
    "# checking data\n",
    "data.info()"
   ]
  },
  {
   "cell_type": "code",
   "execution_count": 31,
   "id": "6a51633b",
   "metadata": {
    "execution": {
     "iopub.execute_input": "2022-03-15T12:08:13.703724Z",
     "iopub.status.busy": "2022-03-15T12:08:13.702645Z",
     "iopub.status.idle": "2022-03-15T12:08:13.855414Z",
     "shell.execute_reply": "2022-03-15T12:08:13.855978Z",
     "shell.execute_reply.started": "2022-03-15T12:00:40.779196Z"
    },
    "id": "3JHyggNED7CY",
    "papermill": {
     "duration": 0.378543,
     "end_time": "2022-03-15T12:08:13.856170",
     "exception": false,
     "start_time": "2022-03-15T12:08:13.477627",
     "status": "completed"
    },
    "tags": []
   },
   "outputs": [],
   "source": [
    "# we even don't need Unnamed: 0 as it is the index only and we have index present with us\n",
    "data = data.drop(columns=[\"Unnamed: 0\"])"
   ]
  },
  {
   "cell_type": "code",
   "execution_count": 32,
   "id": "5bad0603",
   "metadata": {
    "execution": {
     "iopub.execute_input": "2022-03-15T12:08:14.316550Z",
     "iopub.status.busy": "2022-03-15T12:08:14.315506Z",
     "iopub.status.idle": "2022-03-15T12:08:15.401033Z",
     "shell.execute_reply": "2022-03-15T12:08:15.400419Z",
     "shell.execute_reply.started": "2022-03-15T12:00:41.029325Z"
    },
    "id": "l29HNTALHCJ5",
    "outputId": "f69f0f46-e73c-4960-a6e6-66760a48e5c5",
    "papermill": {
     "duration": 1.314153,
     "end_time": "2022-03-15T12:08:15.401188",
     "exception": false,
     "start_time": "2022-03-15T12:08:14.087035",
     "status": "completed"
    },
    "tags": []
   },
   "outputs": [
    {
     "name": "stdout",
     "output_type": "stream",
     "text": [
      "<class 'pandas.core.frame.DataFrame'>\n",
      "RangeIndex: 1296675 entries, 0 to 1296674\n",
      "Data columns (total 19 columns):\n",
      " #   Column                 Non-Null Count    Dtype         \n",
      "---  ------                 --------------    -----         \n",
      " 0   trans_date_trans_time  1296675 non-null  datetime64[ns]\n",
      " 1   cc_num                 1296675 non-null  int64         \n",
      " 2   merchant               1296675 non-null  object        \n",
      " 3   category               1296675 non-null  object        \n",
      " 4   amt                    1296675 non-null  float64       \n",
      " 5   gender                 1296675 non-null  object        \n",
      " 6   street                 1296675 non-null  object        \n",
      " 7   city                   1296675 non-null  object        \n",
      " 8   state                  1296675 non-null  object        \n",
      " 9   zip                    1296675 non-null  int64         \n",
      " 10  lat                    1296675 non-null  float64       \n",
      " 11  long                   1296675 non-null  float64       \n",
      " 12  city_pop               1296675 non-null  int64         \n",
      " 13  job                    1296675 non-null  object        \n",
      " 14  dob                    1296675 non-null  object        \n",
      " 15  merch_lat              1296675 non-null  float64       \n",
      " 16  merch_long             1296675 non-null  float64       \n",
      " 17  is_fraud               1296675 non-null  int64         \n",
      " 18  recency                1296675 non-null  float64       \n",
      "dtypes: datetime64[ns](1), float64(6), int64(4), object(8)\n",
      "memory usage: 188.0+ MB\n"
     ]
    }
   ],
   "source": [
    "# checking data\n",
    "data.info()"
   ]
  },
  {
   "cell_type": "code",
   "execution_count": 33,
   "id": "b61a7bda",
   "metadata": {
    "execution": {
     "iopub.execute_input": "2022-03-15T12:08:16.024291Z",
     "iopub.status.busy": "2022-03-15T12:08:16.021251Z",
     "iopub.status.idle": "2022-03-15T12:08:16.028757Z",
     "shell.execute_reply": "2022-03-15T12:08:16.028087Z",
     "shell.execute_reply.started": "2022-03-15T12:00:42.166870Z"
    },
    "id": "aAqn1UCbHFt7",
    "outputId": "c69faf2b-fcde-4f49-d2e5-559b9fd5f3db",
    "papermill": {
     "duration": 0.414702,
     "end_time": "2022-03-15T12:08:16.028897",
     "exception": false,
     "start_time": "2022-03-15T12:08:15.614195",
     "status": "completed"
    },
    "tags": []
   },
   "outputs": [
    {
     "data": {
      "text/plain": [
       "1977-03-23    5636\n",
       "1981-08-29    4636\n",
       "1988-09-15    4623\n",
       "1955-05-06    3661\n",
       "1995-07-12    3123\n",
       "              ... \n",
       "1960-10-28       7\n",
       "1970-06-25       7\n",
       "1962-03-14       7\n",
       "1936-05-04       7\n",
       "1999-10-26       7\n",
       "Name: dob, Length: 968, dtype: int64"
      ]
     },
     "execution_count": 33,
     "metadata": {},
     "output_type": "execute_result"
    }
   ],
   "source": [
    "# checking do column\n",
    "data.dob.value_counts()"
   ]
  },
  {
   "cell_type": "code",
   "execution_count": 34,
   "id": "7ace1e1d",
   "metadata": {
    "execution": {
     "iopub.execute_input": "2022-03-15T12:08:16.451501Z",
     "iopub.status.busy": "2022-03-15T12:08:16.450957Z",
     "iopub.status.idle": "2022-03-15T12:08:17.503103Z",
     "shell.execute_reply": "2022-03-15T12:08:17.503605Z",
     "shell.execute_reply.started": "2022-03-15T12:00:42.382790Z"
    },
    "id": "2MFr_PrI0snk",
    "outputId": "625d9179-bc7d-4b35-c0bc-61ab236e9fe5",
    "papermill": {
     "duration": 1.264037,
     "end_time": "2022-03-15T12:08:17.503761",
     "exception": false,
     "start_time": "2022-03-15T12:08:16.239724",
     "status": "completed"
    },
    "tags": []
   },
   "outputs": [
    {
     "name": "stdout",
     "output_type": "stream",
     "text": [
      "<class 'pandas.core.frame.DataFrame'>\n",
      "RangeIndex: 1296675 entries, 0 to 1296674\n",
      "Data columns (total 18 columns):\n",
      " #   Column                 Non-Null Count    Dtype         \n",
      "---  ------                 --------------    -----         \n",
      " 0   trans_date_trans_time  1296675 non-null  datetime64[ns]\n",
      " 1   cc_num                 1296675 non-null  int64         \n",
      " 2   merchant               1296675 non-null  object        \n",
      " 3   category               1296675 non-null  object        \n",
      " 4   amt                    1296675 non-null  float64       \n",
      " 5   gender                 1296675 non-null  object        \n",
      " 6   street                 1296675 non-null  object        \n",
      " 7   city                   1296675 non-null  object        \n",
      " 8   state                  1296675 non-null  object        \n",
      " 9   zip                    1296675 non-null  int64         \n",
      " 10  lat                    1296675 non-null  float64       \n",
      " 11  long                   1296675 non-null  float64       \n",
      " 12  city_pop               1296675 non-null  int64         \n",
      " 13  job                    1296675 non-null  object        \n",
      " 14  merch_lat              1296675 non-null  float64       \n",
      " 15  merch_long             1296675 non-null  float64       \n",
      " 16  is_fraud               1296675 non-null  int64         \n",
      " 17  recency                1296675 non-null  float64       \n",
      "dtypes: datetime64[ns](1), float64(6), int64(4), object(7)\n",
      "memory usage: 178.1+ MB\n"
     ]
    }
   ],
   "source": [
    "# in predicting customer frauds, dob doesn't play any role that whether there will be a fraud with customer or not, so removing dob column too\n",
    "data = data.drop(\"dob\",1)\n",
    "\n",
    "# checking columns now\n",
    "\n",
    "data.info()"
   ]
  },
  {
   "cell_type": "code",
   "execution_count": 35,
   "id": "3b8cc0ba",
   "metadata": {
    "execution": {
     "iopub.execute_input": "2022-03-15T12:08:17.927762Z",
     "iopub.status.busy": "2022-03-15T12:08:17.927197Z",
     "iopub.status.idle": "2022-03-15T12:08:17.943669Z",
     "shell.execute_reply": "2022-03-15T12:08:17.944143Z",
     "shell.execute_reply.started": "2022-03-15T12:00:43.536692Z"
    },
    "id": "A5ld3FYY1G8u",
    "papermill": {
     "duration": 0.231951,
     "end_time": "2022-03-15T12:08:17.944314",
     "exception": false,
     "start_time": "2022-03-15T12:08:17.712363",
     "status": "completed"
    },
    "tags": []
   },
   "outputs": [],
   "source": [
    "# sometimes distance from the customer's home location to the merchant's location can prove out to be main reason for fraud, so taking the \n",
    "# difference of longitude and lattitude of respective columns\n",
    "\n",
    "data[\"lat_diff\"] = abs(data.lat - data.merch_lat)\n",
    "data[\"long_diff\"] = abs(data[\"long\"] - data[\"merch_long\"])\n",
    "\n",
    "# we have used abs function so that we get proper distance diiference in positive as abs makes negative values positive and used as a mod function\n"
   ]
  },
  {
   "cell_type": "code",
   "execution_count": 36,
   "id": "db332452",
   "metadata": {
    "execution": {
     "iopub.execute_input": "2022-03-15T12:08:18.362187Z",
     "iopub.status.busy": "2022-03-15T12:08:18.361598Z",
     "iopub.status.idle": "2022-03-15T12:08:18.380286Z",
     "shell.execute_reply": "2022-03-15T12:08:18.380749Z",
     "shell.execute_reply.started": "2022-03-15T12:00:43.563519Z"
    },
    "id": "oeEfylne1Qnl",
    "outputId": "faf1348d-367a-4494-b8c3-cc9d3fdf0a49",
    "papermill": {
     "duration": 0.226841,
     "end_time": "2022-03-15T12:08:18.380913",
     "exception": false,
     "start_time": "2022-03-15T12:08:18.154072",
     "status": "completed"
    },
    "tags": []
   },
   "outputs": [
    {
     "data": {
      "text/html": [
       "<div>\n",
       "<style scoped>\n",
       "    .dataframe tbody tr th:only-of-type {\n",
       "        vertical-align: middle;\n",
       "    }\n",
       "\n",
       "    .dataframe tbody tr th {\n",
       "        vertical-align: top;\n",
       "    }\n",
       "\n",
       "    .dataframe thead th {\n",
       "        text-align: right;\n",
       "    }\n",
       "</style>\n",
       "<table border=\"1\" class=\"dataframe\">\n",
       "  <thead>\n",
       "    <tr style=\"text-align: right;\">\n",
       "      <th></th>\n",
       "      <th>trans_date_trans_time</th>\n",
       "      <th>cc_num</th>\n",
       "      <th>merchant</th>\n",
       "      <th>category</th>\n",
       "      <th>amt</th>\n",
       "      <th>gender</th>\n",
       "      <th>street</th>\n",
       "      <th>city</th>\n",
       "      <th>state</th>\n",
       "      <th>zip</th>\n",
       "      <th>lat</th>\n",
       "      <th>long</th>\n",
       "      <th>city_pop</th>\n",
       "      <th>job</th>\n",
       "      <th>merch_lat</th>\n",
       "      <th>merch_long</th>\n",
       "      <th>is_fraud</th>\n",
       "      <th>recency</th>\n",
       "      <th>lat_diff</th>\n",
       "      <th>long_diff</th>\n",
       "    </tr>\n",
       "  </thead>\n",
       "  <tbody>\n",
       "    <tr>\n",
       "      <th>0</th>\n",
       "      <td>2019-01-01 00:00:18</td>\n",
       "      <td>2703186189652095</td>\n",
       "      <td>fraud_Rippin, Kub and Mann</td>\n",
       "      <td>misc_net</td>\n",
       "      <td>4.97</td>\n",
       "      <td>F</td>\n",
       "      <td>561 Perry Cove</td>\n",
       "      <td>Moravian Falls</td>\n",
       "      <td>NC</td>\n",
       "      <td>28654</td>\n",
       "      <td>36.0788</td>\n",
       "      <td>-81.1781</td>\n",
       "      <td>3495</td>\n",
       "      <td>Psychologist, counselling</td>\n",
       "      <td>36.011293</td>\n",
       "      <td>-82.048315</td>\n",
       "      <td>0</td>\n",
       "      <td>-1.0</td>\n",
       "      <td>0.067507</td>\n",
       "      <td>0.870215</td>\n",
       "    </tr>\n",
       "    <tr>\n",
       "      <th>1</th>\n",
       "      <td>2019-01-01 00:00:44</td>\n",
       "      <td>630423337322</td>\n",
       "      <td>fraud_Heller, Gutmann and Zieme</td>\n",
       "      <td>grocery_pos</td>\n",
       "      <td>107.23</td>\n",
       "      <td>F</td>\n",
       "      <td>43039 Riley Greens Suite 393</td>\n",
       "      <td>Orient</td>\n",
       "      <td>WA</td>\n",
       "      <td>99160</td>\n",
       "      <td>48.8878</td>\n",
       "      <td>-118.2105</td>\n",
       "      <td>149</td>\n",
       "      <td>Special educational needs teacher</td>\n",
       "      <td>49.159047</td>\n",
       "      <td>-118.186462</td>\n",
       "      <td>0</td>\n",
       "      <td>-1.0</td>\n",
       "      <td>0.271247</td>\n",
       "      <td>0.024038</td>\n",
       "    </tr>\n",
       "    <tr>\n",
       "      <th>2</th>\n",
       "      <td>2019-01-01 00:00:51</td>\n",
       "      <td>38859492057661</td>\n",
       "      <td>fraud_Lind-Buckridge</td>\n",
       "      <td>entertainment</td>\n",
       "      <td>220.11</td>\n",
       "      <td>M</td>\n",
       "      <td>594 White Dale Suite 530</td>\n",
       "      <td>Malad City</td>\n",
       "      <td>ID</td>\n",
       "      <td>83252</td>\n",
       "      <td>42.1808</td>\n",
       "      <td>-112.2620</td>\n",
       "      <td>4154</td>\n",
       "      <td>Nature conservation officer</td>\n",
       "      <td>43.150704</td>\n",
       "      <td>-112.154481</td>\n",
       "      <td>0</td>\n",
       "      <td>-1.0</td>\n",
       "      <td>0.969904</td>\n",
       "      <td>0.107519</td>\n",
       "    </tr>\n",
       "    <tr>\n",
       "      <th>3</th>\n",
       "      <td>2019-01-01 00:01:16</td>\n",
       "      <td>3534093764340240</td>\n",
       "      <td>fraud_Kutch, Hermiston and Farrell</td>\n",
       "      <td>gas_transport</td>\n",
       "      <td>45.00</td>\n",
       "      <td>M</td>\n",
       "      <td>9443 Cynthia Court Apt. 038</td>\n",
       "      <td>Boulder</td>\n",
       "      <td>MT</td>\n",
       "      <td>59632</td>\n",
       "      <td>46.2306</td>\n",
       "      <td>-112.1138</td>\n",
       "      <td>1939</td>\n",
       "      <td>Patent attorney</td>\n",
       "      <td>47.034331</td>\n",
       "      <td>-112.561071</td>\n",
       "      <td>0</td>\n",
       "      <td>-1.0</td>\n",
       "      <td>0.803731</td>\n",
       "      <td>0.447271</td>\n",
       "    </tr>\n",
       "    <tr>\n",
       "      <th>4</th>\n",
       "      <td>2019-01-01 00:03:06</td>\n",
       "      <td>375534208663984</td>\n",
       "      <td>fraud_Keeling-Crist</td>\n",
       "      <td>misc_pos</td>\n",
       "      <td>41.96</td>\n",
       "      <td>M</td>\n",
       "      <td>408 Bradley Rest</td>\n",
       "      <td>Doe Hill</td>\n",
       "      <td>VA</td>\n",
       "      <td>24433</td>\n",
       "      <td>38.4207</td>\n",
       "      <td>-79.4629</td>\n",
       "      <td>99</td>\n",
       "      <td>Dance movement psychotherapist</td>\n",
       "      <td>38.674999</td>\n",
       "      <td>-78.632459</td>\n",
       "      <td>0</td>\n",
       "      <td>-1.0</td>\n",
       "      <td>0.254299</td>\n",
       "      <td>0.830441</td>\n",
       "    </tr>\n",
       "  </tbody>\n",
       "</table>\n",
       "</div>"
      ],
      "text/plain": [
       "  trans_date_trans_time            cc_num                            merchant  \\\n",
       "0   2019-01-01 00:00:18  2703186189652095          fraud_Rippin, Kub and Mann   \n",
       "1   2019-01-01 00:00:44      630423337322     fraud_Heller, Gutmann and Zieme   \n",
       "2   2019-01-01 00:00:51    38859492057661                fraud_Lind-Buckridge   \n",
       "3   2019-01-01 00:01:16  3534093764340240  fraud_Kutch, Hermiston and Farrell   \n",
       "4   2019-01-01 00:03:06   375534208663984                 fraud_Keeling-Crist   \n",
       "\n",
       "        category     amt gender                        street            city  \\\n",
       "0       misc_net    4.97      F                561 Perry Cove  Moravian Falls   \n",
       "1    grocery_pos  107.23      F  43039 Riley Greens Suite 393          Orient   \n",
       "2  entertainment  220.11      M      594 White Dale Suite 530      Malad City   \n",
       "3  gas_transport   45.00      M   9443 Cynthia Court Apt. 038         Boulder   \n",
       "4       misc_pos   41.96      M              408 Bradley Rest        Doe Hill   \n",
       "\n",
       "  state    zip      lat      long  city_pop  \\\n",
       "0    NC  28654  36.0788  -81.1781      3495   \n",
       "1    WA  99160  48.8878 -118.2105       149   \n",
       "2    ID  83252  42.1808 -112.2620      4154   \n",
       "3    MT  59632  46.2306 -112.1138      1939   \n",
       "4    VA  24433  38.4207  -79.4629        99   \n",
       "\n",
       "                                 job  merch_lat  merch_long  is_fraud  \\\n",
       "0          Psychologist, counselling  36.011293  -82.048315         0   \n",
       "1  Special educational needs teacher  49.159047 -118.186462         0   \n",
       "2        Nature conservation officer  43.150704 -112.154481         0   \n",
       "3                    Patent attorney  47.034331 -112.561071         0   \n",
       "4     Dance movement psychotherapist  38.674999  -78.632459         0   \n",
       "\n",
       "   recency  lat_diff  long_diff  \n",
       "0     -1.0  0.067507   0.870215  \n",
       "1     -1.0  0.271247   0.024038  \n",
       "2     -1.0  0.969904   0.107519  \n",
       "3     -1.0  0.803731   0.447271  \n",
       "4     -1.0  0.254299   0.830441  "
      ]
     },
     "execution_count": 36,
     "metadata": {},
     "output_type": "execute_result"
    }
   ],
   "source": [
    "# checking data\n",
    "data.head()"
   ]
  },
  {
   "cell_type": "code",
   "execution_count": 37,
   "id": "32eca0fd",
   "metadata": {
    "execution": {
     "iopub.execute_input": "2022-03-15T12:08:18.806119Z",
     "iopub.status.busy": "2022-03-15T12:08:18.805459Z",
     "iopub.status.idle": "2022-03-15T12:08:18.846937Z",
     "shell.execute_reply": "2022-03-15T12:08:18.846352Z",
     "shell.execute_reply.started": "2022-03-15T12:00:43.589411Z"
    },
    "id": "vKAzN-Hz5c4u",
    "papermill": {
     "duration": 0.253682,
     "end_time": "2022-03-15T12:08:18.847120",
     "exception": false,
     "start_time": "2022-03-15T12:08:18.593438",
     "status": "completed"
    },
    "tags": []
   },
   "outputs": [],
   "source": [
    "# now since we have the difference, it is estimated that difference between each degree of longitude and lattitude is 69 miles(approx)\n",
    "# or 110 kilometers (approx), so taking displacement into account as it will be difficult to calculate distance between merchant's location\n",
    "# or customer's location so applying pythogoras theorem\n",
    "\n",
    "data[\"displacement\"] = np.sqrt(pow((data[\"lat_diff\"]*110),2) + pow((data[\"long_diff\"]*110),2))\n",
    "\n",
    "# here we have applied pythogoras theorem and we have multiplied with 110 because each degree of longitude and lattitude is 69 miles(approx)\n",
    "# or 110 kilometers apart"
   ]
  },
  {
   "cell_type": "code",
   "execution_count": 38,
   "id": "feb81dcb",
   "metadata": {
    "execution": {
     "iopub.execute_input": "2022-03-15T12:08:19.302452Z",
     "iopub.status.busy": "2022-03-15T12:08:19.301488Z",
     "iopub.status.idle": "2022-03-15T12:08:19.304824Z",
     "shell.execute_reply": "2022-03-15T12:08:19.305329Z",
     "shell.execute_reply.started": "2022-03-15T12:00:43.645357Z"
    },
    "id": "L00SSs5U5m0L",
    "outputId": "42e9d99a-a89b-40bd-bffa-29a8dcb7e381",
    "papermill": {
     "duration": 0.24296,
     "end_time": "2022-03-15T12:08:19.305476",
     "exception": false,
     "start_time": "2022-03-15T12:08:19.062516",
     "status": "completed"
    },
    "tags": []
   },
   "outputs": [
    {
     "data": {
      "text/html": [
       "<div>\n",
       "<style scoped>\n",
       "    .dataframe tbody tr th:only-of-type {\n",
       "        vertical-align: middle;\n",
       "    }\n",
       "\n",
       "    .dataframe tbody tr th {\n",
       "        vertical-align: top;\n",
       "    }\n",
       "\n",
       "    .dataframe thead th {\n",
       "        text-align: right;\n",
       "    }\n",
       "</style>\n",
       "<table border=\"1\" class=\"dataframe\">\n",
       "  <thead>\n",
       "    <tr style=\"text-align: right;\">\n",
       "      <th></th>\n",
       "      <th>trans_date_trans_time</th>\n",
       "      <th>cc_num</th>\n",
       "      <th>merchant</th>\n",
       "      <th>category</th>\n",
       "      <th>amt</th>\n",
       "      <th>gender</th>\n",
       "      <th>street</th>\n",
       "      <th>city</th>\n",
       "      <th>state</th>\n",
       "      <th>zip</th>\n",
       "      <th>...</th>\n",
       "      <th>long</th>\n",
       "      <th>city_pop</th>\n",
       "      <th>job</th>\n",
       "      <th>merch_lat</th>\n",
       "      <th>merch_long</th>\n",
       "      <th>is_fraud</th>\n",
       "      <th>recency</th>\n",
       "      <th>lat_diff</th>\n",
       "      <th>long_diff</th>\n",
       "      <th>displacement</th>\n",
       "    </tr>\n",
       "  </thead>\n",
       "  <tbody>\n",
       "    <tr>\n",
       "      <th>0</th>\n",
       "      <td>2019-01-01 00:00:18</td>\n",
       "      <td>2703186189652095</td>\n",
       "      <td>fraud_Rippin, Kub and Mann</td>\n",
       "      <td>misc_net</td>\n",
       "      <td>4.97</td>\n",
       "      <td>F</td>\n",
       "      <td>561 Perry Cove</td>\n",
       "      <td>Moravian Falls</td>\n",
       "      <td>NC</td>\n",
       "      <td>28654</td>\n",
       "      <td>...</td>\n",
       "      <td>-81.1781</td>\n",
       "      <td>3495</td>\n",
       "      <td>Psychologist, counselling</td>\n",
       "      <td>36.011293</td>\n",
       "      <td>-82.048315</td>\n",
       "      <td>0</td>\n",
       "      <td>-1.0</td>\n",
       "      <td>0.067507</td>\n",
       "      <td>0.870215</td>\n",
       "      <td>96.011245</td>\n",
       "    </tr>\n",
       "    <tr>\n",
       "      <th>1</th>\n",
       "      <td>2019-01-01 00:00:44</td>\n",
       "      <td>630423337322</td>\n",
       "      <td>fraud_Heller, Gutmann and Zieme</td>\n",
       "      <td>grocery_pos</td>\n",
       "      <td>107.23</td>\n",
       "      <td>F</td>\n",
       "      <td>43039 Riley Greens Suite 393</td>\n",
       "      <td>Orient</td>\n",
       "      <td>WA</td>\n",
       "      <td>99160</td>\n",
       "      <td>...</td>\n",
       "      <td>-118.2105</td>\n",
       "      <td>149</td>\n",
       "      <td>Special educational needs teacher</td>\n",
       "      <td>49.159047</td>\n",
       "      <td>-118.186462</td>\n",
       "      <td>0</td>\n",
       "      <td>-1.0</td>\n",
       "      <td>0.271247</td>\n",
       "      <td>0.024038</td>\n",
       "      <td>29.954105</td>\n",
       "    </tr>\n",
       "    <tr>\n",
       "      <th>2</th>\n",
       "      <td>2019-01-01 00:00:51</td>\n",
       "      <td>38859492057661</td>\n",
       "      <td>fraud_Lind-Buckridge</td>\n",
       "      <td>entertainment</td>\n",
       "      <td>220.11</td>\n",
       "      <td>M</td>\n",
       "      <td>594 White Dale Suite 530</td>\n",
       "      <td>Malad City</td>\n",
       "      <td>ID</td>\n",
       "      <td>83252</td>\n",
       "      <td>...</td>\n",
       "      <td>-112.2620</td>\n",
       "      <td>4154</td>\n",
       "      <td>Nature conservation officer</td>\n",
       "      <td>43.150704</td>\n",
       "      <td>-112.154481</td>\n",
       "      <td>0</td>\n",
       "      <td>-1.0</td>\n",
       "      <td>0.969904</td>\n",
       "      <td>0.107519</td>\n",
       "      <td>107.342986</td>\n",
       "    </tr>\n",
       "    <tr>\n",
       "      <th>3</th>\n",
       "      <td>2019-01-01 00:01:16</td>\n",
       "      <td>3534093764340240</td>\n",
       "      <td>fraud_Kutch, Hermiston and Farrell</td>\n",
       "      <td>gas_transport</td>\n",
       "      <td>45.00</td>\n",
       "      <td>M</td>\n",
       "      <td>9443 Cynthia Court Apt. 038</td>\n",
       "      <td>Boulder</td>\n",
       "      <td>MT</td>\n",
       "      <td>59632</td>\n",
       "      <td>...</td>\n",
       "      <td>-112.1138</td>\n",
       "      <td>1939</td>\n",
       "      <td>Patent attorney</td>\n",
       "      <td>47.034331</td>\n",
       "      <td>-112.561071</td>\n",
       "      <td>0</td>\n",
       "      <td>-1.0</td>\n",
       "      <td>0.803731</td>\n",
       "      <td>0.447271</td>\n",
       "      <td>101.178169</td>\n",
       "    </tr>\n",
       "    <tr>\n",
       "      <th>4</th>\n",
       "      <td>2019-01-01 00:03:06</td>\n",
       "      <td>375534208663984</td>\n",
       "      <td>fraud_Keeling-Crist</td>\n",
       "      <td>misc_pos</td>\n",
       "      <td>41.96</td>\n",
       "      <td>M</td>\n",
       "      <td>408 Bradley Rest</td>\n",
       "      <td>Doe Hill</td>\n",
       "      <td>VA</td>\n",
       "      <td>24433</td>\n",
       "      <td>...</td>\n",
       "      <td>-79.4629</td>\n",
       "      <td>99</td>\n",
       "      <td>Dance movement psychotherapist</td>\n",
       "      <td>38.674999</td>\n",
       "      <td>-78.632459</td>\n",
       "      <td>0</td>\n",
       "      <td>-1.0</td>\n",
       "      <td>0.254299</td>\n",
       "      <td>0.830441</td>\n",
       "      <td>95.535506</td>\n",
       "    </tr>\n",
       "  </tbody>\n",
       "</table>\n",
       "<p>5 rows × 21 columns</p>\n",
       "</div>"
      ],
      "text/plain": [
       "  trans_date_trans_time            cc_num                            merchant  \\\n",
       "0   2019-01-01 00:00:18  2703186189652095          fraud_Rippin, Kub and Mann   \n",
       "1   2019-01-01 00:00:44      630423337322     fraud_Heller, Gutmann and Zieme   \n",
       "2   2019-01-01 00:00:51    38859492057661                fraud_Lind-Buckridge   \n",
       "3   2019-01-01 00:01:16  3534093764340240  fraud_Kutch, Hermiston and Farrell   \n",
       "4   2019-01-01 00:03:06   375534208663984                 fraud_Keeling-Crist   \n",
       "\n",
       "        category     amt gender                        street            city  \\\n",
       "0       misc_net    4.97      F                561 Perry Cove  Moravian Falls   \n",
       "1    grocery_pos  107.23      F  43039 Riley Greens Suite 393          Orient   \n",
       "2  entertainment  220.11      M      594 White Dale Suite 530      Malad City   \n",
       "3  gas_transport   45.00      M   9443 Cynthia Court Apt. 038         Boulder   \n",
       "4       misc_pos   41.96      M              408 Bradley Rest        Doe Hill   \n",
       "\n",
       "  state    zip  ...      long  city_pop                                job  \\\n",
       "0    NC  28654  ...  -81.1781      3495          Psychologist, counselling   \n",
       "1    WA  99160  ... -118.2105       149  Special educational needs teacher   \n",
       "2    ID  83252  ... -112.2620      4154        Nature conservation officer   \n",
       "3    MT  59632  ... -112.1138      1939                    Patent attorney   \n",
       "4    VA  24433  ...  -79.4629        99     Dance movement psychotherapist   \n",
       "\n",
       "   merch_lat  merch_long  is_fraud  recency  lat_diff  long_diff  displacement  \n",
       "0  36.011293  -82.048315         0     -1.0  0.067507   0.870215     96.011245  \n",
       "1  49.159047 -118.186462         0     -1.0  0.271247   0.024038     29.954105  \n",
       "2  43.150704 -112.154481         0     -1.0  0.969904   0.107519    107.342986  \n",
       "3  47.034331 -112.561071         0     -1.0  0.803731   0.447271    101.178169  \n",
       "4  38.674999  -78.632459         0     -1.0  0.254299   0.830441     95.535506  \n",
       "\n",
       "[5 rows x 21 columns]"
      ]
     },
     "execution_count": 38,
     "metadata": {},
     "output_type": "execute_result"
    }
   ],
   "source": [
    "# checking data\n",
    "data.head()"
   ]
  },
  {
   "cell_type": "code",
   "execution_count": 39,
   "id": "2dd3b9c3",
   "metadata": {
    "execution": {
     "iopub.execute_input": "2022-03-15T12:08:19.732080Z",
     "iopub.status.busy": "2022-03-15T12:08:19.731416Z",
     "iopub.status.idle": "2022-03-15T12:08:20.679211Z",
     "shell.execute_reply": "2022-03-15T12:08:20.678495Z",
     "shell.execute_reply.started": "2022-03-15T12:00:43.675493Z"
    },
    "id": "6CFYPQxl88sd",
    "outputId": "b3648073-fbeb-49b5-c8bb-89616de0f640",
    "papermill": {
     "duration": 1.164204,
     "end_time": "2022-03-15T12:08:20.679341",
     "exception": false,
     "start_time": "2022-03-15T12:08:19.515137",
     "status": "completed"
    },
    "tags": []
   },
   "outputs": [
    {
     "name": "stdout",
     "output_type": "stream",
     "text": [
      "<class 'pandas.core.frame.DataFrame'>\n",
      "RangeIndex: 1296675 entries, 0 to 1296674\n",
      "Data columns (total 21 columns):\n",
      " #   Column                 Non-Null Count    Dtype         \n",
      "---  ------                 --------------    -----         \n",
      " 0   trans_date_trans_time  1296675 non-null  datetime64[ns]\n",
      " 1   cc_num                 1296675 non-null  int64         \n",
      " 2   merchant               1296675 non-null  object        \n",
      " 3   category               1296675 non-null  object        \n",
      " 4   amt                    1296675 non-null  float64       \n",
      " 5   gender                 1296675 non-null  object        \n",
      " 6   street                 1296675 non-null  object        \n",
      " 7   city                   1296675 non-null  object        \n",
      " 8   state                  1296675 non-null  object        \n",
      " 9   zip                    1296675 non-null  int64         \n",
      " 10  lat                    1296675 non-null  float64       \n",
      " 11  long                   1296675 non-null  float64       \n",
      " 12  city_pop               1296675 non-null  int64         \n",
      " 13  job                    1296675 non-null  object        \n",
      " 14  merch_lat              1296675 non-null  float64       \n",
      " 15  merch_long             1296675 non-null  float64       \n",
      " 16  is_fraud               1296675 non-null  int64         \n",
      " 17  recency                1296675 non-null  float64       \n",
      " 18  lat_diff               1296675 non-null  float64       \n",
      " 19  long_diff              1296675 non-null  float64       \n",
      " 20  displacement           1296675 non-null  float64       \n",
      "dtypes: datetime64[ns](1), float64(9), int64(4), object(7)\n",
      "memory usage: 207.7+ MB\n"
     ]
    }
   ],
   "source": [
    "# checking columns\n",
    "data.info()"
   ]
  },
  {
   "cell_type": "code",
   "execution_count": 40,
   "id": "fbd2196e",
   "metadata": {
    "execution": {
     "iopub.execute_input": "2022-03-15T12:08:21.112045Z",
     "iopub.status.busy": "2022-03-15T12:08:21.110759Z",
     "iopub.status.idle": "2022-03-15T12:08:21.265628Z",
     "shell.execute_reply": "2022-03-15T12:08:21.264983Z",
     "shell.execute_reply.started": "2022-03-15T12:00:44.690090Z"
    },
    "id": "Sz69U3P19Efv",
    "papermill": {
     "duration": 0.374087,
     "end_time": "2022-03-15T12:08:21.265747",
     "exception": false,
     "start_time": "2022-03-15T12:08:20.891660",
     "status": "completed"
    },
    "tags": []
   },
   "outputs": [],
   "source": [
    "# now since we got the displacement so longitudes and lattitudes columns are of no use now, so we can remove them\n",
    "data = data.drop(columns = [\"lat\",\"long\",\"merch_lat\",\"merch_long\",\"lat_diff\",\"long_diff\"])"
   ]
  },
  {
   "cell_type": "code",
   "execution_count": 41,
   "id": "ae700050",
   "metadata": {
    "execution": {
     "iopub.execute_input": "2022-03-15T12:08:21.687622Z",
     "iopub.status.busy": "2022-03-15T12:08:21.686647Z",
     "iopub.status.idle": "2022-03-15T12:08:22.614752Z",
     "shell.execute_reply": "2022-03-15T12:08:22.614237Z",
     "shell.execute_reply.started": "2022-03-15T12:00:44.922307Z"
    },
    "id": "KbUlvNnO9Zad",
    "outputId": "ea6babf4-9cfd-4e70-87f3-f8bd42a5d3bd",
    "papermill": {
     "duration": 1.140594,
     "end_time": "2022-03-15T12:08:22.614882",
     "exception": false,
     "start_time": "2022-03-15T12:08:21.474288",
     "status": "completed"
    },
    "tags": []
   },
   "outputs": [
    {
     "name": "stdout",
     "output_type": "stream",
     "text": [
      "<class 'pandas.core.frame.DataFrame'>\n",
      "RangeIndex: 1296675 entries, 0 to 1296674\n",
      "Data columns (total 15 columns):\n",
      " #   Column                 Non-Null Count    Dtype         \n",
      "---  ------                 --------------    -----         \n",
      " 0   trans_date_trans_time  1296675 non-null  datetime64[ns]\n",
      " 1   cc_num                 1296675 non-null  int64         \n",
      " 2   merchant               1296675 non-null  object        \n",
      " 3   category               1296675 non-null  object        \n",
      " 4   amt                    1296675 non-null  float64       \n",
      " 5   gender                 1296675 non-null  object        \n",
      " 6   street                 1296675 non-null  object        \n",
      " 7   city                   1296675 non-null  object        \n",
      " 8   state                  1296675 non-null  object        \n",
      " 9   zip                    1296675 non-null  int64         \n",
      " 10  city_pop               1296675 non-null  int64         \n",
      " 11  job                    1296675 non-null  object        \n",
      " 12  is_fraud               1296675 non-null  int64         \n",
      " 13  recency                1296675 non-null  float64       \n",
      " 14  displacement           1296675 non-null  float64       \n",
      "dtypes: datetime64[ns](1), float64(3), int64(4), object(7)\n",
      "memory usage: 148.4+ MB\n"
     ]
    }
   ],
   "source": [
    "# checking columns\n",
    "data.info()"
   ]
  },
  {
   "cell_type": "code",
   "execution_count": 42,
   "id": "5b429f0b",
   "metadata": {
    "execution": {
     "iopub.execute_input": "2022-03-15T12:08:23.047597Z",
     "iopub.status.busy": "2022-03-15T12:08:23.046412Z",
     "iopub.status.idle": "2022-03-15T12:08:23.801388Z",
     "shell.execute_reply": "2022-03-15T12:08:23.801905Z",
     "shell.execute_reply.started": "2022-03-15T12:00:45.916718Z"
    },
    "id": "-w8H3fWJ9cTy",
    "outputId": "dd19b1aa-43c4-4c47-ae27-b82c38a5425f",
    "papermill": {
     "duration": 0.975581,
     "end_time": "2022-03-15T12:08:23.802089",
     "exception": false,
     "start_time": "2022-03-15T12:08:22.826508",
     "status": "completed"
    },
    "tags": []
   },
   "outputs": [
    {
     "name": "stdout",
     "output_type": "stream",
     "text": [
      "<class 'pandas.core.frame.DataFrame'>\n",
      "RangeIndex: 1296675 entries, 0 to 1296674\n",
      "Data columns (total 12 columns):\n",
      " #   Column                 Non-Null Count    Dtype         \n",
      "---  ------                 --------------    -----         \n",
      " 0   trans_date_trans_time  1296675 non-null  datetime64[ns]\n",
      " 1   cc_num                 1296675 non-null  int64         \n",
      " 2   merchant               1296675 non-null  object        \n",
      " 3   category               1296675 non-null  object        \n",
      " 4   amt                    1296675 non-null  float64       \n",
      " 5   gender                 1296675 non-null  object        \n",
      " 6   state                  1296675 non-null  object        \n",
      " 7   city_pop               1296675 non-null  int64         \n",
      " 8   job                    1296675 non-null  object        \n",
      " 9   is_fraud               1296675 non-null  int64         \n",
      " 10  recency                1296675 non-null  float64       \n",
      " 11  displacement           1296675 non-null  float64       \n",
      "dtypes: datetime64[ns](1), float64(3), int64(3), object(5)\n",
      "memory usage: 118.7+ MB\n"
     ]
    }
   ],
   "source": [
    "# since state contains both city and zip code and street comes under city, so we can move with state column and drop street, city and zip\n",
    "# we can work with cities through their population parameter, as names of cities cannot implement whether a fraud will be done or not, while\n",
    "# population of a city can.\n",
    "data= data.drop(columns = [\"city\",\"zip\",\"street\"])\n",
    "data.info()"
   ]
  },
  {
   "cell_type": "code",
   "execution_count": 43,
   "id": "3a4a653d",
   "metadata": {
    "execution": {
     "iopub.execute_input": "2022-03-15T12:08:24.236437Z",
     "iopub.status.busy": "2022-03-15T12:08:24.232913Z",
     "iopub.status.idle": "2022-03-15T12:08:24.290917Z",
     "shell.execute_reply": "2022-03-15T12:08:24.291551Z",
     "shell.execute_reply.started": "2022-03-15T12:00:46.803779Z"
    },
    "id": "isQTJrs6DThT",
    "outputId": "5c4515c6-653d-42e6-aa79-b2bdce052b28",
    "papermill": {
     "duration": 0.273442,
     "end_time": "2022-03-15T12:08:24.291717",
     "exception": false,
     "start_time": "2022-03-15T12:08:24.018275",
     "status": "completed"
    },
    "tags": []
   },
   "outputs": [
    {
     "data": {
      "text/plain": [
       "count    1.296675e+06\n",
       "mean     8.422272e+01\n",
       "std      3.132233e+01\n",
       "min      2.625292e-02\n",
       "25%      6.214537e+01\n",
       "50%      8.781422e+01\n",
       "75%      1.075289e+02\n",
       "max      1.554701e+02\n",
       "Name: displacement, dtype: float64"
      ]
     },
     "execution_count": 43,
     "metadata": {},
     "output_type": "execute_result"
    }
   ],
   "source": [
    "# checking displacement column\n",
    "data.displacement.describe()"
   ]
  },
  {
   "cell_type": "code",
   "execution_count": 44,
   "id": "2cce9c3e",
   "metadata": {
    "execution": {
     "iopub.execute_input": "2022-03-15T12:08:24.733312Z",
     "iopub.status.busy": "2022-03-15T12:08:24.732558Z",
     "iopub.status.idle": "2022-03-15T12:08:24.825244Z",
     "shell.execute_reply": "2022-03-15T12:08:24.824662Z",
     "shell.execute_reply.started": "2022-03-15T12:00:46.865432Z"
    },
    "id": "IQwvp0cLEz0s",
    "papermill": {
     "duration": 0.310847,
     "end_time": "2022-03-15T12:08:24.825420",
     "exception": false,
     "start_time": "2022-03-15T12:08:24.514573",
     "status": "completed"
    },
    "tags": []
   },
   "outputs": [],
   "source": [
    "# now we can bin the displacement into near, far and very far records\n",
    "# if merchant lies between the range of 0-45 then it is near, while above 45 but below 90 will be far and rest can be very far\n",
    "\n",
    "data.loc[(data[\"displacement\"]<45),[\"location\"]] = \"Nearby\""
   ]
  },
  {
   "cell_type": "code",
   "execution_count": 45,
   "id": "750cea36",
   "metadata": {
    "execution": {
     "iopub.execute_input": "2022-03-15T12:08:25.263460Z",
     "iopub.status.busy": "2022-03-15T12:08:25.262509Z",
     "iopub.status.idle": "2022-03-15T12:08:26.187301Z",
     "shell.execute_reply": "2022-03-15T12:08:26.186742Z",
     "shell.execute_reply.started": "2022-03-15T12:00:46.979339Z"
    },
    "id": "1aK8sEm4Fgch",
    "outputId": "e71a47b0-8092-43cf-ee88-875d49961bb4",
    "papermill": {
     "duration": 1.14707,
     "end_time": "2022-03-15T12:08:26.187442",
     "exception": false,
     "start_time": "2022-03-15T12:08:25.040372",
     "status": "completed"
    },
    "tags": []
   },
   "outputs": [
    {
     "name": "stdout",
     "output_type": "stream",
     "text": [
      "<class 'pandas.core.frame.DataFrame'>\n",
      "RangeIndex: 1296675 entries, 0 to 1296674\n",
      "Data columns (total 13 columns):\n",
      " #   Column                 Non-Null Count    Dtype         \n",
      "---  ------                 --------------    -----         \n",
      " 0   trans_date_trans_time  1296675 non-null  datetime64[ns]\n",
      " 1   cc_num                 1296675 non-null  int64         \n",
      " 2   merchant               1296675 non-null  object        \n",
      " 3   category               1296675 non-null  object        \n",
      " 4   amt                    1296675 non-null  float64       \n",
      " 5   gender                 1296675 non-null  object        \n",
      " 6   state                  1296675 non-null  object        \n",
      " 7   city_pop               1296675 non-null  int64         \n",
      " 8   job                    1296675 non-null  object        \n",
      " 9   is_fraud               1296675 non-null  int64         \n",
      " 10  recency                1296675 non-null  float64       \n",
      " 11  displacement           1296675 non-null  float64       \n",
      " 12  location               1296675 non-null  object        \n",
      "dtypes: datetime64[ns](1), float64(3), int64(3), object(6)\n",
      "memory usage: 128.6+ MB\n"
     ]
    }
   ],
   "source": [
    "data.loc[((data[\"displacement\"]>45) & (data[\"displacement\"]<90)),[\"location\"]] = \"Far Away\"\n",
    "data.loc[(data[\"displacement\"]>90),[\"location\"]] = \"Long Distance\"\n",
    "data.info()"
   ]
  },
  {
   "cell_type": "code",
   "execution_count": 46,
   "id": "d8114138",
   "metadata": {
    "execution": {
     "iopub.execute_input": "2022-03-15T12:08:26.638872Z",
     "iopub.status.busy": "2022-03-15T12:08:26.638258Z",
     "iopub.status.idle": "2022-03-15T12:08:26.789667Z",
     "shell.execute_reply": "2022-03-15T12:08:26.789022Z",
     "shell.execute_reply.started": "2022-03-15T12:00:48.011594Z"
    },
    "id": "JGgJZ_EMHjDL",
    "outputId": "4fc53904-36fb-4eb5-f61f-06d86cc63e14",
    "papermill": {
     "duration": 0.377293,
     "end_time": "2022-03-15T12:08:26.789815",
     "exception": false,
     "start_time": "2022-03-15T12:08:26.412522",
     "status": "completed"
    },
    "tags": []
   },
   "outputs": [
    {
     "data": {
      "text/plain": [
       "Long Distance    0.474771\n",
       "Far Away         0.394164\n",
       "Nearby           0.131064\n",
       "Name: location, dtype: float64"
      ]
     },
     "execution_count": 46,
     "metadata": {},
     "output_type": "execute_result"
    }
   ],
   "source": [
    "# checking location column\n",
    "data.location.value_counts(normalize = True)"
   ]
  },
  {
   "cell_type": "code",
   "execution_count": 47,
   "id": "257edb99",
   "metadata": {
    "execution": {
     "iopub.execute_input": "2022-03-15T12:08:27.263511Z",
     "iopub.status.busy": "2022-03-15T12:08:27.262880Z",
     "iopub.status.idle": "2022-03-15T12:08:28.088086Z",
     "shell.execute_reply": "2022-03-15T12:08:28.088561Z",
     "shell.execute_reply.started": "2022-03-15T12:00:48.167575Z"
    },
    "id": "j_foxgQaHqOw",
    "papermill": {
     "duration": 1.07637,
     "end_time": "2022-03-15T12:08:28.088716",
     "exception": false,
     "start_time": "2022-03-15T12:08:27.012346",
     "status": "completed"
    },
    "tags": []
   },
   "outputs": [],
   "source": [
    "# Although date part in column trans_date_trans_time is not important because that is historical data, but time part of the component is important\n",
    "# so creating a column of time\n",
    "\n",
    "data[\"Time\"] = pd.to_datetime(data[\"trans_date_trans_time\"],\"%H:%M\").dt.time"
   ]
  },
  {
   "cell_type": "code",
   "execution_count": 48,
   "id": "f062ffb1",
   "metadata": {
    "execution": {
     "iopub.execute_input": "2022-03-15T12:08:28.516935Z",
     "iopub.status.busy": "2022-03-15T12:08:28.516319Z",
     "iopub.status.idle": "2022-03-15T12:08:28.530717Z",
     "shell.execute_reply": "2022-03-15T12:08:28.531257Z",
     "shell.execute_reply.started": "2022-03-15T12:00:49.106341Z"
    },
    "id": "uXAw6oqoEyPj",
    "outputId": "f5a66755-c4f5-4694-8d74-c099a963de1a",
    "papermill": {
     "duration": 0.229526,
     "end_time": "2022-03-15T12:08:28.531404",
     "exception": false,
     "start_time": "2022-03-15T12:08:28.301878",
     "status": "completed"
    },
    "tags": []
   },
   "outputs": [
    {
     "data": {
      "text/html": [
       "<div>\n",
       "<style scoped>\n",
       "    .dataframe tbody tr th:only-of-type {\n",
       "        vertical-align: middle;\n",
       "    }\n",
       "\n",
       "    .dataframe tbody tr th {\n",
       "        vertical-align: top;\n",
       "    }\n",
       "\n",
       "    .dataframe thead th {\n",
       "        text-align: right;\n",
       "    }\n",
       "</style>\n",
       "<table border=\"1\" class=\"dataframe\">\n",
       "  <thead>\n",
       "    <tr style=\"text-align: right;\">\n",
       "      <th></th>\n",
       "      <th>trans_date_trans_time</th>\n",
       "      <th>cc_num</th>\n",
       "      <th>merchant</th>\n",
       "      <th>category</th>\n",
       "      <th>amt</th>\n",
       "      <th>gender</th>\n",
       "      <th>state</th>\n",
       "      <th>city_pop</th>\n",
       "      <th>job</th>\n",
       "      <th>is_fraud</th>\n",
       "      <th>recency</th>\n",
       "      <th>displacement</th>\n",
       "      <th>location</th>\n",
       "      <th>Time</th>\n",
       "    </tr>\n",
       "  </thead>\n",
       "  <tbody>\n",
       "    <tr>\n",
       "      <th>0</th>\n",
       "      <td>2019-01-01 00:00:18</td>\n",
       "      <td>2703186189652095</td>\n",
       "      <td>fraud_Rippin, Kub and Mann</td>\n",
       "      <td>misc_net</td>\n",
       "      <td>4.97</td>\n",
       "      <td>F</td>\n",
       "      <td>NC</td>\n",
       "      <td>3495</td>\n",
       "      <td>Psychologist, counselling</td>\n",
       "      <td>0</td>\n",
       "      <td>-1.0</td>\n",
       "      <td>96.011245</td>\n",
       "      <td>Long Distance</td>\n",
       "      <td>00:00:18</td>\n",
       "    </tr>\n",
       "    <tr>\n",
       "      <th>1</th>\n",
       "      <td>2019-01-01 00:00:44</td>\n",
       "      <td>630423337322</td>\n",
       "      <td>fraud_Heller, Gutmann and Zieme</td>\n",
       "      <td>grocery_pos</td>\n",
       "      <td>107.23</td>\n",
       "      <td>F</td>\n",
       "      <td>WA</td>\n",
       "      <td>149</td>\n",
       "      <td>Special educational needs teacher</td>\n",
       "      <td>0</td>\n",
       "      <td>-1.0</td>\n",
       "      <td>29.954105</td>\n",
       "      <td>Nearby</td>\n",
       "      <td>00:00:44</td>\n",
       "    </tr>\n",
       "    <tr>\n",
       "      <th>2</th>\n",
       "      <td>2019-01-01 00:00:51</td>\n",
       "      <td>38859492057661</td>\n",
       "      <td>fraud_Lind-Buckridge</td>\n",
       "      <td>entertainment</td>\n",
       "      <td>220.11</td>\n",
       "      <td>M</td>\n",
       "      <td>ID</td>\n",
       "      <td>4154</td>\n",
       "      <td>Nature conservation officer</td>\n",
       "      <td>0</td>\n",
       "      <td>-1.0</td>\n",
       "      <td>107.342986</td>\n",
       "      <td>Long Distance</td>\n",
       "      <td>00:00:51</td>\n",
       "    </tr>\n",
       "    <tr>\n",
       "      <th>3</th>\n",
       "      <td>2019-01-01 00:01:16</td>\n",
       "      <td>3534093764340240</td>\n",
       "      <td>fraud_Kutch, Hermiston and Farrell</td>\n",
       "      <td>gas_transport</td>\n",
       "      <td>45.00</td>\n",
       "      <td>M</td>\n",
       "      <td>MT</td>\n",
       "      <td>1939</td>\n",
       "      <td>Patent attorney</td>\n",
       "      <td>0</td>\n",
       "      <td>-1.0</td>\n",
       "      <td>101.178169</td>\n",
       "      <td>Long Distance</td>\n",
       "      <td>00:01:16</td>\n",
       "    </tr>\n",
       "    <tr>\n",
       "      <th>4</th>\n",
       "      <td>2019-01-01 00:03:06</td>\n",
       "      <td>375534208663984</td>\n",
       "      <td>fraud_Keeling-Crist</td>\n",
       "      <td>misc_pos</td>\n",
       "      <td>41.96</td>\n",
       "      <td>M</td>\n",
       "      <td>VA</td>\n",
       "      <td>99</td>\n",
       "      <td>Dance movement psychotherapist</td>\n",
       "      <td>0</td>\n",
       "      <td>-1.0</td>\n",
       "      <td>95.535506</td>\n",
       "      <td>Long Distance</td>\n",
       "      <td>00:03:06</td>\n",
       "    </tr>\n",
       "  </tbody>\n",
       "</table>\n",
       "</div>"
      ],
      "text/plain": [
       "  trans_date_trans_time            cc_num                            merchant  \\\n",
       "0   2019-01-01 00:00:18  2703186189652095          fraud_Rippin, Kub and Mann   \n",
       "1   2019-01-01 00:00:44      630423337322     fraud_Heller, Gutmann and Zieme   \n",
       "2   2019-01-01 00:00:51    38859492057661                fraud_Lind-Buckridge   \n",
       "3   2019-01-01 00:01:16  3534093764340240  fraud_Kutch, Hermiston and Farrell   \n",
       "4   2019-01-01 00:03:06   375534208663984                 fraud_Keeling-Crist   \n",
       "\n",
       "        category     amt gender state  city_pop  \\\n",
       "0       misc_net    4.97      F    NC      3495   \n",
       "1    grocery_pos  107.23      F    WA       149   \n",
       "2  entertainment  220.11      M    ID      4154   \n",
       "3  gas_transport   45.00      M    MT      1939   \n",
       "4       misc_pos   41.96      M    VA        99   \n",
       "\n",
       "                                 job  is_fraud  recency  displacement  \\\n",
       "0          Psychologist, counselling         0     -1.0     96.011245   \n",
       "1  Special educational needs teacher         0     -1.0     29.954105   \n",
       "2        Nature conservation officer         0     -1.0    107.342986   \n",
       "3                    Patent attorney         0     -1.0    101.178169   \n",
       "4     Dance movement psychotherapist         0     -1.0     95.535506   \n",
       "\n",
       "        location      Time  \n",
       "0  Long Distance  00:00:18  \n",
       "1         Nearby  00:00:44  \n",
       "2  Long Distance  00:00:51  \n",
       "3  Long Distance  00:01:16  \n",
       "4  Long Distance  00:03:06  "
      ]
     },
     "execution_count": 48,
     "metadata": {},
     "output_type": "execute_result"
    }
   ],
   "source": [
    "data.head()"
   ]
  },
  {
   "cell_type": "code",
   "execution_count": 49,
   "id": "27736d22",
   "metadata": {
    "execution": {
     "iopub.execute_input": "2022-03-15T12:08:28.989460Z",
     "iopub.status.busy": "2022-03-15T12:08:28.987789Z",
     "iopub.status.idle": "2022-03-15T12:08:29.110005Z",
     "shell.execute_reply": "2022-03-15T12:08:29.109412Z",
     "shell.execute_reply.started": "2022-03-15T12:00:49.126574Z"
    },
    "id": "4QJ-EdZZE0ML",
    "papermill": {
     "duration": 0.362411,
     "end_time": "2022-03-15T12:08:29.110141",
     "exception": false,
     "start_time": "2022-03-15T12:08:28.747730",
     "status": "completed"
    },
    "tags": []
   },
   "outputs": [],
   "source": [
    "# converting Time column to datetime\n",
    "data[\"Time\"] = pd.to_datetime(data[\"trans_date_trans_time\"]).dt.hour"
   ]
  },
  {
   "cell_type": "code",
   "execution_count": 50,
   "id": "e448fd54",
   "metadata": {
    "execution": {
     "iopub.execute_input": "2022-03-15T12:08:29.539296Z",
     "iopub.status.busy": "2022-03-15T12:08:29.538327Z",
     "iopub.status.idle": "2022-03-15T12:08:29.770141Z",
     "shell.execute_reply": "2022-03-15T12:08:29.770634Z",
     "shell.execute_reply.started": "2022-03-15T12:00:49.278086Z"
    },
    "id": "DD4WhX1SdbSo",
    "papermill": {
     "duration": 0.448025,
     "end_time": "2022-03-15T12:08:29.770809",
     "exception": false,
     "start_time": "2022-03-15T12:08:29.322784",
     "status": "completed"
    },
    "tags": []
   },
   "outputs": [],
   "source": [
    "# segregating city_population tab on the basis of less dense, adequately densed, densely populated\n",
    "data.loc[(data[\"city_pop\"]<10000),[\"city_pop_segment\"]] = \"Less Dense\"\n",
    "data.loc[((data[\"city_pop\"]>10000) & (data[\"city_pop\"]<50000)),[\"city_pop_segment\"]] = \"Adequately Dense\"\n",
    "data.loc[(data[\"city_pop\"]>50000),[\"city_pop_segment\"]] = \"Densely populated\""
   ]
  },
  {
   "cell_type": "code",
   "execution_count": 51,
   "id": "5b892aca",
   "metadata": {
    "execution": {
     "iopub.execute_input": "2022-03-15T12:08:30.199913Z",
     "iopub.status.busy": "2022-03-15T12:08:30.199297Z",
     "iopub.status.idle": "2022-03-15T12:08:30.342076Z",
     "shell.execute_reply": "2022-03-15T12:08:30.341574Z",
     "shell.execute_reply.started": "2022-03-15T12:00:49.597805Z"
    },
    "id": "5ijAIXfQerBm",
    "outputId": "de710e3d-493e-4d68-a196-ae4544d01943",
    "papermill": {
     "duration": 0.360219,
     "end_time": "2022-03-15T12:08:30.342224",
     "exception": false,
     "start_time": "2022-03-15T12:08:29.982005",
     "status": "completed"
    },
    "tags": []
   },
   "outputs": [
    {
     "data": {
      "text/plain": [
       "Less Dense           0.699953\n",
       "Densely populated    0.187151\n",
       "Adequately Dense     0.112896\n",
       "Name: city_pop_segment, dtype: float64"
      ]
     },
     "execution_count": 51,
     "metadata": {},
     "output_type": "execute_result"
    }
   ],
   "source": [
    "# checking constitution of each segment\n",
    "data.city_pop_segment.value_counts(normalize = True)"
   ]
  },
  {
   "cell_type": "code",
   "execution_count": 52,
   "id": "e48f38a1",
   "metadata": {
    "execution": {
     "iopub.execute_input": "2022-03-15T12:08:30.786209Z",
     "iopub.status.busy": "2022-03-15T12:08:30.785532Z",
     "iopub.status.idle": "2022-03-15T12:08:31.184904Z",
     "shell.execute_reply": "2022-03-15T12:08:31.185424Z",
     "shell.execute_reply.started": "2022-03-15T12:00:49.753632Z"
    },
    "id": "zYRZIpfHfupw",
    "papermill": {
     "duration": 0.621845,
     "end_time": "2022-03-15T12:08:31.185589",
     "exception": false,
     "start_time": "2022-03-15T12:08:30.563744",
     "status": "completed"
    },
    "tags": []
   },
   "outputs": [],
   "source": [
    "# dropping column city_pop as it is of no use now\n",
    "data = data.drop(\"city_pop\",1)"
   ]
  },
  {
   "cell_type": "code",
   "execution_count": 53,
   "id": "24895e3b",
   "metadata": {
    "execution": {
     "iopub.execute_input": "2022-03-15T12:08:31.693380Z",
     "iopub.status.busy": "2022-03-15T12:08:31.692421Z",
     "iopub.status.idle": "2022-03-15T12:08:32.353878Z",
     "shell.execute_reply": "2022-03-15T12:08:32.353230Z",
     "shell.execute_reply.started": "2022-03-15T12:00:50.290985Z"
    },
    "id": "CUGNWjX8wUgj",
    "papermill": {
     "duration": 0.947971,
     "end_time": "2022-03-15T12:08:32.354049",
     "exception": false,
     "start_time": "2022-03-15T12:08:31.406078",
     "status": "completed"
    },
    "tags": []
   },
   "outputs": [],
   "source": [
    "# dividing recency column into segments but first converting them from seconds to minutes\n",
    "data.recency = data.recency.apply(lambda x: float((x/60)/60))"
   ]
  },
  {
   "cell_type": "code",
   "execution_count": 54,
   "id": "05785fac",
   "metadata": {
    "execution": {
     "iopub.execute_input": "2022-03-15T12:08:32.804743Z",
     "iopub.status.busy": "2022-03-15T12:08:32.804118Z",
     "iopub.status.idle": "2022-03-15T12:08:33.287714Z",
     "shell.execute_reply": "2022-03-15T12:08:33.286809Z",
     "shell.execute_reply.started": "2022-03-15T12:00:51.072841Z"
    },
    "id": "tQE8IEKswUjT",
    "outputId": "a1ef89b1-33a1-4d0b-ebfb-aa2f822d4a08",
    "papermill": {
     "duration": 0.712729,
     "end_time": "2022-03-15T12:08:33.287849",
     "exception": false,
     "start_time": "2022-03-15T12:08:32.575120",
     "status": "completed"
    },
    "tags": []
   },
   "outputs": [
    {
     "data": {
      "text/plain": [
       "Within 6 hours        0.411834\n",
       "After 6 hours         0.191659\n",
       "Recent_Transaction    0.163714\n",
       "After Half-Day        0.148911\n",
       "After 24 hours        0.083124\n",
       "First Transaction     0.000758\n",
       "Name: recency_segment, dtype: float64"
      ]
     },
     "execution_count": 54,
     "metadata": {},
     "output_type": "execute_result"
    }
   ],
   "source": [
    "# dividing recency to segments based on number of hours passed\n",
    "data.loc[(data[\"recency\"]<1),[\"recency_segment\"]] = \"Recent_Transaction\"\n",
    "data.loc[((data[\"recency\"]>1) & (data[\"recency\"]<6)),[\"recency_segment\"]] = \"Within 6 hours\"\n",
    "data.loc[((data[\"recency\"]>6) & (data[\"recency\"]<12)),[\"recency_segment\"]] = \"After 6 hours\"\n",
    "data.loc[((data[\"recency\"]>12) & (data[\"recency\"]<24)),[\"recency_segment\"]] = \"After Half-Day\"\n",
    "data.loc[(data[\"recency\"]>24),[\"recency_segment\"]] = \"After 24 hours\"\n",
    "data.loc[(data[\"recency\"]<0),[\"recency_segment\"]] = \"First Transaction\"\n",
    "data.recency_segment.value_counts(normalize = True)"
   ]
  },
  {
   "cell_type": "code",
   "execution_count": 55,
   "id": "49db39c1",
   "metadata": {
    "execution": {
     "iopub.execute_input": "2022-03-15T12:08:33.906494Z",
     "iopub.status.busy": "2022-03-15T12:08:33.904331Z",
     "iopub.status.idle": "2022-03-15T12:08:33.910136Z",
     "shell.execute_reply": "2022-03-15T12:08:33.910563Z",
     "shell.execute_reply.started": "2022-03-15T12:00:51.611905Z"
    },
    "id": "3NYP2uDPwUl5",
    "outputId": "d7cbe596-9ef4-4f27-9612-ec9695c227f5",
    "papermill": {
     "duration": 0.408389,
     "end_time": "2022-03-15T12:08:33.910737",
     "exception": false,
     "start_time": "2022-03-15T12:08:33.502348",
     "status": "completed"
    },
    "tags": []
   },
   "outputs": [
    {
     "data": {
      "text/plain": [
       "gas_transport     131659\n",
       "grocery_pos       123638\n",
       "home              123115\n",
       "shopping_pos      116672\n",
       "kids_pets         113035\n",
       "shopping_net       97543\n",
       "entertainment      94014\n",
       "food_dining        91461\n",
       "personal_care      90758\n",
       "health_fitness     85879\n",
       "misc_pos           79655\n",
       "misc_net           63287\n",
       "grocery_net        45452\n",
       "travel             40507\n",
       "Name: category, dtype: int64"
      ]
     },
     "execution_count": 55,
     "metadata": {},
     "output_type": "execute_result"
    }
   ],
   "source": [
    "# examining category column\n",
    "data.category.value_counts()"
   ]
  },
  {
   "cell_type": "code",
   "execution_count": 56,
   "id": "a542a4ad",
   "metadata": {
    "execution": {
     "iopub.execute_input": "2022-03-15T12:08:34.340133Z",
     "iopub.status.busy": "2022-03-15T12:08:34.339516Z",
     "iopub.status.idle": "2022-03-15T12:08:34.538040Z",
     "shell.execute_reply": "2022-03-15T12:08:34.538624Z",
     "shell.execute_reply.started": "2022-03-15T12:00:51.825732Z"
    },
    "id": "s5m3PR-9wUoM",
    "outputId": "5281ce7b-dc02-4843-cc6e-8d12660f8bbc",
    "papermill": {
     "duration": 0.412802,
     "end_time": "2022-03-15T12:08:34.538808",
     "exception": false,
     "start_time": "2022-03-15T12:08:34.126006",
     "status": "completed"
    },
    "tags": []
   },
   "outputs": [
    {
     "data": {
      "text/plain": [
       "fraud_Kilback LLC                       4403\n",
       "fraud_Cormier LLC                       3649\n",
       "fraud_Schumm PLC                        3634\n",
       "fraud_Kuhn LLC                          3510\n",
       "fraud_Boyer PLC                         3493\n",
       "                                        ... \n",
       "fraud_Treutel-King                       775\n",
       "fraud_Douglas, DuBuque and McKenzie      775\n",
       "fraud_Medhurst, Labadie and Gottlieb     759\n",
       "fraud_Reichert-Weissnat                  753\n",
       "fraud_Hahn, Douglas and Schowalter       727\n",
       "Name: merchant, Length: 693, dtype: int64"
      ]
     },
     "execution_count": 56,
     "metadata": {},
     "output_type": "execute_result"
    }
   ],
   "source": [
    "# examining merchant column\n",
    "data.merchant.value_counts()"
   ]
  },
  {
   "cell_type": "code",
   "execution_count": 57,
   "id": "3decc6c6",
   "metadata": {
    "execution": {
     "iopub.execute_input": "2022-03-15T12:08:34.968221Z",
     "iopub.status.busy": "2022-03-15T12:08:34.967613Z",
     "iopub.status.idle": "2022-03-15T12:08:34.973398Z",
     "shell.execute_reply": "2022-03-15T12:08:34.972885Z",
     "shell.execute_reply.started": "2022-03-15T12:00:52.050357Z"
    },
    "id": "IDAv_9uWwUqp",
    "outputId": "56754ca2-809b-42b5-babc-c962fc510922",
    "papermill": {
     "duration": 0.221359,
     "end_time": "2022-03-15T12:08:34.973514",
     "exception": false,
     "start_time": "2022-03-15T12:08:34.752155",
     "status": "completed"
    },
    "tags": []
   },
   "outputs": [
    {
     "data": {
      "text/plain": [
       "Index(['trans_date_trans_time', 'cc_num', 'merchant', 'category', 'amt',\n",
       "       'gender', 'state', 'job', 'is_fraud', 'recency', 'displacement',\n",
       "       'location', 'Time', 'city_pop_segment', 'recency_segment'],\n",
       "      dtype='object')"
      ]
     },
     "execution_count": 57,
     "metadata": {},
     "output_type": "execute_result"
    }
   ],
   "source": [
    "data.columns"
   ]
  },
  {
   "cell_type": "markdown",
   "id": "03d83efe",
   "metadata": {
    "id": "Q-EV_y7uddaJ",
    "papermill": {
     "duration": 0.235065,
     "end_time": "2022-03-15T12:08:35.423644",
     "exception": false,
     "start_time": "2022-03-15T12:08:35.188579",
     "status": "completed"
    },
    "tags": []
   },
   "source": [
    "## Working on Test Data columns"
   ]
  },
  {
   "cell_type": "code",
   "execution_count": 58,
   "id": "cddf4af1",
   "metadata": {
    "execution": {
     "iopub.execute_input": "2022-03-15T12:08:35.909425Z",
     "iopub.status.busy": "2022-03-15T12:08:35.908592Z",
     "iopub.status.idle": "2022-03-15T12:08:36.002060Z",
     "shell.execute_reply": "2022-03-15T12:08:36.002618Z",
     "shell.execute_reply.started": "2022-03-15T12:00:52.058195Z"
    },
    "id": "yRLxHIs3ddaM",
    "papermill": {
     "duration": 0.337848,
     "end_time": "2022-03-15T12:08:36.002774",
     "exception": false,
     "start_time": "2022-03-15T12:08:35.664926",
     "status": "completed"
    },
    "tags": []
   },
   "outputs": [],
   "source": [
    "# we cannot work on trans_num as there is no unique pattern, so dropping it\n",
    "data_t = data_t.drop(\"trans_num\",1)"
   ]
  },
  {
   "cell_type": "code",
   "execution_count": 59,
   "id": "656f9296",
   "metadata": {
    "execution": {
     "iopub.execute_input": "2022-03-15T12:08:36.443563Z",
     "iopub.status.busy": "2022-03-15T12:08:36.442555Z",
     "iopub.status.idle": "2022-03-15T12:08:36.523065Z",
     "shell.execute_reply": "2022-03-15T12:08:36.523613Z",
     "shell.execute_reply.started": "2022-03-15T12:00:52.197013Z"
    },
    "id": "otXWAawYddaQ",
    "papermill": {
     "duration": 0.300157,
     "end_time": "2022-03-15T12:08:36.523779",
     "exception": false,
     "start_time": "2022-03-15T12:08:36.223622",
     "status": "completed"
    },
    "tags": []
   },
   "outputs": [],
   "source": [
    "# we can see the first and last names of customers are not unique while the cc_num is, so we will use cc_num to distinct between customers\n",
    "# and since first and last are now of no use of ours so we will drop them\n",
    "\n",
    "data_t = data_t.drop(columns=[\"first\",\"last\"])"
   ]
  },
  {
   "cell_type": "code",
   "execution_count": 60,
   "id": "bb6148f0",
   "metadata": {
    "execution": {
     "iopub.execute_input": "2022-03-15T12:08:36.963786Z",
     "iopub.status.busy": "2022-03-15T12:08:36.963210Z",
     "iopub.status.idle": "2022-03-15T12:08:37.249415Z",
     "shell.execute_reply": "2022-03-15T12:08:37.248768Z",
     "shell.execute_reply.started": "2022-03-15T12:00:52.287512Z"
    },
    "id": "SLkYZszqddaS",
    "papermill": {
     "duration": 0.505779,
     "end_time": "2022-03-15T12:08:37.249602",
     "exception": false,
     "start_time": "2022-03-15T12:08:36.743823",
     "status": "completed"
    },
    "tags": []
   },
   "outputs": [],
   "source": [
    "data_t[\"recency\"] = data_t.groupby(by=\"cc_num\")[\"unix_time\"].diff()"
   ]
  },
  {
   "cell_type": "code",
   "execution_count": 61,
   "id": "e6be3ff2",
   "metadata": {
    "execution": {
     "iopub.execute_input": "2022-03-15T12:08:37.694873Z",
     "iopub.status.busy": "2022-03-15T12:08:37.694335Z",
     "iopub.status.idle": "2022-03-15T12:08:37.702228Z",
     "shell.execute_reply": "2022-03-15T12:08:37.702759Z",
     "shell.execute_reply.started": "2022-03-15T12:00:52.654922Z"
    },
    "id": "sWfpAZTGddaU",
    "papermill": {
     "duration": 0.226773,
     "end_time": "2022-03-15T12:08:37.702904",
     "exception": false,
     "start_time": "2022-03-15T12:08:37.476131",
     "status": "completed"
    },
    "tags": []
   },
   "outputs": [],
   "source": [
    "# we are getting null values because as 983 because there are 983 unique values of cards, this means whenever the cc_num group changes\n",
    "# python makes the first value of every group null, so making them as starting payment, we will initialize null values to -1\n",
    "\n",
    "data_t.loc[data_t.recency.isnull(),[\"recency\"]] = -1"
   ]
  },
  {
   "cell_type": "code",
   "execution_count": 62,
   "id": "b348b039",
   "metadata": {
    "execution": {
     "iopub.execute_input": "2022-03-15T12:08:38.133035Z",
     "iopub.status.busy": "2022-03-15T12:08:38.132474Z",
     "iopub.status.idle": "2022-03-15T12:08:38.343974Z",
     "shell.execute_reply": "2022-03-15T12:08:38.344460Z",
     "shell.execute_reply.started": "2022-03-15T12:00:52.668475Z"
    },
    "id": "tcCxR-rAddaW",
    "papermill": {
     "duration": 0.42529,
     "end_time": "2022-03-15T12:08:38.344624",
     "exception": false,
     "start_time": "2022-03-15T12:08:37.919334",
     "status": "completed"
    },
    "tags": []
   },
   "outputs": [],
   "source": [
    "# converting trans_date_trans_time to datetime\n",
    "\n",
    "data_t[\"trans_date_trans_time\"] = pd.to_datetime(data_t[\"trans_date_trans_time\"])"
   ]
  },
  {
   "cell_type": "code",
   "execution_count": 63,
   "id": "3382762b",
   "metadata": {
    "execution": {
     "iopub.execute_input": "2022-03-15T12:08:38.781922Z",
     "iopub.status.busy": "2022-03-15T12:08:38.781329Z",
     "iopub.status.idle": "2022-03-15T12:08:38.853883Z",
     "shell.execute_reply": "2022-03-15T12:08:38.854347Z",
     "shell.execute_reply.started": "2022-03-15T12:00:52.952756Z"
    },
    "id": "vvih0-1KddaZ",
    "papermill": {
     "duration": 0.291518,
     "end_time": "2022-03-15T12:08:38.854542",
     "exception": false,
     "start_time": "2022-03-15T12:08:38.563024",
     "status": "completed"
    },
    "tags": []
   },
   "outputs": [],
   "source": [
    "# we now don't need unix_time so we can drop it\n",
    "data_t= data_t.drop(\"unix_time\",1)"
   ]
  },
  {
   "cell_type": "code",
   "execution_count": 64,
   "id": "9f51ecb2",
   "metadata": {
    "execution": {
     "iopub.execute_input": "2022-03-15T12:08:39.291668Z",
     "iopub.status.busy": "2022-03-15T12:08:39.291105Z",
     "iopub.status.idle": "2022-03-15T12:08:39.337176Z",
     "shell.execute_reply": "2022-03-15T12:08:39.336625Z",
     "shell.execute_reply.started": "2022-03-15T12:00:53.029397Z"
    },
    "id": "z13nHBn7ddaa",
    "papermill": {
     "duration": 0.266898,
     "end_time": "2022-03-15T12:08:39.337326",
     "exception": false,
     "start_time": "2022-03-15T12:08:39.070428",
     "status": "completed"
    },
    "tags": []
   },
   "outputs": [],
   "source": [
    "# we even don't need Unnamed: 0 as it is the index only and we have index present with us\n",
    "data_t = data_t.drop(columns=[\"Unnamed: 0\"])"
   ]
  },
  {
   "cell_type": "code",
   "execution_count": 65,
   "id": "f3303bb3",
   "metadata": {
    "execution": {
     "iopub.execute_input": "2022-03-15T12:08:39.775464Z",
     "iopub.status.busy": "2022-03-15T12:08:39.774667Z",
     "iopub.status.idle": "2022-03-15T12:08:39.820008Z",
     "shell.execute_reply": "2022-03-15T12:08:39.820495Z",
     "shell.execute_reply.started": "2022-03-15T12:00:53.095899Z"
    },
    "id": "Z1dqk1aiddad",
    "papermill": {
     "duration": 0.26296,
     "end_time": "2022-03-15T12:08:39.820697",
     "exception": false,
     "start_time": "2022-03-15T12:08:39.557737",
     "status": "completed"
    },
    "tags": []
   },
   "outputs": [],
   "source": [
    "# in predicting customer frauds, dob doesn't play any role that whether there will be a fraud with customer or not, so removing dob column too\n",
    "data_t = data_t.drop(\"dob\",1)"
   ]
  },
  {
   "cell_type": "code",
   "execution_count": 66,
   "id": "eab2460c",
   "metadata": {
    "execution": {
     "iopub.execute_input": "2022-03-15T12:08:40.257608Z",
     "iopub.status.busy": "2022-03-15T12:08:40.257031Z",
     "iopub.status.idle": "2022-03-15T12:08:40.267732Z",
     "shell.execute_reply": "2022-03-15T12:08:40.268342Z",
     "shell.execute_reply.started": "2022-03-15T12:00:53.146290Z"
    },
    "id": "d_Gp-Agqddae",
    "papermill": {
     "duration": 0.231278,
     "end_time": "2022-03-15T12:08:40.268497",
     "exception": false,
     "start_time": "2022-03-15T12:08:40.037219",
     "status": "completed"
    },
    "tags": []
   },
   "outputs": [],
   "source": [
    "# sometimes distance from the customer's home location to the merchant's location can prove out to be main reason for fraud, so taking the \n",
    "# difference of longitude and lattitude of respective columns\n",
    "\n",
    "data_t[\"lat_diff\"] = abs(data_t.lat - data_t.merch_lat)\n",
    "data_t[\"long_diff\"] = abs(data_t[\"long\"] - data_t[\"merch_long\"])\n",
    "\n",
    "# we have used abs function so that we get proper distance diiference in positive as abs makes negative values positive and used as a mod function\n"
   ]
  },
  {
   "cell_type": "code",
   "execution_count": 67,
   "id": "0de5acde",
   "metadata": {
    "execution": {
     "iopub.execute_input": "2022-03-15T12:08:40.710351Z",
     "iopub.status.busy": "2022-03-15T12:08:40.709720Z",
     "iopub.status.idle": "2022-03-15T12:08:40.717086Z",
     "shell.execute_reply": "2022-03-15T12:08:40.717617Z",
     "shell.execute_reply.started": "2022-03-15T12:00:53.160554Z"
    },
    "id": "gMm3fn2Vddag",
    "papermill": {
     "duration": 0.233042,
     "end_time": "2022-03-15T12:08:40.717781",
     "exception": false,
     "start_time": "2022-03-15T12:08:40.484739",
     "status": "completed"
    },
    "tags": []
   },
   "outputs": [],
   "source": [
    "# now since we have the difference, it is estimated that difference between each degree of longitude and lattitude is 69 miles(approx)\n",
    "# or 110 kilometers (approx), so taking displacement into account as it will be difficult to calculate distance between merchant's location\n",
    "# or customer's location so applying pythogoras theorem\n",
    "\n",
    "data_t[\"displacement\"] = np.sqrt(pow((data_t[\"lat_diff\"]*110),2) + pow((data_t[\"long_diff\"]*110),2))\n",
    "\n",
    "# here we have applied pythogoras theorem and we have multiplied with 110 because each degree of longitude and lattitude is 69 miles(approx)\n",
    "# or 110 kilometers apart"
   ]
  },
  {
   "cell_type": "code",
   "execution_count": 68,
   "id": "45e28e04",
   "metadata": {
    "execution": {
     "iopub.execute_input": "2022-03-15T12:08:41.158869Z",
     "iopub.status.busy": "2022-03-15T12:08:41.155628Z",
     "iopub.status.idle": "2022-03-15T12:08:41.224264Z",
     "shell.execute_reply": "2022-03-15T12:08:41.223657Z",
     "shell.execute_reply.started": "2022-03-15T12:00:53.174852Z"
    },
    "id": "tTty32uCddai",
    "papermill": {
     "duration": 0.291763,
     "end_time": "2022-03-15T12:08:41.224400",
     "exception": false,
     "start_time": "2022-03-15T12:08:40.932637",
     "status": "completed"
    },
    "tags": []
   },
   "outputs": [],
   "source": [
    "# now since we got the displacement so longitudes and lattitudes columns are of no use now, so we can remove them\n",
    "data_t = data_t.drop(columns = [\"lat\",\"long\",\"merch_lat\",\"merch_long\",\"lat_diff\",\"long_diff\"])"
   ]
  },
  {
   "cell_type": "code",
   "execution_count": 69,
   "id": "bf4598ee",
   "metadata": {
    "execution": {
     "iopub.execute_input": "2022-03-15T12:08:41.668049Z",
     "iopub.status.busy": "2022-03-15T12:08:41.667404Z",
     "iopub.status.idle": "2022-03-15T12:08:41.699042Z",
     "shell.execute_reply": "2022-03-15T12:08:41.699462Z",
     "shell.execute_reply.started": "2022-03-15T12:00:53.292029Z"
    },
    "id": "JKkGvIk1ddaj",
    "papermill": {
     "duration": 0.25819,
     "end_time": "2022-03-15T12:08:41.699641",
     "exception": false,
     "start_time": "2022-03-15T12:08:41.441451",
     "status": "completed"
    },
    "tags": []
   },
   "outputs": [],
   "source": [
    "# since state contains both city and zip code and street comes under city, so we can move with state column and drop street, city and zip\n",
    "# we can work with cities through their population parameter, as names of cities cannot implement whether a fraud will be done or not, while\n",
    "# population of a city can.\n",
    "data_t= data_t.drop(columns = [\"city\",\"zip\",\"street\"])"
   ]
  },
  {
   "cell_type": "code",
   "execution_count": 70,
   "id": "6ec7f7b0",
   "metadata": {
    "execution": {
     "iopub.execute_input": "2022-03-15T12:08:42.144701Z",
     "iopub.status.busy": "2022-03-15T12:08:42.144010Z",
     "iopub.status.idle": "2022-03-15T12:08:42.176839Z",
     "shell.execute_reply": "2022-03-15T12:08:42.177329Z",
     "shell.execute_reply.started": "2022-03-15T12:00:53.332092Z"
    },
    "id": "F-KF09Alddal",
    "papermill": {
     "duration": 0.258899,
     "end_time": "2022-03-15T12:08:42.177497",
     "exception": false,
     "start_time": "2022-03-15T12:08:41.918598",
     "status": "completed"
    },
    "tags": []
   },
   "outputs": [],
   "source": [
    "# now we can bin the displacement into near, far and very far records\n",
    "# if merchant lies between the range of 0-45 then it is near, while above 45 but below 90 will be far and rest can be very far\n",
    "\n",
    "data_t.loc[(data_t[\"displacement\"]<45),[\"location\"]] = \"Nearby\""
   ]
  },
  {
   "cell_type": "code",
   "execution_count": 71,
   "id": "e787bc23",
   "metadata": {
    "execution": {
     "iopub.execute_input": "2022-03-15T12:08:42.621354Z",
     "iopub.status.busy": "2022-03-15T12:08:42.620670Z",
     "iopub.status.idle": "2022-03-15T12:08:42.678370Z",
     "shell.execute_reply": "2022-03-15T12:08:42.677779Z",
     "shell.execute_reply.started": "2022-03-15T12:00:53.376336Z"
    },
    "id": "v_DcTynlddam",
    "papermill": {
     "duration": 0.280737,
     "end_time": "2022-03-15T12:08:42.678503",
     "exception": false,
     "start_time": "2022-03-15T12:08:42.397766",
     "status": "completed"
    },
    "tags": []
   },
   "outputs": [],
   "source": [
    "data_t.loc[((data_t[\"displacement\"]>45) & (data_t[\"displacement\"]<90)),[\"location\"]] = \"Far Away\"\n",
    "data_t.loc[(data_t[\"displacement\"]>90),[\"location\"]] = \"Long Distance\""
   ]
  },
  {
   "cell_type": "code",
   "execution_count": 72,
   "id": "f7600486",
   "metadata": {
    "execution": {
     "iopub.execute_input": "2022-03-15T12:08:43.106915Z",
     "iopub.status.busy": "2022-03-15T12:08:43.106354Z",
     "iopub.status.idle": "2022-03-15T12:08:43.563724Z",
     "shell.execute_reply": "2022-03-15T12:08:43.563151Z",
     "shell.execute_reply.started": "2022-03-15T12:00:53.457885Z"
    },
    "id": "N5S69WFmddan",
    "papermill": {
     "duration": 0.673418,
     "end_time": "2022-03-15T12:08:43.563868",
     "exception": false,
     "start_time": "2022-03-15T12:08:42.890450",
     "status": "completed"
    },
    "tags": []
   },
   "outputs": [],
   "source": [
    "# Although date part in column trans_date_trans_time is not important because that is historical data, but time part of the component is important\n",
    "# so creating a column of time\n",
    "\n",
    "data_t[\"Time\"] = pd.to_datetime(data_t[\"trans_date_trans_time\"],\"%H:%M\").dt.time"
   ]
  },
  {
   "cell_type": "code",
   "execution_count": 73,
   "id": "f032812e",
   "metadata": {
    "execution": {
     "iopub.execute_input": "2022-03-15T12:08:43.996870Z",
     "iopub.status.busy": "2022-03-15T12:08:43.996299Z",
     "iopub.status.idle": "2022-03-15T12:08:44.076908Z",
     "shell.execute_reply": "2022-03-15T12:08:44.077387Z",
     "shell.execute_reply.started": "2022-03-15T12:00:53.862556Z"
    },
    "id": "mkJGnAdLddap",
    "papermill": {
     "duration": 0.298781,
     "end_time": "2022-03-15T12:08:44.077563",
     "exception": false,
     "start_time": "2022-03-15T12:08:43.778782",
     "status": "completed"
    },
    "tags": []
   },
   "outputs": [],
   "source": [
    "# converting Time column to datetime\n",
    "data_t[\"Time\"] = pd.to_datetime(data_t[\"trans_date_trans_time\"]).dt.hour"
   ]
  },
  {
   "cell_type": "code",
   "execution_count": 74,
   "id": "57b722aa",
   "metadata": {
    "execution": {
     "iopub.execute_input": "2022-03-15T12:08:44.514277Z",
     "iopub.status.busy": "2022-03-15T12:08:44.513590Z",
     "iopub.status.idle": "2022-03-15T12:08:44.605065Z",
     "shell.execute_reply": "2022-03-15T12:08:44.605538Z",
     "shell.execute_reply.started": "2022-03-15T12:00:54.074736Z"
    },
    "id": "e6K44vWNddap",
    "papermill": {
     "duration": 0.311848,
     "end_time": "2022-03-15T12:08:44.605760",
     "exception": false,
     "start_time": "2022-03-15T12:08:44.293912",
     "status": "completed"
    },
    "tags": []
   },
   "outputs": [],
   "source": [
    "# segregating city_population tab on the basis of less dense, adequately densed, densely populated\n",
    "data_t.loc[(data_t[\"city_pop\"]<10000),[\"city_pop_segment\"]] = \"Less Dense\"\n",
    "data_t.loc[((data_t[\"city_pop\"]>10000) & (data_t[\"city_pop\"]<50000)),[\"city_pop_segment\"]] = \"Adequately Dense\"\n",
    "data_t.loc[(data_t[\"city_pop\"]>50000),[\"city_pop_segment\"]] = \"Densely populated\""
   ]
  },
  {
   "cell_type": "code",
   "execution_count": 75,
   "id": "b015dbda",
   "metadata": {
    "execution": {
     "iopub.execute_input": "2022-03-15T12:08:45.046647Z",
     "iopub.status.busy": "2022-03-15T12:08:45.046076Z",
     "iopub.status.idle": "2022-03-15T12:08:45.202997Z",
     "shell.execute_reply": "2022-03-15T12:08:45.203447Z",
     "shell.execute_reply.started": "2022-03-15T12:00:54.210918Z"
    },
    "id": "klEp7xnpddaw",
    "papermill": {
     "duration": 0.38225,
     "end_time": "2022-03-15T12:08:45.203610",
     "exception": false,
     "start_time": "2022-03-15T12:08:44.821360",
     "status": "completed"
    },
    "tags": []
   },
   "outputs": [],
   "source": [
    "# dropping column city_pop as it is of no use now\n",
    "data_t = data_t.drop(\"city_pop\",1)"
   ]
  },
  {
   "cell_type": "code",
   "execution_count": 76,
   "id": "5bc23b34",
   "metadata": {
    "execution": {
     "iopub.execute_input": "2022-03-15T12:08:45.650593Z",
     "iopub.status.busy": "2022-03-15T12:08:45.649947Z",
     "iopub.status.idle": "2022-03-15T12:08:45.949277Z",
     "shell.execute_reply": "2022-03-15T12:08:45.948676Z",
     "shell.execute_reply.started": "2022-03-15T12:00:54.367433Z"
    },
    "id": "7-TCLrNgddax",
    "papermill": {
     "duration": 0.521799,
     "end_time": "2022-03-15T12:08:45.949435",
     "exception": false,
     "start_time": "2022-03-15T12:08:45.427636",
     "status": "completed"
    },
    "tags": []
   },
   "outputs": [],
   "source": [
    "# dividing recency column into segments but first converting them from seconds to minutes\n",
    "data_t.recency = data_t.recency.apply(lambda x: float((x/60)/60))"
   ]
  },
  {
   "cell_type": "code",
   "execution_count": 77,
   "id": "cee8031c",
   "metadata": {
    "execution": {
     "iopub.execute_input": "2022-03-15T12:08:46.411111Z",
     "iopub.status.busy": "2022-03-15T12:08:46.410501Z",
     "iopub.status.idle": "2022-03-15T12:08:46.540729Z",
     "shell.execute_reply": "2022-03-15T12:08:46.540215Z",
     "shell.execute_reply.started": "2022-03-15T12:00:54.697881Z"
    },
    "id": "SfZDLD8_ddax",
    "papermill": {
     "duration": 0.376319,
     "end_time": "2022-03-15T12:08:46.540891",
     "exception": false,
     "start_time": "2022-03-15T12:08:46.164572",
     "status": "completed"
    },
    "tags": []
   },
   "outputs": [],
   "source": [
    "# dividing recency to segments based on number of hours passed\n",
    "data_t.loc[(data_t[\"recency\"]<1),[\"recency_segment\"]] = \"Recent_Transaction\"\n",
    "data_t.loc[((data_t[\"recency\"]>1) & (data_t[\"recency\"]<6)),[\"recency_segment\"]] = \"Within 6 hours\"\n",
    "data_t.loc[((data_t[\"recency\"]>6) & (data_t[\"recency\"]<12)),[\"recency_segment\"]] = \"After 6 hours\"\n",
    "data_t.loc[((data_t[\"recency\"]>12) & (data_t[\"recency\"]<24)),[\"recency_segment\"]] = \"After Half-Day\"\n",
    "data_t.loc[(data_t[\"recency\"]>24),[\"recency_segment\"]] = \"After 24 hours\"\n",
    "data_t.loc[(data_t[\"recency\"]<0),[\"recency_segment\"]] = \"First Transaction\""
   ]
  },
  {
   "cell_type": "code",
   "execution_count": 78,
   "id": "272fc3e7",
   "metadata": {
    "execution": {
     "iopub.execute_input": "2022-03-15T12:08:46.998029Z",
     "iopub.status.busy": "2022-03-15T12:08:46.997384Z",
     "iopub.status.idle": "2022-03-15T12:08:46.999905Z",
     "shell.execute_reply": "2022-03-15T12:08:47.000530Z",
     "shell.execute_reply.started": "2022-03-15T12:00:54.905152Z"
    },
    "id": "-lwF1r7bdda0",
    "outputId": "5d9f05e8-8d1d-4258-9909-fe867c703fe4",
    "papermill": {
     "duration": 0.238256,
     "end_time": "2022-03-15T12:08:47.000695",
     "exception": false,
     "start_time": "2022-03-15T12:08:46.762439",
     "status": "completed"
    },
    "tags": []
   },
   "outputs": [
    {
     "data": {
      "text/plain": [
       "Index(['trans_date_trans_time', 'cc_num', 'merchant', 'category', 'amt',\n",
       "       'gender', 'state', 'job', 'is_fraud', 'recency', 'displacement',\n",
       "       'location', 'Time', 'city_pop_segment', 'recency_segment'],\n",
       "      dtype='object')"
      ]
     },
     "execution_count": 78,
     "metadata": {},
     "output_type": "execute_result"
    }
   ],
   "source": [
    "data_t.columns"
   ]
  },
  {
   "cell_type": "markdown",
   "id": "07855023",
   "metadata": {
    "id": "36VR_kIJH8_X",
    "papermill": {
     "duration": 0.233263,
     "end_time": "2022-03-15T12:08:47.459562",
     "exception": false,
     "start_time": "2022-03-15T12:08:47.226299",
     "status": "completed"
    },
    "tags": []
   },
   "source": [
    "## Univariate Analysis"
   ]
  },
  {
   "cell_type": "code",
   "execution_count": 79,
   "id": "000de423",
   "metadata": {
    "execution": {
     "iopub.execute_input": "2022-03-15T12:08:47.923551Z",
     "iopub.status.busy": "2022-03-15T12:08:47.922844Z",
     "iopub.status.idle": "2022-03-15T12:08:49.010701Z",
     "shell.execute_reply": "2022-03-15T12:08:49.011200Z",
     "shell.execute_reply.started": "2022-03-15T12:00:54.913686Z"
    },
    "id": "Rf42vamgH-Dm",
    "outputId": "1f5a04a8-3500-4f77-97a3-1ed16cb45419",
    "papermill": {
     "duration": 1.321761,
     "end_time": "2022-03-15T12:08:49.011361",
     "exception": false,
     "start_time": "2022-03-15T12:08:47.689600",
     "status": "completed"
    },
    "tags": []
   },
   "outputs": [
    {
     "name": "stdout",
     "output_type": "stream",
     "text": [
      "<class 'pandas.core.frame.DataFrame'>\n",
      "RangeIndex: 1296675 entries, 0 to 1296674\n",
      "Data columns (total 15 columns):\n",
      " #   Column                 Non-Null Count    Dtype         \n",
      "---  ------                 --------------    -----         \n",
      " 0   trans_date_trans_time  1296675 non-null  datetime64[ns]\n",
      " 1   cc_num                 1296675 non-null  int64         \n",
      " 2   merchant               1296675 non-null  object        \n",
      " 3   category               1296675 non-null  object        \n",
      " 4   amt                    1296675 non-null  float64       \n",
      " 5   gender                 1296675 non-null  object        \n",
      " 6   state                  1296675 non-null  object        \n",
      " 7   job                    1296675 non-null  object        \n",
      " 8   is_fraud               1296675 non-null  int64         \n",
      " 9   recency                1296675 non-null  float64       \n",
      " 10  displacement           1296675 non-null  float64       \n",
      " 11  location               1296675 non-null  object        \n",
      " 12  Time                   1296675 non-null  int64         \n",
      " 13  city_pop_segment       1296675 non-null  object        \n",
      " 14  recency_segment        1296600 non-null  object        \n",
      "dtypes: datetime64[ns](1), float64(3), int64(3), object(8)\n",
      "memory usage: 148.4+ MB\n"
     ]
    }
   ],
   "source": [
    "# checking the peak hours for transaction\n",
    "data.info()"
   ]
  },
  {
   "cell_type": "code",
   "execution_count": 80,
   "id": "d6912d23",
   "metadata": {
    "execution": {
     "iopub.execute_input": "2022-03-15T12:08:49.470050Z",
     "iopub.status.busy": "2022-03-15T12:08:49.469100Z",
     "iopub.status.idle": "2022-03-15T12:08:49.486592Z",
     "shell.execute_reply": "2022-03-15T12:08:49.486152Z",
     "shell.execute_reply.started": "2022-03-15T12:00:56.043594Z"
    },
    "id": "A6LoZEp9IXm2",
    "outputId": "55196d63-e060-4e11-9763-d166cba19181",
    "papermill": {
     "duration": 0.248454,
     "end_time": "2022-03-15T12:08:49.486714",
     "exception": false,
     "start_time": "2022-03-15T12:08:49.238260",
     "status": "completed"
    },
    "tags": []
   },
   "outputs": [
    {
     "data": {
      "text/html": [
       "<div>\n",
       "<style scoped>\n",
       "    .dataframe tbody tr th:only-of-type {\n",
       "        vertical-align: middle;\n",
       "    }\n",
       "\n",
       "    .dataframe tbody tr th {\n",
       "        vertical-align: top;\n",
       "    }\n",
       "\n",
       "    .dataframe thead th {\n",
       "        text-align: right;\n",
       "    }\n",
       "</style>\n",
       "<table border=\"1\" class=\"dataframe\">\n",
       "  <thead>\n",
       "    <tr style=\"text-align: right;\">\n",
       "      <th></th>\n",
       "      <th>trans_date_trans_time</th>\n",
       "      <th>cc_num</th>\n",
       "      <th>merchant</th>\n",
       "      <th>category</th>\n",
       "      <th>amt</th>\n",
       "      <th>gender</th>\n",
       "      <th>state</th>\n",
       "      <th>job</th>\n",
       "      <th>is_fraud</th>\n",
       "      <th>recency</th>\n",
       "      <th>displacement</th>\n",
       "      <th>location</th>\n",
       "      <th>Time</th>\n",
       "      <th>city_pop_segment</th>\n",
       "      <th>recency_segment</th>\n",
       "    </tr>\n",
       "  </thead>\n",
       "  <tbody>\n",
       "    <tr>\n",
       "      <th>0</th>\n",
       "      <td>2019-01-01 00:00:18</td>\n",
       "      <td>2703186189652095</td>\n",
       "      <td>fraud_Rippin, Kub and Mann</td>\n",
       "      <td>misc_net</td>\n",
       "      <td>4.97</td>\n",
       "      <td>F</td>\n",
       "      <td>NC</td>\n",
       "      <td>Psychologist, counselling</td>\n",
       "      <td>0</td>\n",
       "      <td>-0.000278</td>\n",
       "      <td>96.011245</td>\n",
       "      <td>Long Distance</td>\n",
       "      <td>0</td>\n",
       "      <td>Less Dense</td>\n",
       "      <td>First Transaction</td>\n",
       "    </tr>\n",
       "    <tr>\n",
       "      <th>1</th>\n",
       "      <td>2019-01-01 00:00:44</td>\n",
       "      <td>630423337322</td>\n",
       "      <td>fraud_Heller, Gutmann and Zieme</td>\n",
       "      <td>grocery_pos</td>\n",
       "      <td>107.23</td>\n",
       "      <td>F</td>\n",
       "      <td>WA</td>\n",
       "      <td>Special educational needs teacher</td>\n",
       "      <td>0</td>\n",
       "      <td>-0.000278</td>\n",
       "      <td>29.954105</td>\n",
       "      <td>Nearby</td>\n",
       "      <td>0</td>\n",
       "      <td>Less Dense</td>\n",
       "      <td>First Transaction</td>\n",
       "    </tr>\n",
       "    <tr>\n",
       "      <th>2</th>\n",
       "      <td>2019-01-01 00:00:51</td>\n",
       "      <td>38859492057661</td>\n",
       "      <td>fraud_Lind-Buckridge</td>\n",
       "      <td>entertainment</td>\n",
       "      <td>220.11</td>\n",
       "      <td>M</td>\n",
       "      <td>ID</td>\n",
       "      <td>Nature conservation officer</td>\n",
       "      <td>0</td>\n",
       "      <td>-0.000278</td>\n",
       "      <td>107.342986</td>\n",
       "      <td>Long Distance</td>\n",
       "      <td>0</td>\n",
       "      <td>Less Dense</td>\n",
       "      <td>First Transaction</td>\n",
       "    </tr>\n",
       "    <tr>\n",
       "      <th>3</th>\n",
       "      <td>2019-01-01 00:01:16</td>\n",
       "      <td>3534093764340240</td>\n",
       "      <td>fraud_Kutch, Hermiston and Farrell</td>\n",
       "      <td>gas_transport</td>\n",
       "      <td>45.00</td>\n",
       "      <td>M</td>\n",
       "      <td>MT</td>\n",
       "      <td>Patent attorney</td>\n",
       "      <td>0</td>\n",
       "      <td>-0.000278</td>\n",
       "      <td>101.178169</td>\n",
       "      <td>Long Distance</td>\n",
       "      <td>0</td>\n",
       "      <td>Less Dense</td>\n",
       "      <td>First Transaction</td>\n",
       "    </tr>\n",
       "    <tr>\n",
       "      <th>4</th>\n",
       "      <td>2019-01-01 00:03:06</td>\n",
       "      <td>375534208663984</td>\n",
       "      <td>fraud_Keeling-Crist</td>\n",
       "      <td>misc_pos</td>\n",
       "      <td>41.96</td>\n",
       "      <td>M</td>\n",
       "      <td>VA</td>\n",
       "      <td>Dance movement psychotherapist</td>\n",
       "      <td>0</td>\n",
       "      <td>-0.000278</td>\n",
       "      <td>95.535506</td>\n",
       "      <td>Long Distance</td>\n",
       "      <td>0</td>\n",
       "      <td>Less Dense</td>\n",
       "      <td>First Transaction</td>\n",
       "    </tr>\n",
       "  </tbody>\n",
       "</table>\n",
       "</div>"
      ],
      "text/plain": [
       "  trans_date_trans_time            cc_num                            merchant  \\\n",
       "0   2019-01-01 00:00:18  2703186189652095          fraud_Rippin, Kub and Mann   \n",
       "1   2019-01-01 00:00:44      630423337322     fraud_Heller, Gutmann and Zieme   \n",
       "2   2019-01-01 00:00:51    38859492057661                fraud_Lind-Buckridge   \n",
       "3   2019-01-01 00:01:16  3534093764340240  fraud_Kutch, Hermiston and Farrell   \n",
       "4   2019-01-01 00:03:06   375534208663984                 fraud_Keeling-Crist   \n",
       "\n",
       "        category     amt gender state                                job  \\\n",
       "0       misc_net    4.97      F    NC          Psychologist, counselling   \n",
       "1    grocery_pos  107.23      F    WA  Special educational needs teacher   \n",
       "2  entertainment  220.11      M    ID        Nature conservation officer   \n",
       "3  gas_transport   45.00      M    MT                    Patent attorney   \n",
       "4       misc_pos   41.96      M    VA     Dance movement psychotherapist   \n",
       "\n",
       "   is_fraud   recency  displacement       location  Time city_pop_segment  \\\n",
       "0         0 -0.000278     96.011245  Long Distance     0       Less Dense   \n",
       "1         0 -0.000278     29.954105         Nearby     0       Less Dense   \n",
       "2         0 -0.000278    107.342986  Long Distance     0       Less Dense   \n",
       "3         0 -0.000278    101.178169  Long Distance     0       Less Dense   \n",
       "4         0 -0.000278     95.535506  Long Distance     0       Less Dense   \n",
       "\n",
       "     recency_segment  \n",
       "0  First Transaction  \n",
       "1  First Transaction  \n",
       "2  First Transaction  \n",
       "3  First Transaction  \n",
       "4  First Transaction  "
      ]
     },
     "execution_count": 80,
     "metadata": {},
     "output_type": "execute_result"
    }
   ],
   "source": [
    "data.head()"
   ]
  },
  {
   "cell_type": "code",
   "execution_count": 81,
   "id": "1b75dfc3",
   "metadata": {
    "execution": {
     "iopub.execute_input": "2022-03-15T12:08:49.943207Z",
     "iopub.status.busy": "2022-03-15T12:08:49.942313Z",
     "iopub.status.idle": "2022-03-15T12:08:50.243139Z",
     "shell.execute_reply": "2022-03-15T12:08:50.242455Z",
     "shell.execute_reply.started": "2022-03-15T12:00:56.066043Z"
    },
    "id": "nRpOdynXgRF8",
    "papermill": {
     "duration": 0.531509,
     "end_time": "2022-03-15T12:08:50.243276",
     "exception": false,
     "start_time": "2022-03-15T12:08:49.711767",
     "status": "completed"
    },
    "tags": []
   },
   "outputs": [],
   "source": [
    "# let's initialize a separate data containing fraud transactionsto analyze trends\n",
    "data_fraud = data[data[\"is_fraud\"]==1]"
   ]
  },
  {
   "cell_type": "code",
   "execution_count": 82,
   "id": "ea2d81fb",
   "metadata": {
    "execution": {
     "iopub.execute_input": "2022-03-15T12:08:50.704439Z",
     "iopub.status.busy": "2022-03-15T12:08:50.703786Z",
     "iopub.status.idle": "2022-03-15T12:08:50.939218Z",
     "shell.execute_reply": "2022-03-15T12:08:50.938660Z",
     "shell.execute_reply.started": "2022-03-15T12:00:56.473296Z"
    },
    "id": "oXcDYBR_KaTi",
    "outputId": "ade8ced5-6044-4276-d5b8-32844250c4c9",
    "papermill": {
     "duration": 0.467988,
     "end_time": "2022-03-15T12:08:50.939375",
     "exception": false,
     "start_time": "2022-03-15T12:08:50.471387",
     "status": "completed"
    },
    "tags": []
   },
   "outputs": [
    {
     "data": {
      "image/png": "[encoded data removed]",
      "text/plain": [
       "<Figure size 432x288 with 1 Axes>"
      ]
     },
     "metadata": {
      "needs_background": "light"
     },
     "output_type": "display_data"
    }
   ],
   "source": [
    "# checking fraud transactions peak hours\n",
    "\n",
    "sns.kdeplot(data_fraud[\"Time\"])\n",
    "plt.xlim(left = 0,right = 24)\n",
    "plt.show()"
   ]
  },
  {
   "cell_type": "markdown",
   "id": "a6a561fa",
   "metadata": {
    "id": "MXpSxazNhSfn",
    "papermill": {
     "duration": 0.225198,
     "end_time": "2022-03-15T12:08:51.391272",
     "exception": false,
     "start_time": "2022-03-15T12:08:51.166074",
     "status": "completed"
    },
    "tags": []
   },
   "source": [
    "We can have a look that peak hours for fraud transactions starts from 07:00 P.M. to 5:00 A.M. which means transactions done in night needs to be scrutinised more and to be checked with the customer"
   ]
  },
  {
   "cell_type": "code",
   "execution_count": 83,
   "id": "44bbd76d",
   "metadata": {
    "execution": {
     "iopub.execute_input": "2022-03-15T12:08:51.846142Z",
     "iopub.status.busy": "2022-03-15T12:08:51.842722Z",
     "iopub.status.idle": "2022-03-15T12:08:52.009383Z",
     "shell.execute_reply": "2022-03-15T12:08:52.008735Z",
     "shell.execute_reply.started": "2022-03-15T12:00:56.697886Z"
    },
    "id": "rrq6scaQaFYu",
    "outputId": "f40bb14a-2f29-49c6-b69f-ac2a65544e57",
    "papermill": {
     "duration": 0.395487,
     "end_time": "2022-03-15T12:08:52.009531",
     "exception": false,
     "start_time": "2022-03-15T12:08:51.614044",
     "status": "completed"
    },
    "tags": []
   },
   "outputs": [
    {
     "data": {
      "image/png": "[encoded data removed]",
      "text/plain": [
       "<Figure size 432x288 with 1 Axes>"
      ]
     },
     "metadata": {
      "needs_background": "light"
     },
     "output_type": "display_data"
    }
   ],
   "source": [
    "# lets have a look about the fraud transactions done in cities according to their populations\n",
    "sns.countplot(data_fraud[\"city_pop_segment\"])\n",
    "plt.show()"
   ]
  },
  {
   "cell_type": "markdown",
   "id": "d1471ee1",
   "metadata": {
    "id": "J7xg6msfjkz5",
    "papermill": {
     "duration": 0.232092,
     "end_time": "2022-03-15T12:08:52.474844",
     "exception": false,
     "start_time": "2022-03-15T12:08:52.242752",
     "status": "completed"
    },
    "tags": []
   },
   "source": [
    "Its seen that less dense cities are more prone to frauds as compared to more densed cities while on the other hand, adequately densed cities are less prone to frauds as compared to densely populated cities"
   ]
  },
  {
   "cell_type": "code",
   "execution_count": 84,
   "id": "4c0b13d6",
   "metadata": {
    "execution": {
     "iopub.execute_input": "2022-03-15T12:08:52.912965Z",
     "iopub.status.busy": "2022-03-15T12:08:52.912383Z",
     "iopub.status.idle": "2022-03-15T12:08:53.486787Z",
     "shell.execute_reply": "2022-03-15T12:08:53.487278Z",
     "shell.execute_reply.started": "2022-03-15T12:00:56.881322Z"
    },
    "id": "NtZ2ZbNibRnC",
    "outputId": "f20654fe-519a-4283-c306-ab776f137c72",
    "papermill": {
     "duration": 0.795401,
     "end_time": "2022-03-15T12:08:53.487433",
     "exception": false,
     "start_time": "2022-03-15T12:08:52.692032",
     "status": "completed"
    },
    "tags": []
   },
   "outputs": [
    {
     "data": {
      "image/png": "[encoded data removed]",
      "text/plain": [
       "<Figure size 576x720 with 1 Axes>"
      ]
     },
     "metadata": {
      "needs_background": "light"
     },
     "output_type": "display_data"
    }
   ],
   "source": [
    "# let's have a look on state-wise fraud transactions\n",
    "plt.figure(figsize = [8,10])\n",
    "sns.countplot(y=data_fraud.state)\n",
    "plt.show()"
   ]
  },
  {
   "cell_type": "markdown",
   "id": "e0a8f8e3",
   "metadata": {
    "id": "2fcfzJA2ndAJ",
    "papermill": {
     "duration": 0.216504,
     "end_time": "2022-03-15T12:08:53.923016",
     "exception": false,
     "start_time": "2022-03-15T12:08:53.706512",
     "status": "completed"
    },
    "tags": []
   },
   "source": [
    "we can see the most number of frauds are done in New York, Texas and Pennsylvania respectively"
   ]
  },
  {
   "cell_type": "code",
   "execution_count": 85,
   "id": "2e88e5f1",
   "metadata": {
    "execution": {
     "iopub.execute_input": "2022-03-15T12:08:54.385328Z",
     "iopub.status.busy": "2022-03-15T12:08:54.375938Z",
     "iopub.status.idle": "2022-03-15T12:08:54.629332Z",
     "shell.execute_reply": "2022-03-15T12:08:54.629842Z",
     "shell.execute_reply.started": "2022-03-15T12:00:57.521191Z"
    },
    "id": "lDqo3OAlboFt",
    "outputId": "e316fbe3-2ab8-4543-8169-4f15b761eef5",
    "papermill": {
     "duration": 0.480032,
     "end_time": "2022-03-15T12:08:54.630020",
     "exception": false,
     "start_time": "2022-03-15T12:08:54.149988",
     "status": "completed"
    },
    "tags": []
   },
   "outputs": [
    {
     "data": {
      "image/png": "[encoded data removed]",
      "text/plain": [
       "<Figure size 432x288 with 1 Axes>"
      ]
     },
     "metadata": {
      "needs_background": "light"
     },
     "output_type": "display_data"
    }
   ],
   "source": [
    "# let's analyze the the date when maximum frauds have happened\n",
    "sns.kdeplot(data_fraud.trans_date_trans_time)\n",
    "plt.xticks(rotation = 90)\n",
    "plt.show()"
   ]
  },
  {
   "cell_type": "markdown",
   "id": "cd602045",
   "metadata": {
    "id": "W5Gaz_PQoWvG",
    "papermill": {
     "duration": 0.226287,
     "end_time": "2022-03-15T12:08:55.082491",
     "exception": false,
     "start_time": "2022-03-15T12:08:54.856204",
     "status": "completed"
    },
    "tags": []
   },
   "source": [
    "The most number of frauds were done in 1st quarter of 2019"
   ]
  },
  {
   "cell_type": "code",
   "execution_count": 86,
   "id": "5658ab72",
   "metadata": {
    "execution": {
     "iopub.execute_input": "2022-03-15T12:08:55.541253Z",
     "iopub.status.busy": "2022-03-15T12:08:55.540337Z",
     "iopub.status.idle": "2022-03-15T12:08:55.726596Z",
     "shell.execute_reply": "2022-03-15T12:08:55.727045Z",
     "shell.execute_reply.started": "2022-03-15T12:00:57.826779Z"
    },
    "id": "o9CQopsroV-B",
    "outputId": "26c55fa7-c895-4eb3-d368-91f19c54cc3a",
    "papermill": {
     "duration": 0.419005,
     "end_time": "2022-03-15T12:08:55.727212",
     "exception": false,
     "start_time": "2022-03-15T12:08:55.308207",
     "status": "completed"
    },
    "tags": []
   },
   "outputs": [
    {
     "data": {
      "image/png": "[encoded data removed]",
      "text/plain": [
       "<Figure size 432x288 with 1 Axes>"
      ]
     },
     "metadata": {
      "needs_background": "light"
     },
     "output_type": "display_data"
    }
   ],
   "source": [
    "# checking fraud transactions based on recency\n",
    "sns.countplot(y=data_fraud.recency_segment)\n",
    "plt.show()"
   ]
  },
  {
   "cell_type": "code",
   "execution_count": 87,
   "id": "f9c9236c",
   "metadata": {
    "execution": {
     "iopub.execute_input": "2022-03-15T12:08:56.181503Z",
     "iopub.status.busy": "2022-03-15T12:08:56.180580Z",
     "iopub.status.idle": "2022-03-15T12:08:57.731679Z",
     "shell.execute_reply": "2022-03-15T12:08:57.732231Z",
     "shell.execute_reply.started": "2022-03-15T12:00:58.030637Z"
    },
    "id": "B-XuvVaqWQOV",
    "outputId": "41f8b141-6820-47ee-d4b0-6cc059af77e0",
    "papermill": {
     "duration": 1.784033,
     "end_time": "2022-03-15T12:08:57.732403",
     "exception": false,
     "start_time": "2022-03-15T12:08:55.948370",
     "status": "completed"
    },
    "tags": []
   },
   "outputs": [
    {
     "data": {
      "image/png": "[encoded data removed]",
      "text/plain": [
       "<Figure size 432x288 with 1 Axes>"
      ]
     },
     "metadata": {
      "needs_background": "light"
     },
     "output_type": "display_data"
    }
   ],
   "source": [
    "# let's check overall recent transactions\n",
    "sns.countplot(y=data.recency_segment)\n",
    "plt.show()"
   ]
  },
  {
   "cell_type": "markdown",
   "id": "6d2619cb",
   "metadata": {
    "id": "nUWg9YbY0Ol9",
    "papermill": {
     "duration": 0.220634,
     "end_time": "2022-03-15T12:08:58.178928",
     "exception": false,
     "start_time": "2022-03-15T12:08:57.958294",
     "status": "completed"
    },
    "tags": []
   },
   "source": [
    "It can be observed that recent transactions are less in number overall while they are termed as more fraud, while other parameters like After Half-Day or Within 6 hours termed as fraud because probably customer have done a genuine transaction in the day, while the fraud transaction which was done through his/er card might be during the night time, as was seen earlier that peak hours for fraud transactions are in the night."
   ]
  },
  {
   "cell_type": "code",
   "execution_count": 88,
   "id": "b44dc1d1",
   "metadata": {
    "execution": {
     "iopub.execute_input": "2022-03-15T12:08:58.628714Z",
     "iopub.status.busy": "2022-03-15T12:08:58.627799Z",
     "iopub.status.idle": "2022-03-15T12:08:58.831414Z",
     "shell.execute_reply": "2022-03-15T12:08:58.831896Z",
     "shell.execute_reply.started": "2022-03-15T12:00:59.688091Z"
    },
    "id": "0s1O7ExLZbuv",
    "outputId": "0625585c-021e-48ab-e9ed-d435abd4ac85",
    "papermill": {
     "duration": 0.429949,
     "end_time": "2022-03-15T12:08:58.832063",
     "exception": false,
     "start_time": "2022-03-15T12:08:58.402114",
     "status": "completed"
    },
    "tags": []
   },
   "outputs": [
    {
     "data": {
      "image/png": "[encoded data removed]",
      "text/plain": [
       "<Figure size 432x288 with 1 Axes>"
      ]
     },
     "metadata": {
      "needs_background": "light"
     },
     "output_type": "display_data"
    }
   ],
   "source": [
    "# checking how recent the transaction is can be termed as fraud\n",
    "sns.kdeplot(data_fraud.recency)\n",
    "plt.xlim(right = 50,left = -1)\n",
    "plt.show()"
   ]
  },
  {
   "cell_type": "markdown",
   "id": "0ec8c698",
   "metadata": {
    "id": "N0U-MWBxaCHp",
    "papermill": {
     "duration": 0.224574,
     "end_time": "2022-03-15T12:08:59.284066",
     "exception": false,
     "start_time": "2022-03-15T12:08:59.059492",
     "status": "completed"
    },
    "tags": []
   },
   "source": [
    "So, it can be termed that transactions happened within 1 hour have high chances of being fraud"
   ]
  },
  {
   "cell_type": "code",
   "execution_count": 89,
   "id": "89c87a50",
   "metadata": {
    "execution": {
     "iopub.execute_input": "2022-03-15T12:08:59.740570Z",
     "iopub.status.busy": "2022-03-15T12:08:59.739596Z",
     "iopub.status.idle": "2022-03-15T12:08:59.931666Z",
     "shell.execute_reply": "2022-03-15T12:08:59.932261Z",
     "shell.execute_reply.started": "2022-03-15T12:00:59.920098Z"
    },
    "id": "ffL36liFwXvn",
    "outputId": "1dd2b1d3-6e0a-4e29-d8d1-e95932aa1d46",
    "papermill": {
     "duration": 0.421595,
     "end_time": "2022-03-15T12:08:59.932498",
     "exception": false,
     "start_time": "2022-03-15T12:08:59.510903",
     "status": "completed"
    },
    "tags": []
   },
   "outputs": [
    {
     "data": {
      "image/png": "[encoded data removed]",
      "text/plain": [
       "<Figure size 432x288 with 1 Axes>"
      ]
     },
     "metadata": {
      "needs_background": "light"
     },
     "output_type": "display_data"
    }
   ],
   "source": [
    "sns.kdeplot(data_fraud[data_fraud[\"recency_segment\"] == \"Recent_Transaction\"].Time)\n",
    "plt.xlim(left=0,right=24)\n",
    "plt.show()"
   ]
  },
  {
   "cell_type": "markdown",
   "id": "3051a67b",
   "metadata": {
    "id": "S1JfL5qXw4VU",
    "papermill": {
     "duration": 0.227767,
     "end_time": "2022-03-15T12:09:00.389254",
     "exception": false,
     "start_time": "2022-03-15T12:09:00.161487",
     "status": "completed"
    },
    "tags": []
   },
   "source": [
    "We can see that most of the transactions, which were done within one hour by the same card, were done in the peak hours, when fraud transactions were done"
   ]
  },
  {
   "cell_type": "code",
   "execution_count": 90,
   "id": "05138476",
   "metadata": {
    "execution": {
     "iopub.execute_input": "2022-03-15T12:09:00.842493Z",
     "iopub.status.busy": "2022-03-15T12:09:00.841596Z",
     "iopub.status.idle": "2022-03-15T12:09:01.023314Z",
     "shell.execute_reply": "2022-03-15T12:09:01.023780Z",
     "shell.execute_reply.started": "2022-03-15T12:01:00.133631Z"
    },
    "id": "mJ-er2xhcZ3I",
    "outputId": "32996418-d9a1-4bb4-b377-4beb0cc948f3",
    "papermill": {
     "duration": 0.406709,
     "end_time": "2022-03-15T12:09:01.023942",
     "exception": false,
     "start_time": "2022-03-15T12:09:00.617233",
     "status": "completed"
    },
    "tags": []
   },
   "outputs": [
    {
     "data": {
      "text/plain": [
       "7.62970498474059"
      ]
     },
     "execution_count": 90,
     "metadata": {},
     "output_type": "execute_result"
    }
   ],
   "source": [
    "# checking separately for first transactions done through credit cards.\n",
    "(data_fraud[data[\"recency_segment\"] == \"First Transaction\"][\"is_fraud\"].sum()/len(data[data[\"recency\"]<0][\"is_fraud\"]))*100"
   ]
  },
  {
   "cell_type": "markdown",
   "id": "d9602d65",
   "metadata": {
    "id": "cXKXMuirIVuz",
    "papermill": {
     "duration": 0.225885,
     "end_time": "2022-03-15T12:09:01.476078",
     "exception": false,
     "start_time": "2022-03-15T12:09:01.250193",
     "status": "completed"
    },
    "tags": []
   },
   "source": [
    "There are 7% transactions which were also termed as zero, since first transaction through a credit card by customer is very important as it builds the image of a company in customer's eyes, so it is highly important to check and ask for the customer's consent of his/er first transaction. This can also build the trust relationship of a company with the customer"
   ]
  },
  {
   "cell_type": "code",
   "execution_count": 91,
   "id": "775e5b09",
   "metadata": {
    "execution": {
     "iopub.execute_input": "2022-03-15T12:09:01.932037Z",
     "iopub.status.busy": "2022-03-15T12:09:01.931085Z",
     "iopub.status.idle": "2022-03-15T12:09:02.176517Z",
     "shell.execute_reply": "2022-03-15T12:09:02.176035Z",
     "shell.execute_reply.started": "2022-03-15T12:01:00.333631Z"
    },
    "id": "jclZ725tp0FH",
    "outputId": "ca98303f-5e85-48e3-d303-06dfa7632c67",
    "papermill": {
     "duration": 0.471963,
     "end_time": "2022-03-15T12:09:02.176651",
     "exception": false,
     "start_time": "2022-03-15T12:09:01.704688",
     "status": "completed"
    },
    "tags": []
   },
   "outputs": [
    {
     "data": {
      "image/png": "[encoded data removed]",
      "text/plain": [
       "<Figure size 432x288 with 1 Axes>"
      ]
     },
     "metadata": {
      "needs_background": "light"
     },
     "output_type": "display_data"
    }
   ],
   "source": [
    "# checking which category have highest number of frauds\n",
    "sns.countplot(y=data_fraud.category)\n",
    "plt.show()"
   ]
  },
  {
   "cell_type": "markdown",
   "id": "31633ea6",
   "metadata": {
    "id": "yYUMM8hILg8L",
    "papermill": {
     "duration": 0.221992,
     "end_time": "2022-03-15T12:09:02.623215",
     "exception": false,
     "start_time": "2022-03-15T12:09:02.401223",
     "status": "completed"
    },
    "tags": []
   },
   "source": [
    "Offline Grocery and Internet Shopping having highest number of frauds made"
   ]
  },
  {
   "cell_type": "code",
   "execution_count": 92,
   "id": "f1c685c8",
   "metadata": {
    "execution": {
     "iopub.execute_input": "2022-03-15T12:09:03.078287Z",
     "iopub.status.busy": "2022-03-15T12:09:03.077346Z",
     "iopub.status.idle": "2022-03-15T12:09:03.408375Z",
     "shell.execute_reply": "2022-03-15T12:09:03.407925Z",
     "shell.execute_reply.started": "2022-03-15T12:01:00.594997Z"
    },
    "id": "7UUBB8zq4Gnn",
    "outputId": "c212bbdb-e55e-44c0-9f14-6419bf2d026e",
    "papermill": {
     "duration": 0.562829,
     "end_time": "2022-03-15T12:09:03.408498",
     "exception": false,
     "start_time": "2022-03-15T12:09:02.845669",
     "status": "completed"
    },
    "tags": []
   },
   "outputs": [
    {
     "data": {
      "image/png": "[encoded data removed]",
      "text/plain": [
       "<Figure size 864x432 with 2 Axes>"
      ]
     },
     "metadata": {
      "needs_background": "light"
     },
     "output_type": "display_data"
    }
   ],
   "source": [
    "# checking fraud_peak hours in grocery_pos and shopping_net categories\n",
    "plt.figure(figsize=[12,6])\n",
    "plt.subplot(121)\n",
    "sns.kdeplot(x=data_fraud[data_fraud.category == \"grocery_pos\"].Time)\n",
    "plt.xlim(left=0,right=24)\n",
    "plt.title(label = \"Offline Grocery Transactions Frauds\", fontdict = {\"color\": \"Red\", \"size\": 15, \"weight\" : \"5\"})\n",
    "plt.subplot(122)\n",
    "sns.kdeplot(x=data_fraud[data_fraud.category == \"shopping_net\"].Time)\n",
    "plt.title(label = \"Internet Shopping Transactions Frauds\", fontdict = {\"color\": \"Green\", \"size\": 15, \"weight\" : \"5\"})\n",
    "plt.xlim(left=0,right=24)\n",
    "plt.show()"
   ]
  },
  {
   "cell_type": "markdown",
   "id": "6931151b",
   "metadata": {
    "id": "KPNSaNROOFz5",
    "papermill": {
     "duration": 0.230337,
     "end_time": "2022-03-15T12:09:03.875029",
     "exception": false,
     "start_time": "2022-03-15T12:09:03.644692",
     "status": "completed"
    },
    "tags": []
   },
   "source": [
    "It can be seen in offline Grocery transactions that majority of transactions were done in night after 12:00 A.M. which is absurd, as there are very less customers (negligible) who approach to grocery stores to buy grocery same goes with Internet Shopping Transactions, as customers prefer to go to a sleep in these odd hours"
   ]
  },
  {
   "cell_type": "code",
   "execution_count": 93,
   "id": "71f89632",
   "metadata": {
    "execution": {
     "iopub.execute_input": "2022-03-15T12:09:04.345075Z",
     "iopub.status.busy": "2022-03-15T12:09:04.344402Z",
     "iopub.status.idle": "2022-03-15T12:09:05.582514Z",
     "shell.execute_reply": "2022-03-15T12:09:05.582926Z",
     "shell.execute_reply.started": "2022-03-15T12:01:00.990202Z"
    },
    "id": "KCX7l-sm4OrS",
    "outputId": "8acd99df-f0dc-4df8-9636-e3aaf50071dc",
    "papermill": {
     "duration": 1.472085,
     "end_time": "2022-03-15T12:09:05.583117",
     "exception": false,
     "start_time": "2022-03-15T12:09:04.111032",
     "status": "completed"
    },
    "tags": []
   },
   "outputs": [
    {
     "data": {
      "image/png": "[encoded data removed]",
      "text/plain": [
       "<Figure size 864x720 with 2 Axes>"
      ]
     },
     "metadata": {
      "needs_background": "light"
     },
     "output_type": "display_data"
    }
   ],
   "source": [
    "# let's check state-wise grocery and shopping frauds\n",
    "plt.figure(figsize=[12,10])\n",
    "plt.subplot(121)\n",
    "sns.countplot(y=data_fraud[data_fraud.category == \"grocery_pos\"].state)\n",
    "plt.title(label = \"Offline Grocery Transactions Frauds \\n by States\", fontdict = {\"color\": \"Red\", \"size\": 15, \"weight\" : \"5\"})\n",
    "plt.subplot(122)\n",
    "sns.countplot(y=data_fraud[data_fraud.category == \"shopping_net\"].state)\n",
    "plt.title(label = \"Internet Shopping Transactions Frauds \\n by States\", fontdict = {\"color\": \"Green\", \"size\": 15, \"weight\" : \"5\"})\n",
    "plt.show()"
   ]
  },
  {
   "cell_type": "markdown",
   "id": "78382d2a",
   "metadata": {
    "id": "VxpCqU5MQ1IW",
    "papermill": {
     "duration": 0.22476,
     "end_time": "2022-03-15T12:09:06.038756",
     "exception": false,
     "start_time": "2022-03-15T12:09:05.813996",
     "status": "completed"
    },
    "tags": []
   },
   "source": [
    "In offline grocery transactions New York leads the graph by a huge margin while in online shopping transactions Texas leads the graph followed by New York and Pennsylvania by a very less margin"
   ]
  },
  {
   "cell_type": "code",
   "execution_count": 94,
   "id": "17a14b12",
   "metadata": {
    "execution": {
     "iopub.execute_input": "2022-03-15T12:09:06.503000Z",
     "iopub.status.busy": "2022-03-15T12:09:06.502364Z",
     "iopub.status.idle": "2022-03-15T12:09:06.667855Z",
     "shell.execute_reply": "2022-03-15T12:09:06.667375Z",
     "shell.execute_reply.started": "2022-03-15T12:01:02.405863Z"
    },
    "id": "FBxYKi_kP2tw",
    "outputId": "2d277d67-8565-446c-9355-b5d757f2ccbb",
    "papermill": {
     "duration": 0.401181,
     "end_time": "2022-03-15T12:09:06.668022",
     "exception": false,
     "start_time": "2022-03-15T12:09:06.266841",
     "status": "completed"
    },
    "tags": []
   },
   "outputs": [
    {
     "data": {
      "image/png": "[encoded data removed]",
      "text/plain": [
       "<Figure size 432x288 with 1 Axes>"
      ]
     },
     "metadata": {
      "needs_background": "light"
     },
     "output_type": "display_data"
    }
   ],
   "source": [
    "# let's check how far frauds happens from customer's residence\n",
    "sns.countplot(data_fraud.location)\n",
    "plt.show()"
   ]
  },
  {
   "cell_type": "markdown",
   "id": "decf25a9",
   "metadata": {
    "id": "5dvz8UH4TCu2",
    "papermill": {
     "duration": 0.304562,
     "end_time": "2022-03-15T12:09:07.251217",
     "exception": false,
     "start_time": "2022-03-15T12:09:06.946655",
     "status": "completed"
    },
    "tags": []
   },
   "source": [
    "It can be seen that if the merchant's location is far away from customer's location, then the probability of transaction being a fraud increases"
   ]
  },
  {
   "cell_type": "code",
   "execution_count": 95,
   "id": "f47243b9",
   "metadata": {
    "execution": {
     "iopub.execute_input": "2022-03-15T12:09:07.737800Z",
     "iopub.status.busy": "2022-03-15T12:09:07.737219Z",
     "iopub.status.idle": "2022-03-15T12:09:07.890123Z",
     "shell.execute_reply": "2022-03-15T12:09:07.889586Z",
     "shell.execute_reply.started": "2022-03-15T12:01:02.593256Z"
    },
    "id": "LD-t9Pa9SRpy",
    "outputId": "c1a9b18e-9724-4b07-8dba-51b12245b705",
    "papermill": {
     "duration": 0.396294,
     "end_time": "2022-03-15T12:09:07.890282",
     "exception": false,
     "start_time": "2022-03-15T12:09:07.493988",
     "status": "completed"
    },
    "tags": []
   },
   "outputs": [
    {
     "data": {
      "image/png": "[encoded data removed]",
      "text/plain": [
       "<Figure size 432x288 with 1 Axes>"
      ]
     },
     "metadata": {
      "needs_background": "light"
     },
     "output_type": "display_data"
    }
   ],
   "source": [
    "# let's have a look on fraud transactions based on Gender\n",
    "sns.countplot(data_fraud.gender)\n",
    "plt.show()"
   ]
  },
  {
   "cell_type": "markdown",
   "id": "1323697b",
   "metadata": {
    "id": "TRioo1RxTkNG",
    "papermill": {
     "duration": 0.259086,
     "end_time": "2022-03-15T12:09:08.389269",
     "exception": false,
     "start_time": "2022-03-15T12:09:08.130183",
     "status": "completed"
    },
    "tags": []
   },
   "source": [
    "We can see that both are equally vulnerable to fraud transactions"
   ]
  },
  {
   "cell_type": "code",
   "execution_count": 96,
   "id": "6e007b5a",
   "metadata": {
    "execution": {
     "iopub.execute_input": "2022-03-15T12:09:08.861134Z",
     "iopub.status.busy": "2022-03-15T12:09:08.860150Z",
     "iopub.status.idle": "2022-03-15T12:09:09.701260Z",
     "shell.execute_reply": "2022-03-15T12:09:09.701755Z",
     "shell.execute_reply.started": "2022-03-15T12:01:02.764761Z"
    },
    "id": "JvIKb9ikSf6s",
    "outputId": "cc7be403-f69d-432a-8788-e37717ee3fef",
    "papermill": {
     "duration": 1.078265,
     "end_time": "2022-03-15T12:09:09.701911",
     "exception": false,
     "start_time": "2022-03-15T12:09:08.623646",
     "status": "completed"
    },
    "tags": []
   },
   "outputs": [
    {
     "data": {
      "image/png": "[encoded data removed]",
      "text/plain": [
       "<Figure size 1080x720 with 1 Axes>"
      ]
     },
     "metadata": {
      "needs_background": "light"
     },
     "output_type": "display_data"
    }
   ],
   "source": [
    "# Let's see the above graph through states\n",
    "plt.figure(figsize = [15,10])\n",
    "sns.countplot(y=data_fraud.state, hue=data_fraud.gender)\n",
    "plt.show()"
   ]
  },
  {
   "cell_type": "markdown",
   "id": "85f496d7",
   "metadata": {
    "id": "D5JXCWgkUS-v",
    "papermill": {
     "duration": 0.234841,
     "end_time": "2022-03-15T12:09:10.170845",
     "exception": false,
     "start_time": "2022-03-15T12:09:09.936004",
     "status": "completed"
    },
    "tags": []
   },
   "source": [
    "We can see that New York which have highest number of frauds happenning in the state, females are more vulnerable from fraud_attacks"
   ]
  },
  {
   "cell_type": "code",
   "execution_count": 97,
   "id": "ef54e13c",
   "metadata": {
    "execution": {
     "iopub.execute_input": "2022-03-15T12:09:10.638164Z",
     "iopub.status.busy": "2022-03-15T12:09:10.637206Z",
     "iopub.status.idle": "2022-03-15T12:09:10.849521Z",
     "shell.execute_reply": "2022-03-15T12:09:10.850083Z",
     "shell.execute_reply.started": "2022-03-15T12:01:03.657458Z"
    },
    "id": "EAN8Zg75T8z4",
    "outputId": "15486dd0-e2e9-4054-b0db-e60521ff3b85",
    "papermill": {
     "duration": 0.449085,
     "end_time": "2022-03-15T12:09:10.850257",
     "exception": false,
     "start_time": "2022-03-15T12:09:10.401172",
     "status": "completed"
    },
    "tags": []
   },
   "outputs": [
    {
     "data": {
      "image/png": "[encoded data removed]",
      "text/plain": [
       "<Figure size 432x288 with 1 Axes>"
      ]
     },
     "metadata": {
      "needs_background": "light"
     },
     "output_type": "display_data"
    }
   ],
   "source": [
    "# Let's checkwhat is the fraud intensity respective to amount\n",
    "sns.kdeplot(data_fraud.amt)\n",
    "plt.xlim(left=0)\n",
    "plt.show()"
   ]
  },
  {
   "cell_type": "markdown",
   "id": "9ff01ac8",
   "metadata": {
    "id": "HOR0riGjVNQk",
    "papermill": {
     "duration": 0.234695,
     "end_time": "2022-03-15T12:09:11.324636",
     "exception": false,
     "start_time": "2022-03-15T12:09:11.089941",
     "status": "completed"
    },
    "tags": []
   },
   "source": [
    "Its forming a cycle, no insights can be formed, just to be clear more frauds are happening from the amount range of $200-$400"
   ]
  },
  {
   "cell_type": "code",
   "execution_count": 98,
   "id": "8f3a627b",
   "metadata": {
    "execution": {
     "iopub.execute_input": "2022-03-15T12:09:11.798814Z",
     "iopub.status.busy": "2022-03-15T12:09:11.797794Z",
     "iopub.status.idle": "2022-03-15T12:09:14.223349Z",
     "shell.execute_reply": "2022-03-15T12:09:14.223845Z",
     "shell.execute_reply.started": "2022-03-15T12:01:03.885692Z"
    },
    "id": "Ff4iyLQ4UofH",
    "outputId": "c91069bd-5559-4629-99e9-e09ebb361060",
    "papermill": {
     "duration": 2.661033,
     "end_time": "2022-03-15T12:09:14.224028",
     "exception": false,
     "start_time": "2022-03-15T12:09:11.562995",
     "status": "completed"
    },
    "tags": []
   },
   "outputs": [
    {
     "data": {
      "image/png": "[encoded data removed]",
      "text/plain": [
       "<Figure size 432x288 with 1 Axes>"
      ]
     },
     "metadata": {
      "needs_background": "light"
     },
     "output_type": "display_data"
    }
   ],
   "source": [
    "# let's visualize this cycle with respect to gender\n",
    "sns.kdeplot(data_fraud.amt,hue=data.gender)\n",
    "plt.xlim(left=0)\n",
    "plt.show()"
   ]
  },
  {
   "cell_type": "markdown",
   "id": "69bc0344",
   "metadata": {
    "id": "Mp55yoXufJ-x",
    "papermill": {
     "duration": 0.230592,
     "end_time": "2022-03-15T12:09:14.695718",
     "exception": false,
     "start_time": "2022-03-15T12:09:14.465126",
     "status": "completed"
    },
    "tags": []
   },
   "source": [
    "From here we can visualize that Male faces more losses than females\n"
   ]
  },
  {
   "cell_type": "code",
   "execution_count": 99,
   "id": "1bc1d20e",
   "metadata": {
    "execution": {
     "iopub.execute_input": "2022-03-15T12:09:15.163286Z",
     "iopub.status.busy": "2022-03-15T12:09:15.162475Z",
     "iopub.status.idle": "2022-03-15T12:09:15.811376Z",
     "shell.execute_reply": "2022-03-15T12:09:15.812024Z",
     "shell.execute_reply.started": "2022-03-15T12:01:06.474268Z"
    },
    "id": "49AbuEMfVkLg",
    "outputId": "e9648d3f-1cc3-4bec-c81b-6c0b904bf113",
    "papermill": {
     "duration": 0.884996,
     "end_time": "2022-03-15T12:09:15.812214",
     "exception": false,
     "start_time": "2022-03-15T12:09:14.927218",
     "status": "completed"
    },
    "tags": []
   },
   "outputs": [
    {
     "data": {
      "image/png": "[encoded data removed]",
      "text/plain": [
       "<Figure size 720x864 with 1 Axes>"
      ]
     },
     "metadata": {
      "needs_background": "light"
     },
     "output_type": "display_data"
    }
   ],
   "source": [
    "# Let's see statewise losses\n",
    "# initializing data\n",
    "data_state = data_fraud.groupby(by = \"state\").sum()\n",
    "plt.figure(figsize=[10,12]),\n",
    "sns.barplot(y = data_state.index,x=data_state.amt)\n",
    "plt.show()"
   ]
  },
  {
   "cell_type": "markdown",
   "id": "a4991242",
   "metadata": {
    "id": "-zPHkFNegUip",
    "papermill": {
     "duration": 0.238443,
     "end_time": "2022-03-15T12:09:16.288689",
     "exception": false,
     "start_time": "2022-03-15T12:09:16.050246",
     "status": "completed"
    },
    "tags": []
   },
   "source": [
    "Highest losses are from New York"
   ]
  },
  {
   "cell_type": "code",
   "execution_count": 100,
   "id": "afd5918b",
   "metadata": {
    "execution": {
     "iopub.execute_input": "2022-03-15T12:09:16.766624Z",
     "iopub.status.busy": "2022-03-15T12:09:16.765581Z",
     "iopub.status.idle": "2022-03-15T12:09:17.020888Z",
     "shell.execute_reply": "2022-03-15T12:09:17.021364Z",
     "shell.execute_reply.started": "2022-03-15T12:01:07.181415Z"
    },
    "id": "4MIL-EWugT9u",
    "outputId": "5a13f098-19aa-4a05-eea4-e2a83d7bbf60",
    "papermill": {
     "duration": 0.491485,
     "end_time": "2022-03-15T12:09:17.021529",
     "exception": false,
     "start_time": "2022-03-15T12:09:16.530044",
     "status": "completed"
    },
    "tags": []
   },
   "outputs": [
    {
     "data": {
      "image/png": "[encoded data removed]",
      "text/plain": [
       "<Figure size 432x288 with 1 Axes>"
      ]
     },
     "metadata": {
      "needs_background": "light"
     },
     "output_type": "display_data"
    }
   ],
   "source": [
    "# Let's see in which category the losses are huge\n",
    "data_cat = data_fraud.groupby(by = \"category\").sum()\n",
    "sns.barplot(y = data_cat.index,x=data_cat.amt)\n",
    "plt.show()"
   ]
  },
  {
   "cell_type": "markdown",
   "id": "aef5cab6",
   "metadata": {
    "id": "Amjhkuz7h-Q7",
    "papermill": {
     "duration": 0.247214,
     "end_time": "2022-03-15T12:09:17.514831",
     "exception": false,
     "start_time": "2022-03-15T12:09:17.267617",
     "status": "completed"
    },
    "tags": []
   },
   "source": [
    "From above we can come to a conclusion that internet shopping amounts to huge losses to the company which are more than $1.6 million"
   ]
  },
  {
   "cell_type": "code",
   "execution_count": 101,
   "id": "158e10cc",
   "metadata": {
    "execution": {
     "iopub.execute_input": "2022-03-15T12:09:18.015023Z",
     "iopub.status.busy": "2022-03-15T12:09:18.014269Z",
     "iopub.status.idle": "2022-03-15T12:09:18.267836Z",
     "shell.execute_reply": "2022-03-15T12:09:18.268550Z",
     "shell.execute_reply.started": "2022-03-15T12:01:07.460011Z"
    },
    "id": "GzmnRf8ef0xr",
    "outputId": "552cfeb6-edc2-4b5f-d64c-4cbd0fdbb0c5",
    "papermill": {
     "duration": 0.508083,
     "end_time": "2022-03-15T12:09:18.268753",
     "exception": false,
     "start_time": "2022-03-15T12:09:17.760670",
     "status": "completed"
    },
    "tags": []
   },
   "outputs": [
    {
     "data": {
      "image/png": "[encoded data removed]",
      "text/plain": [
       "<Figure size 432x288 with 1 Axes>"
      ]
     },
     "metadata": {
      "needs_background": "light"
     },
     "output_type": "display_data"
    },
    {
     "data": {
      "text/html": [
       "<div>\n",
       "<style scoped>\n",
       "    .dataframe tbody tr th:only-of-type {\n",
       "        vertical-align: middle;\n",
       "    }\n",
       "\n",
       "    .dataframe tbody tr th {\n",
       "        vertical-align: top;\n",
       "    }\n",
       "\n",
       "    .dataframe thead th {\n",
       "        text-align: right;\n",
       "    }\n",
       "</style>\n",
       "<table border=\"1\" class=\"dataframe\">\n",
       "  <thead>\n",
       "    <tr style=\"text-align: right;\">\n",
       "      <th></th>\n",
       "      <th>Category</th>\n",
       "      <th>Ticket Size</th>\n",
       "    </tr>\n",
       "  </thead>\n",
       "  <tbody>\n",
       "    <tr>\n",
       "      <th>11</th>\n",
       "      <td>shopping_net</td>\n",
       "      <td>999.254939</td>\n",
       "    </tr>\n",
       "    <tr>\n",
       "      <th>12</th>\n",
       "      <td>shopping_pos</td>\n",
       "      <td>876.921815</td>\n",
       "    </tr>\n",
       "    <tr>\n",
       "      <th>8</th>\n",
       "      <td>misc_net</td>\n",
       "      <td>797.012852</td>\n",
       "    </tr>\n",
       "    <tr>\n",
       "      <th>0</th>\n",
       "      <td>entertainment</td>\n",
       "      <td>503.535579</td>\n",
       "    </tr>\n",
       "    <tr>\n",
       "      <th>4</th>\n",
       "      <td>grocery_pos</td>\n",
       "      <td>311.989616</td>\n",
       "    </tr>\n",
       "    <tr>\n",
       "      <th>6</th>\n",
       "      <td>home</td>\n",
       "      <td>257.432626</td>\n",
       "    </tr>\n",
       "    <tr>\n",
       "      <th>9</th>\n",
       "      <td>misc_pos</td>\n",
       "      <td>218.284080</td>\n",
       "    </tr>\n",
       "    <tr>\n",
       "      <th>1</th>\n",
       "      <td>food_dining</td>\n",
       "      <td>120.076954</td>\n",
       "    </tr>\n",
       "    <tr>\n",
       "      <th>10</th>\n",
       "      <td>personal_care</td>\n",
       "      <td>26.170545</td>\n",
       "    </tr>\n",
       "    <tr>\n",
       "      <th>5</th>\n",
       "      <td>health_fitness</td>\n",
       "      <td>20.248421</td>\n",
       "    </tr>\n",
       "    <tr>\n",
       "      <th>7</th>\n",
       "      <td>kids_pets</td>\n",
       "      <td>18.121674</td>\n",
       "    </tr>\n",
       "    <tr>\n",
       "      <th>2</th>\n",
       "      <td>gas_transport</td>\n",
       "      <td>12.288204</td>\n",
       "    </tr>\n",
       "    <tr>\n",
       "      <th>3</th>\n",
       "      <td>grocery_net</td>\n",
       "      <td>12.162836</td>\n",
       "    </tr>\n",
       "    <tr>\n",
       "      <th>13</th>\n",
       "      <td>travel</td>\n",
       "      <td>9.064569</td>\n",
       "    </tr>\n",
       "  </tbody>\n",
       "</table>\n",
       "</div>"
      ],
      "text/plain": [
       "          Category  Ticket Size\n",
       "11    shopping_net   999.254939\n",
       "12    shopping_pos   876.921815\n",
       "8         misc_net   797.012852\n",
       "0    entertainment   503.535579\n",
       "4      grocery_pos   311.989616\n",
       "6             home   257.432626\n",
       "9         misc_pos   218.284080\n",
       "1      food_dining   120.076954\n",
       "10   personal_care    26.170545\n",
       "5   health_fitness    20.248421\n",
       "7        kids_pets    18.121674\n",
       "2    gas_transport    12.288204\n",
       "3      grocery_net    12.162836\n",
       "13          travel     9.064569"
      ]
     },
     "execution_count": 101,
     "metadata": {},
     "output_type": "execute_result"
    }
   ],
   "source": [
    "# Let's have a look on average ticket_size of frauds in each category\n",
    "sns.barplot(y=data_cat.index,x= (data_cat.amt/data_cat.is_fraud))\n",
    "plt.show()\n",
    "data_ticket = pd.DataFrame({\"Category\" : data_cat.index,\"Ticket Size\": data_cat.amt/data_cat.is_fraud})\n",
    "data_ticket.reset_index(inplace=True)\n",
    "data_ticket.drop(\"category\",1,inplace=True)\n",
    "data_ticket.sort_values(by=\"Ticket Size\",ascending=False)"
   ]
  },
  {
   "cell_type": "markdown",
   "id": "76aa5cf4",
   "metadata": {
    "id": "uYjfwuURlIqM",
    "papermill": {
     "duration": 0.244595,
     "end_time": "2022-03-15T12:09:18.769767",
     "exception": false,
     "start_time": "2022-03-15T12:09:18.525172",
     "status": "completed"
    },
    "tags": []
   },
   "source": [
    "We can see the hishest ticket size is in shopping_net, which means high amount is withdrawn with every fraud transaction of category shopping_net or **Internet Shopping**"
   ]
  },
  {
   "cell_type": "markdown",
   "id": "d0c064c7",
   "metadata": {
    "id": "n2Igh5Keaban",
    "papermill": {
     "duration": 0.254958,
     "end_time": "2022-03-15T12:09:19.269888",
     "exception": false,
     "start_time": "2022-03-15T12:09:19.014930",
     "status": "completed"
    },
    "tags": []
   },
   "source": [
    "## Model Building"
   ]
  },
  {
   "cell_type": "markdown",
   "id": "a6902381",
   "metadata": {
    "id": "WnAN9dRRbmBh",
    "papermill": {
     "duration": 0.250107,
     "end_time": "2022-03-15T12:09:19.804830",
     "exception": false,
     "start_time": "2022-03-15T12:09:19.554723",
     "status": "completed"
    },
    "tags": []
   },
   "source": [
    "### Logistic Regression"
   ]
  },
  {
   "cell_type": "markdown",
   "id": "d7229fea",
   "metadata": {
    "id": "3iUqxlN3agsH",
    "papermill": {
     "duration": 0.236593,
     "end_time": "2022-03-15T12:09:20.276113",
     "exception": false,
     "start_time": "2022-03-15T12:09:20.039520",
     "status": "completed"
    },
    "tags": []
   },
   "source": [
    "#### Creating Dummy Variables"
   ]
  },
  {
   "cell_type": "code",
   "execution_count": 102,
   "id": "da17c36d",
   "metadata": {
    "execution": {
     "iopub.execute_input": "2022-03-15T12:09:20.750653Z",
     "iopub.status.busy": "2022-03-15T12:09:20.748941Z",
     "iopub.status.idle": "2022-03-15T12:09:22.093266Z",
     "shell.execute_reply": "2022-03-15T12:09:22.092651Z",
     "shell.execute_reply.started": "2022-03-15T12:01:07.731796Z"
    },
    "id": "ucAZClQTafPs",
    "papermill": {
     "duration": 1.582358,
     "end_time": "2022-03-15T12:09:22.093416",
     "exception": false,
     "start_time": "2022-03-15T12:09:20.511058",
     "status": "completed"
    },
    "tags": []
   },
   "outputs": [],
   "source": [
    "# we need to drop \"merchant\",\"job\",\"trans_date_trans_time\" columns because we have binned them, and also to avoid model complexity and multicollinearity,\n",
    "# also we need to drop unique identifiers columns because those are for company's reference only and does not contribute in fraud prediction\n",
    "\n",
    "# we are also removing state columnn, because it will create 49 extra dummy variables which will make our model computationally cost intensive model\n",
    "# also in state column there are many states which have very less number of fraud transactions, so because of class imbalance those dummy variables can raise some unwanted cases\n",
    "\n",
    "data4 = data.drop(columns=[\"trans_date_trans_time\",\"cc_num\",\"merchant\",\"job\",\"state\"])\n",
    "data5 = pd.get_dummies(data=data4,columns=[\"category\",\"gender\",\"recency_segment\",\"city_pop_segment\",\"location\"], drop_first=True)\n",
    "\n",
    "# assigning them to test dataset\n",
    "\n",
    "data6 = data_t.drop(columns=[\"trans_date_trans_time\",\"cc_num\",\"merchant\",\"job\",\"state\"])\n",
    "data_test = pd.get_dummies(data=data6,columns=[\"category\",\"gender\",\"recency_segment\",\"city_pop_segment\",\"location\"], drop_first=True)"
   ]
  },
  {
   "cell_type": "code",
   "execution_count": 103,
   "id": "f741b21c",
   "metadata": {
    "execution": {
     "iopub.execute_input": "2022-03-15T12:09:22.570865Z",
     "iopub.status.busy": "2022-03-15T12:09:22.569652Z",
     "iopub.status.idle": "2022-03-15T12:09:22.638195Z",
     "shell.execute_reply": "2022-03-15T12:09:22.637664Z",
     "shell.execute_reply.started": "2022-03-15T12:01:09.388260Z"
    },
    "id": "U9kFP7VWbuOO",
    "outputId": "76b03c4d-f163-45c1-adec-748414cc7e80",
    "papermill": {
     "duration": 0.310311,
     "end_time": "2022-03-15T12:09:22.638320",
     "exception": false,
     "start_time": "2022-03-15T12:09:22.328009",
     "status": "completed"
    },
    "tags": []
   },
   "outputs": [
    {
     "name": "stdout",
     "output_type": "stream",
     "text": [
      "<class 'pandas.core.frame.DataFrame'>\n",
      "RangeIndex: 1296675 entries, 0 to 1296674\n",
      "Data columns (total 28 columns):\n",
      " #   Column                              Non-Null Count    Dtype  \n",
      "---  ------                              --------------    -----  \n",
      " 0   amt                                 1296675 non-null  float64\n",
      " 1   is_fraud                            1296675 non-null  int64  \n",
      " 2   recency                             1296675 non-null  float64\n",
      " 3   displacement                        1296675 non-null  float64\n",
      " 4   Time                                1296675 non-null  int64  \n",
      " 5   category_food_dining                1296675 non-null  uint8  \n",
      " 6   category_gas_transport              1296675 non-null  uint8  \n",
      " 7   category_grocery_net                1296675 non-null  uint8  \n",
      " 8   category_grocery_pos                1296675 non-null  uint8  \n",
      " 9   category_health_fitness             1296675 non-null  uint8  \n",
      " 10  category_home                       1296675 non-null  uint8  \n",
      " 11  category_kids_pets                  1296675 non-null  uint8  \n",
      " 12  category_misc_net                   1296675 non-null  uint8  \n",
      " 13  category_misc_pos                   1296675 non-null  uint8  \n",
      " 14  category_personal_care              1296675 non-null  uint8  \n",
      " 15  category_shopping_net               1296675 non-null  uint8  \n",
      " 16  category_shopping_pos               1296675 non-null  uint8  \n",
      " 17  category_travel                     1296675 non-null  uint8  \n",
      " 18  gender_M                            1296675 non-null  uint8  \n",
      " 19  recency_segment_After 6 hours       1296675 non-null  uint8  \n",
      " 20  recency_segment_After Half-Day      1296675 non-null  uint8  \n",
      " 21  recency_segment_First Transaction   1296675 non-null  uint8  \n",
      " 22  recency_segment_Recent_Transaction  1296675 non-null  uint8  \n",
      " 23  recency_segment_Within 6 hours      1296675 non-null  uint8  \n",
      " 24  city_pop_segment_Densely populated  1296675 non-null  uint8  \n",
      " 25  city_pop_segment_Less Dense         1296675 non-null  uint8  \n",
      " 26  location_Long Distance              1296675 non-null  uint8  \n",
      " 27  location_Nearby                     1296675 non-null  uint8  \n",
      "dtypes: float64(3), int64(2), uint8(23)\n",
      "memory usage: 77.9 MB\n"
     ]
    }
   ],
   "source": [
    "# checking columns\n",
    "data5.info()"
   ]
  },
  {
   "cell_type": "markdown",
   "id": "032f3755",
   "metadata": {
    "id": "1hOXXItodrLr",
    "papermill": {
     "duration": 0.235816,
     "end_time": "2022-03-15T12:09:23.107125",
     "exception": false,
     "start_time": "2022-03-15T12:09:22.871309",
     "status": "completed"
    },
    "tags": []
   },
   "source": [
    "#### Normalizing the data"
   ]
  },
  {
   "cell_type": "code",
   "execution_count": 104,
   "id": "8bc62d6d",
   "metadata": {
    "execution": {
     "iopub.execute_input": "2022-03-15T12:09:23.593576Z",
     "iopub.status.busy": "2022-03-15T12:09:23.592806Z",
     "iopub.status.idle": "2022-03-15T12:09:23.707578Z",
     "shell.execute_reply": "2022-03-15T12:09:23.707138Z",
     "shell.execute_reply.started": "2022-03-15T12:01:09.663412Z"
    },
    "id": "6lY7rfN7dYMz",
    "papermill": {
     "duration": 0.362696,
     "end_time": "2022-03-15T12:09:23.707700",
     "exception": false,
     "start_time": "2022-03-15T12:09:23.345004",
     "status": "completed"
    },
    "tags": []
   },
   "outputs": [],
   "source": [
    "from sklearn.preprocessing import StandardScaler\n",
    "\n",
    "sc=StandardScaler()"
   ]
  },
  {
   "cell_type": "code",
   "execution_count": 105,
   "id": "109e6802",
   "metadata": {
    "execution": {
     "iopub.execute_input": "2022-03-15T12:09:24.187660Z",
     "iopub.status.busy": "2022-03-15T12:09:24.187110Z",
     "iopub.status.idle": "2022-03-15T12:09:24.354226Z",
     "shell.execute_reply": "2022-03-15T12:09:24.353586Z",
     "shell.execute_reply.started": "2022-03-15T12:01:09.807843Z"
    },
    "id": "53Bz2dovd5lK",
    "papermill": {
     "duration": 0.40929,
     "end_time": "2022-03-15T12:09:24.354377",
     "exception": false,
     "start_time": "2022-03-15T12:09:23.945087",
     "status": "completed"
    },
    "tags": []
   },
   "outputs": [],
   "source": [
    "data5[[\"amt\",\"Time\",\"displacement\",\"recency\"]] = sc.fit_transform(data5[[\"amt\",\"Time\",\"displacement\",\"recency\"]])"
   ]
  },
  {
   "cell_type": "code",
   "execution_count": 106,
   "id": "d28662d0",
   "metadata": {
    "execution": {
     "iopub.execute_input": "2022-03-15T12:09:24.836896Z",
     "iopub.status.busy": "2022-03-15T12:09:24.836253Z",
     "iopub.status.idle": "2022-03-15T12:09:24.854429Z",
     "shell.execute_reply": "2022-03-15T12:09:24.853840Z",
     "shell.execute_reply.started": "2022-03-15T12:01:10.061419Z"
    },
    "id": "Ngx4RuEPeQYv",
    "outputId": "04b1f369-739b-4e71-b23f-0f7bf42924d6",
    "papermill": {
     "duration": 0.262356,
     "end_time": "2022-03-15T12:09:24.854590",
     "exception": false,
     "start_time": "2022-03-15T12:09:24.592234",
     "status": "completed"
    },
    "tags": []
   },
   "outputs": [
    {
     "data": {
      "text/html": [
       "<div>\n",
       "<style scoped>\n",
       "    .dataframe tbody tr th:only-of-type {\n",
       "        vertical-align: middle;\n",
       "    }\n",
       "\n",
       "    .dataframe tbody tr th {\n",
       "        vertical-align: top;\n",
       "    }\n",
       "\n",
       "    .dataframe thead th {\n",
       "        text-align: right;\n",
       "    }\n",
       "</style>\n",
       "<table border=\"1\" class=\"dataframe\">\n",
       "  <thead>\n",
       "    <tr style=\"text-align: right;\">\n",
       "      <th></th>\n",
       "      <th>amt</th>\n",
       "      <th>is_fraud</th>\n",
       "      <th>recency</th>\n",
       "      <th>displacement</th>\n",
       "      <th>Time</th>\n",
       "      <th>category_food_dining</th>\n",
       "      <th>category_gas_transport</th>\n",
       "      <th>category_grocery_net</th>\n",
       "      <th>category_grocery_pos</th>\n",
       "      <th>category_health_fitness</th>\n",
       "      <th>...</th>\n",
       "      <th>gender_M</th>\n",
       "      <th>recency_segment_After 6 hours</th>\n",
       "      <th>recency_segment_After Half-Day</th>\n",
       "      <th>recency_segment_First Transaction</th>\n",
       "      <th>recency_segment_Recent_Transaction</th>\n",
       "      <th>recency_segment_Within 6 hours</th>\n",
       "      <th>city_pop_segment_Densely populated</th>\n",
       "      <th>city_pop_segment_Less Dense</th>\n",
       "      <th>location_Long Distance</th>\n",
       "      <th>location_Nearby</th>\n",
       "    </tr>\n",
       "  </thead>\n",
       "  <tbody>\n",
       "    <tr>\n",
       "      <th>0</th>\n",
       "      <td>-0.407826</td>\n",
       "      <td>0</td>\n",
       "      <td>-0.685836</td>\n",
       "      <td>0.376362</td>\n",
       "      <td>-1.878145</td>\n",
       "      <td>0</td>\n",
       "      <td>0</td>\n",
       "      <td>0</td>\n",
       "      <td>0</td>\n",
       "      <td>0</td>\n",
       "      <td>...</td>\n",
       "      <td>0</td>\n",
       "      <td>0</td>\n",
       "      <td>0</td>\n",
       "      <td>1</td>\n",
       "      <td>0</td>\n",
       "      <td>0</td>\n",
       "      <td>0</td>\n",
       "      <td>1</td>\n",
       "      <td>1</td>\n",
       "      <td>0</td>\n",
       "    </tr>\n",
       "    <tr>\n",
       "      <th>1</th>\n",
       "      <td>0.230039</td>\n",
       "      <td>0</td>\n",
       "      <td>-0.685836</td>\n",
       "      <td>-1.732586</td>\n",
       "      <td>-1.878145</td>\n",
       "      <td>0</td>\n",
       "      <td>0</td>\n",
       "      <td>0</td>\n",
       "      <td>1</td>\n",
       "      <td>0</td>\n",
       "      <td>...</td>\n",
       "      <td>0</td>\n",
       "      <td>0</td>\n",
       "      <td>0</td>\n",
       "      <td>1</td>\n",
       "      <td>0</td>\n",
       "      <td>0</td>\n",
       "      <td>0</td>\n",
       "      <td>1</td>\n",
       "      <td>0</td>\n",
       "      <td>1</td>\n",
       "    </tr>\n",
       "    <tr>\n",
       "      <th>2</th>\n",
       "      <td>0.934149</td>\n",
       "      <td>0</td>\n",
       "      <td>-0.685836</td>\n",
       "      <td>0.738140</td>\n",
       "      <td>-1.878145</td>\n",
       "      <td>0</td>\n",
       "      <td>0</td>\n",
       "      <td>0</td>\n",
       "      <td>0</td>\n",
       "      <td>0</td>\n",
       "      <td>...</td>\n",
       "      <td>1</td>\n",
       "      <td>0</td>\n",
       "      <td>0</td>\n",
       "      <td>1</td>\n",
       "      <td>0</td>\n",
       "      <td>0</td>\n",
       "      <td>0</td>\n",
       "      <td>1</td>\n",
       "      <td>1</td>\n",
       "      <td>0</td>\n",
       "    </tr>\n",
       "    <tr>\n",
       "      <th>3</th>\n",
       "      <td>-0.158132</td>\n",
       "      <td>0</td>\n",
       "      <td>-0.685836</td>\n",
       "      <td>0.541322</td>\n",
       "      <td>-1.878145</td>\n",
       "      <td>0</td>\n",
       "      <td>1</td>\n",
       "      <td>0</td>\n",
       "      <td>0</td>\n",
       "      <td>0</td>\n",
       "      <td>...</td>\n",
       "      <td>1</td>\n",
       "      <td>0</td>\n",
       "      <td>0</td>\n",
       "      <td>1</td>\n",
       "      <td>0</td>\n",
       "      <td>0</td>\n",
       "      <td>0</td>\n",
       "      <td>1</td>\n",
       "      <td>1</td>\n",
       "      <td>0</td>\n",
       "    </tr>\n",
       "    <tr>\n",
       "      <th>4</th>\n",
       "      <td>-0.177094</td>\n",
       "      <td>0</td>\n",
       "      <td>-0.685836</td>\n",
       "      <td>0.361173</td>\n",
       "      <td>-1.878145</td>\n",
       "      <td>0</td>\n",
       "      <td>0</td>\n",
       "      <td>0</td>\n",
       "      <td>0</td>\n",
       "      <td>0</td>\n",
       "      <td>...</td>\n",
       "      <td>1</td>\n",
       "      <td>0</td>\n",
       "      <td>0</td>\n",
       "      <td>1</td>\n",
       "      <td>0</td>\n",
       "      <td>0</td>\n",
       "      <td>0</td>\n",
       "      <td>1</td>\n",
       "      <td>1</td>\n",
       "      <td>0</td>\n",
       "    </tr>\n",
       "  </tbody>\n",
       "</table>\n",
       "<p>5 rows × 28 columns</p>\n",
       "</div>"
      ],
      "text/plain": [
       "        amt  is_fraud   recency  displacement      Time  category_food_dining  \\\n",
       "0 -0.407826         0 -0.685836      0.376362 -1.878145                     0   \n",
       "1  0.230039         0 -0.685836     -1.732586 -1.878145                     0   \n",
       "2  0.934149         0 -0.685836      0.738140 -1.878145                     0   \n",
       "3 -0.158132         0 -0.685836      0.541322 -1.878145                     0   \n",
       "4 -0.177094         0 -0.685836      0.361173 -1.878145                     0   \n",
       "\n",
       "   category_gas_transport  category_grocery_net  category_grocery_pos  \\\n",
       "0                       0                     0                     0   \n",
       "1                       0                     0                     1   \n",
       "2                       0                     0                     0   \n",
       "3                       1                     0                     0   \n",
       "4                       0                     0                     0   \n",
       "\n",
       "   category_health_fitness  ...  gender_M  recency_segment_After 6 hours  \\\n",
       "0                        0  ...         0                              0   \n",
       "1                        0  ...         0                              0   \n",
       "2                        0  ...         1                              0   \n",
       "3                        0  ...         1                              0   \n",
       "4                        0  ...         1                              0   \n",
       "\n",
       "   recency_segment_After Half-Day  recency_segment_First Transaction  \\\n",
       "0                               0                                  1   \n",
       "1                               0                                  1   \n",
       "2                               0                                  1   \n",
       "3                               0                                  1   \n",
       "4                               0                                  1   \n",
       "\n",
       "   recency_segment_Recent_Transaction  recency_segment_Within 6 hours  \\\n",
       "0                                   0                               0   \n",
       "1                                   0                               0   \n",
       "2                                   0                               0   \n",
       "3                                   0                               0   \n",
       "4                                   0                               0   \n",
       "\n",
       "   city_pop_segment_Densely populated  city_pop_segment_Less Dense  \\\n",
       "0                                   0                            1   \n",
       "1                                   0                            1   \n",
       "2                                   0                            1   \n",
       "3                                   0                            1   \n",
       "4                                   0                            1   \n",
       "\n",
       "   location_Long Distance  location_Nearby  \n",
       "0                       1                0  \n",
       "1                       0                1  \n",
       "2                       1                0  \n",
       "3                       1                0  \n",
       "4                       1                0  \n",
       "\n",
       "[5 rows x 28 columns]"
      ]
     },
     "execution_count": 106,
     "metadata": {},
     "output_type": "execute_result"
    }
   ],
   "source": [
    "data5.head()"
   ]
  },
  {
   "cell_type": "markdown",
   "id": "08bf5335",
   "metadata": {
    "id": "NodUO1rUj2OL",
    "papermill": {
     "duration": 0.234153,
     "end_time": "2022-03-15T12:09:25.326267",
     "exception": false,
     "start_time": "2022-03-15T12:09:25.092114",
     "status": "completed"
    },
    "tags": []
   },
   "source": [
    "#### Separating the target variable"
   ]
  },
  {
   "cell_type": "code",
   "execution_count": 107,
   "id": "82024c18",
   "metadata": {
    "execution": {
     "iopub.execute_input": "2022-03-15T12:09:25.809390Z",
     "iopub.status.busy": "2022-03-15T12:09:25.808702Z",
     "iopub.status.idle": "2022-03-15T12:09:25.866166Z",
     "shell.execute_reply": "2022-03-15T12:09:25.866643Z",
     "shell.execute_reply.started": "2022-03-15T12:01:10.083269Z"
    },
    "id": "_1wSiXbGh6Vi",
    "papermill": {
     "duration": 0.301798,
     "end_time": "2022-03-15T12:09:25.866795",
     "exception": false,
     "start_time": "2022-03-15T12:09:25.564997",
     "status": "completed"
    },
    "tags": []
   },
   "outputs": [],
   "source": [
    "y= data5.is_fraud[:]\n",
    "x=data5.drop(\"is_fraud\",1)"
   ]
  },
  {
   "cell_type": "code",
   "execution_count": 108,
   "id": "1301351c",
   "metadata": {
    "execution": {
     "iopub.execute_input": "2022-03-15T12:09:26.350570Z",
     "iopub.status.busy": "2022-03-15T12:09:26.349910Z",
     "iopub.status.idle": "2022-03-15T12:09:26.426798Z",
     "shell.execute_reply": "2022-03-15T12:09:26.427292Z",
     "shell.execute_reply.started": "2022-03-15T12:01:10.180183Z"
    },
    "id": "yHPO05EnNJIq",
    "outputId": "0f404a25-a9ad-45e3-989c-016b090ec90d",
    "papermill": {
     "duration": 0.323943,
     "end_time": "2022-03-15T12:09:26.427472",
     "exception": false,
     "start_time": "2022-03-15T12:09:26.103529",
     "status": "completed"
    },
    "tags": []
   },
   "outputs": [
    {
     "name": "stdout",
     "output_type": "stream",
     "text": [
      "<class 'pandas.core.frame.DataFrame'>\n",
      "RangeIndex: 1296675 entries, 0 to 1296674\n",
      "Data columns (total 28 columns):\n",
      " #   Column                              Non-Null Count    Dtype  \n",
      "---  ------                              --------------    -----  \n",
      " 0   amt                                 1296675 non-null  float64\n",
      " 1   is_fraud                            1296675 non-null  int64  \n",
      " 2   recency                             1296675 non-null  float64\n",
      " 3   displacement                        1296675 non-null  float64\n",
      " 4   Time                                1296675 non-null  float64\n",
      " 5   category_food_dining                1296675 non-null  uint8  \n",
      " 6   category_gas_transport              1296675 non-null  uint8  \n",
      " 7   category_grocery_net                1296675 non-null  uint8  \n",
      " 8   category_grocery_pos                1296675 non-null  uint8  \n",
      " 9   category_health_fitness             1296675 non-null  uint8  \n",
      " 10  category_home                       1296675 non-null  uint8  \n",
      " 11  category_kids_pets                  1296675 non-null  uint8  \n",
      " 12  category_misc_net                   1296675 non-null  uint8  \n",
      " 13  category_misc_pos                   1296675 non-null  uint8  \n",
      " 14  category_personal_care              1296675 non-null  uint8  \n",
      " 15  category_shopping_net               1296675 non-null  uint8  \n",
      " 16  category_shopping_pos               1296675 non-null  uint8  \n",
      " 17  category_travel                     1296675 non-null  uint8  \n",
      " 18  gender_M                            1296675 non-null  uint8  \n",
      " 19  recency_segment_After 6 hours       1296675 non-null  uint8  \n",
      " 20  recency_segment_After Half-Day      1296675 non-null  uint8  \n",
      " 21  recency_segment_First Transaction   1296675 non-null  uint8  \n",
      " 22  recency_segment_Recent_Transaction  1296675 non-null  uint8  \n",
      " 23  recency_segment_Within 6 hours      1296675 non-null  uint8  \n",
      " 24  city_pop_segment_Densely populated  1296675 non-null  uint8  \n",
      " 25  city_pop_segment_Less Dense         1296675 non-null  uint8  \n",
      " 26  location_Long Distance              1296675 non-null  uint8  \n",
      " 27  location_Nearby                     1296675 non-null  uint8  \n",
      "dtypes: float64(4), int64(1), uint8(23)\n",
      "memory usage: 77.9 MB\n"
     ]
    }
   ],
   "source": [
    "data5.info()"
   ]
  },
  {
   "cell_type": "markdown",
   "id": "41beb5b3",
   "metadata": {
    "id": "jxMQ0eT9kJ4W",
    "papermill": {
     "duration": 0.250571,
     "end_time": "2022-03-15T12:09:26.932396",
     "exception": false,
     "start_time": "2022-03-15T12:09:26.681825",
     "status": "completed"
    },
    "tags": []
   },
   "source": [
    "#### Building Model"
   ]
  },
  {
   "cell_type": "code",
   "execution_count": 109,
   "id": "d8b84473",
   "metadata": {
    "execution": {
     "iopub.execute_input": "2022-03-15T12:09:27.441221Z",
     "iopub.status.busy": "2022-03-15T12:09:27.440231Z",
     "iopub.status.idle": "2022-03-15T12:09:29.419401Z",
     "shell.execute_reply": "2022-03-15T12:09:29.420299Z",
     "shell.execute_reply.started": "2022-03-15T12:01:10.271305Z"
    },
    "id": "wGEjmgJnkFnl",
    "papermill": {
     "duration": 2.238566,
     "end_time": "2022-03-15T12:09:29.420561",
     "exception": false,
     "start_time": "2022-03-15T12:09:27.181995",
     "status": "completed"
    },
    "tags": []
   },
   "outputs": [],
   "source": [
    "# importing libraries\n",
    "import statsmodels.api as sm\n",
    "\n",
    "model1 = sm.GLM(y,sm.add_constant(x),family = sm.families.Binomial())"
   ]
  },
  {
   "cell_type": "code",
   "execution_count": 110,
   "id": "bda4de7d",
   "metadata": {
    "execution": {
     "iopub.execute_input": "2022-03-15T12:09:29.950932Z",
     "iopub.status.busy": "2022-03-15T12:09:29.949746Z",
     "iopub.status.idle": "2022-03-15T12:09:49.441807Z",
     "shell.execute_reply": "2022-03-15T12:09:49.441269Z",
     "shell.execute_reply.started": "2022-03-15T12:01:12.731147Z"
    },
    "id": "LoAuhBr5lFt3",
    "outputId": "612c5cef-eaba-4b57-ea77-376f7958b0ce",
    "papermill": {
     "duration": 19.739606,
     "end_time": "2022-03-15T12:09:49.441958",
     "exception": false,
     "start_time": "2022-03-15T12:09:29.702352",
     "status": "completed"
    },
    "tags": []
   },
   "outputs": [
    {
     "data": {
      "text/html": [
       "<table class=\"simpletable\">\n",
       "<caption>Generalized Linear Model Regression Results</caption>\n",
       "<tr>\n",
       "  <th>Dep. Variable:</th>       <td>is_fraud</td>     <th>  No. Observations:  </th>  <td>1296675</td>\n",
       "</tr>\n",
       "<tr>\n",
       "  <th>Model:</th>                  <td>GLM</td>       <th>  Df Residuals:      </th>  <td>1296647</td>\n",
       "</tr>\n",
       "<tr>\n",
       "  <th>Model Family:</th>        <td>Binomial</td>     <th>  Df Model:          </th>  <td>    27</td> \n",
       "</tr>\n",
       "<tr>\n",
       "  <th>Link Function:</th>         <td>logit</td>      <th>  Scale:             </th> <td>  1.0000</td>\n",
       "</tr>\n",
       "<tr>\n",
       "  <th>Method:</th>                <td>IRLS</td>       <th>  Log-Likelihood:    </th> <td> -35796.</td>\n",
       "</tr>\n",
       "<tr>\n",
       "  <th>Date:</th>            <td>Tue, 12 Jul 2022</td> <th>  Deviance:          </th> <td>  71592.</td>\n",
       "</tr>\n",
       "<tr>\n",
       "  <th>Time:</th>                <td>17:42:59</td>     <th>  Pearson chi2:      </th> <td>2.32e+16</td>\n",
       "</tr>\n",
       "<tr>\n",
       "  <th>No. Iterations:</th>         <td>12</td>        <th>                     </th>     <td> </td>   \n",
       "</tr>\n",
       "<tr>\n",
       "  <th>Covariance Type:</th>     <td>nonrobust</td>    <th>                     </th>     <td> </td>   \n",
       "</tr>\n",
       "</table>\n",
       "<table class=\"simpletable\">\n",
       "<tr>\n",
       "                   <td></td>                     <th>coef</th>     <th>std err</th>      <th>z</th>      <th>P>|z|</th>  <th>[0.025</th>    <th>0.975]</th>  \n",
       "</tr>\n",
       "<tr>\n",
       "  <th>const</th>                              <td>   -7.7486</td> <td>    0.141</td> <td>  -54.827</td> <td> 0.000</td> <td>   -8.026</td> <td>   -7.472</td>\n",
       "</tr>\n",
       "<tr>\n",
       "  <th>amt</th>                                <td>    0.4236</td> <td>    0.005</td> <td>   77.804</td> <td> 0.000</td> <td>    0.413</td> <td>    0.434</td>\n",
       "</tr>\n",
       "<tr>\n",
       "  <th>recency</th>                            <td>    0.0387</td> <td>    0.036</td> <td>    1.086</td> <td> 0.277</td> <td>   -0.031</td> <td>    0.109</td>\n",
       "</tr>\n",
       "<tr>\n",
       "  <th>displacement</th>                       <td>   -0.0250</td> <td>    0.029</td> <td>   -0.862</td> <td> 0.389</td> <td>   -0.082</td> <td>    0.032</td>\n",
       "</tr>\n",
       "<tr>\n",
       "  <th>Time</th>                               <td>    0.7163</td> <td>    0.016</td> <td>   43.508</td> <td> 0.000</td> <td>    0.684</td> <td>    0.749</td>\n",
       "</tr>\n",
       "<tr>\n",
       "  <th>category_food_dining</th>               <td>   -0.3879</td> <td>    0.105</td> <td>   -3.706</td> <td> 0.000</td> <td>   -0.593</td> <td>   -0.183</td>\n",
       "</tr>\n",
       "<tr>\n",
       "  <th>category_gas_transport</th>             <td>    1.9510</td> <td>    0.082</td> <td>   23.846</td> <td> 0.000</td> <td>    1.791</td> <td>    2.111</td>\n",
       "</tr>\n",
       "<tr>\n",
       "  <th>category_grocery_net</th>               <td>    1.5267</td> <td>    0.112</td> <td>   13.613</td> <td> 0.000</td> <td>    1.307</td> <td>    1.746</td>\n",
       "</tr>\n",
       "<tr>\n",
       "  <th>category_grocery_pos</th>               <td>    2.8371</td> <td>    0.074</td> <td>   38.111</td> <td> 0.000</td> <td>    2.691</td> <td>    2.983</td>\n",
       "</tr>\n",
       "<tr>\n",
       "  <th>category_health_fitness</th>            <td>   -0.5328</td> <td>    0.109</td> <td>   -4.893</td> <td> 0.000</td> <td>   -0.746</td> <td>   -0.319</td>\n",
       "</tr>\n",
       "<tr>\n",
       "  <th>category_home</th>                      <td>   -0.4951</td> <td>    0.097</td> <td>   -5.110</td> <td> 0.000</td> <td>   -0.685</td> <td>   -0.305</td>\n",
       "</tr>\n",
       "<tr>\n",
       "  <th>category_kids_pets</th>                 <td>   -0.2073</td> <td>    0.092</td> <td>   -2.245</td> <td> 0.025</td> <td>   -0.388</td> <td>   -0.026</td>\n",
       "</tr>\n",
       "<tr>\n",
       "  <th>category_misc_net</th>                  <td>    2.2242</td> <td>    0.076</td> <td>   29.337</td> <td> 0.000</td> <td>    2.076</td> <td>    2.373</td>\n",
       "</tr>\n",
       "<tr>\n",
       "  <th>category_misc_pos</th>                  <td>    0.4956</td> <td>    0.092</td> <td>    5.367</td> <td> 0.000</td> <td>    0.315</td> <td>    0.677</td>\n",
       "</tr>\n",
       "<tr>\n",
       "  <th>category_personal_care</th>             <td>   -0.0344</td> <td>    0.094</td> <td>   -0.365</td> <td> 0.715</td> <td>   -0.219</td> <td>    0.150</td>\n",
       "</tr>\n",
       "<tr>\n",
       "  <th>category_shopping_net</th>              <td>    1.6448</td> <td>    0.072</td> <td>   22.735</td> <td> 0.000</td> <td>    1.503</td> <td>    1.787</td>\n",
       "</tr>\n",
       "<tr>\n",
       "  <th>category_shopping_pos</th>              <td>    0.6863</td> <td>    0.078</td> <td>    8.803</td> <td> 0.000</td> <td>    0.533</td> <td>    0.839</td>\n",
       "</tr>\n",
       "<tr>\n",
       "  <th>category_travel</th>                    <td>   -6.2249</td> <td>    0.327</td> <td>  -19.064</td> <td> 0.000</td> <td>   -6.865</td> <td>   -5.585</td>\n",
       "</tr>\n",
       "<tr>\n",
       "  <th>gender_M</th>                           <td>    0.3241</td> <td>    0.025</td> <td>   13.112</td> <td> 0.000</td> <td>    0.276</td> <td>    0.373</td>\n",
       "</tr>\n",
       "<tr>\n",
       "  <th>recency_segment_After 6 hours</th>      <td>    0.3901</td> <td>    0.125</td> <td>    3.120</td> <td> 0.002</td> <td>    0.145</td> <td>    0.635</td>\n",
       "</tr>\n",
       "<tr>\n",
       "  <th>recency_segment_After Half-Day</th>     <td>    1.1960</td> <td>    0.106</td> <td>   11.292</td> <td> 0.000</td> <td>    0.988</td> <td>    1.404</td>\n",
       "</tr>\n",
       "<tr>\n",
       "  <th>recency_segment_First Transaction</th>  <td>    3.7935</td> <td>    0.189</td> <td>   20.025</td> <td> 0.000</td> <td>    3.422</td> <td>    4.165</td>\n",
       "</tr>\n",
       "<tr>\n",
       "  <th>recency_segment_Recent_Transaction</th> <td>    2.0405</td> <td>    0.138</td> <td>   14.738</td> <td> 0.000</td> <td>    1.769</td> <td>    2.312</td>\n",
       "</tr>\n",
       "<tr>\n",
       "  <th>recency_segment_Within 6 hours</th>     <td>    0.6942</td> <td>    0.133</td> <td>    5.214</td> <td> 0.000</td> <td>    0.433</td> <td>    0.955</td>\n",
       "</tr>\n",
       "<tr>\n",
       "  <th>city_pop_segment_Densely populated</th> <td>   -0.0570</td> <td>    0.045</td> <td>   -1.260</td> <td> 0.208</td> <td>   -0.146</td> <td>    0.032</td>\n",
       "</tr>\n",
       "<tr>\n",
       "  <th>city_pop_segment_Less Dense</th>        <td>    0.0464</td> <td>    0.038</td> <td>    1.208</td> <td> 0.227</td> <td>   -0.029</td> <td>    0.122</td>\n",
       "</tr>\n",
       "<tr>\n",
       "  <th>location_Long Distance</th>             <td>    0.0226</td> <td>    0.046</td> <td>    0.490</td> <td> 0.624</td> <td>   -0.068</td> <td>    0.113</td>\n",
       "</tr>\n",
       "<tr>\n",
       "  <th>location_Nearby</th>                    <td>   -0.0991</td> <td>    0.054</td> <td>   -1.823</td> <td> 0.068</td> <td>   -0.206</td> <td>    0.007</td>\n",
       "</tr>\n",
       "</table>"
      ],
      "text/plain": [
       "<class 'statsmodels.iolib.summary.Summary'>\n",
       "\"\"\"\n",
       "                 Generalized Linear Model Regression Results                  \n",
       "==============================================================================\n",
       "Dep. Variable:               is_fraud   No. Observations:              1296675\n",
       "Model:                            GLM   Df Residuals:                  1296647\n",
       "Model Family:                Binomial   Df Model:                           27\n",
       "Link Function:                  logit   Scale:                          1.0000\n",
       "Method:                          IRLS   Log-Likelihood:                -35796.\n",
       "Date:                Tue, 12 Jul 2022   Deviance:                       71592.\n",
       "Time:                        17:42:59   Pearson chi2:                 2.32e+16\n",
       "No. Iterations:                    12                                         \n",
       "Covariance Type:            nonrobust                                         \n",
       "======================================================================================================\n",
       "                                         coef    std err          z      P>|z|      [0.025      0.975]\n",
       "------------------------------------------------------------------------------------------------------\n",
       "const                                 -7.7486      0.141    -54.827      0.000      -8.026      -7.472\n",
       "amt                                    0.4236      0.005     77.804      0.000       0.413       0.434\n",
       "recency                                0.0387      0.036      1.086      0.277      -0.031       0.109\n",
       "displacement                          -0.0250      0.029     -0.862      0.389      -0.082       0.032\n",
       "Time                                   0.7163      0.016     43.508      0.000       0.684       0.749\n",
       "category_food_dining                  -0.3879      0.105     -3.706      0.000      -0.593      -0.183\n",
       "category_gas_transport                 1.9510      0.082     23.846      0.000       1.791       2.111\n",
       "category_grocery_net                   1.5267      0.112     13.613      0.000       1.307       1.746\n",
       "category_grocery_pos                   2.8371      0.074     38.111      0.000       2.691       2.983\n",
       "category_health_fitness               -0.5328      0.109     -4.893      0.000      -0.746      -0.319\n",
       "category_home                         -0.4951      0.097     -5.110      0.000      -0.685      -0.305\n",
       "category_kids_pets                    -0.2073      0.092     -2.245      0.025      -0.388      -0.026\n",
       "category_misc_net                      2.2242      0.076     29.337      0.000       2.076       2.373\n",
       "category_misc_pos                      0.4956      0.092      5.367      0.000       0.315       0.677\n",
       "category_personal_care                -0.0344      0.094     -0.365      0.715      -0.219       0.150\n",
       "category_shopping_net                  1.6448      0.072     22.735      0.000       1.503       1.787\n",
       "category_shopping_pos                  0.6863      0.078      8.803      0.000       0.533       0.839\n",
       "category_travel                       -6.2249      0.327    -19.064      0.000      -6.865      -5.585\n",
       "gender_M                               0.3241      0.025     13.112      0.000       0.276       0.373\n",
       "recency_segment_After 6 hours          0.3901      0.125      3.120      0.002       0.145       0.635\n",
       "recency_segment_After Half-Day         1.1960      0.106     11.292      0.000       0.988       1.404\n",
       "recency_segment_First Transaction      3.7935      0.189     20.025      0.000       3.422       4.165\n",
       "recency_segment_Recent_Transaction     2.0405      0.138     14.738      0.000       1.769       2.312\n",
       "recency_segment_Within 6 hours         0.6942      0.133      5.214      0.000       0.433       0.955\n",
       "city_pop_segment_Densely populated    -0.0570      0.045     -1.260      0.208      -0.146       0.032\n",
       "city_pop_segment_Less Dense            0.0464      0.038      1.208      0.227      -0.029       0.122\n",
       "location_Long Distance                 0.0226      0.046      0.490      0.624      -0.068       0.113\n",
       "location_Nearby                       -0.0991      0.054     -1.823      0.068      -0.206       0.007\n",
       "======================================================================================================\n",
       "\"\"\""
      ]
     },
     "execution_count": 110,
     "metadata": {},
     "output_type": "execute_result"
    }
   ],
   "source": [
    "# fitting model and checking results\n",
    "res = model1.fit()\n",
    "res.summary()"
   ]
  },
  {
   "cell_type": "markdown",
   "id": "59d3fd4f",
   "metadata": {
    "id": "5-I7znRPmUIT",
    "papermill": {
     "duration": 0.235596,
     "end_time": "2022-03-15T12:09:49.913696",
     "exception": false,
     "start_time": "2022-03-15T12:09:49.678100",
     "status": "completed"
    },
    "tags": []
   },
   "source": [
    "We can see that there are many columns which are insignificant to work upon as they have p value greater than 0.05 so, let's remove them and and find best variables through recursive function elimination, i.e. RFE"
   ]
  },
  {
   "cell_type": "markdown",
   "id": "22203572",
   "metadata": {
    "id": "sUpd1L4fmr1h",
    "papermill": {
     "duration": 0.239578,
     "end_time": "2022-03-15T12:09:50.393829",
     "exception": false,
     "start_time": "2022-03-15T12:09:50.154251",
     "status": "completed"
    },
    "tags": []
   },
   "source": [
    "#### RFE"
   ]
  },
  {
   "cell_type": "code",
   "execution_count": 111,
   "id": "8c9bfe4c",
   "metadata": {
    "execution": {
     "iopub.execute_input": "2022-03-15T12:09:50.873981Z",
     "iopub.status.busy": "2022-03-15T12:09:50.873371Z",
     "iopub.status.idle": "2022-03-15T12:09:51.035013Z",
     "shell.execute_reply": "2022-03-15T12:09:51.034419Z",
     "shell.execute_reply.started": "2022-03-15T12:01:36.515547Z"
    },
    "id": "zso31-tnlhwj",
    "papermill": {
     "duration": 0.404358,
     "end_time": "2022-03-15T12:09:51.035160",
     "exception": false,
     "start_time": "2022-03-15T12:09:50.630802",
     "status": "completed"
    },
    "tags": []
   },
   "outputs": [],
   "source": [
    "# importing libraries\n",
    "from sklearn.feature_selection import RFE\n",
    "from sklearn.linear_model import LogisticRegression"
   ]
  },
  {
   "cell_type": "code",
   "execution_count": 112,
   "id": "83bb346f",
   "metadata": {
    "execution": {
     "iopub.execute_input": "2022-03-15T12:09:51.524877Z",
     "iopub.status.busy": "2022-03-15T12:09:51.524276Z",
     "iopub.status.idle": "2022-03-15T12:11:37.760776Z",
     "shell.execute_reply": "2022-03-15T12:11:37.761733Z",
     "shell.execute_reply.started": "2022-03-15T12:01:36.715490Z"
    },
    "id": "RLZ8Ddfdm6Gx",
    "papermill": {
     "duration": 106.484228,
     "end_time": "2022-03-15T12:11:37.762045",
     "exception": false,
     "start_time": "2022-03-15T12:09:51.277817",
     "status": "completed"
    },
    "tags": []
   },
   "outputs": [],
   "source": [
    "logreg = LogisticRegression()\n",
    "rfe = RFE(estimator = logreg, n_features_to_select= 22)\n",
    "rfe_res = rfe.fit(x,y)"
   ]
  },
  {
   "cell_type": "code",
   "execution_count": 113,
   "id": "ddeb08d5",
   "metadata": {
    "execution": {
     "iopub.execute_input": "2022-03-15T12:11:38.298697Z",
     "iopub.status.busy": "2022-03-15T12:11:38.297942Z",
     "iopub.status.idle": "2022-03-15T12:11:38.301139Z",
     "shell.execute_reply": "2022-03-15T12:11:38.301613Z",
     "shell.execute_reply.started": "2022-03-15T12:03:48.216436Z"
    },
    "id": "uqaqAoZ4n_Mp",
    "outputId": "bb0aef04-d05a-4fcb-9e24-0a4645a8616b",
    "papermill": {
     "duration": 0.251139,
     "end_time": "2022-03-15T12:11:38.301794",
     "exception": false,
     "start_time": "2022-03-15T12:11:38.050655",
     "status": "completed"
    },
    "tags": []
   },
   "outputs": [
    {
     "data": {
      "text/plain": [
       "Index(['amt', 'Time', 'category_food_dining', 'category_gas_transport',\n",
       "       'category_grocery_net', 'category_grocery_pos',\n",
       "       'category_health_fitness', 'category_home', 'category_kids_pets',\n",
       "       'category_misc_net', 'category_misc_pos', 'category_shopping_net',\n",
       "       'category_shopping_pos', 'category_travel', 'gender_M',\n",
       "       'recency_segment_After 6 hours', 'recency_segment_After Half-Day',\n",
       "       'recency_segment_First Transaction',\n",
       "       'recency_segment_Recent_Transaction', 'recency_segment_Within 6 hours',\n",
       "       'city_pop_segment_Densely populated', 'location_Nearby'],\n",
       "      dtype='object')"
      ]
     },
     "execution_count": 113,
     "metadata": {},
     "output_type": "execute_result"
    }
   ],
   "source": [
    "# columns which were selected by RFE\n",
    "x.columns[rfe_res.support_]"
   ]
  },
  {
   "cell_type": "code",
   "execution_count": 114,
   "id": "af6d273d",
   "metadata": {
    "execution": {
     "iopub.execute_input": "2022-03-15T12:11:38.776304Z",
     "iopub.status.busy": "2022-03-15T12:11:38.775356Z",
     "iopub.status.idle": "2022-03-15T12:11:38.782499Z",
     "shell.execute_reply": "2022-03-15T12:11:38.783053Z",
     "shell.execute_reply.started": "2022-03-15T12:03:48.226787Z"
    },
    "id": "XphMrSC_p0LW",
    "outputId": "d24c870b-8318-45ce-b19e-e2d0ff91ff7f",
    "papermill": {
     "duration": 0.244937,
     "end_time": "2022-03-15T12:11:38.783199",
     "exception": false,
     "start_time": "2022-03-15T12:11:38.538262",
     "status": "completed"
    },
    "tags": []
   },
   "outputs": [
    {
     "data": {
      "text/plain": [
       "[('amt', True, 1),\n",
       " ('recency', False, 6),\n",
       " ('displacement', False, 4),\n",
       " ('Time', True, 1),\n",
       " ('category_food_dining', True, 1),\n",
       " ('category_gas_transport', True, 1),\n",
       " ('category_grocery_net', True, 1),\n",
       " ('category_grocery_pos', True, 1),\n",
       " ('category_health_fitness', True, 1),\n",
       " ('category_home', True, 1),\n",
       " ('category_kids_pets', True, 1),\n",
       " ('category_misc_net', True, 1),\n",
       " ('category_misc_pos', True, 1),\n",
       " ('category_personal_care', False, 2),\n",
       " ('category_shopping_net', True, 1),\n",
       " ('category_shopping_pos', True, 1),\n",
       " ('category_travel', True, 1),\n",
       " ('gender_M', True, 1),\n",
       " ('recency_segment_After 6 hours', True, 1),\n",
       " ('recency_segment_After Half-Day', True, 1),\n",
       " ('recency_segment_First Transaction', True, 1),\n",
       " ('recency_segment_Recent_Transaction', True, 1),\n",
       " ('recency_segment_Within 6 hours', True, 1),\n",
       " ('city_pop_segment_Densely populated', True, 1),\n",
       " ('city_pop_segment_Less Dense', False, 3),\n",
       " ('location_Long Distance', False, 5),\n",
       " ('location_Nearby', True, 1)]"
      ]
     },
     "execution_count": 114,
     "metadata": {},
     "output_type": "execute_result"
    }
   ],
   "source": [
    "# let's check the support columns rankings\n",
    "list(zip(x.columns,rfe.support_,rfe.ranking_))"
   ]
  },
  {
   "cell_type": "code",
   "execution_count": 115,
   "id": "35871068",
   "metadata": {
    "execution": {
     "iopub.execute_input": "2022-03-15T12:11:39.262877Z",
     "iopub.status.busy": "2022-03-15T12:11:39.262053Z",
     "iopub.status.idle": "2022-03-15T12:11:39.265400Z",
     "shell.execute_reply": "2022-03-15T12:11:39.265846Z",
     "shell.execute_reply.started": "2022-03-15T12:03:48.246223Z"
    },
    "id": "uXgMtni0q2BM",
    "papermill": {
     "duration": 0.242911,
     "end_time": "2022-03-15T12:11:39.266018",
     "exception": false,
     "start_time": "2022-03-15T12:11:39.023107",
     "status": "completed"
    },
    "tags": []
   },
   "outputs": [],
   "source": [
    "# initializing rfe columns to cols for further operations\n",
    "cols = x.columns[rfe_res.support_]"
   ]
  },
  {
   "cell_type": "markdown",
   "id": "f3b78e33",
   "metadata": {
    "id": "VCGAaShcrJcB",
    "papermill": {
     "duration": 0.275931,
     "end_time": "2022-03-15T12:11:39.776768",
     "exception": false,
     "start_time": "2022-03-15T12:11:39.500837",
     "status": "completed"
    },
    "tags": []
   },
   "source": [
    "#### Building Model Again after running RFE"
   ]
  },
  {
   "cell_type": "code",
   "execution_count": 116,
   "id": "bb0d3097",
   "metadata": {
    "execution": {
     "iopub.execute_input": "2022-03-15T12:11:40.254348Z",
     "iopub.status.busy": "2022-03-15T12:11:40.253390Z",
     "iopub.status.idle": "2022-03-15T12:11:56.996096Z",
     "shell.execute_reply": "2022-03-15T12:11:56.996652Z",
     "shell.execute_reply.started": "2022-03-15T12:03:48.256683Z"
    },
    "id": "vM6mCKZZrIkt",
    "outputId": "bab2b53a-d203-4946-adb5-9f225854ae11",
    "papermill": {
     "duration": 16.985909,
     "end_time": "2022-03-15T12:11:56.996841",
     "exception": false,
     "start_time": "2022-03-15T12:11:40.010932",
     "status": "completed"
    },
    "tags": []
   },
   "outputs": [
    {
     "data": {
      "text/html": [
       "<table class=\"simpletable\">\n",
       "<caption>Generalized Linear Model Regression Results</caption>\n",
       "<tr>\n",
       "  <th>Dep. Variable:</th>       <td>is_fraud</td>     <th>  No. Observations:  </th>  <td>1296675</td>\n",
       "</tr>\n",
       "<tr>\n",
       "  <th>Model:</th>                  <td>GLM</td>       <th>  Df Residuals:      </th>  <td>1296652</td>\n",
       "</tr>\n",
       "<tr>\n",
       "  <th>Model Family:</th>        <td>Binomial</td>     <th>  Df Model:          </th>  <td>    22</td> \n",
       "</tr>\n",
       "<tr>\n",
       "  <th>Link Function:</th>         <td>logit</td>      <th>  Scale:             </th> <td>  1.0000</td>\n",
       "</tr>\n",
       "<tr>\n",
       "  <th>Method:</th>                <td>IRLS</td>       <th>  Log-Likelihood:    </th> <td> -35798.</td>\n",
       "</tr>\n",
       "<tr>\n",
       "  <th>Date:</th>            <td>Tue, 12 Jul 2022</td> <th>  Deviance:          </th> <td>  71596.</td>\n",
       "</tr>\n",
       "<tr>\n",
       "  <th>Time:</th>                <td>17:45:10</td>     <th>  Pearson chi2:      </th> <td>2.32e+16</td>\n",
       "</tr>\n",
       "<tr>\n",
       "  <th>No. Iterations:</th>         <td>12</td>        <th>                     </th>     <td> </td>   \n",
       "</tr>\n",
       "<tr>\n",
       "  <th>Covariance Type:</th>     <td>nonrobust</td>    <th>                     </th>     <td> </td>   \n",
       "</tr>\n",
       "</table>\n",
       "<table class=\"simpletable\">\n",
       "<tr>\n",
       "                   <td></td>                     <th>coef</th>     <th>std err</th>      <th>z</th>      <th>P>|z|</th>  <th>[0.025</th>    <th>0.975]</th>  \n",
       "</tr>\n",
       "<tr>\n",
       "  <th>const</th>                              <td>   -7.6190</td> <td>    0.087</td> <td>  -87.823</td> <td> 0.000</td> <td>   -7.789</td> <td>   -7.449</td>\n",
       "</tr>\n",
       "<tr>\n",
       "  <th>amt</th>                                <td>    0.4236</td> <td>    0.005</td> <td>   77.828</td> <td> 0.000</td> <td>    0.413</td> <td>    0.434</td>\n",
       "</tr>\n",
       "<tr>\n",
       "  <th>Time</th>                               <td>    0.7157</td> <td>    0.016</td> <td>   43.481</td> <td> 0.000</td> <td>    0.683</td> <td>    0.748</td>\n",
       "</tr>\n",
       "<tr>\n",
       "  <th>category_food_dining</th>               <td>   -0.3713</td> <td>    0.094</td> <td>   -3.944</td> <td> 0.000</td> <td>   -0.556</td> <td>   -0.187</td>\n",
       "</tr>\n",
       "<tr>\n",
       "  <th>category_gas_transport</th>             <td>    1.9677</td> <td>    0.068</td> <td>   28.907</td> <td> 0.000</td> <td>    1.834</td> <td>    2.101</td>\n",
       "</tr>\n",
       "<tr>\n",
       "  <th>category_grocery_net</th>               <td>    1.5397</td> <td>    0.103</td> <td>   15.022</td> <td> 0.000</td> <td>    1.339</td> <td>    1.741</td>\n",
       "</tr>\n",
       "<tr>\n",
       "  <th>category_grocery_pos</th>               <td>    2.8527</td> <td>    0.059</td> <td>   48.363</td> <td> 0.000</td> <td>    2.737</td> <td>    2.968</td>\n",
       "</tr>\n",
       "<tr>\n",
       "  <th>category_health_fitness</th>            <td>   -0.5157</td> <td>    0.099</td> <td>   -5.220</td> <td> 0.000</td> <td>   -0.709</td> <td>   -0.322</td>\n",
       "</tr>\n",
       "<tr>\n",
       "  <th>category_home</th>                      <td>   -0.4782</td> <td>    0.085</td> <td>   -5.602</td> <td> 0.000</td> <td>   -0.646</td> <td>   -0.311</td>\n",
       "</tr>\n",
       "<tr>\n",
       "  <th>category_kids_pets</th>                 <td>   -0.1906</td> <td>    0.080</td> <td>   -2.378</td> <td> 0.017</td> <td>   -0.348</td> <td>   -0.034</td>\n",
       "</tr>\n",
       "<tr>\n",
       "  <th>category_misc_net</th>                  <td>    2.2407</td> <td>    0.061</td> <td>   36.968</td> <td> 0.000</td> <td>    2.122</td> <td>    2.360</td>\n",
       "</tr>\n",
       "<tr>\n",
       "  <th>category_misc_pos</th>                  <td>    0.5114</td> <td>    0.080</td> <td>    6.371</td> <td> 0.000</td> <td>    0.354</td> <td>    0.669</td>\n",
       "</tr>\n",
       "<tr>\n",
       "  <th>category_shopping_net</th>              <td>    1.6594</td> <td>    0.056</td> <td>   29.586</td> <td> 0.000</td> <td>    1.549</td> <td>    1.769</td>\n",
       "</tr>\n",
       "<tr>\n",
       "  <th>category_shopping_pos</th>              <td>    0.7005</td> <td>    0.063</td> <td>   11.088</td> <td> 0.000</td> <td>    0.577</td> <td>    0.824</td>\n",
       "</tr>\n",
       "<tr>\n",
       "  <th>category_travel</th>                    <td>   -6.2082</td> <td>    0.323</td> <td>  -19.192</td> <td> 0.000</td> <td>   -6.842</td> <td>   -5.574</td>\n",
       "</tr>\n",
       "<tr>\n",
       "  <th>gender_M</th>                           <td>    0.3235</td> <td>    0.025</td> <td>   13.099</td> <td> 0.000</td> <td>    0.275</td> <td>    0.372</td>\n",
       "</tr>\n",
       "<tr>\n",
       "  <th>recency_segment_After 6 hours</th>      <td>    0.2891</td> <td>    0.081</td> <td>    3.550</td> <td> 0.000</td> <td>    0.129</td> <td>    0.449</td>\n",
       "</tr>\n",
       "<tr>\n",
       "  <th>recency_segment_After Half-Day</th>     <td>    1.1196</td> <td>    0.077</td> <td>   14.450</td> <td> 0.000</td> <td>    0.968</td> <td>    1.271</td>\n",
       "</tr>\n",
       "<tr>\n",
       "  <th>recency_segment_First Transaction</th>  <td>    3.6655</td> <td>    0.148</td> <td>   24.753</td> <td> 0.000</td> <td>    3.375</td> <td>    3.956</td>\n",
       "</tr>\n",
       "<tr>\n",
       "  <th>recency_segment_Recent_Transaction</th> <td>    1.9156</td> <td>    0.074</td> <td>   25.838</td> <td> 0.000</td> <td>    1.770</td> <td>    2.061</td>\n",
       "</tr>\n",
       "<tr>\n",
       "  <th>recency_segment_Within 6 hours</th>     <td>    0.5769</td> <td>    0.075</td> <td>    7.672</td> <td> 0.000</td> <td>    0.429</td> <td>    0.724</td>\n",
       "</tr>\n",
       "<tr>\n",
       "  <th>city_pop_segment_Densely populated</th> <td>   -0.0959</td> <td>    0.032</td> <td>   -3.041</td> <td> 0.002</td> <td>   -0.158</td> <td>   -0.034</td>\n",
       "</tr>\n",
       "<tr>\n",
       "  <th>location_Nearby</th>                    <td>   -0.0616</td> <td>    0.037</td> <td>   -1.659</td> <td> 0.097</td> <td>   -0.134</td> <td>    0.011</td>\n",
       "</tr>\n",
       "</table>"
      ],
      "text/plain": [
       "<class 'statsmodels.iolib.summary.Summary'>\n",
       "\"\"\"\n",
       "                 Generalized Linear Model Regression Results                  \n",
       "==============================================================================\n",
       "Dep. Variable:               is_fraud   No. Observations:              1296675\n",
       "Model:                            GLM   Df Residuals:                  1296652\n",
       "Model Family:                Binomial   Df Model:                           22\n",
       "Link Function:                  logit   Scale:                          1.0000\n",
       "Method:                          IRLS   Log-Likelihood:                -35798.\n",
       "Date:                Tue, 12 Jul 2022   Deviance:                       71596.\n",
       "Time:                        17:45:10   Pearson chi2:                 2.32e+16\n",
       "No. Iterations:                    12                                         \n",
       "Covariance Type:            nonrobust                                         \n",
       "======================================================================================================\n",
       "                                         coef    std err          z      P>|z|      [0.025      0.975]\n",
       "------------------------------------------------------------------------------------------------------\n",
       "const                                 -7.6190      0.087    -87.823      0.000      -7.789      -7.449\n",
       "amt                                    0.4236      0.005     77.828      0.000       0.413       0.434\n",
       "Time                                   0.7157      0.016     43.481      0.000       0.683       0.748\n",
       "category_food_dining                  -0.3713      0.094     -3.944      0.000      -0.556      -0.187\n",
       "category_gas_transport                 1.9677      0.068     28.907      0.000       1.834       2.101\n",
       "category_grocery_net                   1.5397      0.103     15.022      0.000       1.339       1.741\n",
       "category_grocery_pos                   2.8527      0.059     48.363      0.000       2.737       2.968\n",
       "category_health_fitness               -0.5157      0.099     -5.220      0.000      -0.709      -0.322\n",
       "category_home                         -0.4782      0.085     -5.602      0.000      -0.646      -0.311\n",
       "category_kids_pets                    -0.1906      0.080     -2.378      0.017      -0.348      -0.034\n",
       "category_misc_net                      2.2407      0.061     36.968      0.000       2.122       2.360\n",
       "category_misc_pos                      0.5114      0.080      6.371      0.000       0.354       0.669\n",
       "category_shopping_net                  1.6594      0.056     29.586      0.000       1.549       1.769\n",
       "category_shopping_pos                  0.7005      0.063     11.088      0.000       0.577       0.824\n",
       "category_travel                       -6.2082      0.323    -19.192      0.000      -6.842      -5.574\n",
       "gender_M                               0.3235      0.025     13.099      0.000       0.275       0.372\n",
       "recency_segment_After 6 hours          0.2891      0.081      3.550      0.000       0.129       0.449\n",
       "recency_segment_After Half-Day         1.1196      0.077     14.450      0.000       0.968       1.271\n",
       "recency_segment_First Transaction      3.6655      0.148     24.753      0.000       3.375       3.956\n",
       "recency_segment_Recent_Transaction     1.9156      0.074     25.838      0.000       1.770       2.061\n",
       "recency_segment_Within 6 hours         0.5769      0.075      7.672      0.000       0.429       0.724\n",
       "city_pop_segment_Densely populated    -0.0959      0.032     -3.041      0.002      -0.158      -0.034\n",
       "location_Nearby                       -0.0616      0.037     -1.659      0.097      -0.134       0.011\n",
       "======================================================================================================\n",
       "\"\"\""
      ]
     },
     "execution_count": 116,
     "metadata": {},
     "output_type": "execute_result"
    }
   ],
   "source": [
    "# making model with rfe selected columns\n",
    "model2 = sm.GLM(y,sm.add_constant(x[cols]),family = sm.families.Binomial())\n",
    "res2 = model2.fit()\n",
    "res2.summary()"
   ]
  },
  {
   "cell_type": "markdown",
   "id": "445e27b9",
   "metadata": {
    "id": "s93byAe_rzrb",
    "papermill": {
     "duration": 0.235126,
     "end_time": "2022-03-15T12:11:57.476054",
     "exception": false,
     "start_time": "2022-03-15T12:11:57.240928",
     "status": "completed"
    },
    "tags": []
   },
   "source": [
    "We can see that still there are many columns which have p value greater than 0.05 which makes these columns insignificant, since after doing RFE we are getting adequate amount of insignificant columns, so let's do the RFE again, this time will select less number of best features"
   ]
  },
  {
   "cell_type": "code",
   "execution_count": 117,
   "id": "488d31cb",
   "metadata": {
    "execution": {
     "iopub.execute_input": "2022-03-15T12:11:57.952598Z",
     "iopub.status.busy": "2022-03-15T12:11:57.951997Z",
     "iopub.status.idle": "2022-03-15T12:11:57.955372Z",
     "shell.execute_reply": "2022-03-15T12:11:57.956022Z",
     "shell.execute_reply.started": "2022-03-15T12:04:08.298688Z"
    },
    "id": "J0ktR_bpriGg",
    "papermill": {
     "duration": 0.243047,
     "end_time": "2022-03-15T12:11:57.956190",
     "exception": false,
     "start_time": "2022-03-15T12:11:57.713143",
     "status": "completed"
    },
    "tags": []
   },
   "outputs": [],
   "source": [
    "# dropping columns which have p value greater than 0.05\n",
    "cols = cols.drop([\"recency_segment_After 6 hours\",\"location_Nearby\"],1)"
   ]
  },
  {
   "cell_type": "markdown",
   "id": "782c8dc4",
   "metadata": {
    "id": "4qQRVwXWsroE",
    "papermill": {
     "duration": 0.238636,
     "end_time": "2022-03-15T12:11:58.434687",
     "exception": false,
     "start_time": "2022-03-15T12:11:58.196051",
     "status": "completed"
    },
    "tags": []
   },
   "source": [
    "Building model again and checking for insignificant variables"
   ]
  },
  {
   "cell_type": "code",
   "execution_count": 118,
   "id": "a7e0ecc7",
   "metadata": {
    "execution": {
     "iopub.execute_input": "2022-03-15T12:11:58.915800Z",
     "iopub.status.busy": "2022-03-15T12:11:58.915210Z",
     "iopub.status.idle": "2022-03-15T12:12:13.866874Z",
     "shell.execute_reply": "2022-03-15T12:12:13.867341Z",
     "shell.execute_reply.started": "2022-03-15T12:04:08.305619Z"
    },
    "id": "oo9R2eLNsqvA",
    "outputId": "fcf3afcc-6288-415f-e2a2-b94b06794ce9",
    "papermill": {
     "duration": 15.194227,
     "end_time": "2022-03-15T12:12:13.867518",
     "exception": false,
     "start_time": "2022-03-15T12:11:58.673291",
     "status": "completed"
    },
    "tags": []
   },
   "outputs": [
    {
     "data": {
      "text/html": [
       "<table class=\"simpletable\">\n",
       "<caption>Generalized Linear Model Regression Results</caption>\n",
       "<tr>\n",
       "  <th>Dep. Variable:</th>       <td>is_fraud</td>     <th>  No. Observations:  </th>  <td>1296675</td>\n",
       "</tr>\n",
       "<tr>\n",
       "  <th>Model:</th>                  <td>GLM</td>       <th>  Df Residuals:      </th>  <td>1296654</td>\n",
       "</tr>\n",
       "<tr>\n",
       "  <th>Model Family:</th>        <td>Binomial</td>     <th>  Df Model:          </th>  <td>    20</td> \n",
       "</tr>\n",
       "<tr>\n",
       "  <th>Link Function:</th>         <td>logit</td>      <th>  Scale:             </th> <td>  1.0000</td>\n",
       "</tr>\n",
       "<tr>\n",
       "  <th>Method:</th>                <td>IRLS</td>       <th>  Log-Likelihood:    </th> <td> -35806.</td>\n",
       "</tr>\n",
       "<tr>\n",
       "  <th>Date:</th>            <td>Tue, 12 Jul 2022</td> <th>  Deviance:          </th> <td>  71611.</td>\n",
       "</tr>\n",
       "<tr>\n",
       "  <th>Time:</th>                <td>17:45:36</td>     <th>  Pearson chi2:      </th> <td>2.32e+16</td>\n",
       "</tr>\n",
       "<tr>\n",
       "  <th>No. Iterations:</th>         <td>12</td>        <th>                     </th>     <td> </td>   \n",
       "</tr>\n",
       "<tr>\n",
       "  <th>Covariance Type:</th>     <td>nonrobust</td>    <th>                     </th>     <td> </td>   \n",
       "</tr>\n",
       "</table>\n",
       "<table class=\"simpletable\">\n",
       "<tr>\n",
       "                   <td></td>                     <th>coef</th>     <th>std err</th>      <th>z</th>      <th>P>|z|</th>  <th>[0.025</th>    <th>0.975]</th>  \n",
       "</tr>\n",
       "<tr>\n",
       "  <th>const</th>                              <td>   -7.4127</td> <td>    0.060</td> <td> -123.399</td> <td> 0.000</td> <td>   -7.530</td> <td>   -7.295</td>\n",
       "</tr>\n",
       "<tr>\n",
       "  <th>amt</th>                                <td>    0.4235</td> <td>    0.005</td> <td>   77.830</td> <td> 0.000</td> <td>    0.413</td> <td>    0.434</td>\n",
       "</tr>\n",
       "<tr>\n",
       "  <th>Time</th>                               <td>    0.7160</td> <td>    0.016</td> <td>   43.516</td> <td> 0.000</td> <td>    0.684</td> <td>    0.748</td>\n",
       "</tr>\n",
       "<tr>\n",
       "  <th>category_food_dining</th>               <td>   -0.3716</td> <td>    0.094</td> <td>   -3.947</td> <td> 0.000</td> <td>   -0.556</td> <td>   -0.187</td>\n",
       "</tr>\n",
       "<tr>\n",
       "  <th>category_gas_transport</th>             <td>    1.9706</td> <td>    0.068</td> <td>   28.953</td> <td> 0.000</td> <td>    1.837</td> <td>    2.104</td>\n",
       "</tr>\n",
       "<tr>\n",
       "  <th>category_grocery_net</th>               <td>    1.5447</td> <td>    0.102</td> <td>   15.072</td> <td> 0.000</td> <td>    1.344</td> <td>    1.746</td>\n",
       "</tr>\n",
       "<tr>\n",
       "  <th>category_grocery_pos</th>               <td>    2.8551</td> <td>    0.059</td> <td>   48.414</td> <td> 0.000</td> <td>    2.739</td> <td>    2.971</td>\n",
       "</tr>\n",
       "<tr>\n",
       "  <th>category_health_fitness</th>            <td>   -0.5158</td> <td>    0.099</td> <td>   -5.221</td> <td> 0.000</td> <td>   -0.709</td> <td>   -0.322</td>\n",
       "</tr>\n",
       "<tr>\n",
       "  <th>category_home</th>                      <td>   -0.4781</td> <td>    0.085</td> <td>   -5.602</td> <td> 0.000</td> <td>   -0.645</td> <td>   -0.311</td>\n",
       "</tr>\n",
       "<tr>\n",
       "  <th>category_kids_pets</th>                 <td>   -0.1906</td> <td>    0.080</td> <td>   -2.378</td> <td> 0.017</td> <td>   -0.348</td> <td>   -0.034</td>\n",
       "</tr>\n",
       "<tr>\n",
       "  <th>category_misc_net</th>                  <td>    2.2421</td> <td>    0.061</td> <td>   36.994</td> <td> 0.000</td> <td>    2.123</td> <td>    2.361</td>\n",
       "</tr>\n",
       "<tr>\n",
       "  <th>category_misc_pos</th>                  <td>    0.5121</td> <td>    0.080</td> <td>    6.380</td> <td> 0.000</td> <td>    0.355</td> <td>    0.669</td>\n",
       "</tr>\n",
       "<tr>\n",
       "  <th>category_shopping_net</th>              <td>    1.6605</td> <td>    0.056</td> <td>   29.607</td> <td> 0.000</td> <td>    1.551</td> <td>    1.770</td>\n",
       "</tr>\n",
       "<tr>\n",
       "  <th>category_shopping_pos</th>              <td>    0.7006</td> <td>    0.063</td> <td>   11.090</td> <td> 0.000</td> <td>    0.577</td> <td>    0.824</td>\n",
       "</tr>\n",
       "<tr>\n",
       "  <th>category_travel</th>                    <td>   -6.2040</td> <td>    0.323</td> <td>  -19.186</td> <td> 0.000</td> <td>   -6.838</td> <td>   -5.570</td>\n",
       "</tr>\n",
       "<tr>\n",
       "  <th>gender_M</th>                           <td>    0.3220</td> <td>    0.025</td> <td>   13.043</td> <td> 0.000</td> <td>    0.274</td> <td>    0.370</td>\n",
       "</tr>\n",
       "<tr>\n",
       "  <th>recency_segment_After Half-Day</th>     <td>    0.9048</td> <td>    0.046</td> <td>   19.799</td> <td> 0.000</td> <td>    0.815</td> <td>    0.994</td>\n",
       "</tr>\n",
       "<tr>\n",
       "  <th>recency_segment_First Transaction</th>  <td>    3.4496</td> <td>    0.134</td> <td>   25.708</td> <td> 0.000</td> <td>    3.187</td> <td>    3.713</td>\n",
       "</tr>\n",
       "<tr>\n",
       "  <th>recency_segment_Recent_Transaction</th> <td>    1.7009</td> <td>    0.040</td> <td>   42.723</td> <td> 0.000</td> <td>    1.623</td> <td>    1.779</td>\n",
       "</tr>\n",
       "<tr>\n",
       "  <th>recency_segment_Within 6 hours</th>     <td>    0.3620</td> <td>    0.042</td> <td>    8.683</td> <td> 0.000</td> <td>    0.280</td> <td>    0.444</td>\n",
       "</tr>\n",
       "<tr>\n",
       "  <th>city_pop_segment_Densely populated</th> <td>   -0.0959</td> <td>    0.032</td> <td>   -3.041</td> <td> 0.002</td> <td>   -0.158</td> <td>   -0.034</td>\n",
       "</tr>\n",
       "</table>"
      ],
      "text/plain": [
       "<class 'statsmodels.iolib.summary.Summary'>\n",
       "\"\"\"\n",
       "                 Generalized Linear Model Regression Results                  \n",
       "==============================================================================\n",
       "Dep. Variable:               is_fraud   No. Observations:              1296675\n",
       "Model:                            GLM   Df Residuals:                  1296654\n",
       "Model Family:                Binomial   Df Model:                           20\n",
       "Link Function:                  logit   Scale:                          1.0000\n",
       "Method:                          IRLS   Log-Likelihood:                -35806.\n",
       "Date:                Tue, 12 Jul 2022   Deviance:                       71611.\n",
       "Time:                        17:45:36   Pearson chi2:                 2.32e+16\n",
       "No. Iterations:                    12                                         \n",
       "Covariance Type:            nonrobust                                         \n",
       "======================================================================================================\n",
       "                                         coef    std err          z      P>|z|      [0.025      0.975]\n",
       "------------------------------------------------------------------------------------------------------\n",
       "const                                 -7.4127      0.060   -123.399      0.000      -7.530      -7.295\n",
       "amt                                    0.4235      0.005     77.830      0.000       0.413       0.434\n",
       "Time                                   0.7160      0.016     43.516      0.000       0.684       0.748\n",
       "category_food_dining                  -0.3716      0.094     -3.947      0.000      -0.556      -0.187\n",
       "category_gas_transport                 1.9706      0.068     28.953      0.000       1.837       2.104\n",
       "category_grocery_net                   1.5447      0.102     15.072      0.000       1.344       1.746\n",
       "category_grocery_pos                   2.8551      0.059     48.414      0.000       2.739       2.971\n",
       "category_health_fitness               -0.5158      0.099     -5.221      0.000      -0.709      -0.322\n",
       "category_home                         -0.4781      0.085     -5.602      0.000      -0.645      -0.311\n",
       "category_kids_pets                    -0.1906      0.080     -2.378      0.017      -0.348      -0.034\n",
       "category_misc_net                      2.2421      0.061     36.994      0.000       2.123       2.361\n",
       "category_misc_pos                      0.5121      0.080      6.380      0.000       0.355       0.669\n",
       "category_shopping_net                  1.6605      0.056     29.607      0.000       1.551       1.770\n",
       "category_shopping_pos                  0.7006      0.063     11.090      0.000       0.577       0.824\n",
       "category_travel                       -6.2040      0.323    -19.186      0.000      -6.838      -5.570\n",
       "gender_M                               0.3220      0.025     13.043      0.000       0.274       0.370\n",
       "recency_segment_After Half-Day         0.9048      0.046     19.799      0.000       0.815       0.994\n",
       "recency_segment_First Transaction      3.4496      0.134     25.708      0.000       3.187       3.713\n",
       "recency_segment_Recent_Transaction     1.7009      0.040     42.723      0.000       1.623       1.779\n",
       "recency_segment_Within 6 hours         0.3620      0.042      8.683      0.000       0.280       0.444\n",
       "city_pop_segment_Densely populated    -0.0959      0.032     -3.041      0.002      -0.158      -0.034\n",
       "======================================================================================================\n",
       "\"\"\""
      ]
     },
     "execution_count": 118,
     "metadata": {},
     "output_type": "execute_result"
    }
   ],
   "source": [
    "# building model\n",
    "model3 = sm.GLM(y,sm.add_constant(x[cols]),family = sm.families.Binomial())\n",
    "res3 = model3.fit()\n",
    "res3.summary()"
   ]
  },
  {
   "cell_type": "markdown",
   "id": "b058043f",
   "metadata": {
    "id": "ruqnWoJJBlyG",
    "papermill": {
     "duration": 0.247564,
     "end_time": "2022-03-15T12:12:14.358251",
     "exception": false,
     "start_time": "2022-03-15T12:12:14.110687",
     "status": "completed"
    },
    "tags": []
   },
   "source": [
    "Now since model is made, let's check the Variance Inflation factors"
   ]
  },
  {
   "cell_type": "markdown",
   "id": "a2a1613d",
   "metadata": {
    "id": "2emrYSwQKbXn",
    "papermill": {
     "duration": 0.241426,
     "end_time": "2022-03-15T12:12:14.841572",
     "exception": false,
     "start_time": "2022-03-15T12:12:14.600146",
     "status": "completed"
    },
    "tags": []
   },
   "source": [
    "#### VIF"
   ]
  },
  {
   "cell_type": "code",
   "execution_count": 119,
   "id": "43fb57bd",
   "metadata": {
    "execution": {
     "iopub.execute_input": "2022-03-15T12:12:15.364084Z",
     "iopub.status.busy": "2022-03-15T12:12:15.363191Z",
     "iopub.status.idle": "2022-03-15T12:12:15.369219Z",
     "shell.execute_reply": "2022-03-15T12:12:15.369732Z",
     "shell.execute_reply.started": "2022-03-15T12:04:26.997580Z"
    },
    "id": "Qpr0OZEtKaZX",
    "papermill": {
     "duration": 0.275084,
     "end_time": "2022-03-15T12:12:15.369899",
     "exception": false,
     "start_time": "2022-03-15T12:12:15.094815",
     "status": "completed"
    },
    "tags": []
   },
   "outputs": [],
   "source": [
    "# importing libraries\n",
    "from statsmodels.stats.outliers_influence import variance_inflation_factor"
   ]
  },
  {
   "cell_type": "code",
   "execution_count": 120,
   "id": "719fdb67",
   "metadata": {
    "execution": {
     "iopub.execute_input": "2022-03-15T12:12:15.854453Z",
     "iopub.status.busy": "2022-03-15T12:12:15.853770Z",
     "iopub.status.idle": "2022-03-15T12:13:13.845178Z",
     "shell.execute_reply": "2022-03-15T12:13:13.846141Z",
     "shell.execute_reply.started": "2022-03-15T12:04:27.006388Z"
    },
    "id": "8QPLv9FyK7_z",
    "papermill": {
     "duration": 58.234812,
     "end_time": "2022-03-15T12:13:13.846430",
     "exception": false,
     "start_time": "2022-03-15T12:12:15.611618",
     "status": "completed"
    },
    "tags": []
   },
   "outputs": [],
   "source": [
    "vif = pd.DataFrame({\"Features\":cols})\n",
    "vif[\"VIF\"] = [variance_inflation_factor(x[cols].values,i) for i in range(x[cols].shape[1])]\n",
    "vif = vif.sort_values(by=\"VIF\",ascending = False)"
   ]
  },
  {
   "cell_type": "code",
   "execution_count": 121,
   "id": "4ddf7996",
   "metadata": {
    "execution": {
     "iopub.execute_input": "2022-03-15T12:13:14.419724Z",
     "iopub.status.busy": "2022-03-15T12:13:14.418926Z",
     "iopub.status.idle": "2022-03-15T12:13:14.424188Z",
     "shell.execute_reply": "2022-03-15T12:13:14.424736Z",
     "shell.execute_reply.started": "2022-03-15T12:05:39.841961Z"
    },
    "id": "gdtbOsOsL02D",
    "outputId": "19d9d64a-40ac-42b3-802f-3071fa534555",
    "papermill": {
     "duration": 0.269959,
     "end_time": "2022-03-15T12:13:14.424901",
     "exception": false,
     "start_time": "2022-03-15T12:13:14.154942",
     "status": "completed"
    },
    "tags": []
   },
   "outputs": [
    {
     "data": {
      "text/html": [
       "<div>\n",
       "<style scoped>\n",
       "    .dataframe tbody tr th:only-of-type {\n",
       "        vertical-align: middle;\n",
       "    }\n",
       "\n",
       "    .dataframe tbody tr th {\n",
       "        vertical-align: top;\n",
       "    }\n",
       "\n",
       "    .dataframe thead th {\n",
       "        text-align: right;\n",
       "    }\n",
       "</style>\n",
       "<table border=\"1\" class=\"dataframe\">\n",
       "  <thead>\n",
       "    <tr style=\"text-align: right;\">\n",
       "      <th></th>\n",
       "      <th>Features</th>\n",
       "      <th>VIF</th>\n",
       "    </tr>\n",
       "  </thead>\n",
       "  <tbody>\n",
       "    <tr>\n",
       "      <th>18</th>\n",
       "      <td>recency_segment_Within 6 hours</td>\n",
       "      <td>2.016160</td>\n",
       "    </tr>\n",
       "    <tr>\n",
       "      <th>1</th>\n",
       "      <td>Time</td>\n",
       "      <td>1.886867</td>\n",
       "    </tr>\n",
       "    <tr>\n",
       "      <th>14</th>\n",
       "      <td>gender_M</td>\n",
       "      <td>1.686097</td>\n",
       "    </tr>\n",
       "    <tr>\n",
       "      <th>3</th>\n",
       "      <td>category_gas_transport</td>\n",
       "      <td>1.523325</td>\n",
       "    </tr>\n",
       "    <tr>\n",
       "      <th>5</th>\n",
       "      <td>category_grocery_pos</td>\n",
       "      <td>1.503281</td>\n",
       "    </tr>\n",
       "    <tr>\n",
       "      <th>17</th>\n",
       "      <td>recency_segment_Recent_Transaction</td>\n",
       "      <td>1.412568</td>\n",
       "    </tr>\n",
       "    <tr>\n",
       "      <th>15</th>\n",
       "      <td>recency_segment_After Half-Day</td>\n",
       "      <td>1.360641</td>\n",
       "    </tr>\n",
       "    <tr>\n",
       "      <th>7</th>\n",
       "      <td>category_home</td>\n",
       "      <td>1.283113</td>\n",
       "    </tr>\n",
       "    <tr>\n",
       "      <th>8</th>\n",
       "      <td>category_kids_pets</td>\n",
       "      <td>1.253831</td>\n",
       "    </tr>\n",
       "    <tr>\n",
       "      <th>12</th>\n",
       "      <td>category_shopping_pos</td>\n",
       "      <td>1.237905</td>\n",
       "    </tr>\n",
       "    <tr>\n",
       "      <th>19</th>\n",
       "      <td>city_pop_segment_Densely populated</td>\n",
       "      <td>1.214209</td>\n",
       "    </tr>\n",
       "    <tr>\n",
       "      <th>11</th>\n",
       "      <td>category_shopping_net</td>\n",
       "      <td>1.205085</td>\n",
       "    </tr>\n",
       "    <tr>\n",
       "      <th>6</th>\n",
       "      <td>category_health_fitness</td>\n",
       "      <td>1.198547</td>\n",
       "    </tr>\n",
       "    <tr>\n",
       "      <th>2</th>\n",
       "      <td>category_food_dining</td>\n",
       "      <td>1.196638</td>\n",
       "    </tr>\n",
       "    <tr>\n",
       "      <th>9</th>\n",
       "      <td>category_misc_net</td>\n",
       "      <td>1.193791</td>\n",
       "    </tr>\n",
       "    <tr>\n",
       "      <th>10</th>\n",
       "      <td>category_misc_pos</td>\n",
       "      <td>1.188263</td>\n",
       "    </tr>\n",
       "    <tr>\n",
       "      <th>4</th>\n",
       "      <td>category_grocery_net</td>\n",
       "      <td>1.186603</td>\n",
       "    </tr>\n",
       "    <tr>\n",
       "      <th>13</th>\n",
       "      <td>category_travel</td>\n",
       "      <td>1.096962</td>\n",
       "    </tr>\n",
       "    <tr>\n",
       "      <th>0</th>\n",
       "      <td>amt</td>\n",
       "      <td>1.016155</td>\n",
       "    </tr>\n",
       "    <tr>\n",
       "      <th>16</th>\n",
       "      <td>recency_segment_First Transaction</td>\n",
       "      <td>1.002218</td>\n",
       "    </tr>\n",
       "  </tbody>\n",
       "</table>\n",
       "</div>"
      ],
      "text/plain": [
       "                              Features       VIF\n",
       "18      recency_segment_Within 6 hours  2.016160\n",
       "1                                 Time  1.886867\n",
       "14                            gender_M  1.686097\n",
       "3               category_gas_transport  1.523325\n",
       "5                 category_grocery_pos  1.503281\n",
       "17  recency_segment_Recent_Transaction  1.412568\n",
       "15      recency_segment_After Half-Day  1.360641\n",
       "7                        category_home  1.283113\n",
       "8                   category_kids_pets  1.253831\n",
       "12               category_shopping_pos  1.237905\n",
       "19  city_pop_segment_Densely populated  1.214209\n",
       "11               category_shopping_net  1.205085\n",
       "6              category_health_fitness  1.198547\n",
       "2                 category_food_dining  1.196638\n",
       "9                    category_misc_net  1.193791\n",
       "10                   category_misc_pos  1.188263\n",
       "4                 category_grocery_net  1.186603\n",
       "13                     category_travel  1.096962\n",
       "0                                  amt  1.016155\n",
       "16   recency_segment_First Transaction  1.002218"
      ]
     },
     "execution_count": 121,
     "metadata": {},
     "output_type": "execute_result"
    }
   ],
   "source": [
    "vif"
   ]
  },
  {
   "cell_type": "markdown",
   "id": "82c740df",
   "metadata": {
    "id": "UwDigfdtMswG",
    "papermill": {
     "duration": 0.258319,
     "end_time": "2022-03-15T12:13:14.947000",
     "exception": false,
     "start_time": "2022-03-15T12:13:14.688681",
     "status": "completed"
    },
    "tags": []
   },
   "source": [
    "Since all of the above VIF values are below 3, we can proceed with the existing set of variables"
   ]
  },
  {
   "cell_type": "markdown",
   "id": "83955947",
   "metadata": {
    "id": "meAh_4p0M0-R",
    "papermill": {
     "duration": 0.254022,
     "end_time": "2022-03-15T12:13:15.458701",
     "exception": false,
     "start_time": "2022-03-15T12:13:15.204679",
     "status": "completed"
    },
    "tags": []
   },
   "source": [
    "#### Predictions"
   ]
  },
  {
   "cell_type": "code",
   "execution_count": 122,
   "id": "5a34ca30",
   "metadata": {
    "execution": {
     "iopub.execute_input": "2022-03-15T12:13:15.963002Z",
     "iopub.status.busy": "2022-03-15T12:13:15.962049Z",
     "iopub.status.idle": "2022-03-15T12:13:16.148060Z",
     "shell.execute_reply": "2022-03-15T12:13:16.149033Z",
     "shell.execute_reply.started": "2022-03-15T12:05:39.874134Z"
    },
    "id": "qw4egQdmL31a",
    "papermill": {
     "duration": 0.440904,
     "end_time": "2022-03-15T12:13:16.149297",
     "exception": false,
     "start_time": "2022-03-15T12:13:15.708393",
     "status": "completed"
    },
    "tags": []
   },
   "outputs": [],
   "source": [
    "# predicting values\n",
    "pred = res3.predict(sm.add_constant(x[cols]))"
   ]
  },
  {
   "cell_type": "code",
   "execution_count": 123,
   "id": "05a1da07",
   "metadata": {
    "execution": {
     "iopub.execute_input": "2022-03-15T12:13:16.694420Z",
     "iopub.status.busy": "2022-03-15T12:13:16.692488Z",
     "iopub.status.idle": "2022-03-15T12:13:16.698401Z",
     "shell.execute_reply": "2022-03-15T12:13:16.697901Z",
     "shell.execute_reply.started": "2022-03-15T12:05:40.152676Z"
    },
    "id": "hk2Fydkxy3wy",
    "papermill": {
     "duration": 0.263107,
     "end_time": "2022-03-15T12:13:16.698535",
     "exception": false,
     "start_time": "2022-03-15T12:13:16.435428",
     "status": "completed"
    },
    "tags": []
   },
   "outputs": [],
   "source": [
    "# making a dataframe\n",
    "predictions = pd.DataFrame({\"Actual\": y,\"Pred_Prob\" : pred})"
   ]
  },
  {
   "cell_type": "code",
   "execution_count": 124,
   "id": "1f85ff82",
   "metadata": {
    "execution": {
     "iopub.execute_input": "2022-03-15T12:13:17.207413Z",
     "iopub.status.busy": "2022-03-15T12:13:17.206715Z",
     "iopub.status.idle": "2022-03-15T12:13:17.209358Z",
     "shell.execute_reply": "2022-03-15T12:13:17.209846Z",
     "shell.execute_reply.started": "2022-03-15T12:05:40.182475Z"
    },
    "id": "B8DmZoeFz7BM",
    "outputId": "2f0ad621-f31f-4a11-f8a9-93f54f005e3c",
    "papermill": {
     "duration": 0.26545,
     "end_time": "2022-03-15T12:13:17.210021",
     "exception": false,
     "start_time": "2022-03-15T12:13:16.944571",
     "status": "completed"
    },
    "tags": []
   },
   "outputs": [
    {
     "data": {
      "text/html": [
       "<div>\n",
       "<style scoped>\n",
       "    .dataframe tbody tr th:only-of-type {\n",
       "        vertical-align: middle;\n",
       "    }\n",
       "\n",
       "    .dataframe tbody tr th {\n",
       "        vertical-align: top;\n",
       "    }\n",
       "\n",
       "    .dataframe thead th {\n",
       "        text-align: right;\n",
       "    }\n",
       "</style>\n",
       "<table border=\"1\" class=\"dataframe\">\n",
       "  <thead>\n",
       "    <tr style=\"text-align: right;\">\n",
       "      <th></th>\n",
       "      <th>Actual</th>\n",
       "      <th>Pred_Prob</th>\n",
       "    </tr>\n",
       "  </thead>\n",
       "  <tbody>\n",
       "    <tr>\n",
       "      <th>0</th>\n",
       "      <td>0</td>\n",
       "      <td>0.037746</td>\n",
       "    </tr>\n",
       "    <tr>\n",
       "      <th>1</th>\n",
       "      <td>0</td>\n",
       "      <td>0.086650</td>\n",
       "    </tr>\n",
       "    <tr>\n",
       "      <th>2</th>\n",
       "      <td>0</td>\n",
       "      <td>0.010050</td>\n",
       "    </tr>\n",
       "    <tr>\n",
       "      <th>3</th>\n",
       "      <td>0</td>\n",
       "      <td>0.043852</td>\n",
       "    </tr>\n",
       "    <tr>\n",
       "      <th>4</th>\n",
       "      <td>0</td>\n",
       "      <td>0.010471</td>\n",
       "    </tr>\n",
       "  </tbody>\n",
       "</table>\n",
       "</div>"
      ],
      "text/plain": [
       "   Actual  Pred_Prob\n",
       "0       0   0.037746\n",
       "1       0   0.086650\n",
       "2       0   0.010050\n",
       "3       0   0.043852\n",
       "4       0   0.010471"
      ]
     },
     "execution_count": 124,
     "metadata": {},
     "output_type": "execute_result"
    }
   ],
   "source": [
    "predictions.head()"
   ]
  },
  {
   "cell_type": "code",
   "execution_count": 125,
   "id": "2aa2c3aa",
   "metadata": {
    "execution": {
     "iopub.execute_input": "2022-03-15T12:13:17.746141Z",
     "iopub.status.busy": "2022-03-15T12:13:17.745442Z",
     "iopub.status.idle": "2022-03-15T12:13:31.968188Z",
     "shell.execute_reply": "2022-03-15T12:13:31.967595Z",
     "shell.execute_reply.started": "2022-03-15T12:05:40.213027Z"
    },
    "id": "lGs8lezEz859",
    "papermill": {
     "duration": 14.487298,
     "end_time": "2022-03-15T12:13:31.968334",
     "exception": false,
     "start_time": "2022-03-15T12:13:17.481036",
     "status": "completed"
    },
    "tags": []
   },
   "outputs": [],
   "source": [
    "# Now let's get the final predictions\n",
    "\n",
    "threshold = [0.01,0.02,0.03,0.04,0.05,0.06,0.07,0.08,0.09,0.1,0.2,0.3,0.4,0.5,0.6,0.7,0.8,0.9]\n",
    "\n",
    "for z in threshold:\n",
    "  predictions[z] = predictions[\"Pred_Prob\"].map(lambda x: 0 if x<z else 1)"
   ]
  },
  {
   "cell_type": "code",
   "execution_count": 126,
   "id": "4109373c",
   "metadata": {
    "execution": {
     "iopub.execute_input": "2022-03-15T12:13:32.519922Z",
     "iopub.status.busy": "2022-03-15T12:13:32.519312Z",
     "iopub.status.idle": "2022-03-15T12:13:32.534476Z",
     "shell.execute_reply": "2022-03-15T12:13:32.533931Z",
     "shell.execute_reply.started": "2022-03-15T12:05:54.900528Z"
    },
    "id": "NuiQmRbv1Ay7",
    "outputId": "9d5d301d-88d3-4a19-9beb-b606ad093400",
    "papermill": {
     "duration": 0.306331,
     "end_time": "2022-03-15T12:13:32.534612",
     "exception": false,
     "start_time": "2022-03-15T12:13:32.228281",
     "status": "completed"
    },
    "tags": []
   },
   "outputs": [
    {
     "data": {
      "text/html": [
       "<div>\n",
       "<style scoped>\n",
       "    .dataframe tbody tr th:only-of-type {\n",
       "        vertical-align: middle;\n",
       "    }\n",
       "\n",
       "    .dataframe tbody tr th {\n",
       "        vertical-align: top;\n",
       "    }\n",
       "\n",
       "    .dataframe thead th {\n",
       "        text-align: right;\n",
       "    }\n",
       "</style>\n",
       "<table border=\"1\" class=\"dataframe\">\n",
       "  <thead>\n",
       "    <tr style=\"text-align: right;\">\n",
       "      <th></th>\n",
       "      <th>Actual</th>\n",
       "      <th>Pred_Prob</th>\n",
       "      <th>0.01</th>\n",
       "      <th>0.02</th>\n",
       "      <th>0.03</th>\n",
       "      <th>0.04</th>\n",
       "      <th>0.05</th>\n",
       "      <th>0.06</th>\n",
       "      <th>0.07</th>\n",
       "      <th>0.08</th>\n",
       "      <th>0.09</th>\n",
       "      <th>0.1</th>\n",
       "      <th>0.2</th>\n",
       "      <th>0.3</th>\n",
       "      <th>0.4</th>\n",
       "      <th>0.5</th>\n",
       "      <th>0.6</th>\n",
       "      <th>0.7</th>\n",
       "      <th>0.8</th>\n",
       "      <th>0.9</th>\n",
       "    </tr>\n",
       "  </thead>\n",
       "  <tbody>\n",
       "    <tr>\n",
       "      <th>0</th>\n",
       "      <td>0</td>\n",
       "      <td>0.037746</td>\n",
       "      <td>1</td>\n",
       "      <td>1</td>\n",
       "      <td>1</td>\n",
       "      <td>0</td>\n",
       "      <td>0</td>\n",
       "      <td>0</td>\n",
       "      <td>0</td>\n",
       "      <td>0</td>\n",
       "      <td>0</td>\n",
       "      <td>0</td>\n",
       "      <td>0</td>\n",
       "      <td>0</td>\n",
       "      <td>0</td>\n",
       "      <td>0</td>\n",
       "      <td>0</td>\n",
       "      <td>0</td>\n",
       "      <td>0</td>\n",
       "      <td>0</td>\n",
       "    </tr>\n",
       "    <tr>\n",
       "      <th>1</th>\n",
       "      <td>0</td>\n",
       "      <td>0.086650</td>\n",
       "      <td>1</td>\n",
       "      <td>1</td>\n",
       "      <td>1</td>\n",
       "      <td>1</td>\n",
       "      <td>1</td>\n",
       "      <td>1</td>\n",
       "      <td>1</td>\n",
       "      <td>1</td>\n",
       "      <td>0</td>\n",
       "      <td>0</td>\n",
       "      <td>0</td>\n",
       "      <td>0</td>\n",
       "      <td>0</td>\n",
       "      <td>0</td>\n",
       "      <td>0</td>\n",
       "      <td>0</td>\n",
       "      <td>0</td>\n",
       "      <td>0</td>\n",
       "    </tr>\n",
       "    <tr>\n",
       "      <th>2</th>\n",
       "      <td>0</td>\n",
       "      <td>0.010050</td>\n",
       "      <td>1</td>\n",
       "      <td>0</td>\n",
       "      <td>0</td>\n",
       "      <td>0</td>\n",
       "      <td>0</td>\n",
       "      <td>0</td>\n",
       "      <td>0</td>\n",
       "      <td>0</td>\n",
       "      <td>0</td>\n",
       "      <td>0</td>\n",
       "      <td>0</td>\n",
       "      <td>0</td>\n",
       "      <td>0</td>\n",
       "      <td>0</td>\n",
       "      <td>0</td>\n",
       "      <td>0</td>\n",
       "      <td>0</td>\n",
       "      <td>0</td>\n",
       "    </tr>\n",
       "    <tr>\n",
       "      <th>3</th>\n",
       "      <td>0</td>\n",
       "      <td>0.043852</td>\n",
       "      <td>1</td>\n",
       "      <td>1</td>\n",
       "      <td>1</td>\n",
       "      <td>1</td>\n",
       "      <td>0</td>\n",
       "      <td>0</td>\n",
       "      <td>0</td>\n",
       "      <td>0</td>\n",
       "      <td>0</td>\n",
       "      <td>0</td>\n",
       "      <td>0</td>\n",
       "      <td>0</td>\n",
       "      <td>0</td>\n",
       "      <td>0</td>\n",
       "      <td>0</td>\n",
       "      <td>0</td>\n",
       "      <td>0</td>\n",
       "      <td>0</td>\n",
       "    </tr>\n",
       "    <tr>\n",
       "      <th>4</th>\n",
       "      <td>0</td>\n",
       "      <td>0.010471</td>\n",
       "      <td>1</td>\n",
       "      <td>0</td>\n",
       "      <td>0</td>\n",
       "      <td>0</td>\n",
       "      <td>0</td>\n",
       "      <td>0</td>\n",
       "      <td>0</td>\n",
       "      <td>0</td>\n",
       "      <td>0</td>\n",
       "      <td>0</td>\n",
       "      <td>0</td>\n",
       "      <td>0</td>\n",
       "      <td>0</td>\n",
       "      <td>0</td>\n",
       "      <td>0</td>\n",
       "      <td>0</td>\n",
       "      <td>0</td>\n",
       "      <td>0</td>\n",
       "    </tr>\n",
       "  </tbody>\n",
       "</table>\n",
       "</div>"
      ],
      "text/plain": [
       "   Actual  Pred_Prob  0.01  0.02  0.03  0.04  0.05  0.06  0.07  0.08  0.09  \\\n",
       "0       0   0.037746     1     1     1     0     0     0     0     0     0   \n",
       "1       0   0.086650     1     1     1     1     1     1     1     1     0   \n",
       "2       0   0.010050     1     0     0     0     0     0     0     0     0   \n",
       "3       0   0.043852     1     1     1     1     0     0     0     0     0   \n",
       "4       0   0.010471     1     0     0     0     0     0     0     0     0   \n",
       "\n",
       "   0.1  0.2  0.3  0.4  0.5  0.6  0.7  0.8  0.9  \n",
       "0    0    0    0    0    0    0    0    0    0  \n",
       "1    0    0    0    0    0    0    0    0    0  \n",
       "2    0    0    0    0    0    0    0    0    0  \n",
       "3    0    0    0    0    0    0    0    0    0  \n",
       "4    0    0    0    0    0    0    0    0    0  "
      ]
     },
     "execution_count": 126,
     "metadata": {},
     "output_type": "execute_result"
    }
   ],
   "source": [
    "predictions.head()"
   ]
  },
  {
   "cell_type": "markdown",
   "id": "0b94700b",
   "metadata": {
    "id": "A2IWTetv1Mja",
    "papermill": {
     "duration": 0.257158,
     "end_time": "2022-03-15T12:13:33.050960",
     "exception": false,
     "start_time": "2022-03-15T12:13:32.793802",
     "status": "completed"
    },
    "tags": []
   },
   "source": [
    "Now since we have received the predictions for every threshold, let's have a look on which is the most optimal columns to rely on"
   ]
  },
  {
   "cell_type": "markdown",
   "id": "47b210f6",
   "metadata": {
    "id": "CtGxW4R-1ZWe",
    "papermill": {
     "duration": 0.255269,
     "end_time": "2022-03-15T12:13:33.561641",
     "exception": false,
     "start_time": "2022-03-15T12:13:33.306372",
     "status": "completed"
    },
    "tags": []
   },
   "source": [
    "#### Optimal Value"
   ]
  },
  {
   "cell_type": "code",
   "execution_count": 127,
   "id": "c5fea413",
   "metadata": {
    "execution": {
     "iopub.execute_input": "2022-03-15T12:13:34.083796Z",
     "iopub.status.busy": "2022-03-15T12:13:34.082995Z",
     "iopub.status.idle": "2022-03-15T12:13:34.084979Z",
     "shell.execute_reply": "2022-03-15T12:13:34.085454Z",
     "shell.execute_reply.started": "2022-03-15T12:05:54.920948Z"
    },
    "id": "bKxTMqRy1EvV",
    "papermill": {
     "duration": 0.264327,
     "end_time": "2022-03-15T12:13:34.085607",
     "exception": false,
     "start_time": "2022-03-15T12:13:33.821280",
     "status": "completed"
    },
    "tags": []
   },
   "outputs": [],
   "source": [
    "# importing liraries for metrics\n",
    "import sklearn.metrics as metrics"
   ]
  },
  {
   "cell_type": "code",
   "execution_count": 128,
   "id": "91ca179c",
   "metadata": {
    "execution": {
     "iopub.execute_input": "2022-03-15T12:13:34.601311Z",
     "iopub.status.busy": "2022-03-15T12:13:34.600638Z",
     "iopub.status.idle": "2022-03-15T12:13:34.603479Z",
     "shell.execute_reply": "2022-03-15T12:13:34.604054Z",
     "shell.execute_reply.started": "2022-03-15T12:05:54.931985Z"
    },
    "id": "85wkCkJRLPHa",
    "papermill": {
     "duration": 0.265543,
     "end_time": "2022-03-15T12:13:34.604210",
     "exception": false,
     "start_time": "2022-03-15T12:13:34.338667",
     "status": "completed"
    },
    "tags": []
   },
   "outputs": [],
   "source": [
    "# Since we need parameters like precision, recall, sensitivity,etc. we must need to consider confusion matrics\n",
    "#\n",
    "#   Confusion Matrix is \n",
    "#    Predicted/         0                1\n",
    "#    Actual\n",
    "#      0          True Negative     False Positive\n",
    "#      1          False Negative    True Positive\n",
    "# True Positive (TN) = [1,1]\n",
    "# True Negative (TN) = [0,0]\n",
    "# False Negative (FN) = [1,0]\n",
    "# False Positive (FP) = [0,1]"
   ]
  },
  {
   "cell_type": "code",
   "execution_count": 129,
   "id": "8608efc7",
   "metadata": {
    "execution": {
     "iopub.execute_input": "2022-03-15T12:13:35.125063Z",
     "iopub.status.busy": "2022-03-15T12:13:35.124411Z",
     "iopub.status.idle": "2022-03-15T12:13:35.129369Z",
     "shell.execute_reply": "2022-03-15T12:13:35.129995Z",
     "shell.execute_reply.started": "2022-03-15T12:05:54.944847Z"
    },
    "id": "pJua7dLuLlrk",
    "papermill": {
     "duration": 0.267692,
     "end_time": "2022-03-15T12:13:35.130153",
     "exception": false,
     "start_time": "2022-03-15T12:13:34.862461",
     "status": "completed"
    },
    "tags": []
   },
   "outputs": [],
   "source": [
    "# initialising a dataframe for graph\n",
    "curve = pd.DataFrame(index = threshold, columns = [\"accuracy\",\"sensitivity\",\"specificity\"])"
   ]
  },
  {
   "cell_type": "code",
   "execution_count": 130,
   "id": "76f57a74",
   "metadata": {
    "execution": {
     "iopub.execute_input": "2022-03-15T12:13:35.650652Z",
     "iopub.status.busy": "2022-03-15T12:13:35.650034Z",
     "iopub.status.idle": "2022-03-15T12:13:38.699055Z",
     "shell.execute_reply": "2022-03-15T12:13:38.699561Z",
     "shell.execute_reply.started": "2022-03-15T12:05:54.959139Z"
    },
    "id": "u5tGNXqvL6s1",
    "papermill": {
     "duration": 3.315084,
     "end_time": "2022-03-15T12:13:38.699740",
     "exception": false,
     "start_time": "2022-03-15T12:13:35.384656",
     "status": "completed"
    },
    "tags": []
   },
   "outputs": [],
   "source": [
    "# assigning values for every threshold\n",
    "for y in threshold:  \n",
    "  matrix = metrics.confusion_matrix(predictions.Actual,predictions[y])\n",
    "  accuracy = (matrix[1,1] + matrix[0,0])/ (matrix.sum())\n",
    "  sensitivity = (matrix[1,1])/(matrix[1,1] + matrix[1,0])\n",
    "  specificity = (matrix[0,0])/(matrix[0,0] + matrix[0,1])\n",
    "\n",
    "  curve.loc[y] = [accuracy,sensitivity,specificity]"
   ]
  },
  {
   "cell_type": "code",
   "execution_count": 131,
   "id": "85e8b557",
   "metadata": {
    "execution": {
     "iopub.execute_input": "2022-03-15T12:13:39.224736Z",
     "iopub.status.busy": "2022-03-15T12:13:39.224134Z",
     "iopub.status.idle": "2022-03-15T12:13:39.227997Z",
     "shell.execute_reply": "2022-03-15T12:13:39.227481Z",
     "shell.execute_reply.started": "2022-03-15T12:05:58.832566Z"
    },
    "id": "pAl2W4hhk6SW",
    "outputId": "4e5e297a-d6bf-4212-e973-7c2fc53e0337",
    "papermill": {
     "duration": 0.272218,
     "end_time": "2022-03-15T12:13:39.228158",
     "exception": false,
     "start_time": "2022-03-15T12:13:38.955940",
     "status": "completed"
    },
    "tags": []
   },
   "outputs": [
    {
     "data": {
      "text/html": [
       "<div>\n",
       "<style scoped>\n",
       "    .dataframe tbody tr th:only-of-type {\n",
       "        vertical-align: middle;\n",
       "    }\n",
       "\n",
       "    .dataframe tbody tr th {\n",
       "        vertical-align: top;\n",
       "    }\n",
       "\n",
       "    .dataframe thead th {\n",
       "        text-align: right;\n",
       "    }\n",
       "</style>\n",
       "<table border=\"1\" class=\"dataframe\">\n",
       "  <thead>\n",
       "    <tr style=\"text-align: right;\">\n",
       "      <th></th>\n",
       "      <th>accuracy</th>\n",
       "      <th>sensitivity</th>\n",
       "      <th>specificity</th>\n",
       "    </tr>\n",
       "  </thead>\n",
       "  <tbody>\n",
       "    <tr>\n",
       "      <th>0.01</th>\n",
       "      <td>0.89432</td>\n",
       "      <td>0.669864</td>\n",
       "      <td>0.895627</td>\n",
       "    </tr>\n",
       "    <tr>\n",
       "      <th>0.02</th>\n",
       "      <td>0.961172</td>\n",
       "      <td>0.549427</td>\n",
       "      <td>0.96357</td>\n",
       "    </tr>\n",
       "    <tr>\n",
       "      <th>0.03</th>\n",
       "      <td>0.978435</td>\n",
       "      <td>0.511058</td>\n",
       "      <td>0.981156</td>\n",
       "    </tr>\n",
       "    <tr>\n",
       "      <th>0.04</th>\n",
       "      <td>0.985558</td>\n",
       "      <td>0.463363</td>\n",
       "      <td>0.988598</td>\n",
       "    </tr>\n",
       "    <tr>\n",
       "      <th>0.05</th>\n",
       "      <td>0.989496</td>\n",
       "      <td>0.427391</td>\n",
       "      <td>0.992769</td>\n",
       "    </tr>\n",
       "    <tr>\n",
       "      <th>0.06</th>\n",
       "      <td>0.991814</td>\n",
       "      <td>0.404077</td>\n",
       "      <td>0.995236</td>\n",
       "    </tr>\n",
       "    <tr>\n",
       "      <th>0.07</th>\n",
       "      <td>0.992953</td>\n",
       "      <td>0.388223</td>\n",
       "      <td>0.996474</td>\n",
       "    </tr>\n",
       "    <tr>\n",
       "      <th>0.08</th>\n",
       "      <td>0.993528</td>\n",
       "      <td>0.373435</td>\n",
       "      <td>0.997138</td>\n",
       "    </tr>\n",
       "    <tr>\n",
       "      <th>0.09</th>\n",
       "      <td>0.993869</td>\n",
       "      <td>0.361844</td>\n",
       "      <td>0.997549</td>\n",
       "    </tr>\n",
       "    <tr>\n",
       "      <th>0.10</th>\n",
       "      <td>0.994107</td>\n",
       "      <td>0.347056</td>\n",
       "      <td>0.997875</td>\n",
       "    </tr>\n",
       "    <tr>\n",
       "      <th>0.20</th>\n",
       "      <td>0.994588</td>\n",
       "      <td>0.230216</td>\n",
       "      <td>0.999039</td>\n",
       "    </tr>\n",
       "    <tr>\n",
       "      <th>0.30</th>\n",
       "      <td>0.994449</td>\n",
       "      <td>0.159073</td>\n",
       "      <td>0.999313</td>\n",
       "    </tr>\n",
       "    <tr>\n",
       "      <th>0.40</th>\n",
       "      <td>0.994157</td>\n",
       "      <td>0.084333</td>\n",
       "      <td>0.999455</td>\n",
       "    </tr>\n",
       "    <tr>\n",
       "      <th>0.50</th>\n",
       "      <td>0.993867</td>\n",
       "      <td>0.018519</td>\n",
       "      <td>0.999546</td>\n",
       "    </tr>\n",
       "    <tr>\n",
       "      <th>0.60</th>\n",
       "      <td>0.993838</td>\n",
       "      <td>0.001732</td>\n",
       "      <td>0.999614</td>\n",
       "    </tr>\n",
       "    <tr>\n",
       "      <th>0.70</th>\n",
       "      <td>0.993881</td>\n",
       "      <td>0.000799</td>\n",
       "      <td>0.999663</td>\n",
       "    </tr>\n",
       "    <tr>\n",
       "      <th>0.80</th>\n",
       "      <td>0.993929</td>\n",
       "      <td>0.000266</td>\n",
       "      <td>0.999715</td>\n",
       "    </tr>\n",
       "    <tr>\n",
       "      <th>0.90</th>\n",
       "      <td>0.993986</td>\n",
       "      <td>0.0</td>\n",
       "      <td>0.999773</td>\n",
       "    </tr>\n",
       "  </tbody>\n",
       "</table>\n",
       "</div>"
      ],
      "text/plain": [
       "      accuracy sensitivity specificity\n",
       "0.01   0.89432    0.669864    0.895627\n",
       "0.02  0.961172    0.549427     0.96357\n",
       "0.03  0.978435    0.511058    0.981156\n",
       "0.04  0.985558    0.463363    0.988598\n",
       "0.05  0.989496    0.427391    0.992769\n",
       "0.06  0.991814    0.404077    0.995236\n",
       "0.07  0.992953    0.388223    0.996474\n",
       "0.08  0.993528    0.373435    0.997138\n",
       "0.09  0.993869    0.361844    0.997549\n",
       "0.10  0.994107    0.347056    0.997875\n",
       "0.20  0.994588    0.230216    0.999039\n",
       "0.30  0.994449    0.159073    0.999313\n",
       "0.40  0.994157    0.084333    0.999455\n",
       "0.50  0.993867    0.018519    0.999546\n",
       "0.60  0.993838    0.001732    0.999614\n",
       "0.70  0.993881    0.000799    0.999663\n",
       "0.80  0.993929    0.000266    0.999715\n",
       "0.90  0.993986         0.0    0.999773"
      ]
     },
     "execution_count": 131,
     "metadata": {},
     "output_type": "execute_result"
    }
   ],
   "source": [
    "curve"
   ]
  },
  {
   "cell_type": "code",
   "execution_count": 132,
   "id": "85ef8e0b",
   "metadata": {
    "execution": {
     "iopub.execute_input": "2022-03-15T12:13:39.749873Z",
     "iopub.status.busy": "2022-03-15T12:13:39.749223Z",
     "iopub.status.idle": "2022-03-15T12:13:39.932818Z",
     "shell.execute_reply": "2022-03-15T12:13:39.932208Z",
     "shell.execute_reply.started": "2022-03-15T12:05:58.847260Z"
    },
    "id": "_N_n7nNNlOnR",
    "outputId": "10675b76-b3d9-461d-cf99-736452e69799",
    "papermill": {
     "duration": 0.448335,
     "end_time": "2022-03-15T12:13:39.932949",
     "exception": false,
     "start_time": "2022-03-15T12:13:39.484614",
     "status": "completed"
    },
    "tags": []
   },
   "outputs": [
    {
     "data": {
      "text/plain": [
       "<AxesSubplot:>"
      ]
     },
     "execution_count": 132,
     "metadata": {},
     "output_type": "execute_result"
    },
    {
     "data": {
      "image/png": "[encoded data removed]",
      "text/plain": [
       "<Figure size 432x288 with 1 Axes>"
      ]
     },
     "metadata": {
      "needs_background": "light"
     },
     "output_type": "display_data"
    }
   ],
   "source": [
    "# plotting graph\n",
    "curve.plot()"
   ]
  },
  {
   "cell_type": "markdown",
   "id": "0145dcdf",
   "metadata": {
    "id": "KciFHT6wXUtm",
    "papermill": {
     "duration": 0.256977,
     "end_time": "2022-03-15T12:13:40.449108",
     "exception": false,
     "start_time": "2022-03-15T12:13:40.192131",
     "status": "completed"
    },
    "tags": []
   },
   "source": [
    "we cannot derive anything from the following graph"
   ]
  },
  {
   "cell_type": "markdown",
   "id": "cf3d31cc",
   "metadata": {
    "id": "HKBrLFumn-zv",
    "papermill": {
     "duration": 0.245257,
     "end_time": "2022-03-15T12:13:40.952588",
     "exception": false,
     "start_time": "2022-03-15T12:13:40.707331",
     "status": "completed"
    },
    "tags": []
   },
   "source": [
    "we cannot receive a clear insight from the graph because of class imbalance, so let's try precision recall graph"
   ]
  },
  {
   "cell_type": "code",
   "execution_count": 133,
   "id": "ba58374f",
   "metadata": {
    "execution": {
     "iopub.execute_input": "2022-03-15T12:13:41.447400Z",
     "iopub.status.busy": "2022-03-15T12:13:41.446680Z",
     "iopub.status.idle": "2022-03-15T12:13:54.738132Z",
     "shell.execute_reply": "2022-03-15T12:13:54.739001Z",
     "shell.execute_reply.started": "2022-03-15T12:05:59.108365Z"
    },
    "id": "ERCUsNKkm7QO",
    "papermill": {
     "duration": 13.541237,
     "end_time": "2022-03-15T12:13:54.739270",
     "exception": false,
     "start_time": "2022-03-15T12:13:41.198033",
     "status": "completed"
    },
    "tags": []
   },
   "outputs": [],
   "source": [
    "for y in threshold:\n",
    "  curve.loc[y,\"Precision\"] = metrics.precision_score(predictions.Actual,predictions[y])\n",
    "  curve.loc[y,\"Recall\"] = metrics.recall_score(predictions.Actual,predictions[y])"
   ]
  },
  {
   "cell_type": "code",
   "execution_count": 134,
   "id": "dc22e194",
   "metadata": {
    "execution": {
     "iopub.execute_input": "2022-03-15T12:13:55.342979Z",
     "iopub.status.busy": "2022-03-15T12:13:55.342073Z",
     "iopub.status.idle": "2022-03-15T12:13:55.526321Z",
     "shell.execute_reply": "2022-03-15T12:13:55.527020Z",
     "shell.execute_reply.started": "2022-03-15T12:06:15.527799Z"
    },
    "id": "7mHpJmx0Tvdq",
    "outputId": "500e68a3-84de-4d1a-8029-ef67b23bf7c4",
    "papermill": {
     "duration": 0.442068,
     "end_time": "2022-03-15T12:13:55.527209",
     "exception": false,
     "start_time": "2022-03-15T12:13:55.085141",
     "status": "completed"
    },
    "tags": []
   },
   "outputs": [
    {
     "data": {
      "text/plain": [
       "<AxesSubplot:>"
      ]
     },
     "execution_count": 134,
     "metadata": {},
     "output_type": "execute_result"
    },
    {
     "data": {
      "image/png": "[encoded data removed]",
      "text/plain": [
       "<Figure size 432x288 with 1 Axes>"
      ]
     },
     "metadata": {
      "needs_background": "light"
     },
     "output_type": "display_data"
    }
   ],
   "source": [
    "curve[[\"Precision\",\"Recall\"]].plot()"
   ]
  },
  {
   "cell_type": "markdown",
   "id": "dabc473e",
   "metadata": {
    "id": "pgo4D9EGUBwr",
    "papermill": {
     "duration": 0.261296,
     "end_time": "2022-03-15T12:13:56.057632",
     "exception": false,
     "start_time": "2022-03-15T12:13:55.796336",
     "status": "completed"
    },
    "tags": []
   },
   "source": [
    "Optimal point is 0.1, but the resultant precision and recall are very low, let's have a look forward and analyze optimum point"
   ]
  },
  {
   "cell_type": "code",
   "execution_count": 135,
   "id": "965f4334",
   "metadata": {
    "execution": {
     "iopub.execute_input": "2022-03-15T12:13:56.579493Z",
     "iopub.status.busy": "2022-03-15T12:13:56.578874Z",
     "iopub.status.idle": "2022-03-15T12:13:56.582229Z",
     "shell.execute_reply": "2022-03-15T12:13:56.582722Z",
     "shell.execute_reply.started": "2022-03-15T12:06:15.764944Z"
    },
    "id": "ASljklx_ortM",
    "outputId": "e67f2498-15cc-457f-a1a4-0d28165b2f53",
    "papermill": {
     "duration": 0.269528,
     "end_time": "2022-03-15T12:13:56.582887",
     "exception": false,
     "start_time": "2022-03-15T12:13:56.313359",
     "status": "completed"
    },
    "tags": []
   },
   "outputs": [
    {
     "data": {
      "text/html": [
       "<div>\n",
       "<style scoped>\n",
       "    .dataframe tbody tr th:only-of-type {\n",
       "        vertical-align: middle;\n",
       "    }\n",
       "\n",
       "    .dataframe tbody tr th {\n",
       "        vertical-align: top;\n",
       "    }\n",
       "\n",
       "    .dataframe thead th {\n",
       "        text-align: right;\n",
       "    }\n",
       "</style>\n",
       "<table border=\"1\" class=\"dataframe\">\n",
       "  <thead>\n",
       "    <tr style=\"text-align: right;\">\n",
       "      <th></th>\n",
       "      <th>accuracy</th>\n",
       "      <th>sensitivity</th>\n",
       "      <th>specificity</th>\n",
       "      <th>Precision</th>\n",
       "      <th>Recall</th>\n",
       "    </tr>\n",
       "  </thead>\n",
       "  <tbody>\n",
       "    <tr>\n",
       "      <th>0.01</th>\n",
       "      <td>0.89432</td>\n",
       "      <td>0.669864</td>\n",
       "      <td>0.895627</td>\n",
       "      <td>0.036022</td>\n",
       "      <td>0.669864</td>\n",
       "    </tr>\n",
       "    <tr>\n",
       "      <th>0.02</th>\n",
       "      <td>0.961172</td>\n",
       "      <td>0.549427</td>\n",
       "      <td>0.96357</td>\n",
       "      <td>0.080722</td>\n",
       "      <td>0.549427</td>\n",
       "    </tr>\n",
       "    <tr>\n",
       "      <th>0.03</th>\n",
       "      <td>0.978435</td>\n",
       "      <td>0.511058</td>\n",
       "      <td>0.981156</td>\n",
       "      <td>0.136372</td>\n",
       "      <td>0.511058</td>\n",
       "    </tr>\n",
       "    <tr>\n",
       "      <th>0.04</th>\n",
       "      <td>0.985558</td>\n",
       "      <td>0.463363</td>\n",
       "      <td>0.988598</td>\n",
       "      <td>0.191341</td>\n",
       "      <td>0.463363</td>\n",
       "    </tr>\n",
       "    <tr>\n",
       "      <th>0.05</th>\n",
       "      <td>0.989496</td>\n",
       "      <td>0.427391</td>\n",
       "      <td>0.992769</td>\n",
       "      <td>0.256026</td>\n",
       "      <td>0.427391</td>\n",
       "    </tr>\n",
       "    <tr>\n",
       "      <th>0.06</th>\n",
       "      <td>0.991814</td>\n",
       "      <td>0.404077</td>\n",
       "      <td>0.995236</td>\n",
       "      <td>0.330608</td>\n",
       "      <td>0.404077</td>\n",
       "    </tr>\n",
       "    <tr>\n",
       "      <th>0.07</th>\n",
       "      <td>0.992953</td>\n",
       "      <td>0.388223</td>\n",
       "      <td>0.996474</td>\n",
       "      <td>0.390617</td>\n",
       "      <td>0.388223</td>\n",
       "    </tr>\n",
       "    <tr>\n",
       "      <th>0.08</th>\n",
       "      <td>0.993528</td>\n",
       "      <td>0.373435</td>\n",
       "      <td>0.997138</td>\n",
       "      <td>0.431762</td>\n",
       "      <td>0.373435</td>\n",
       "    </tr>\n",
       "    <tr>\n",
       "      <th>0.09</th>\n",
       "      <td>0.993869</td>\n",
       "      <td>0.361844</td>\n",
       "      <td>0.997549</td>\n",
       "      <td>0.462219</td>\n",
       "      <td>0.361844</td>\n",
       "    </tr>\n",
       "    <tr>\n",
       "      <th>0.10</th>\n",
       "      <td>0.994107</td>\n",
       "      <td>0.347056</td>\n",
       "      <td>0.997875</td>\n",
       "      <td>0.487371</td>\n",
       "      <td>0.347056</td>\n",
       "    </tr>\n",
       "    <tr>\n",
       "      <th>0.20</th>\n",
       "      <td>0.994588</td>\n",
       "      <td>0.230216</td>\n",
       "      <td>0.999039</td>\n",
       "      <td>0.582406</td>\n",
       "      <td>0.230216</td>\n",
       "    </tr>\n",
       "    <tr>\n",
       "      <th>0.30</th>\n",
       "      <td>0.994449</td>\n",
       "      <td>0.159073</td>\n",
       "      <td>0.999313</td>\n",
       "      <td>0.574038</td>\n",
       "      <td>0.159073</td>\n",
       "    </tr>\n",
       "    <tr>\n",
       "      <th>0.40</th>\n",
       "      <td>0.994157</td>\n",
       "      <td>0.084333</td>\n",
       "      <td>0.999455</td>\n",
       "      <td>0.473802</td>\n",
       "      <td>0.084333</td>\n",
       "    </tr>\n",
       "    <tr>\n",
       "      <th>0.50</th>\n",
       "      <td>0.993867</td>\n",
       "      <td>0.018519</td>\n",
       "      <td>0.999546</td>\n",
       "      <td>0.191989</td>\n",
       "      <td>0.018519</td>\n",
       "    </tr>\n",
       "    <tr>\n",
       "      <th>0.60</th>\n",
       "      <td>0.993838</td>\n",
       "      <td>0.001732</td>\n",
       "      <td>0.999614</td>\n",
       "      <td>0.025490</td>\n",
       "      <td>0.001732</td>\n",
       "    </tr>\n",
       "    <tr>\n",
       "      <th>0.70</th>\n",
       "      <td>0.993881</td>\n",
       "      <td>0.000799</td>\n",
       "      <td>0.999663</td>\n",
       "      <td>0.013605</td>\n",
       "      <td>0.000799</td>\n",
       "    </tr>\n",
       "    <tr>\n",
       "      <th>0.80</th>\n",
       "      <td>0.993929</td>\n",
       "      <td>0.000266</td>\n",
       "      <td>0.999715</td>\n",
       "      <td>0.005405</td>\n",
       "      <td>0.000266</td>\n",
       "    </tr>\n",
       "    <tr>\n",
       "      <th>0.90</th>\n",
       "      <td>0.993986</td>\n",
       "      <td>0.0</td>\n",
       "      <td>0.999773</td>\n",
       "      <td>0.000000</td>\n",
       "      <td>0.000000</td>\n",
       "    </tr>\n",
       "  </tbody>\n",
       "</table>\n",
       "</div>"
      ],
      "text/plain": [
       "      accuracy sensitivity specificity  Precision    Recall\n",
       "0.01   0.89432    0.669864    0.895627   0.036022  0.669864\n",
       "0.02  0.961172    0.549427     0.96357   0.080722  0.549427\n",
       "0.03  0.978435    0.511058    0.981156   0.136372  0.511058\n",
       "0.04  0.985558    0.463363    0.988598   0.191341  0.463363\n",
       "0.05  0.989496    0.427391    0.992769   0.256026  0.427391\n",
       "0.06  0.991814    0.404077    0.995236   0.330608  0.404077\n",
       "0.07  0.992953    0.388223    0.996474   0.390617  0.388223\n",
       "0.08  0.993528    0.373435    0.997138   0.431762  0.373435\n",
       "0.09  0.993869    0.361844    0.997549   0.462219  0.361844\n",
       "0.10  0.994107    0.347056    0.997875   0.487371  0.347056\n",
       "0.20  0.994588    0.230216    0.999039   0.582406  0.230216\n",
       "0.30  0.994449    0.159073    0.999313   0.574038  0.159073\n",
       "0.40  0.994157    0.084333    0.999455   0.473802  0.084333\n",
       "0.50  0.993867    0.018519    0.999546   0.191989  0.018519\n",
       "0.60  0.993838    0.001732    0.999614   0.025490  0.001732\n",
       "0.70  0.993881    0.000799    0.999663   0.013605  0.000799\n",
       "0.80  0.993929    0.000266    0.999715   0.005405  0.000266\n",
       "0.90  0.993986         0.0    0.999773   0.000000  0.000000"
      ]
     },
     "execution_count": 135,
     "metadata": {},
     "output_type": "execute_result"
    }
   ],
   "source": [
    "curve"
   ]
  },
  {
   "cell_type": "markdown",
   "id": "92cb9504",
   "metadata": {
    "id": "fmY6NELAVn82",
    "papermill": {
     "duration": 0.250887,
     "end_time": "2022-03-15T12:13:57.101709",
     "exception": false,
     "start_time": "2022-03-15T12:13:56.850822",
     "status": "completed"
    },
    "tags": []
   },
   "source": [
    "Since there is a huge class imbalance, we are encountering a huge fluctuation in precision and recall values.\n",
    "\n",
    "Our main motive is to identify fraud transactions and build a model with high specificity (i.e. Total negatives predicted out of all the actual negatives), precision (i.e. Out of all the predicted positives, how much are actually positives) and recall (i.e. Out of all the real fraud transactions, how much are predicted as fraud transactions). So, we need to take a right blend of values of all these variables.\n",
    "\n",
    "Since, high recall model is very important as we need to predict as much as fraud transactions because company have to refund a full amount of fraud to the customer."
   ]
  },
  {
   "cell_type": "markdown",
   "id": "76e5b425",
   "metadata": {
    "id": "4-pFLMriB-0f",
    "papermill": {
     "duration": 0.245107,
     "end_time": "2022-03-15T12:13:57.600739",
     "exception": false,
     "start_time": "2022-03-15T12:13:57.355632",
     "status": "completed"
    },
    "tags": []
   },
   "source": [
    "Let's test at which multiple there will be highest cost saving, so we can prefer that"
   ]
  },
  {
   "cell_type": "code",
   "execution_count": 136,
   "id": "a0c7c082",
   "metadata": {
    "execution": {
     "iopub.execute_input": "2022-03-15T12:13:58.111022Z",
     "iopub.status.busy": "2022-03-15T12:13:58.110329Z",
     "iopub.status.idle": "2022-03-15T12:13:58.125587Z",
     "shell.execute_reply": "2022-03-15T12:13:58.126102Z",
     "shell.execute_reply.started": "2022-03-15T12:06:15.781363Z"
    },
    "id": "phi82FCWCH-J",
    "outputId": "1f669478-aee9-45ab-b20f-be40873381b5",
    "papermill": {
     "duration": 0.272237,
     "end_time": "2022-03-15T12:13:58.126260",
     "exception": false,
     "start_time": "2022-03-15T12:13:57.854023",
     "status": "completed"
    },
    "tags": []
   },
   "outputs": [
    {
     "data": {
      "text/html": [
       "<div>\n",
       "<style scoped>\n",
       "    .dataframe tbody tr th:only-of-type {\n",
       "        vertical-align: middle;\n",
       "    }\n",
       "\n",
       "    .dataframe tbody tr th {\n",
       "        vertical-align: top;\n",
       "    }\n",
       "\n",
       "    .dataframe thead th {\n",
       "        text-align: right;\n",
       "    }\n",
       "</style>\n",
       "<table border=\"1\" class=\"dataframe\">\n",
       "  <thead>\n",
       "    <tr style=\"text-align: right;\">\n",
       "      <th></th>\n",
       "      <th>Actual</th>\n",
       "      <th>Pred_Prob</th>\n",
       "      <th>0.01</th>\n",
       "      <th>0.02</th>\n",
       "      <th>0.03</th>\n",
       "      <th>0.04</th>\n",
       "      <th>0.05</th>\n",
       "      <th>0.06</th>\n",
       "      <th>0.07</th>\n",
       "      <th>0.08</th>\n",
       "      <th>0.09</th>\n",
       "      <th>0.1</th>\n",
       "      <th>0.2</th>\n",
       "      <th>0.3</th>\n",
       "      <th>0.4</th>\n",
       "      <th>0.5</th>\n",
       "      <th>0.6</th>\n",
       "      <th>0.7</th>\n",
       "      <th>0.8</th>\n",
       "      <th>0.9</th>\n",
       "    </tr>\n",
       "  </thead>\n",
       "  <tbody>\n",
       "    <tr>\n",
       "      <th>0</th>\n",
       "      <td>0</td>\n",
       "      <td>0.037746</td>\n",
       "      <td>1</td>\n",
       "      <td>1</td>\n",
       "      <td>1</td>\n",
       "      <td>0</td>\n",
       "      <td>0</td>\n",
       "      <td>0</td>\n",
       "      <td>0</td>\n",
       "      <td>0</td>\n",
       "      <td>0</td>\n",
       "      <td>0</td>\n",
       "      <td>0</td>\n",
       "      <td>0</td>\n",
       "      <td>0</td>\n",
       "      <td>0</td>\n",
       "      <td>0</td>\n",
       "      <td>0</td>\n",
       "      <td>0</td>\n",
       "      <td>0</td>\n",
       "    </tr>\n",
       "    <tr>\n",
       "      <th>1</th>\n",
       "      <td>0</td>\n",
       "      <td>0.086650</td>\n",
       "      <td>1</td>\n",
       "      <td>1</td>\n",
       "      <td>1</td>\n",
       "      <td>1</td>\n",
       "      <td>1</td>\n",
       "      <td>1</td>\n",
       "      <td>1</td>\n",
       "      <td>1</td>\n",
       "      <td>0</td>\n",
       "      <td>0</td>\n",
       "      <td>0</td>\n",
       "      <td>0</td>\n",
       "      <td>0</td>\n",
       "      <td>0</td>\n",
       "      <td>0</td>\n",
       "      <td>0</td>\n",
       "      <td>0</td>\n",
       "      <td>0</td>\n",
       "    </tr>\n",
       "    <tr>\n",
       "      <th>2</th>\n",
       "      <td>0</td>\n",
       "      <td>0.010050</td>\n",
       "      <td>1</td>\n",
       "      <td>0</td>\n",
       "      <td>0</td>\n",
       "      <td>0</td>\n",
       "      <td>0</td>\n",
       "      <td>0</td>\n",
       "      <td>0</td>\n",
       "      <td>0</td>\n",
       "      <td>0</td>\n",
       "      <td>0</td>\n",
       "      <td>0</td>\n",
       "      <td>0</td>\n",
       "      <td>0</td>\n",
       "      <td>0</td>\n",
       "      <td>0</td>\n",
       "      <td>0</td>\n",
       "      <td>0</td>\n",
       "      <td>0</td>\n",
       "    </tr>\n",
       "    <tr>\n",
       "      <th>3</th>\n",
       "      <td>0</td>\n",
       "      <td>0.043852</td>\n",
       "      <td>1</td>\n",
       "      <td>1</td>\n",
       "      <td>1</td>\n",
       "      <td>1</td>\n",
       "      <td>0</td>\n",
       "      <td>0</td>\n",
       "      <td>0</td>\n",
       "      <td>0</td>\n",
       "      <td>0</td>\n",
       "      <td>0</td>\n",
       "      <td>0</td>\n",
       "      <td>0</td>\n",
       "      <td>0</td>\n",
       "      <td>0</td>\n",
       "      <td>0</td>\n",
       "      <td>0</td>\n",
       "      <td>0</td>\n",
       "      <td>0</td>\n",
       "    </tr>\n",
       "    <tr>\n",
       "      <th>4</th>\n",
       "      <td>0</td>\n",
       "      <td>0.010471</td>\n",
       "      <td>1</td>\n",
       "      <td>0</td>\n",
       "      <td>0</td>\n",
       "      <td>0</td>\n",
       "      <td>0</td>\n",
       "      <td>0</td>\n",
       "      <td>0</td>\n",
       "      <td>0</td>\n",
       "      <td>0</td>\n",
       "      <td>0</td>\n",
       "      <td>0</td>\n",
       "      <td>0</td>\n",
       "      <td>0</td>\n",
       "      <td>0</td>\n",
       "      <td>0</td>\n",
       "      <td>0</td>\n",
       "      <td>0</td>\n",
       "      <td>0</td>\n",
       "    </tr>\n",
       "  </tbody>\n",
       "</table>\n",
       "</div>"
      ],
      "text/plain": [
       "   Actual  Pred_Prob  0.01  0.02  0.03  0.04  0.05  0.06  0.07  0.08  0.09  \\\n",
       "0       0   0.037746     1     1     1     0     0     0     0     0     0   \n",
       "1       0   0.086650     1     1     1     1     1     1     1     1     0   \n",
       "2       0   0.010050     1     0     0     0     0     0     0     0     0   \n",
       "3       0   0.043852     1     1     1     1     0     0     0     0     0   \n",
       "4       0   0.010471     1     0     0     0     0     0     0     0     0   \n",
       "\n",
       "   0.1  0.2  0.3  0.4  0.5  0.6  0.7  0.8  0.9  \n",
       "0    0    0    0    0    0    0    0    0    0  \n",
       "1    0    0    0    0    0    0    0    0    0  \n",
       "2    0    0    0    0    0    0    0    0    0  \n",
       "3    0    0    0    0    0    0    0    0    0  \n",
       "4    0    0    0    0    0    0    0    0    0  "
      ]
     },
     "execution_count": 136,
     "metadata": {},
     "output_type": "execute_result"
    }
   ],
   "source": [
    "predictions.head()"
   ]
  },
  {
   "cell_type": "code",
   "execution_count": 137,
   "id": "1fbe4659",
   "metadata": {
    "execution": {
     "iopub.execute_input": "2022-03-15T12:13:58.633813Z",
     "iopub.status.busy": "2022-03-15T12:13:58.633192Z",
     "iopub.status.idle": "2022-03-15T12:13:58.687118Z",
     "shell.execute_reply": "2022-03-15T12:13:58.687583Z",
     "shell.execute_reply.started": "2022-03-15T12:06:15.801328Z"
    },
    "id": "loCBDapgCIAq",
    "papermill": {
     "duration": 0.306722,
     "end_time": "2022-03-15T12:13:58.687755",
     "exception": false,
     "start_time": "2022-03-15T12:13:58.381033",
     "status": "completed"
    },
    "tags": []
   },
   "outputs": [],
   "source": [
    "# merging the databases\n",
    "profit = pd.merge(data[\"amt\"],predictions,left_index = True,right_index=True)"
   ]
  },
  {
   "cell_type": "code",
   "execution_count": 138,
   "id": "acf275aa",
   "metadata": {
    "execution": {
     "iopub.execute_input": "2022-03-15T12:13:59.202844Z",
     "iopub.status.busy": "2022-03-15T12:13:59.202290Z",
     "iopub.status.idle": "2022-03-15T12:13:59.219227Z",
     "shell.execute_reply": "2022-03-15T12:13:59.218620Z",
     "shell.execute_reply.started": "2022-03-15T12:06:15.888517Z"
    },
    "id": "VNPm4MbwCID5",
    "outputId": "f0f4ff21-095e-4682-fdc0-55d8fd62046a",
    "papermill": {
     "duration": 0.276205,
     "end_time": "2022-03-15T12:13:59.219353",
     "exception": false,
     "start_time": "2022-03-15T12:13:58.943148",
     "status": "completed"
    },
    "tags": []
   },
   "outputs": [
    {
     "data": {
      "text/html": [
       "<div>\n",
       "<style scoped>\n",
       "    .dataframe tbody tr th:only-of-type {\n",
       "        vertical-align: middle;\n",
       "    }\n",
       "\n",
       "    .dataframe tbody tr th {\n",
       "        vertical-align: top;\n",
       "    }\n",
       "\n",
       "    .dataframe thead th {\n",
       "        text-align: right;\n",
       "    }\n",
       "</style>\n",
       "<table border=\"1\" class=\"dataframe\">\n",
       "  <thead>\n",
       "    <tr style=\"text-align: right;\">\n",
       "      <th></th>\n",
       "      <th>amt</th>\n",
       "      <th>Actual</th>\n",
       "      <th>Pred_Prob</th>\n",
       "      <th>0.01</th>\n",
       "      <th>0.02</th>\n",
       "      <th>0.03</th>\n",
       "      <th>0.04</th>\n",
       "      <th>0.05</th>\n",
       "      <th>0.06</th>\n",
       "      <th>0.07</th>\n",
       "      <th>...</th>\n",
       "      <th>0.09</th>\n",
       "      <th>0.1</th>\n",
       "      <th>0.2</th>\n",
       "      <th>0.3</th>\n",
       "      <th>0.4</th>\n",
       "      <th>0.5</th>\n",
       "      <th>0.6</th>\n",
       "      <th>0.7</th>\n",
       "      <th>0.8</th>\n",
       "      <th>0.9</th>\n",
       "    </tr>\n",
       "  </thead>\n",
       "  <tbody>\n",
       "    <tr>\n",
       "      <th>0</th>\n",
       "      <td>4.97</td>\n",
       "      <td>0</td>\n",
       "      <td>0.037746</td>\n",
       "      <td>1</td>\n",
       "      <td>1</td>\n",
       "      <td>1</td>\n",
       "      <td>0</td>\n",
       "      <td>0</td>\n",
       "      <td>0</td>\n",
       "      <td>0</td>\n",
       "      <td>...</td>\n",
       "      <td>0</td>\n",
       "      <td>0</td>\n",
       "      <td>0</td>\n",
       "      <td>0</td>\n",
       "      <td>0</td>\n",
       "      <td>0</td>\n",
       "      <td>0</td>\n",
       "      <td>0</td>\n",
       "      <td>0</td>\n",
       "      <td>0</td>\n",
       "    </tr>\n",
       "    <tr>\n",
       "      <th>1</th>\n",
       "      <td>107.23</td>\n",
       "      <td>0</td>\n",
       "      <td>0.086650</td>\n",
       "      <td>1</td>\n",
       "      <td>1</td>\n",
       "      <td>1</td>\n",
       "      <td>1</td>\n",
       "      <td>1</td>\n",
       "      <td>1</td>\n",
       "      <td>1</td>\n",
       "      <td>...</td>\n",
       "      <td>0</td>\n",
       "      <td>0</td>\n",
       "      <td>0</td>\n",
       "      <td>0</td>\n",
       "      <td>0</td>\n",
       "      <td>0</td>\n",
       "      <td>0</td>\n",
       "      <td>0</td>\n",
       "      <td>0</td>\n",
       "      <td>0</td>\n",
       "    </tr>\n",
       "    <tr>\n",
       "      <th>2</th>\n",
       "      <td>220.11</td>\n",
       "      <td>0</td>\n",
       "      <td>0.010050</td>\n",
       "      <td>1</td>\n",
       "      <td>0</td>\n",
       "      <td>0</td>\n",
       "      <td>0</td>\n",
       "      <td>0</td>\n",
       "      <td>0</td>\n",
       "      <td>0</td>\n",
       "      <td>...</td>\n",
       "      <td>0</td>\n",
       "      <td>0</td>\n",
       "      <td>0</td>\n",
       "      <td>0</td>\n",
       "      <td>0</td>\n",
       "      <td>0</td>\n",
       "      <td>0</td>\n",
       "      <td>0</td>\n",
       "      <td>0</td>\n",
       "      <td>0</td>\n",
       "    </tr>\n",
       "    <tr>\n",
       "      <th>3</th>\n",
       "      <td>45.00</td>\n",
       "      <td>0</td>\n",
       "      <td>0.043852</td>\n",
       "      <td>1</td>\n",
       "      <td>1</td>\n",
       "      <td>1</td>\n",
       "      <td>1</td>\n",
       "      <td>0</td>\n",
       "      <td>0</td>\n",
       "      <td>0</td>\n",
       "      <td>...</td>\n",
       "      <td>0</td>\n",
       "      <td>0</td>\n",
       "      <td>0</td>\n",
       "      <td>0</td>\n",
       "      <td>0</td>\n",
       "      <td>0</td>\n",
       "      <td>0</td>\n",
       "      <td>0</td>\n",
       "      <td>0</td>\n",
       "      <td>0</td>\n",
       "    </tr>\n",
       "    <tr>\n",
       "      <th>4</th>\n",
       "      <td>41.96</td>\n",
       "      <td>0</td>\n",
       "      <td>0.010471</td>\n",
       "      <td>1</td>\n",
       "      <td>0</td>\n",
       "      <td>0</td>\n",
       "      <td>0</td>\n",
       "      <td>0</td>\n",
       "      <td>0</td>\n",
       "      <td>0</td>\n",
       "      <td>...</td>\n",
       "      <td>0</td>\n",
       "      <td>0</td>\n",
       "      <td>0</td>\n",
       "      <td>0</td>\n",
       "      <td>0</td>\n",
       "      <td>0</td>\n",
       "      <td>0</td>\n",
       "      <td>0</td>\n",
       "      <td>0</td>\n",
       "      <td>0</td>\n",
       "    </tr>\n",
       "  </tbody>\n",
       "</table>\n",
       "<p>5 rows × 21 columns</p>\n",
       "</div>"
      ],
      "text/plain": [
       "      amt  Actual  Pred_Prob  0.01  0.02  0.03  0.04  0.05  0.06  0.07  ...  \\\n",
       "0    4.97       0   0.037746     1     1     1     0     0     0     0  ...   \n",
       "1  107.23       0   0.086650     1     1     1     1     1     1     1  ...   \n",
       "2  220.11       0   0.010050     1     0     0     0     0     0     0  ...   \n",
       "3   45.00       0   0.043852     1     1     1     1     0     0     0  ...   \n",
       "4   41.96       0   0.010471     1     0     0     0     0     0     0  ...   \n",
       "\n",
       "   0.09  0.1  0.2  0.3  0.4  0.5  0.6  0.7  0.8  0.9  \n",
       "0     0    0    0    0    0    0    0    0    0    0  \n",
       "1     0    0    0    0    0    0    0    0    0    0  \n",
       "2     0    0    0    0    0    0    0    0    0    0  \n",
       "3     0    0    0    0    0    0    0    0    0    0  \n",
       "4     0    0    0    0    0    0    0    0    0    0  \n",
       "\n",
       "[5 rows x 21 columns]"
      ]
     },
     "execution_count": 138,
     "metadata": {},
     "output_type": "execute_result"
    }
   ],
   "source": [
    "profit.head()"
   ]
  },
  {
   "cell_type": "code",
   "execution_count": 139,
   "id": "dee53684",
   "metadata": {
    "execution": {
     "iopub.execute_input": "2022-03-15T12:13:59.729163Z",
     "iopub.status.busy": "2022-03-15T12:13:59.728289Z",
     "iopub.status.idle": "2022-03-15T12:13:59.733463Z",
     "shell.execute_reply": "2022-03-15T12:13:59.733993Z",
     "shell.execute_reply.started": "2022-03-15T12:06:15.912072Z"
    },
    "id": "HJVii3ChCIIE",
    "papermill": {
     "duration": 0.261222,
     "end_time": "2022-03-15T12:13:59.734137",
     "exception": false,
     "start_time": "2022-03-15T12:13:59.472915",
     "status": "completed"
    },
    "tags": []
   },
   "outputs": [],
   "source": [
    "profit_table = pd.DataFrame(index=threshold,columns = [\"Fraud_Loss\",\"Predicted_Loss\",\"Cost\",\"Profit_Of_Company\"])"
   ]
  },
  {
   "cell_type": "code",
   "execution_count": 140,
   "id": "479f3e10",
   "metadata": {
    "execution": {
     "iopub.execute_input": "2022-03-15T12:14:00.239173Z",
     "iopub.status.busy": "2022-03-15T12:14:00.238154Z",
     "iopub.status.idle": "2022-03-15T12:14:00.593646Z",
     "shell.execute_reply": "2022-03-15T12:14:00.594147Z",
     "shell.execute_reply.started": "2022-03-15T12:06:15.919493Z"
    },
    "id": "bBe2ZvyXCIL2",
    "papermill": {
     "duration": 0.609836,
     "end_time": "2022-03-15T12:14:00.594335",
     "exception": false,
     "start_time": "2022-03-15T12:13:59.984499",
     "status": "completed"
    },
    "tags": []
   },
   "outputs": [],
   "source": [
    "for z in threshold:\n",
    "  loss = data[data[\"is_fraud\"]==1][\"amt\"].sum()\n",
    "  Predicted_Loss1 = profit[(profit[z]==1) & (profit[\"Actual\"]==1)][\"amt\"].sum()\n",
    "  cost = profit[z].sum()*1.5\n",
    "  Profit = Predicted_Loss1 - cost\n",
    "\n",
    "  profit_table.loc[z] = [loss,Predicted_Loss1,cost,Profit]"
   ]
  },
  {
   "cell_type": "code",
   "execution_count": 141,
   "id": "32225b89",
   "metadata": {
    "execution": {
     "iopub.execute_input": "2022-03-15T12:14:01.104446Z",
     "iopub.status.busy": "2022-03-15T12:14:01.103795Z",
     "iopub.status.idle": "2022-03-15T12:14:01.117530Z",
     "shell.execute_reply": "2022-03-15T12:14:01.117053Z",
     "shell.execute_reply.started": "2022-03-15T12:06:16.478805Z"
    },
    "id": "68I9dSybCIPv",
    "outputId": "45bb994e-1dca-4a10-9655-c8741b0ab1c4",
    "papermill": {
     "duration": 0.270725,
     "end_time": "2022-03-15T12:14:01.117662",
     "exception": false,
     "start_time": "2022-03-15T12:14:00.846937",
     "status": "completed"
    },
    "tags": []
   },
   "outputs": [
    {
     "data": {
      "text/html": [
       "<div>\n",
       "<style scoped>\n",
       "    .dataframe tbody tr th:only-of-type {\n",
       "        vertical-align: middle;\n",
       "    }\n",
       "\n",
       "    .dataframe tbody tr th {\n",
       "        vertical-align: top;\n",
       "    }\n",
       "\n",
       "    .dataframe thead th {\n",
       "        text-align: right;\n",
       "    }\n",
       "</style>\n",
       "<table border=\"1\" class=\"dataframe\">\n",
       "  <thead>\n",
       "    <tr style=\"text-align: right;\">\n",
       "      <th></th>\n",
       "      <th>Fraud_Loss</th>\n",
       "      <th>Predicted_Loss</th>\n",
       "      <th>Cost</th>\n",
       "      <th>Profit_Of_Company</th>\n",
       "    </tr>\n",
       "  </thead>\n",
       "  <tbody>\n",
       "    <tr>\n",
       "      <th>0.01</th>\n",
       "      <td>3988088.61</td>\n",
       "      <td>3615402.66</td>\n",
       "      <td>209374.5</td>\n",
       "      <td>3406028.16</td>\n",
       "    </tr>\n",
       "    <tr>\n",
       "      <th>0.02</th>\n",
       "      <td>3988088.61</td>\n",
       "      <td>3228350.09</td>\n",
       "      <td>76633.5</td>\n",
       "      <td>3151716.59</td>\n",
       "    </tr>\n",
       "    <tr>\n",
       "      <th>0.03</th>\n",
       "      <td>3988088.61</td>\n",
       "      <td>3069474.47</td>\n",
       "      <td>42193.5</td>\n",
       "      <td>3027280.97</td>\n",
       "    </tr>\n",
       "    <tr>\n",
       "      <th>0.04</th>\n",
       "      <td>3988088.61</td>\n",
       "      <td>2889810.11</td>\n",
       "      <td>27265.5</td>\n",
       "      <td>2862544.61</td>\n",
       "    </tr>\n",
       "    <tr>\n",
       "      <th>0.05</th>\n",
       "      <td>3988088.61</td>\n",
       "      <td>2741228.19</td>\n",
       "      <td>18795.0</td>\n",
       "      <td>2722433.19</td>\n",
       "    </tr>\n",
       "    <tr>\n",
       "      <th>0.06</th>\n",
       "      <td>3988088.61</td>\n",
       "      <td>2613663.13</td>\n",
       "      <td>13761.0</td>\n",
       "      <td>2599902.13</td>\n",
       "    </tr>\n",
       "    <tr>\n",
       "      <th>0.07</th>\n",
       "      <td>3988088.61</td>\n",
       "      <td>2517836.13</td>\n",
       "      <td>11190.0</td>\n",
       "      <td>2506646.13</td>\n",
       "    </tr>\n",
       "    <tr>\n",
       "      <th>0.08</th>\n",
       "      <td>3988088.61</td>\n",
       "      <td>2428671.55</td>\n",
       "      <td>9738.0</td>\n",
       "      <td>2418933.55</td>\n",
       "    </tr>\n",
       "    <tr>\n",
       "      <th>0.09</th>\n",
       "      <td>3988088.61</td>\n",
       "      <td>2354888.32</td>\n",
       "      <td>8814.0</td>\n",
       "      <td>2346074.32</td>\n",
       "    </tr>\n",
       "    <tr>\n",
       "      <th>0.10</th>\n",
       "      <td>3988088.61</td>\n",
       "      <td>2265519.67</td>\n",
       "      <td>8017.5</td>\n",
       "      <td>2257502.17</td>\n",
       "    </tr>\n",
       "    <tr>\n",
       "      <th>0.20</th>\n",
       "      <td>3988088.61</td>\n",
       "      <td>1523853.89</td>\n",
       "      <td>4450.5</td>\n",
       "      <td>1519403.39</td>\n",
       "    </tr>\n",
       "    <tr>\n",
       "      <th>0.30</th>\n",
       "      <td>3988088.61</td>\n",
       "      <td>1104411.58</td>\n",
       "      <td>3120.0</td>\n",
       "      <td>1101291.58</td>\n",
       "    </tr>\n",
       "    <tr>\n",
       "      <th>0.40</th>\n",
       "      <td>3988088.61</td>\n",
       "      <td>623620.72</td>\n",
       "      <td>2004.0</td>\n",
       "      <td>621616.72</td>\n",
       "    </tr>\n",
       "    <tr>\n",
       "      <th>0.50</th>\n",
       "      <td>3988088.61</td>\n",
       "      <td>148478.32</td>\n",
       "      <td>1086.0</td>\n",
       "      <td>147392.32</td>\n",
       "    </tr>\n",
       "    <tr>\n",
       "      <th>0.60</th>\n",
       "      <td>3988088.61</td>\n",
       "      <td>13889.74</td>\n",
       "      <td>765.0</td>\n",
       "      <td>13124.74</td>\n",
       "    </tr>\n",
       "    <tr>\n",
       "      <th>0.70</th>\n",
       "      <td>3988088.61</td>\n",
       "      <td>6014.24</td>\n",
       "      <td>661.5</td>\n",
       "      <td>5352.74</td>\n",
       "    </tr>\n",
       "    <tr>\n",
       "      <th>0.80</th>\n",
       "      <td>3988088.61</td>\n",
       "      <td>2044.1</td>\n",
       "      <td>555.0</td>\n",
       "      <td>1489.1</td>\n",
       "    </tr>\n",
       "    <tr>\n",
       "      <th>0.90</th>\n",
       "      <td>3988088.61</td>\n",
       "      <td>0.0</td>\n",
       "      <td>438.0</td>\n",
       "      <td>-438.0</td>\n",
       "    </tr>\n",
       "  </tbody>\n",
       "</table>\n",
       "</div>"
      ],
      "text/plain": [
       "      Fraud_Loss Predicted_Loss      Cost Profit_Of_Company\n",
       "0.01  3988088.61     3615402.66  209374.5        3406028.16\n",
       "0.02  3988088.61     3228350.09   76633.5        3151716.59\n",
       "0.03  3988088.61     3069474.47   42193.5        3027280.97\n",
       "0.04  3988088.61     2889810.11   27265.5        2862544.61\n",
       "0.05  3988088.61     2741228.19   18795.0        2722433.19\n",
       "0.06  3988088.61     2613663.13   13761.0        2599902.13\n",
       "0.07  3988088.61     2517836.13   11190.0        2506646.13\n",
       "0.08  3988088.61     2428671.55    9738.0        2418933.55\n",
       "0.09  3988088.61     2354888.32    8814.0        2346074.32\n",
       "0.10  3988088.61     2265519.67    8017.5        2257502.17\n",
       "0.20  3988088.61     1523853.89    4450.5        1519403.39\n",
       "0.30  3988088.61     1104411.58    3120.0        1101291.58\n",
       "0.40  3988088.61      623620.72    2004.0         621616.72\n",
       "0.50  3988088.61      148478.32    1086.0         147392.32\n",
       "0.60  3988088.61       13889.74     765.0          13124.74\n",
       "0.70  3988088.61        6014.24     661.5           5352.74\n",
       "0.80  3988088.61         2044.1     555.0            1489.1\n",
       "0.90  3988088.61            0.0     438.0            -438.0"
      ]
     },
     "execution_count": 141,
     "metadata": {},
     "output_type": "execute_result"
    }
   ],
   "source": [
    "profit_table"
   ]
  },
  {
   "cell_type": "markdown",
   "id": "9eff17a1",
   "metadata": {
    "id": "4hyMt79SKypB",
    "papermill": {
     "duration": 0.25237,
     "end_time": "2022-03-15T12:14:01.671088",
     "exception": false,
     "start_time": "2022-03-15T12:14:01.418718",
     "status": "completed"
    },
    "tags": []
   },
   "source": [
    "It can be clearly seen that multiple 0.01 has the highest cost saving which will be done by the company. So we will go with **0.01** multiple having 79% reall and 2% precision"
   ]
  },
  {
   "cell_type": "markdown",
   "id": "c90c2f6f",
   "metadata": {
    "id": "1I_5vgzvCfcN",
    "papermill": {
     "duration": 0.253773,
     "end_time": "2022-03-15T12:14:02.179027",
     "exception": false,
     "start_time": "2022-03-15T12:14:01.925254",
     "status": "completed"
    },
    "tags": []
   },
   "source": [
    "#### ROC Curve"
   ]
  },
  {
   "cell_type": "code",
   "execution_count": 142,
   "id": "b991b27d",
   "metadata": {
    "execution": {
     "iopub.execute_input": "2022-03-15T12:14:02.697293Z",
     "iopub.status.busy": "2022-03-15T12:14:02.696582Z",
     "iopub.status.idle": "2022-03-15T12:14:02.698748Z",
     "shell.execute_reply": "2022-03-15T12:14:02.699309Z",
     "shell.execute_reply.started": "2022-03-15T12:06:16.494933Z"
    },
    "id": "-L13OiVNCiEz",
    "papermill": {
     "duration": 0.267124,
     "end_time": "2022-03-15T12:14:02.699472",
     "exception": false,
     "start_time": "2022-03-15T12:14:02.432348",
     "status": "completed"
    },
    "tags": []
   },
   "outputs": [],
   "source": [
    "# Importing necessary libraries for roc curve\n",
    "\n",
    "from sklearn.metrics import roc_curve       \n",
    "from sklearn.metrics import roc_auc_score\n",
    "\n",
    "# Creating a function to plot roc curve with auc score\n",
    "\n",
    "def edu_roc( real, probability ):\n",
    "    \n",
    "    # Creating roc curve values like false positive rate , true positive rate and threshold\n",
    "    \n",
    "    fpr, tpr, thresholds = roc_curve( real, probability,drop_intermediate = False )   \n",
    "    \n",
    "    # Calculating the auc score(area under the curve)\n",
    "    \n",
    "    auc_score = roc_auc_score( real, probability )    \n",
    "    \n",
    "    # Setting the figure size\n",
    "    \n",
    "    plt.figure(figsize=(8, 4))\n",
    "    \n",
    "    # Plotting the roc curve\n",
    "    \n",
    "    plt.plot( fpr, tpr, label='ROC curve (area = %0.2f)' % auc_score )\n",
    "    \n",
    "    # Plotting the 45% dotted line \n",
    "    plt.plot([0, 1], [0, 1], 'r--')\n",
    "    \n",
    "    # Setting the x axis linit\n",
    "    \n",
    "    plt.xlim([0.0, 1.0])\n",
    "    \n",
    "    # Setting the y axis limit\n",
    "    \n",
    "    plt.ylim([0.0, 1.05])\n",
    "    \n",
    "    plt.xlabel('False Positive Rate')\n",
    "    \n",
    "    plt.ylabel('True Positive Rate')\n",
    "    \n",
    "    plt.title('ROC Curve')\n",
    "    \n",
    "    plt.legend(loc=\"best\")\n",
    "\n",
    "    plt.show()\n",
    "\n",
    "    return None   # no return"
   ]
  },
  {
   "cell_type": "code",
   "execution_count": 143,
   "id": "94b7278b",
   "metadata": {
    "execution": {
     "iopub.execute_input": "2022-03-15T12:14:03.195456Z",
     "iopub.status.busy": "2022-03-15T12:14:03.194868Z",
     "iopub.status.idle": "2022-03-15T12:14:04.902188Z",
     "shell.execute_reply": "2022-03-15T12:14:04.902658Z",
     "shell.execute_reply.started": "2022-03-15T12:06:16.508814Z"
    },
    "id": "rbUF1kDYCiH9",
    "outputId": "56e10613-4219-4b4c-a461-2acce7fff8eb",
    "papermill": {
     "duration": 1.957776,
     "end_time": "2022-03-15T12:14:04.902815",
     "exception": false,
     "start_time": "2022-03-15T12:14:02.945039",
     "status": "completed"
    },
    "tags": []
   },
   "outputs": [
    {
     "data": {
      "image/png": "[encoded data removed]",
      "text/plain": [
       "<Figure size 576x288 with 1 Axes>"
      ]
     },
     "metadata": {
      "needs_background": "light"
     },
     "output_type": "display_data"
    }
   ],
   "source": [
    "edu_roc(predictions[\"Actual\"],predictions[\"Pred_Prob\"])"
   ]
  },
  {
   "cell_type": "markdown",
   "id": "510ba819",
   "metadata": {
    "id": "yoRDz21VF1Z9",
    "papermill": {
     "duration": 0.267721,
     "end_time": "2022-03-15T12:14:05.423080",
     "exception": false,
     "start_time": "2022-03-15T12:14:05.155359",
     "status": "completed"
    },
    "tags": []
   },
   "source": [
    "The area under the curve is 86% which is really a good curve, and we can think of moving forward with this model"
   ]
  },
  {
   "cell_type": "markdown",
   "id": "dc9d46d2",
   "metadata": {
    "id": "i98mrT421tGm",
    "papermill": {
     "duration": 0.247946,
     "end_time": "2022-03-15T12:14:05.917622",
     "exception": false,
     "start_time": "2022-03-15T12:14:05.669676",
     "status": "completed"
    },
    "tags": []
   },
   "source": [
    "#### Test Data-Set"
   ]
  },
  {
   "cell_type": "code",
   "execution_count": 144,
   "id": "1db8d2e0",
   "metadata": {
    "execution": {
     "iopub.execute_input": "2022-03-15T12:14:06.419098Z",
     "iopub.status.busy": "2022-03-15T12:14:06.418451Z",
     "iopub.status.idle": "2022-03-15T12:14:06.446732Z",
     "shell.execute_reply": "2022-03-15T12:14:06.447262Z",
     "shell.execute_reply.started": "2022-03-15T12:06:18.609331Z"
    },
    "id": "UkXj4i9I1w3m",
    "papermill": {
     "duration": 0.279463,
     "end_time": "2022-03-15T12:14:06.447471",
     "exception": false,
     "start_time": "2022-03-15T12:14:06.168008",
     "status": "completed"
    },
    "tags": []
   },
   "outputs": [],
   "source": [
    "# initializing test data set to x and target variables\n",
    "target_test = data_test[\"is_fraud\"]\n",
    "x_test = data_test.drop(\"is_fraud\",1)"
   ]
  },
  {
   "cell_type": "code",
   "execution_count": 145,
   "id": "5352cd3f",
   "metadata": {
    "execution": {
     "iopub.execute_input": "2022-03-15T12:14:06.951658Z",
     "iopub.status.busy": "2022-03-15T12:14:06.951017Z",
     "iopub.status.idle": "2022-03-15T12:14:06.995790Z",
     "shell.execute_reply": "2022-03-15T12:14:06.996300Z",
     "shell.execute_reply.started": "2022-03-15T12:06:18.662390Z"
    },
    "id": "DOcTjIiMAFwq",
    "papermill": {
     "duration": 0.297623,
     "end_time": "2022-03-15T12:14:06.996457",
     "exception": false,
     "start_time": "2022-03-15T12:14:06.698834",
     "status": "completed"
    },
    "tags": []
   },
   "outputs": [],
   "source": [
    "# Normalising the data\n",
    "x_test[[\"amt\",\"Time\",\"displacement\",\"recency\"]] = sc.fit_transform(x_test[[\"amt\",\"Time\",\"displacement\",\"recency\"]])"
   ]
  },
  {
   "cell_type": "code",
   "execution_count": 146,
   "id": "9dcf965c",
   "metadata": {
    "execution": {
     "iopub.execute_input": "2022-03-15T12:14:07.499496Z",
     "iopub.status.busy": "2022-03-15T12:14:07.498940Z",
     "iopub.status.idle": "2022-03-15T12:14:07.605017Z",
     "shell.execute_reply": "2022-03-15T12:14:07.604004Z",
     "shell.execute_reply.started": "2022-03-15T12:06:18.733933Z"
    },
    "id": "Tk-UiBIW1w6n",
    "papermill": {
     "duration": 0.35697,
     "end_time": "2022-03-15T12:14:07.605265",
     "exception": false,
     "start_time": "2022-03-15T12:14:07.248295",
     "status": "completed"
    },
    "tags": []
   },
   "outputs": [],
   "source": [
    "# predicting values of test dataset\n",
    "result = res3.predict(sm.add_constant(x_test[cols]))"
   ]
  },
  {
   "cell_type": "code",
   "execution_count": 147,
   "id": "a8ebeb54",
   "metadata": {
    "execution": {
     "iopub.execute_input": "2022-03-15T12:14:08.156345Z",
     "iopub.status.busy": "2022-03-15T12:14:08.155714Z",
     "iopub.status.idle": "2022-03-15T12:14:08.158997Z",
     "shell.execute_reply": "2022-03-15T12:14:08.159446Z",
     "shell.execute_reply.started": "2022-03-15T12:06:18.883468Z"
    },
    "id": "lgURlZTY1w8i",
    "papermill": {
     "duration": 0.257501,
     "end_time": "2022-03-15T12:14:08.159590",
     "exception": false,
     "start_time": "2022-03-15T12:14:07.902089",
     "status": "completed"
    },
    "tags": []
   },
   "outputs": [],
   "source": [
    "# assigning of values\n",
    "predictions_test = pd.DataFrame({\"Actual\": target_test,\"Pred_Prob\" : result})"
   ]
  },
  {
   "cell_type": "code",
   "execution_count": 148,
   "id": "aec0314c",
   "metadata": {
    "execution": {
     "iopub.execute_input": "2022-03-15T12:14:08.664173Z",
     "iopub.status.busy": "2022-03-15T12:14:08.663550Z",
     "iopub.status.idle": "2022-03-15T12:14:08.997886Z",
     "shell.execute_reply": "2022-03-15T12:14:08.998365Z",
     "shell.execute_reply.started": "2022-03-15T12:06:18.893548Z"
    },
    "id": "1EI05XLB-o8V",
    "papermill": {
     "duration": 0.585227,
     "end_time": "2022-03-15T12:14:08.998533",
     "exception": false,
     "start_time": "2022-03-15T12:14:08.413306",
     "status": "completed"
    },
    "tags": []
   },
   "outputs": [],
   "source": [
    "predictions_test[\"Final\"] = predictions_test[\"Pred_Prob\"].map(lambda x: 0 if x<0.01 else 1)"
   ]
  },
  {
   "cell_type": "code",
   "execution_count": 149,
   "id": "f9a7e266",
   "metadata": {
    "execution": {
     "iopub.execute_input": "2022-03-15T12:14:09.502954Z",
     "iopub.status.busy": "2022-03-15T12:14:09.502395Z",
     "iopub.status.idle": "2022-03-15T12:14:09.651120Z",
     "shell.execute_reply": "2022-03-15T12:14:09.651568Z",
     "shell.execute_reply.started": "2022-03-15T12:06:19.286958Z"
    },
    "id": "ajMo73al1w__",
    "outputId": "ee924a82-c8a4-4cb4-a894-ac16eb573268",
    "papermill": {
     "duration": 0.403727,
     "end_time": "2022-03-15T12:14:09.651716",
     "exception": false,
     "start_time": "2022-03-15T12:14:09.247989",
     "status": "completed"
    },
    "tags": []
   },
   "outputs": [
    {
     "data": {
      "text/plain": [
       "0.02260855884203902"
      ]
     },
     "execution_count": 149,
     "metadata": {},
     "output_type": "execute_result"
    }
   ],
   "source": [
    "metrics.precision_score(predictions_test[\"Actual\"],predictions_test[\"Final\"])"
   ]
  },
  {
   "cell_type": "code",
   "execution_count": 150,
   "id": "f2715c1f",
   "metadata": {
    "execution": {
     "iopub.execute_input": "2022-03-15T12:14:10.151732Z",
     "iopub.status.busy": "2022-03-15T12:14:10.151209Z",
     "iopub.status.idle": "2022-03-15T12:14:10.299234Z",
     "shell.execute_reply": "2022-03-15T12:14:10.299729Z",
     "shell.execute_reply.started": "2022-03-15T12:06:19.471054Z"
    },
    "id": "EwcE7bDL1xDG",
    "outputId": "b4a5fa3a-08d3-457d-e04f-9c5b9f4ad8f8",
    "papermill": {
     "duration": 0.399356,
     "end_time": "2022-03-15T12:14:10.299879",
     "exception": false,
     "start_time": "2022-03-15T12:14:09.900523",
     "status": "completed"
    },
    "tags": []
   },
   "outputs": [
    {
     "data": {
      "text/plain": [
       "0.66993006993007"
      ]
     },
     "execution_count": 150,
     "metadata": {},
     "output_type": "execute_result"
    }
   ],
   "source": [
    "metrics.recall_score(predictions_test[\"Actual\"],predictions_test[\"Final\"])"
   ]
  },
  {
   "cell_type": "code",
   "execution_count": 151,
   "id": "37a04370",
   "metadata": {
    "execution": {
     "iopub.execute_input": "2022-03-15T12:14:10.807763Z",
     "iopub.status.busy": "2022-03-15T12:14:10.807151Z",
     "iopub.status.idle": "2022-03-15T12:14:11.476515Z",
     "shell.execute_reply": "2022-03-15T12:14:11.477018Z",
     "shell.execute_reply.started": "2022-03-15T12:06:19.653551Z"
    },
    "id": "sf1djkXUVT_w",
    "outputId": "285b58ef-1f70-4d89-ec07-989de041ff1f",
    "papermill": {
     "duration": 0.929909,
     "end_time": "2022-03-15T12:14:11.477196",
     "exception": false,
     "start_time": "2022-03-15T12:14:10.547287",
     "status": "completed"
    },
    "tags": []
   },
   "outputs": [
    {
     "name": "stdout",
     "output_type": "stream",
     "text": [
      "              precision    recall  f1-score   support\n",
      "\n",
      "           0       1.00      0.89      0.94    553574\n",
      "           1       0.02      0.67      0.04      2145\n",
      "\n",
      "    accuracy                           0.89    555719\n",
      "   macro avg       0.51      0.78      0.49    555719\n",
      "weighted avg       0.99      0.89      0.94    555719\n",
      "\n"
     ]
    }
   ],
   "source": [
    "print(metrics.classification_report(predictions_test[\"Actual\"],predictions_test[\"Final\"]))"
   ]
  },
  {
   "cell_type": "markdown",
   "id": "8def6a9f",
   "metadata": {
    "id": "ChEBRjDlDHkE",
    "papermill": {
     "duration": 0.254269,
     "end_time": "2022-03-15T12:14:11.991278",
     "exception": false,
     "start_time": "2022-03-15T12:14:11.737009",
     "status": "completed"
    },
    "tags": []
   },
   "source": [
    "Now, since we got high recall score, let's check the profits made by company"
   ]
  },
  {
   "cell_type": "markdown",
   "id": "3f5a6740",
   "metadata": {
    "id": "ECgoaG6XMYye",
    "papermill": {
     "duration": 0.250921,
     "end_time": "2022-03-15T12:14:12.490378",
     "exception": false,
     "start_time": "2022-03-15T12:14:12.239457",
     "status": "completed"
    },
    "tags": []
   },
   "source": [
    "#### Profit Of Company"
   ]
  },
  {
   "cell_type": "code",
   "execution_count": 152,
   "id": "b540c4f4",
   "metadata": {
    "execution": {
     "iopub.execute_input": "2022-03-15T12:14:13.013462Z",
     "iopub.status.busy": "2022-03-15T12:14:13.012803Z",
     "iopub.status.idle": "2022-03-15T12:14:13.021843Z",
     "shell.execute_reply": "2022-03-15T12:14:13.021254Z",
     "shell.execute_reply.started": "2022-03-15T12:06:20.431288Z"
    },
    "id": "7LtbuSkoMti8",
    "papermill": {
     "duration": 0.278275,
     "end_time": "2022-03-15T12:14:13.021962",
     "exception": false,
     "start_time": "2022-03-15T12:14:12.743687",
     "status": "completed"
    },
    "tags": []
   },
   "outputs": [],
   "source": [
    "profit = pd.merge(data_t[\"amt\"],predictions_test,left_index = True,right_index = True)"
   ]
  },
  {
   "cell_type": "code",
   "execution_count": 153,
   "id": "54337d55",
   "metadata": {
    "execution": {
     "iopub.execute_input": "2022-03-15T12:14:13.535966Z",
     "iopub.status.busy": "2022-03-15T12:14:13.535384Z",
     "iopub.status.idle": "2022-03-15T12:14:13.553346Z",
     "shell.execute_reply": "2022-03-15T12:14:13.552793Z",
     "shell.execute_reply.started": "2022-03-15T12:06:20.446183Z"
    },
    "id": "sP5OHtyfMdwV",
    "papermill": {
     "duration": 0.280821,
     "end_time": "2022-03-15T12:14:13.553486",
     "exception": false,
     "start_time": "2022-03-15T12:14:13.272665",
     "status": "completed"
    },
    "tags": []
   },
   "outputs": [],
   "source": [
    "loss = data_t[data_t[\"is_fraud\"]==1][\"amt\"].sum()\n",
    "Predicted_Loss = profit[(profit[\"Final\"]==1) & (profit[\"Actual\"]==1)][\"amt\"].sum()\n",
    "cost = profit[\"Final\"].sum()*1.5\n",
    "Profit = Predicted_Loss - cost\n",
    "\n",
    "profit_table = pd.DataFrame({\"Fraud_Loss\" : [loss],\"Predicted_Loss\" : [Predicted_Loss],\"Cost\" : [cost],\"Profit_Of_Company\" : [Profit]})"
   ]
  },
  {
   "cell_type": "code",
   "execution_count": 154,
   "id": "3f110cc5",
   "metadata": {
    "execution": {
     "iopub.execute_input": "2022-03-15T12:14:14.079019Z",
     "iopub.status.busy": "2022-03-15T12:14:14.078395Z",
     "iopub.status.idle": "2022-03-15T12:14:14.082195Z",
     "shell.execute_reply": "2022-03-15T12:14:14.081603Z",
     "shell.execute_reply.started": "2022-03-15T12:06:20.485815Z"
    },
    "id": "XEV76N0eMdz0",
    "outputId": "56fee1b2-a9d1-4fcf-913c-59931943ca12",
    "papermill": {
     "duration": 0.2719,
     "end_time": "2022-03-15T12:14:14.082320",
     "exception": false,
     "start_time": "2022-03-15T12:14:13.810420",
     "status": "completed"
    },
    "tags": []
   },
   "outputs": [
    {
     "data": {
      "text/html": [
       "<div>\n",
       "<style scoped>\n",
       "    .dataframe tbody tr th:only-of-type {\n",
       "        vertical-align: middle;\n",
       "    }\n",
       "\n",
       "    .dataframe tbody tr th {\n",
       "        vertical-align: top;\n",
       "    }\n",
       "\n",
       "    .dataframe thead th {\n",
       "        text-align: right;\n",
       "    }\n",
       "</style>\n",
       "<table border=\"1\" class=\"dataframe\">\n",
       "  <thead>\n",
       "    <tr style=\"text-align: right;\">\n",
       "      <th></th>\n",
       "      <th>Fraud_Loss</th>\n",
       "      <th>Predicted_Loss</th>\n",
       "      <th>Cost</th>\n",
       "      <th>Profit_Of_Company</th>\n",
       "    </tr>\n",
       "  </thead>\n",
       "  <tbody>\n",
       "    <tr>\n",
       "      <th>0</th>\n",
       "      <td>1133324.68</td>\n",
       "      <td>1033660.98</td>\n",
       "      <td>95340.0</td>\n",
       "      <td>938320.98</td>\n",
       "    </tr>\n",
       "  </tbody>\n",
       "</table>\n",
       "</div>"
      ],
      "text/plain": [
       "   Fraud_Loss  Predicted_Loss     Cost  Profit_Of_Company\n",
       "0  1133324.68      1033660.98  95340.0          938320.98"
      ]
     },
     "execution_count": 154,
     "metadata": {},
     "output_type": "execute_result"
    }
   ],
   "source": [
    "profit_table"
   ]
  },
  {
   "cell_type": "markdown",
   "id": "cd4a29e7",
   "metadata": {
    "id": "dtXYS3XXTSji",
    "papermill": {
     "duration": 0.25141,
     "end_time": "2022-03-15T12:14:14.595455",
     "exception": false,
     "start_time": "2022-03-15T12:14:14.344045",
     "status": "completed"
    },
    "tags": []
   },
   "source": [
    "We have saved 909k dollars of the company including costs, out of the actual loss of $1.13 million if the model wasn't implemented"
   ]
  },
  {
   "cell_type": "markdown",
   "id": "512fdc3e",
   "metadata": {
    "id": "VoThjbD8_sAs",
    "papermill": {
     "duration": 0.261212,
     "end_time": "2022-03-15T12:14:15.113056",
     "exception": false,
     "start_time": "2022-03-15T12:14:14.851844",
     "status": "completed"
    },
    "tags": []
   },
   "source": [
    "## Final Results"
   ]
  },
  {
   "cell_type": "markdown",
   "id": "ae7682b6",
   "metadata": {
    "id": "8FFp4dnQ_ySS",
    "papermill": {
     "duration": 0.254524,
     "end_time": "2022-03-15T12:14:15.627045",
     "exception": false,
     "start_time": "2022-03-15T12:14:15.372521",
     "status": "completed"
    },
    "tags": []
   },
   "source": [
    "Since we went through all the models which can be found, we like to proceed with logistic regression, so let's move and present final insights on Test Data"
   ]
  },
  {
   "cell_type": "code",
   "execution_count": 155,
   "id": "48e8a955",
   "metadata": {
    "execution": {
     "iopub.execute_input": "2022-03-15T12:14:16.169053Z",
     "iopub.status.busy": "2022-03-15T12:14:16.168426Z",
     "iopub.status.idle": "2022-03-15T12:14:16.171849Z",
     "shell.execute_reply": "2022-03-15T12:14:16.171322Z",
     "shell.execute_reply.started": "2022-03-15T12:06:20.501450Z"
    },
    "id": "ze1bVxfn_ugE",
    "papermill": {
     "duration": 0.278756,
     "end_time": "2022-03-15T12:14:16.172016",
     "exception": false,
     "start_time": "2022-03-15T12:14:15.893260",
     "status": "completed"
    },
    "tags": []
   },
   "outputs": [
    {
     "data": {
      "text/plain": [
       "Index(['trans_date_trans_time', 'cc_num', 'merchant', 'category', 'amt',\n",
       "       'gender', 'state', 'job', 'is_fraud', 'recency', 'displacement',\n",
       "       'location', 'Time', 'city_pop_segment', 'recency_segment'],\n",
       "      dtype='object')"
      ]
     },
     "execution_count": 155,
     "metadata": {},
     "output_type": "execute_result"
    }
   ],
   "source": [
    "data_t.columns"
   ]
  },
  {
   "cell_type": "markdown",
   "id": "1bc6477c",
   "metadata": {
    "id": "IaDZ4JgdIcHc",
    "papermill": {
     "duration": 0.263444,
     "end_time": "2022-03-15T12:14:16.718362",
     "exception": false,
     "start_time": "2022-03-15T12:14:16.454918",
     "status": "completed"
    },
    "tags": []
   },
   "source": [
    "### Average Number of transactions per month"
   ]
  },
  {
   "cell_type": "code",
   "execution_count": 156,
   "id": "77eae3d6",
   "metadata": {
    "execution": {
     "iopub.execute_input": "2022-03-15T12:14:17.244738Z",
     "iopub.status.busy": "2022-03-15T12:14:17.244128Z",
     "iopub.status.idle": "2022-03-15T12:14:17.299586Z",
     "shell.execute_reply": "2022-03-15T12:14:17.299003Z",
     "shell.execute_reply.started": "2022-03-15T12:06:20.515378Z"
    },
    "id": "ZaDQzNB-GbVu",
    "papermill": {
     "duration": 0.322055,
     "end_time": "2022-03-15T12:14:17.299718",
     "exception": false,
     "start_time": "2022-03-15T12:14:16.977663",
     "status": "completed"
    },
    "tags": []
   },
   "outputs": [],
   "source": [
    "data_t[\"month\"] = data_t[\"trans_date_trans_time\"].dt.month"
   ]
  },
  {
   "cell_type": "code",
   "execution_count": 157,
   "id": "a3364026",
   "metadata": {
    "execution": {
     "iopub.execute_input": "2022-03-15T12:14:17.823257Z",
     "iopub.status.busy": "2022-03-15T12:14:17.822640Z",
     "iopub.status.idle": "2022-03-15T12:14:17.876613Z",
     "shell.execute_reply": "2022-03-15T12:14:17.876068Z",
     "shell.execute_reply.started": "2022-03-15T12:06:20.583750Z"
    },
    "id": "GAD2f1nzGfrE",
    "papermill": {
     "duration": 0.32035,
     "end_time": "2022-03-15T12:14:17.876763",
     "exception": false,
     "start_time": "2022-03-15T12:14:17.556413",
     "status": "completed"
    },
    "tags": []
   },
   "outputs": [],
   "source": [
    "data_t[\"year\"] = data_t[\"trans_date_trans_time\"].dt.year"
   ]
  },
  {
   "cell_type": "code",
   "execution_count": 158,
   "id": "837c8103",
   "metadata": {
    "execution": {
     "iopub.execute_input": "2022-03-15T12:14:18.398540Z",
     "iopub.status.busy": "2022-03-15T12:14:18.397824Z",
     "iopub.status.idle": "2022-03-15T12:14:18.928883Z",
     "shell.execute_reply": "2022-03-15T12:14:18.928280Z",
     "shell.execute_reply.started": "2022-03-15T12:06:20.645252Z"
    },
    "id": "T3YvGLYlJEaN",
    "papermill": {
     "duration": 0.791528,
     "end_time": "2022-03-15T12:14:18.929052",
     "exception": false,
     "start_time": "2022-03-15T12:14:18.137524",
     "status": "completed"
    },
    "tags": []
   },
   "outputs": [],
   "source": [
    "result1 = (data_t.groupby(by = [\"year\",\"month\"]).count()).mean()"
   ]
  },
  {
   "cell_type": "code",
   "execution_count": 159,
   "id": "a488a0e8",
   "metadata": {
    "execution": {
     "iopub.execute_input": "2022-03-15T12:14:19.434198Z",
     "iopub.status.busy": "2022-03-15T12:14:19.433516Z",
     "iopub.status.idle": "2022-03-15T12:14:19.436269Z",
     "shell.execute_reply": "2022-03-15T12:14:19.436711Z",
     "shell.execute_reply.started": "2022-03-15T12:06:21.238477Z"
    },
    "id": "i3k4otBEJUio",
    "papermill": {
     "duration": 0.258801,
     "end_time": "2022-03-15T12:14:19.436875",
     "exception": false,
     "start_time": "2022-03-15T12:14:19.178074",
     "status": "completed"
    },
    "tags": []
   },
   "outputs": [
    {
     "data": {
      "text/plain": [
       "79388.42857142857"
      ]
     },
     "execution_count": 159,
     "metadata": {},
     "output_type": "execute_result"
    }
   ],
   "source": [
    "result1[1]"
   ]
  },
  {
   "cell_type": "markdown",
   "id": "e06eee0c",
   "metadata": {
    "id": "wijuhclpKOO5",
    "papermill": {
     "duration": 0.258102,
     "end_time": "2022-03-15T12:14:19.951442",
     "exception": false,
     "start_time": "2022-03-15T12:14:19.693340",
     "status": "completed"
    },
    "tags": []
   },
   "source": [
    "Average Number of Fraudulent transactions per month"
   ]
  },
  {
   "cell_type": "code",
   "execution_count": 160,
   "id": "f3ca73a0",
   "metadata": {
    "execution": {
     "iopub.execute_input": "2022-03-15T12:14:20.457530Z",
     "iopub.status.busy": "2022-03-15T12:14:20.456904Z",
     "iopub.status.idle": "2022-03-15T12:14:20.463635Z",
     "shell.execute_reply": "2022-03-15T12:14:20.463121Z",
     "shell.execute_reply.started": "2022-03-15T12:06:21.245855Z"
    },
    "id": "et2qY89QJV-0",
    "papermill": {
     "duration": 0.262084,
     "end_time": "2022-03-15T12:14:20.463755",
     "exception": false,
     "start_time": "2022-03-15T12:14:20.201671",
     "status": "completed"
    },
    "tags": []
   },
   "outputs": [],
   "source": [
    "result2 = (data_t[data_t[\"is_fraud\"]==1].groupby(by = [\"year\",\"month\"]).count()).mean()"
   ]
  },
  {
   "cell_type": "code",
   "execution_count": 161,
   "id": "19b65591",
   "metadata": {
    "execution": {
     "iopub.execute_input": "2022-03-15T12:14:20.968036Z",
     "iopub.status.busy": "2022-03-15T12:14:20.967429Z",
     "iopub.status.idle": "2022-03-15T12:14:20.970912Z",
     "shell.execute_reply": "2022-03-15T12:14:20.970269Z",
     "shell.execute_reply.started": "2022-03-15T12:06:21.270863Z"
    },
    "id": "jUloeQJhJ1po",
    "papermill": {
     "duration": 0.262507,
     "end_time": "2022-03-15T12:14:20.971047",
     "exception": false,
     "start_time": "2022-03-15T12:14:20.708540",
     "status": "completed"
    },
    "tags": []
   },
   "outputs": [
    {
     "data": {
      "text/plain": [
       "306.42857142857144"
      ]
     },
     "execution_count": 161,
     "metadata": {},
     "output_type": "execute_result"
    }
   ],
   "source": [
    "result2[1]"
   ]
  },
  {
   "cell_type": "markdown",
   "id": "95488837",
   "metadata": {
    "id": "3bd_3fk9KWZT",
    "papermill": {
     "duration": 0.251072,
     "end_time": "2022-03-15T12:14:21.475346",
     "exception": false,
     "start_time": "2022-03-15T12:14:21.224274",
     "status": "completed"
    },
    "tags": []
   },
   "source": [
    "Average amount per fraud transaction"
   ]
  },
  {
   "cell_type": "code",
   "execution_count": 162,
   "id": "c18a9971",
   "metadata": {
    "execution": {
     "iopub.execute_input": "2022-03-15T12:14:21.980353Z",
     "iopub.status.busy": "2022-03-15T12:14:21.979658Z",
     "iopub.status.idle": "2022-03-15T12:14:21.994813Z",
     "shell.execute_reply": "2022-03-15T12:14:21.994379Z",
     "shell.execute_reply.started": "2022-03-15T12:06:21.278246Z"
    },
    "id": "_URb71PRJ2j5",
    "papermill": {
     "duration": 0.275808,
     "end_time": "2022-03-15T12:14:21.994964",
     "exception": false,
     "start_time": "2022-03-15T12:14:21.719156",
     "status": "completed"
    },
    "tags": []
   },
   "outputs": [],
   "source": [
    "result3 = data_t[data_t[\"is_fraud\"]==1][\"amt\"].sum()/data_t[data_t[\"is_fraud\"]==1].count()"
   ]
  },
  {
   "cell_type": "code",
   "execution_count": 163,
   "id": "0978acfd",
   "metadata": {
    "execution": {
     "iopub.execute_input": "2022-03-15T12:14:22.505691Z",
     "iopub.status.busy": "2022-03-15T12:14:22.505015Z",
     "iopub.status.idle": "2022-03-15T12:14:22.509422Z",
     "shell.execute_reply": "2022-03-15T12:14:22.510019Z",
     "shell.execute_reply.started": "2022-03-15T12:06:21.305149Z"
    },
    "id": "Z2EJ-UNALHd7",
    "papermill": {
     "duration": 0.257639,
     "end_time": "2022-03-15T12:14:22.510186",
     "exception": false,
     "start_time": "2022-03-15T12:14:22.252547",
     "status": "completed"
    },
    "tags": []
   },
   "outputs": [
    {
     "data": {
      "text/plain": [
       "528.3564941724942"
      ]
     },
     "execution_count": 163,
     "metadata": {},
     "output_type": "execute_result"
    }
   ],
   "source": [
    "result3[1]"
   ]
  },
  {
   "cell_type": "markdown",
   "id": "ace772ac",
   "metadata": {
    "id": "fSbH7zCM0-kP",
    "papermill": {
     "duration": 0.250709,
     "end_time": "2022-03-15T12:14:23.014171",
     "exception": false,
     "start_time": "2022-03-15T12:14:22.763462",
     "status": "completed"
    },
    "tags": []
   },
   "source": [
    "Cost incurred per month before the model was deployed (result2 * result3)"
   ]
  },
  {
   "cell_type": "code",
   "execution_count": 164,
   "id": "820e07c4",
   "metadata": {
    "execution": {
     "iopub.execute_input": "2022-03-15T12:14:23.515941Z",
     "iopub.status.busy": "2022-03-15T12:14:23.515333Z",
     "iopub.status.idle": "2022-03-15T12:14:23.519733Z",
     "shell.execute_reply": "2022-03-15T12:14:23.520217Z",
     "shell.execute_reply.started": "2022-03-15T12:06:21.311403Z"
    },
    "id": "XXVGQGM2LWKD",
    "papermill": {
     "duration": 0.256622,
     "end_time": "2022-03-15T12:14:23.520360",
     "exception": false,
     "start_time": "2022-03-15T12:14:23.263738",
     "status": "completed"
    },
    "tags": []
   },
   "outputs": [
    {
     "data": {
      "text/plain": [
       "161903.52571428573"
      ]
     },
     "execution_count": 164,
     "metadata": {},
     "output_type": "execute_result"
    }
   ],
   "source": [
    "result2[1] * result3[1]"
   ]
  },
  {
   "cell_type": "markdown",
   "id": "d89b63c5",
   "metadata": {
    "id": "LWa6Pok_1baj",
    "papermill": {
     "duration": 0.253991,
     "end_time": "2022-03-15T12:14:24.023397",
     "exception": false,
     "start_time": "2022-03-15T12:14:23.769406",
     "status": "completed"
    },
    "tags": []
   },
   "source": [
    "Average number of transactions per month detected as fraudulent by the model (TF)"
   ]
  },
  {
   "cell_type": "code",
   "execution_count": 165,
   "id": "ffe75c16",
   "metadata": {
    "execution": {
     "iopub.execute_input": "2022-03-15T12:14:24.523278Z",
     "iopub.status.busy": "2022-03-15T12:14:24.522685Z",
     "iopub.status.idle": "2022-03-15T12:14:24.526363Z",
     "shell.execute_reply": "2022-03-15T12:14:24.525960Z",
     "shell.execute_reply.started": "2022-03-15T12:06:21.325866Z"
    },
    "id": "zDzn4-9G1RT7",
    "papermill": {
     "duration": 0.25963,
     "end_time": "2022-03-15T12:14:24.526474",
     "exception": false,
     "start_time": "2022-03-15T12:14:24.266844",
     "status": "completed"
    },
    "tags": []
   },
   "outputs": [
    {
     "data": {
      "text/html": [
       "<div>\n",
       "<style scoped>\n",
       "    .dataframe tbody tr th:only-of-type {\n",
       "        vertical-align: middle;\n",
       "    }\n",
       "\n",
       "    .dataframe tbody tr th {\n",
       "        vertical-align: top;\n",
       "    }\n",
       "\n",
       "    .dataframe thead th {\n",
       "        text-align: right;\n",
       "    }\n",
       "</style>\n",
       "<table border=\"1\" class=\"dataframe\">\n",
       "  <thead>\n",
       "    <tr style=\"text-align: right;\">\n",
       "      <th></th>\n",
       "      <th>Actual</th>\n",
       "      <th>Pred_Prob</th>\n",
       "      <th>Final</th>\n",
       "    </tr>\n",
       "  </thead>\n",
       "  <tbody>\n",
       "    <tr>\n",
       "      <th>0</th>\n",
       "      <td>0</td>\n",
       "      <td>0.017955</td>\n",
       "      <td>1</td>\n",
       "    </tr>\n",
       "    <tr>\n",
       "      <th>1</th>\n",
       "      <td>0</td>\n",
       "      <td>0.015444</td>\n",
       "      <td>1</td>\n",
       "    </tr>\n",
       "    <tr>\n",
       "      <th>2</th>\n",
       "      <td>0</td>\n",
       "      <td>0.009566</td>\n",
       "      <td>0</td>\n",
       "    </tr>\n",
       "    <tr>\n",
       "      <th>3</th>\n",
       "      <td>0</td>\n",
       "      <td>0.034386</td>\n",
       "      <td>1</td>\n",
       "    </tr>\n",
       "    <tr>\n",
       "      <th>4</th>\n",
       "      <td>0</td>\n",
       "      <td>0.000041</td>\n",
       "      <td>0</td>\n",
       "    </tr>\n",
       "  </tbody>\n",
       "</table>\n",
       "</div>"
      ],
      "text/plain": [
       "   Actual  Pred_Prob  Final\n",
       "0       0   0.017955      1\n",
       "1       0   0.015444      1\n",
       "2       0   0.009566      0\n",
       "3       0   0.034386      1\n",
       "4       0   0.000041      0"
      ]
     },
     "execution_count": 165,
     "metadata": {},
     "output_type": "execute_result"
    }
   ],
   "source": [
    "predictions_test.head()"
   ]
  },
  {
   "cell_type": "code",
   "execution_count": 166,
   "id": "58f99db9",
   "metadata": {
    "execution": {
     "iopub.execute_input": "2022-03-15T12:14:25.039481Z",
     "iopub.status.busy": "2022-03-15T12:14:25.038819Z",
     "iopub.status.idle": "2022-03-15T12:14:25.051515Z",
     "shell.execute_reply": "2022-03-15T12:14:25.051054Z",
     "shell.execute_reply.started": "2022-03-15T12:06:21.342702Z"
    },
    "id": "SDI7GP9p1nwn",
    "papermill": {
     "duration": 0.273849,
     "end_time": "2022-03-15T12:14:25.051640",
     "exception": false,
     "start_time": "2022-03-15T12:14:24.777791",
     "status": "completed"
    },
    "tags": []
   },
   "outputs": [],
   "source": [
    "# Combining date with predictions\n",
    "predictions_test = pd.merge(data_t[[\"trans_date_trans_time\",\"month\",\"year\"]],predictions_test,right_index=True,left_index= True)"
   ]
  },
  {
   "cell_type": "code",
   "execution_count": 167,
   "id": "94ca2577",
   "metadata": {
    "execution": {
     "iopub.execute_input": "2022-03-15T12:14:25.620772Z",
     "iopub.status.busy": "2022-03-15T12:14:25.619974Z",
     "iopub.status.idle": "2022-03-15T12:14:25.623269Z",
     "shell.execute_reply": "2022-03-15T12:14:25.622826Z",
     "shell.execute_reply.started": "2022-03-15T12:06:21.364350Z"
    },
    "id": "W7cQEBDv2CSK",
    "papermill": {
     "duration": 0.311697,
     "end_time": "2022-03-15T12:14:25.623376",
     "exception": false,
     "start_time": "2022-03-15T12:14:25.311679",
     "status": "completed"
    },
    "tags": []
   },
   "outputs": [
    {
     "data": {
      "text/html": [
       "<div>\n",
       "<style scoped>\n",
       "    .dataframe tbody tr th:only-of-type {\n",
       "        vertical-align: middle;\n",
       "    }\n",
       "\n",
       "    .dataframe tbody tr th {\n",
       "        vertical-align: top;\n",
       "    }\n",
       "\n",
       "    .dataframe thead th {\n",
       "        text-align: right;\n",
       "    }\n",
       "</style>\n",
       "<table border=\"1\" class=\"dataframe\">\n",
       "  <thead>\n",
       "    <tr style=\"text-align: right;\">\n",
       "      <th></th>\n",
       "      <th>trans_date_trans_time</th>\n",
       "      <th>month</th>\n",
       "      <th>year</th>\n",
       "      <th>Actual</th>\n",
       "      <th>Pred_Prob</th>\n",
       "      <th>Final</th>\n",
       "    </tr>\n",
       "  </thead>\n",
       "  <tbody>\n",
       "    <tr>\n",
       "      <th>0</th>\n",
       "      <td>2020-06-21 12:14:25</td>\n",
       "      <td>6</td>\n",
       "      <td>2020</td>\n",
       "      <td>0</td>\n",
       "      <td>0.017955</td>\n",
       "      <td>1</td>\n",
       "    </tr>\n",
       "    <tr>\n",
       "      <th>1</th>\n",
       "      <td>2020-06-21 12:14:33</td>\n",
       "      <td>6</td>\n",
       "      <td>2020</td>\n",
       "      <td>0</td>\n",
       "      <td>0.015444</td>\n",
       "      <td>1</td>\n",
       "    </tr>\n",
       "    <tr>\n",
       "      <th>2</th>\n",
       "      <td>2020-06-21 12:14:53</td>\n",
       "      <td>6</td>\n",
       "      <td>2020</td>\n",
       "      <td>0</td>\n",
       "      <td>0.009566</td>\n",
       "      <td>0</td>\n",
       "    </tr>\n",
       "    <tr>\n",
       "      <th>3</th>\n",
       "      <td>2020-06-21 12:15:15</td>\n",
       "      <td>6</td>\n",
       "      <td>2020</td>\n",
       "      <td>0</td>\n",
       "      <td>0.034386</td>\n",
       "      <td>1</td>\n",
       "    </tr>\n",
       "    <tr>\n",
       "      <th>4</th>\n",
       "      <td>2020-06-21 12:15:17</td>\n",
       "      <td>6</td>\n",
       "      <td>2020</td>\n",
       "      <td>0</td>\n",
       "      <td>0.000041</td>\n",
       "      <td>0</td>\n",
       "    </tr>\n",
       "  </tbody>\n",
       "</table>\n",
       "</div>"
      ],
      "text/plain": [
       "  trans_date_trans_time  month  year  Actual  Pred_Prob  Final\n",
       "0   2020-06-21 12:14:25      6  2020       0   0.017955      1\n",
       "1   2020-06-21 12:14:33      6  2020       0   0.015444      1\n",
       "2   2020-06-21 12:14:53      6  2020       0   0.009566      0\n",
       "3   2020-06-21 12:15:15      6  2020       0   0.034386      1\n",
       "4   2020-06-21 12:15:17      6  2020       0   0.000041      0"
      ]
     },
     "execution_count": 167,
     "metadata": {},
     "output_type": "execute_result"
    }
   ],
   "source": [
    "predictions_test.head()"
   ]
  },
  {
   "cell_type": "markdown",
   "id": "b3aaf5f6",
   "metadata": {
    "id": "qhuNY5aK4GZh",
    "papermill": {
     "duration": 0.2691,
     "end_time": "2022-03-15T12:14:26.184304",
     "exception": false,
     "start_time": "2022-03-15T12:14:25.915204",
     "status": "completed"
    },
    "tags": []
   },
   "source": [
    "Now since we were asked average number of transactions detected as fraud by the model, we will just include records whose Final predictions are 1. We are not checking Average number of true fraud transactions detected by model, so will just take Final column in consideration"
   ]
  },
  {
   "cell_type": "code",
   "execution_count": 168,
   "id": "149a01ff",
   "metadata": {
    "execution": {
     "iopub.execute_input": "2022-03-15T12:14:26.714884Z",
     "iopub.status.busy": "2022-03-15T12:14:26.714255Z",
     "iopub.status.idle": "2022-03-15T12:14:26.738264Z",
     "shell.execute_reply": "2022-03-15T12:14:26.737686Z",
     "shell.execute_reply.started": "2022-03-15T12:06:21.377272Z"
    },
    "id": "zsCdLfz52IlB",
    "papermill": {
     "duration": 0.291623,
     "end_time": "2022-03-15T12:14:26.738413",
     "exception": false,
     "start_time": "2022-03-15T12:14:26.446790",
     "status": "completed"
    },
    "tags": []
   },
   "outputs": [],
   "source": [
    "TF = (predictions_test[(predictions_test[\"Final\"]==1)].groupby(by=[\"year\",\"month\"]).count()).mean()[1]"
   ]
  },
  {
   "cell_type": "code",
   "execution_count": 169,
   "id": "c15651b3",
   "metadata": {
    "execution": {
     "iopub.execute_input": "2022-03-15T12:14:27.304498Z",
     "iopub.status.busy": "2022-03-15T12:14:27.303749Z",
     "iopub.status.idle": "2022-03-15T12:14:27.308867Z",
     "shell.execute_reply": "2022-03-15T12:14:27.309458Z",
     "shell.execute_reply.started": "2022-03-15T12:06:21.415705Z"
    },
    "id": "LyuwvIA26O76",
    "papermill": {
     "duration": 0.295372,
     "end_time": "2022-03-15T12:14:27.309649",
     "exception": false,
     "start_time": "2022-03-15T12:14:27.014277",
     "status": "completed"
    },
    "tags": []
   },
   "outputs": [
    {
     "data": {
      "text/plain": [
       "9080.0"
      ]
     },
     "execution_count": 169,
     "metadata": {},
     "output_type": "execute_result"
    }
   ],
   "source": [
    "TF"
   ]
  },
  {
   "cell_type": "markdown",
   "id": "e9ec4892",
   "metadata": {
    "id": "g3r2Vofk6KZ1",
    "papermill": {
     "duration": 0.270306,
     "end_time": "2022-03-15T12:14:27.850805",
     "exception": false,
     "start_time": "2022-03-15T12:14:27.580499",
     "status": "completed"
    },
    "tags": []
   },
   "source": [
    "Total cost of providing customer support per month for fraudulent transactions detected by the model (TF*$1.5)"
   ]
  },
  {
   "cell_type": "code",
   "execution_count": 170,
   "id": "1ecf7c2f",
   "metadata": {
    "execution": {
     "iopub.execute_input": "2022-03-15T12:14:28.388488Z",
     "iopub.status.busy": "2022-03-15T12:14:28.387676Z",
     "iopub.status.idle": "2022-03-15T12:14:28.390877Z",
     "shell.execute_reply": "2022-03-15T12:14:28.391330Z",
     "shell.execute_reply.started": "2022-03-15T12:06:21.423786Z"
    },
    "id": "kVSHqwI04pBe",
    "papermill": {
     "duration": 0.271352,
     "end_time": "2022-03-15T12:14:28.391493",
     "exception": false,
     "start_time": "2022-03-15T12:14:28.120141",
     "status": "completed"
    },
    "tags": []
   },
   "outputs": [
    {
     "data": {
      "text/plain": [
       "13620.0"
      ]
     },
     "execution_count": 170,
     "metadata": {},
     "output_type": "execute_result"
    }
   ],
   "source": [
    "TF*1.5"
   ]
  },
  {
   "cell_type": "markdown",
   "id": "ad32acfd",
   "metadata": {
    "id": "O0drT3Vu6lll",
    "papermill": {
     "duration": 0.262794,
     "end_time": "2022-03-15T12:14:28.922605",
     "exception": false,
     "start_time": "2022-03-15T12:14:28.659811",
     "status": "completed"
    },
    "tags": []
   },
   "source": [
    "Average number of transactions per month that are fraudulent but not detected by the model (FN)"
   ]
  },
  {
   "cell_type": "code",
   "execution_count": 171,
   "id": "351c630e",
   "metadata": {
    "execution": {
     "iopub.execute_input": "2022-03-15T12:14:29.441177Z",
     "iopub.status.busy": "2022-03-15T12:14:29.439969Z",
     "iopub.status.idle": "2022-03-15T12:14:29.447327Z",
     "shell.execute_reply": "2022-03-15T12:14:29.447842Z",
     "shell.execute_reply.started": "2022-03-15T12:06:21.437296Z"
    },
    "id": "XGUNp2i26RTF",
    "papermill": {
     "duration": 0.258093,
     "end_time": "2022-03-15T12:14:29.448000",
     "exception": false,
     "start_time": "2022-03-15T12:14:29.189907",
     "status": "completed"
    },
    "tags": []
   },
   "outputs": [],
   "source": [
    "FN = (predictions_test[(predictions_test[\"Final\"]==0) & (predictions_test[\"Actual\"] == 1)].groupby(by=[\"year\",\"month\"]).count()).mean()[1]"
   ]
  },
  {
   "cell_type": "code",
   "execution_count": 172,
   "id": "ac05d510",
   "metadata": {
    "execution": {
     "iopub.execute_input": "2022-03-15T12:14:29.984087Z",
     "iopub.status.busy": "2022-03-15T12:14:29.983117Z",
     "iopub.status.idle": "2022-03-15T12:14:29.988030Z",
     "shell.execute_reply": "2022-03-15T12:14:29.988576Z",
     "shell.execute_reply.started": "2022-03-15T12:06:21.456084Z"
    },
    "id": "Oo-_awTw630A",
    "papermill": {
     "duration": 0.276569,
     "end_time": "2022-03-15T12:14:29.988722",
     "exception": false,
     "start_time": "2022-03-15T12:14:29.712153",
     "status": "completed"
    },
    "tags": []
   },
   "outputs": [
    {
     "data": {
      "text/plain": [
       "101.14285714285714"
      ]
     },
     "execution_count": 172,
     "metadata": {},
     "output_type": "execute_result"
    }
   ],
   "source": [
    "FN"
   ]
  },
  {
   "cell_type": "markdown",
   "id": "6e975b35",
   "metadata": {
    "id": "S_9Dz9eR7cHr",
    "papermill": {
     "duration": 0.248487,
     "end_time": "2022-03-15T12:14:30.483992",
     "exception": false,
     "start_time": "2022-03-15T12:14:30.235505",
     "status": "completed"
    },
    "tags": []
   },
   "source": [
    "Cost incurred due to fraudulent transactions left undetected by the model(FN*Amt)"
   ]
  },
  {
   "cell_type": "markdown",
   "id": "ae64a58f",
   "metadata": {
    "id": "DmtynSv_9dkK",
    "papermill": {
     "duration": 0.249729,
     "end_time": "2022-03-15T12:14:30.980329",
     "exception": false,
     "start_time": "2022-03-15T12:14:30.730600",
     "status": "completed"
    },
    "tags": []
   },
   "source": [
    "We were not asked to present data per month, so we are showing overall"
   ]
  },
  {
   "cell_type": "code",
   "execution_count": 173,
   "id": "b5807f37",
   "metadata": {
    "execution": {
     "iopub.execute_input": "2022-03-15T12:14:31.496212Z",
     "iopub.status.busy": "2022-03-15T12:14:31.495254Z",
     "iopub.status.idle": "2022-03-15T12:14:31.508172Z",
     "shell.execute_reply": "2022-03-15T12:14:31.508682Z",
     "shell.execute_reply.started": "2022-03-15T12:06:21.462689Z"
    },
    "id": "mp3xFbwk64sZ",
    "papermill": {
     "duration": 0.270512,
     "end_time": "2022-03-15T12:14:31.508838",
     "exception": false,
     "start_time": "2022-03-15T12:14:31.238326",
     "status": "completed"
    },
    "tags": []
   },
   "outputs": [],
   "source": [
    "# merging amt column too \n",
    "predictions_test = pd.merge(data_t[[\"amt\"]],predictions_test,right_index=True,left_index= True)"
   ]
  },
  {
   "cell_type": "code",
   "execution_count": 174,
   "id": "73719ee6",
   "metadata": {
    "execution": {
     "iopub.execute_input": "2022-03-15T12:14:32.017644Z",
     "iopub.status.busy": "2022-03-15T12:14:32.016724Z",
     "iopub.status.idle": "2022-03-15T12:14:32.027513Z",
     "shell.execute_reply": "2022-03-15T12:14:32.028060Z",
     "shell.execute_reply.started": "2022-03-15T12:06:21.487683Z"
    },
    "id": "00a-ndPy7CYA",
    "papermill": {
     "duration": 0.269525,
     "end_time": "2022-03-15T12:14:32.028212",
     "exception": false,
     "start_time": "2022-03-15T12:14:31.758687",
     "status": "completed"
    },
    "tags": []
   },
   "outputs": [
    {
     "data": {
      "text/html": [
       "<div>\n",
       "<style scoped>\n",
       "    .dataframe tbody tr th:only-of-type {\n",
       "        vertical-align: middle;\n",
       "    }\n",
       "\n",
       "    .dataframe tbody tr th {\n",
       "        vertical-align: top;\n",
       "    }\n",
       "\n",
       "    .dataframe thead th {\n",
       "        text-align: right;\n",
       "    }\n",
       "</style>\n",
       "<table border=\"1\" class=\"dataframe\">\n",
       "  <thead>\n",
       "    <tr style=\"text-align: right;\">\n",
       "      <th></th>\n",
       "      <th>amt</th>\n",
       "      <th>trans_date_trans_time</th>\n",
       "      <th>month</th>\n",
       "      <th>year</th>\n",
       "      <th>Actual</th>\n",
       "      <th>Pred_Prob</th>\n",
       "      <th>Final</th>\n",
       "    </tr>\n",
       "  </thead>\n",
       "  <tbody>\n",
       "    <tr>\n",
       "      <th>0</th>\n",
       "      <td>2.86</td>\n",
       "      <td>2020-06-21 12:14:25</td>\n",
       "      <td>6</td>\n",
       "      <td>2020</td>\n",
       "      <td>0</td>\n",
       "      <td>0.017955</td>\n",
       "      <td>1</td>\n",
       "    </tr>\n",
       "    <tr>\n",
       "      <th>1</th>\n",
       "      <td>29.84</td>\n",
       "      <td>2020-06-21 12:14:33</td>\n",
       "      <td>6</td>\n",
       "      <td>2020</td>\n",
       "      <td>0</td>\n",
       "      <td>0.015444</td>\n",
       "      <td>1</td>\n",
       "    </tr>\n",
       "    <tr>\n",
       "      <th>2</th>\n",
       "      <td>41.28</td>\n",
       "      <td>2020-06-21 12:14:53</td>\n",
       "      <td>6</td>\n",
       "      <td>2020</td>\n",
       "      <td>0</td>\n",
       "      <td>0.009566</td>\n",
       "      <td>0</td>\n",
       "    </tr>\n",
       "    <tr>\n",
       "      <th>3</th>\n",
       "      <td>60.05</td>\n",
       "      <td>2020-06-21 12:15:15</td>\n",
       "      <td>6</td>\n",
       "      <td>2020</td>\n",
       "      <td>0</td>\n",
       "      <td>0.034386</td>\n",
       "      <td>1</td>\n",
       "    </tr>\n",
       "    <tr>\n",
       "      <th>4</th>\n",
       "      <td>3.19</td>\n",
       "      <td>2020-06-21 12:15:17</td>\n",
       "      <td>6</td>\n",
       "      <td>2020</td>\n",
       "      <td>0</td>\n",
       "      <td>0.000041</td>\n",
       "      <td>0</td>\n",
       "    </tr>\n",
       "  </tbody>\n",
       "</table>\n",
       "</div>"
      ],
      "text/plain": [
       "     amt trans_date_trans_time  month  year  Actual  Pred_Prob  Final\n",
       "0   2.86   2020-06-21 12:14:25      6  2020       0   0.017955      1\n",
       "1  29.84   2020-06-21 12:14:33      6  2020       0   0.015444      1\n",
       "2  41.28   2020-06-21 12:14:53      6  2020       0   0.009566      0\n",
       "3  60.05   2020-06-21 12:15:15      6  2020       0   0.034386      1\n",
       "4   3.19   2020-06-21 12:15:17      6  2020       0   0.000041      0"
      ]
     },
     "execution_count": 174,
     "metadata": {},
     "output_type": "execute_result"
    }
   ],
   "source": [
    "predictions_test.head()"
   ]
  },
  {
   "cell_type": "code",
   "execution_count": 175,
   "id": "05458baa",
   "metadata": {
    "execution": {
     "iopub.execute_input": "2022-03-15T12:14:32.525197Z",
     "iopub.status.busy": "2022-03-15T12:14:32.524305Z",
     "iopub.status.idle": "2022-03-15T12:14:32.546453Z",
     "shell.execute_reply": "2022-03-15T12:14:32.546943Z",
     "shell.execute_reply.started": "2022-03-15T12:06:21.504598Z"
    },
    "id": "2MDMop7o7ui_",
    "papermill": {
     "duration": 0.273265,
     "end_time": "2022-03-15T12:14:32.547128",
     "exception": false,
     "start_time": "2022-03-15T12:14:32.273863",
     "status": "completed"
    },
    "tags": []
   },
   "outputs": [],
   "source": [
    "result5 = predictions_test[(predictions_test[\"Final\"]==0) & (predictions_test[\"Actual\"] == 1)][\"amt\"].sum()"
   ]
  },
  {
   "cell_type": "code",
   "execution_count": 176,
   "id": "ac8d48e6",
   "metadata": {
    "execution": {
     "iopub.execute_input": "2022-03-15T12:14:33.058775Z",
     "iopub.status.busy": "2022-03-15T12:14:33.058265Z",
     "iopub.status.idle": "2022-03-15T12:14:33.060868Z",
     "shell.execute_reply": "2022-03-15T12:14:33.061367Z",
     "shell.execute_reply.started": "2022-03-15T12:06:21.535890Z"
    },
    "id": "tRHCMoCy8ZI8",
    "papermill": {
     "duration": 0.259005,
     "end_time": "2022-03-15T12:14:33.061509",
     "exception": false,
     "start_time": "2022-03-15T12:14:32.802504",
     "status": "completed"
    },
    "tags": []
   },
   "outputs": [
    {
     "data": {
      "text/plain": [
       "99663.70000000001"
      ]
     },
     "execution_count": 176,
     "metadata": {},
     "output_type": "execute_result"
    }
   ],
   "source": [
    "result5"
   ]
  },
  {
   "cell_type": "markdown",
   "id": "89c06faf",
   "metadata": {
    "id": "mrdLw6FC8NsF",
    "papermill": {
     "duration": 0.249277,
     "end_time": "2022-03-15T12:14:33.569677",
     "exception": false,
     "start_time": "2022-03-15T12:14:33.320400",
     "status": "completed"
    },
    "tags": []
   },
   "source": [
    "Cost incurred per month after the model is built and deployed"
   ]
  },
  {
   "cell_type": "code",
   "execution_count": 177,
   "id": "ce326918",
   "metadata": {
    "execution": {
     "iopub.execute_input": "2022-03-15T12:14:34.076703Z",
     "iopub.status.busy": "2022-03-15T12:14:34.076106Z",
     "iopub.status.idle": "2022-03-15T12:14:34.085771Z",
     "shell.execute_reply": "2022-03-15T12:14:34.086280Z",
     "shell.execute_reply.started": "2022-03-15T12:06:21.543781Z"
    },
    "id": "ykGr5rUR8EXq",
    "papermill": {
     "duration": 0.267504,
     "end_time": "2022-03-15T12:14:34.086431",
     "exception": false,
     "start_time": "2022-03-15T12:14:33.818927",
     "status": "completed"
    },
    "tags": []
   },
   "outputs": [],
   "source": [
    "# per month fraud transactions left undetected\n",
    "per_month_fraud_amt = (predictions_test[(predictions_test[\"Final\"]==0) & (predictions_test[\"Actual\"] == 1)].groupby(by = [\"year\",\"month\"]).sum()[\"amt\"]).mean()"
   ]
  },
  {
   "cell_type": "code",
   "execution_count": 178,
   "id": "904ba44c",
   "metadata": {
    "execution": {
     "iopub.execute_input": "2022-03-15T12:14:34.585819Z",
     "iopub.status.busy": "2022-03-15T12:14:34.585245Z",
     "iopub.status.idle": "2022-03-15T12:14:34.590160Z",
     "shell.execute_reply": "2022-03-15T12:14:34.589629Z",
     "shell.execute_reply.started": "2022-03-15T12:06:21.561210Z"
    },
    "id": "OrlwMaHa-GW6",
    "papermill": {
     "duration": 0.257027,
     "end_time": "2022-03-15T12:14:34.590284",
     "exception": false,
     "start_time": "2022-03-15T12:14:34.333257",
     "status": "completed"
    },
    "tags": []
   },
   "outputs": [
    {
     "data": {
      "text/plain": [
       "14237.671428571426"
      ]
     },
     "execution_count": 178,
     "metadata": {},
     "output_type": "execute_result"
    }
   ],
   "source": [
    "per_month_fraud_amt"
   ]
  },
  {
   "cell_type": "code",
   "execution_count": 183,
   "id": "5df33541",
   "metadata": {
    "execution": {
     "iopub.execute_input": "2022-03-15T12:14:35.093680Z",
     "iopub.status.busy": "2022-03-15T12:14:35.093104Z",
     "iopub.status.idle": "2022-03-15T12:14:35.096042Z",
     "shell.execute_reply": "2022-03-15T12:14:35.096505Z",
     "shell.execute_reply.started": "2022-03-15T12:06:21.569771Z"
    },
    "id": "02occKko-qKn",
    "papermill": {
     "duration": 0.25816,
     "end_time": "2022-03-15T12:14:35.096640",
     "exception": false,
     "start_time": "2022-03-15T12:14:34.838480",
     "status": "completed"
    },
    "tags": []
   },
   "outputs": [
    {
     "data": {
      "text/plain": [
       "13620.0"
      ]
     },
     "execution_count": 183,
     "metadata": {},
     "output_type": "execute_result"
    }
   ],
   "source": [
    "# now TF*1.5\n",
    "\n",
    "cost_per_month = TF*1.5\n",
    "cost_per_month"
   ]
  },
  {
   "cell_type": "code",
   "execution_count": 180,
   "id": "aff6fbe9",
   "metadata": {
    "execution": {
     "iopub.execute_input": "2022-03-15T12:14:35.609021Z",
     "iopub.status.busy": "2022-03-15T12:14:35.608399Z",
     "iopub.status.idle": "2022-03-15T12:14:35.611658Z",
     "shell.execute_reply": "2022-03-15T12:14:35.612155Z",
     "shell.execute_reply.started": "2022-03-15T12:06:21.580179Z"
    },
    "id": "erv1Y6jH-34h",
    "papermill": {
     "duration": 0.262314,
     "end_time": "2022-03-15T12:14:35.612316",
     "exception": false,
     "start_time": "2022-03-15T12:14:35.350002",
     "status": "completed"
    },
    "tags": []
   },
   "outputs": [],
   "source": [
    "# cost per month + undetected fraud losses per month\n",
    "total_cost_per_month = per_month_fraud_amt + cost_per_month"
   ]
  },
  {
   "cell_type": "code",
   "execution_count": 181,
   "id": "881f74f3",
   "metadata": {
    "execution": {
     "iopub.execute_input": "2022-03-15T12:14:36.134438Z",
     "iopub.status.busy": "2022-03-15T12:14:36.133805Z",
     "iopub.status.idle": "2022-03-15T12:14:36.137929Z",
     "shell.execute_reply": "2022-03-15T12:14:36.138502Z",
     "shell.execute_reply.started": "2022-03-15T12:06:21.593610Z"
    },
    "id": "1-vQY6kwA0M_",
    "papermill": {
     "duration": 0.267254,
     "end_time": "2022-03-15T12:14:36.138668",
     "exception": false,
     "start_time": "2022-03-15T12:14:35.871414",
     "status": "completed"
    },
    "tags": []
   },
   "outputs": [
    {
     "data": {
      "text/plain": [
       "27857.671428571426"
      ]
     },
     "execution_count": 181,
     "metadata": {},
     "output_type": "execute_result"
    }
   ],
   "source": [
    "total_cost_per_month"
   ]
  },
  {
   "cell_type": "markdown",
   "id": "03b4a953",
   "metadata": {
    "id": "bANkdeNd_xjS",
    "papermill": {
     "duration": 0.253945,
     "end_time": "2022-03-15T12:14:36.647031",
     "exception": false,
     "start_time": "2022-03-15T12:14:36.393086",
     "status": "completed"
    },
    "tags": []
   },
   "source": [
    "Final Savings... Per Month"
   ]
  },
  {
   "cell_type": "code",
   "execution_count": 182,
   "id": "63f3b97a",
   "metadata": {
    "execution": {
     "iopub.execute_input": "2022-03-15T12:14:37.161652Z",
     "iopub.status.busy": "2022-03-15T12:14:37.160927Z",
     "iopub.status.idle": "2022-03-15T12:14:37.165239Z",
     "shell.execute_reply": "2022-03-15T12:14:37.165820Z",
     "shell.execute_reply.started": "2022-03-15T12:06:21.610333Z"
    },
    "id": "evQB9rsP_NPO",
    "papermill": {
     "duration": 0.266359,
     "end_time": "2022-03-15T12:14:37.165993",
     "exception": false,
     "start_time": "2022-03-15T12:14:36.899634",
     "status": "completed"
    },
    "tags": []
   },
   "outputs": [
    {
     "data": {
      "text/plain": [
       "134045.8542857143"
      ]
     },
     "execution_count": 182,
     "metadata": {},
     "output_type": "execute_result"
    }
   ],
   "source": [
    "# it will be total cost incurred per month before the model was built - total cost incurred per month after the model was built\n",
    "# i.e. (result2 * result3) - total_cost_per_month\n",
    "(result2[1]*result3[1]) - total_cost_per_month"
   ]
  }
 ],
 "metadata": {
  "kernelspec": {
   "display_name": "Python 3",
   "language": "python",
   "name": "python3"
  },
  "language_info": {
   "codemirror_mode": {
    "name": "ipython",
    "version": 3
   },
   "file_extension": ".py",
   "mimetype": "text/x-python",
   "name": "python",
   "nbconvert_exporter": "python",
   "pygments_lexer": "ipython3",
   "version": "3.8.8"
  },
  "papermill": {
   "default_parameters": {},
   "duration": 438.518682,
   "end_time": "2022-03-15T12:14:38.341764",
   "environment_variables": {},
   "exception": null,
   "input_path": "__notebook__.ipynb",
   "output_path": "__notebook__.ipynb",
   "parameters": {},
   "start_time": "2022-03-15T12:07:19.823082",
   "version": "2.3.3"
  }
 },
 "nbformat": 4,
 "nbformat_minor": 5
}
